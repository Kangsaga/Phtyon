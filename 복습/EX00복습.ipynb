{
 "cells": [
  {
   "cell_type": "code",
   "execution_count": 1,
   "id": "b7d33165",
   "metadata": {},
   "outputs": [],
   "source": [
    "# 리스트 생성\n",
    "list1 = [1,2,3,4,5]"
   ]
  },
  {
   "cell_type": "code",
   "execution_count": 2,
   "id": "914074e1",
   "metadata": {},
   "outputs": [
    {
     "data": {
      "text/plain": [
       "2191757184128"
      ]
     },
     "execution_count": 2,
     "metadata": {},
     "output_type": "execute_result"
    }
   ],
   "source": [
    "# 리스트의 주소값 확인\n",
    "id(list1)"
   ]
  },
  {
   "cell_type": "code",
   "execution_count": 3,
   "id": "2aabdded",
   "metadata": {},
   "outputs": [],
   "source": [
    "# 리스트에 값 추가\n",
    "list1.append(6)"
   ]
  },
  {
   "cell_type": "code",
   "execution_count": 4,
   "id": "f58829d9",
   "metadata": {},
   "outputs": [
    {
     "data": {
      "text/plain": [
       "2191757184128"
      ]
     },
     "execution_count": 4,
     "metadata": {},
     "output_type": "execute_result"
    }
   ],
   "source": [
    "#리스트의 주소값 확인\n",
    "id(list1)"
   ]
  },
  {
   "cell_type": "code",
   "execution_count": 5,
   "id": "2f05c728",
   "metadata": {},
   "outputs": [
    {
     "data": {
      "text/plain": [
       "2191756968320"
      ]
     },
     "execution_count": 5,
     "metadata": {},
     "output_type": "execute_result"
    }
   ],
   "source": [
    "#리스트에 새로운 값 활당\n",
    "list1 = [1,2,3,4]\n",
    "id(list1)"
   ]
  },
  {
   "cell_type": "code",
   "execution_count": 6,
   "id": "da33fa8f",
   "metadata": {},
   "outputs": [
    {
     "data": {
      "text/plain": [
       "2191756968320"
      ]
     },
     "execution_count": 6,
     "metadata": {},
     "output_type": "execute_result"
    }
   ],
   "source": [
    "list2 = list1\n",
    "id(list2)"
   ]
  },
  {
   "cell_type": "code",
   "execution_count": 11,
   "id": "29edb40f",
   "metadata": {},
   "outputs": [
    {
     "name": "stdout",
     "output_type": "stream",
     "text": [
      "list1 :  [1, 2, 3, 4]\n",
      "list2 :  [1, 2, 3, 4]\n"
     ]
    }
   ],
   "source": [
    "print('list1 : ',list1)\n",
    "print('list2 : ',list2)"
   ]
  },
  {
   "cell_type": "code",
   "execution_count": 14,
   "id": "899195b4",
   "metadata": {},
   "outputs": [
    {
     "data": {
      "text/plain": [
       "2191756991168"
      ]
     },
     "execution_count": 14,
     "metadata": {},
     "output_type": "execute_result"
    }
   ],
   "source": [
    "# 다른 주소로 값만 가져오기\n",
    "# .copy() : 값만 가져오는 기능\n",
    "list3 = list1.copy()\n",
    "id(list3)"
   ]
  },
  {
   "cell_type": "code",
   "execution_count": 12,
   "id": "45cf64eb",
   "metadata": {},
   "outputs": [
    {
     "data": {
      "text/plain": [
       "str"
      ]
     },
     "execution_count": 12,
     "metadata": {},
     "output_type": "execute_result"
    }
   ],
   "source": [
    "str1 = '문자열'\n",
    "type(str1)"
   ]
  },
  {
   "cell_type": "code",
   "execution_count": 13,
   "id": "b9f1c305",
   "metadata": {},
   "outputs": [
    {
     "data": {
      "text/plain": [
       "int"
      ]
     },
     "execution_count": 13,
     "metadata": {},
     "output_type": "execute_result"
    }
   ],
   "source": [
    "int1 = 60\n",
    "type(int1)"
   ]
  },
  {
   "cell_type": "markdown",
   "id": "41fe82de",
   "metadata": {},
   "source": [
    "### 리스트"
   ]
  },
  {
   "cell_type": "code",
   "execution_count": 16,
   "id": "36af933f",
   "metadata": {},
   "outputs": [],
   "source": [
    "# remove, insert, pop, append, count, len, reverse, sort, 인덱싱, 슬라이싱, index,,,,\n",
    "# 라이브러리에서 많이 사용하는 함수\n",
    "# 인덱싱 슬라이싱\n",
    "# append\n",
    "# remove"
   ]
  },
  {
   "cell_type": "code",
   "execution_count": 19,
   "id": "15ba298e",
   "metadata": {},
   "outputs": [
    {
     "name": "stdout",
     "output_type": "stream",
     "text": [
      "1 2 3 4 5 6 7 8 9 10 11 12 13 14 15 16 17 18 19 20 21 22 23 24 25 26 27 28 29 30 31 32 33 34 35 36 37 38 39 40 41 42 43 44 45 46 47 48 49 50 [1, 2, 3, 4, 5, 6, 7, 8, 9, 10, 11, 12, 13, 14, 15, 16, 17, 18, 19, 20, 21, 22, 23, 24, 25, 26, 27, 28, 29, 30, 31, 32, 33, 34, 35, 36, 37, 38, 39, 40, 41, 42, 43, 44, 45, 46, 47, 48, 49, 50]\n"
     ]
    }
   ],
   "source": [
    "# 1~50까지가 담긴 리스트 생성하기\n",
    "# print(i, end = \"\")를 쓰면 줄 바끔이 안되고 출력가능\n",
    "list1 =[]\n",
    "for i in range(1,51):\n",
    "    list1.append(i)\n",
    "    print(i, end = \" \")\n",
    "print(list1)"
   ]
  },
  {
   "cell_type": "code",
   "execution_count": 23,
   "id": "c8e8e6bf",
   "metadata": {},
   "outputs": [
    {
     "name": "stdout",
     "output_type": "stream",
     "text": [
      "10\n",
      "[15, 16, 17, 18, 19, 20, 21, 22, 23, 24, 25]\n"
     ]
    }
   ],
   "source": [
    "# 인덱싱 슬라이싱\n",
    "# 대괄호[]\n",
    "# 10 출력하기\n",
    "# 15~25 출력하기\n",
    "print(list1[9])\n",
    "print(list1[14:25])"
   ]
  },
  {
   "cell_type": "code",
   "execution_count": 24,
   "id": "13628710",
   "metadata": {},
   "outputs": [],
   "source": [
    "# print : 원하는 위치에서 출력 가능\n",
    "# 변수명출력 : 마지막위치에서만 출력가능"
   ]
  },
  {
   "cell_type": "code",
   "execution_count": 29,
   "id": "40aca35a",
   "metadata": {},
   "outputs": [
    {
     "name": "stdout",
     "output_type": "stream",
     "text": [
      "asdf\n",
      "asdf\n"
     ]
    }
   ],
   "source": [
    "#\\n : 개행\n",
    "str1 = 'asdf\\nasdf'\n",
    "str1\n",
    "print(str1)"
   ]
  },
  {
   "cell_type": "markdown",
   "id": "7678d35f",
   "metadata": {},
   "source": [
    "# 딕셔너리\n",
    "- key, value로 이루어짐"
   ]
  },
  {
   "cell_type": "code",
   "execution_count": 32,
   "id": "95909763",
   "metadata": {},
   "outputs": [
    {
     "data": {
      "text/plain": [
       "{'이름': ['강범수', '문도연', '김희태', '최성규'], '나이': [24, 27, 27, 27]}"
      ]
     },
     "execution_count": 32,
     "metadata": {},
     "output_type": "execute_result"
    }
   ],
   "source": [
    "# dic_team 변수명을 사용하여 딕셔너리 만들기\n",
    "# 이름 나이 key값 사용\n",
    "# 팀원들의 정보\n",
    "dic_team = {'이름' : ['강범수', '문도연','김희태','최성규'],'나이': [24,27,27,27]}\n",
    "dic_team"
   ]
  },
  {
   "cell_type": "code",
   "execution_count": 33,
   "id": "5f15c472",
   "metadata": {},
   "outputs": [],
   "source": [
    "import pandas as pd\n",
    "test_pd = pd.DataFrame(dic_team)"
   ]
  },
  {
   "cell_type": "code",
   "execution_count": 35,
   "id": "07b6565c",
   "metadata": {},
   "outputs": [],
   "source": [
    "test_pd.to_csv(\"asdf.csv\",encoding = 'cp949')"
   ]
  },
  {
   "cell_type": "code",
   "execution_count": null,
   "id": "ea0cb36b",
   "metadata": {},
   "outputs": [],
   "source": []
  }
 ],
 "metadata": {
  "kernelspec": {
   "display_name": "Python 3 (ipykernel)",
   "language": "python",
   "name": "python3"
  },
  "language_info": {
   "codemirror_mode": {
    "name": "ipython",
    "version": 3
   },
   "file_extension": ".py",
   "mimetype": "text/x-python",
   "name": "python",
   "nbconvert_exporter": "python",
   "pygments_lexer": "ipython3",
   "version": "3.9.7"
  }
 },
 "nbformat": 4,
 "nbformat_minor": 5
}
