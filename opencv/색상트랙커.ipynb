{
 "cells": [
  {
   "cell_type": "code",
   "execution_count": 9,
   "id": "663c2b0f",
   "metadata": {},
   "outputs": [
    {
     "ename": "error",
     "evalue": "OpenCV(4.5.5) D:\\a\\opencv-python\\opencv-python\\opencv\\modules\\highgui\\src\\window_w32.cpp:2581: error: (-27:Null pointer) NULL window: 'TrackBar Windows' in function 'cvGetTrackbarPos'\n",
     "output_type": "error",
     "traceback": [
      "\u001b[1;31m---------------------------------------------------------------------------\u001b[0m",
      "\u001b[1;31merror\u001b[0m                                     Traceback (most recent call last)",
      "\u001b[1;32m~\\AppData\\Local\\Temp\\ipykernel_4676\\1107949396.py\u001b[0m in \u001b[0;36m<module>\u001b[1;34m\u001b[0m\n\u001b[0;32m     20\u001b[0m \u001b[1;33m\u001b[0m\u001b[0m\n\u001b[0;32m     21\u001b[0m \u001b[1;32mwhile\u001b[0m \u001b[0mcv2\u001b[0m\u001b[1;33m.\u001b[0m\u001b[0mwaitKey\u001b[0m\u001b[1;33m(\u001b[0m\u001b[1;36m1\u001b[0m\u001b[1;33m)\u001b[0m \u001b[1;33m!=\u001b[0m \u001b[0mord\u001b[0m\u001b[1;33m(\u001b[0m\u001b[1;34m'q'\u001b[0m\u001b[1;33m)\u001b[0m\u001b[1;33m:\u001b[0m\u001b[1;33m\u001b[0m\u001b[1;33m\u001b[0m\u001b[0m\n\u001b[1;32m---> 22\u001b[1;33m     \u001b[0mhsv1_low\u001b[0m \u001b[1;33m=\u001b[0m \u001b[0mcv2\u001b[0m\u001b[1;33m.\u001b[0m\u001b[0mgetTrackbarPos\u001b[0m\u001b[1;33m(\u001b[0m\u001b[1;34m\"H-Low1\"\u001b[0m\u001b[1;33m,\u001b[0m \u001b[1;34m\"TrackBar Windows\"\u001b[0m\u001b[1;33m)\u001b[0m\u001b[1;33m\u001b[0m\u001b[1;33m\u001b[0m\u001b[0m\n\u001b[0m\u001b[0;32m     23\u001b[0m     \u001b[0mhsv1_high\u001b[0m \u001b[1;33m=\u001b[0m \u001b[0mcv2\u001b[0m\u001b[1;33m.\u001b[0m\u001b[0mgetTrackbarPos\u001b[0m\u001b[1;33m(\u001b[0m\u001b[1;34m\"H-High1\"\u001b[0m\u001b[1;33m,\u001b[0m \u001b[1;34m\"TrackBar Windows\"\u001b[0m\u001b[1;33m)\u001b[0m\u001b[1;33m\u001b[0m\u001b[1;33m\u001b[0m\u001b[0m\n\u001b[0;32m     24\u001b[0m     \u001b[0mhsv2_low\u001b[0m \u001b[1;33m=\u001b[0m \u001b[0mcv2\u001b[0m\u001b[1;33m.\u001b[0m\u001b[0mgetTrackbarPos\u001b[0m\u001b[1;33m(\u001b[0m\u001b[1;34m\"H-Low2\"\u001b[0m\u001b[1;33m,\u001b[0m \u001b[1;34m\"TrackBar Windows\"\u001b[0m\u001b[1;33m)\u001b[0m\u001b[1;33m\u001b[0m\u001b[1;33m\u001b[0m\u001b[0m\n",
      "\u001b[1;31merror\u001b[0m: OpenCV(4.5.5) D:\\a\\opencv-python\\opencv-python\\opencv\\modules\\highgui\\src\\window_w32.cpp:2581: error: (-27:Null pointer) NULL window: 'TrackBar Windows' in function 'cvGetTrackbarPos'\n"
     ]
    }
   ],
   "source": [
    "import cv2\n",
    " \n",
    "src = cv2.imread(\"Img/3.jpg\", cv2.IMREAD_COLOR)\n",
    "src = cv2.pyrUp(src)\n",
    "hsv = cv2.cvtColor(src, cv2.COLOR_BGR2HSV)\n",
    " \n",
    "cv2.namedWindow(\"TrackBar Windows\")\n",
    "cv2.createTrackbar(\"H-Low1\",\"TrackBar Windows\", 0, 180, lambda x : x)\n",
    "cv2.createTrackbar(\"H-High1\",\"TrackBar Windows\",0, 180, lambda x : x)\n",
    "cv2.createTrackbar(\"H-Low2\",\"TrackBar Windows\", 0, 180, lambda x : x)\n",
    "cv2.createTrackbar(\"H-High2\",\"TrackBar Windows\",0, 180, lambda x : x)\n",
    "cv2.createTrackbar(\"S-Th\",\"TrackBar Windows\", 0, 255, lambda x : x)\n",
    "cv2.createTrackbar(\"V-Th\",\"TrackBar Windows\", 0, 255, lambda x : x)\n",
    "cv2.setTrackbarPos(\"H-Low1\",\"TrackBar Windows\", 0)\n",
    "cv2.setTrackbarPos(\"H-High1\",\"TrackBar Windows\",5)\n",
    "cv2.setTrackbarPos(\"H-Low2\",\"TrackBar Windows\", 170)\n",
    "cv2.setTrackbarPos(\"H-High2\",\"TrackBar Windows\",180)\n",
    "cv2.setTrackbarPos(\"S-Th\",\"TrackBar Windows\", 100)\n",
    "cv2.setTrackbarPos(\"V-Th\",\"TrackBar Windows\", 100)        \n",
    " \n",
    "while cv2.waitKey(1) != ord('q'):\n",
    "    hsv1_low = cv2.getTrackbarPos(\"H-Low1\", \"TrackBar Windows\")\n",
    "    hsv1_high = cv2.getTrackbarPos(\"H-High1\", \"TrackBar Windows\")\n",
    "    hsv2_low = cv2.getTrackbarPos(\"H-Low2\", \"TrackBar Windows\")\n",
    "    hsv2_high = cv2.getTrackbarPos(\"H-High2\", \"TrackBar Windows\")\n",
    "    hsv_s = cv2.getTrackbarPos(\"S-Th\", \"TrackBar Windows\")\n",
    "    hsv_v = cv2.getTrackbarPos(\"V-Th\", \"TrackBar Windows\")\n",
    "    lower_hsv = cv2.inRange(hsv, (hsv1_low, hsv_s, hsv_v), (hsv1_high, 255, 255))\n",
    "    upper_hsv = cv2.inRange(hsv, (hsv2_low, hsv_s, hsv_v), (hsv2_high, 255, 255))\n",
    "    added_hsv = cv2.addWeighted(lower_hsv, 1.0, upper_hsv, 1.0, 0.0)\n",
    "    hsv_out = cv2.bitwise_and(hsv, hsv, mask = added_hsv)\n",
    "    result = cv2.cvtColor(hsv_out, cv2.COLOR_HSV2BGR)\n",
    "    cv2.imshow(\"TrackBar Windows\", result)\n",
    " \n",
    "\n",
    "cv2.destroyAllWindows()"
   ]
  },
  {
   "cell_type": "code",
   "execution_count": 23,
   "id": "f82af714",
   "metadata": {},
   "outputs": [
    {
     "ename": "error",
     "evalue": "OpenCV(4.5.5) D:\\a\\opencv-python\\opencv-python\\opencv\\modules\\highgui\\src\\window_w32.cpp:2581: error: (-27:Null pointer) NULL window: 'TrackBar Windows' in function 'cvGetTrackbarPos'\n",
     "output_type": "error",
     "traceback": [
      "\u001b[1;31m---------------------------------------------------------------------------\u001b[0m",
      "\u001b[1;31merror\u001b[0m                                     Traceback (most recent call last)",
      "\u001b[1;32m~\\AppData\\Local\\Temp\\ipykernel_4676\\2981984096.py\u001b[0m in \u001b[0;36m<module>\u001b[1;34m\u001b[0m\n\u001b[0;32m     20\u001b[0m \u001b[1;33m\u001b[0m\u001b[0m\n\u001b[0;32m     21\u001b[0m \u001b[1;32mwhile\u001b[0m \u001b[0mcv2\u001b[0m\u001b[1;33m.\u001b[0m\u001b[0mwaitKey\u001b[0m\u001b[1;33m(\u001b[0m\u001b[1;36m1\u001b[0m\u001b[1;33m)\u001b[0m \u001b[1;33m!=\u001b[0m \u001b[0mord\u001b[0m\u001b[1;33m(\u001b[0m\u001b[1;34m'q'\u001b[0m\u001b[1;33m)\u001b[0m\u001b[1;33m:\u001b[0m\u001b[1;33m\u001b[0m\u001b[1;33m\u001b[0m\u001b[0m\n\u001b[1;32m---> 22\u001b[1;33m     \u001b[0my_low\u001b[0m \u001b[1;33m=\u001b[0m \u001b[0mcv2\u001b[0m\u001b[1;33m.\u001b[0m\u001b[0mgetTrackbarPos\u001b[0m\u001b[1;33m(\u001b[0m\u001b[1;34m\"Y-Low\"\u001b[0m\u001b[1;33m,\u001b[0m \u001b[1;34m\"TrackBar Windows\"\u001b[0m\u001b[1;33m)\u001b[0m\u001b[1;33m\u001b[0m\u001b[1;33m\u001b[0m\u001b[0m\n\u001b[0m\u001b[0;32m     23\u001b[0m     \u001b[0my_high\u001b[0m \u001b[1;33m=\u001b[0m \u001b[0mcv2\u001b[0m\u001b[1;33m.\u001b[0m\u001b[0mgetTrackbarPos\u001b[0m\u001b[1;33m(\u001b[0m\u001b[1;34m\"Y-High\"\u001b[0m\u001b[1;33m,\u001b[0m \u001b[1;34m\"TrackBar Windows\"\u001b[0m\u001b[1;33m)\u001b[0m\u001b[1;33m\u001b[0m\u001b[1;33m\u001b[0m\u001b[0m\n\u001b[0;32m     24\u001b[0m     \u001b[0mcr_low\u001b[0m \u001b[1;33m=\u001b[0m \u001b[0mcv2\u001b[0m\u001b[1;33m.\u001b[0m\u001b[0mgetTrackbarPos\u001b[0m\u001b[1;33m(\u001b[0m\u001b[1;34m\"Cr-Low\"\u001b[0m\u001b[1;33m,\u001b[0m \u001b[1;34m\"TrackBar Windows\"\u001b[0m\u001b[1;33m)\u001b[0m\u001b[1;33m\u001b[0m\u001b[1;33m\u001b[0m\u001b[0m\n",
      "\u001b[1;31merror\u001b[0m: OpenCV(4.5.5) D:\\a\\opencv-python\\opencv-python\\opencv\\modules\\highgui\\src\\window_w32.cpp:2581: error: (-27:Null pointer) NULL window: 'TrackBar Windows' in function 'cvGetTrackbarPos'\n"
     ]
    }
   ],
   "source": [
    "import cv2\n",
    "src = cv2.imread('img/11.jpg',cv2.IMREAD_COLOR)\n",
    "src = cv2.pyrUp(src)\n",
    "ycrcb = cv2.cvtColor(src, cv2.COLOR_BGR2YCR_CB)\n",
    " \n",
    "cv2.namedWindow(\"TrackBar Windows\")\n",
    "cv2.createTrackbar(\"Y-Low\",\"TrackBar Windows\", 0, 255, lambda x : x)\n",
    "cv2.createTrackbar(\"Y-High\",\"TrackBar Windows\",0, 255, lambda x : x)\n",
    "cv2.createTrackbar(\"Cr-Low\",\"TrackBar Windows\", 0, 255, lambda x : x)\n",
    "cv2.createTrackbar(\"Cr-High\",\"TrackBar Windows\",0, 255, lambda x : x)\n",
    "cv2.createTrackbar(\"Cb-Low\",\"TrackBar Windows\", 0, 255, lambda x : x)\n",
    "cv2.createTrackbar(\"Cb-High\",\"TrackBar Windows\",0, 255, lambda x : x)\n",
    " \n",
    "cv2.setTrackbarPos(\"Y-Low\",\"TrackBar Windows\", 127)\n",
    "cv2.setTrackbarPos(\"Y-High\",\"TrackBar Windows\",255)\n",
    "cv2.setTrackbarPos(\"Cr-Low\",\"TrackBar Windows\", 127)\n",
    "cv2.setTrackbarPos(\"Cr-High\",\"TrackBar Windows\",255)\n",
    "cv2.setTrackbarPos(\"Cb-Low\",\"TrackBar Windows\", 127)\n",
    "cv2.setTrackbarPos(\"Cb-High\",\"TrackBar Windows\", 255)        \n",
    " \n",
    "while cv2.waitKey(1) != ord('q'):\n",
    "    y_low = cv2.getTrackbarPos(\"Y-Low\", \"TrackBar Windows\")\n",
    "    y_high = cv2.getTrackbarPos(\"Y-High\", \"TrackBar Windows\")\n",
    "    cr_low = cv2.getTrackbarPos(\"Cr-Low\", \"TrackBar Windows\")\n",
    "    cr_high = cv2.getTrackbarPos(\"Cr-High\", \"TrackBar Windows\")\n",
    "    cb_low = cv2.getTrackbarPos(\"Cb-Low\", \"TrackBar Windows\")\n",
    "    cb_high = cv2.getTrackbarPos(\"Cb-High\", \"TrackBar Windows\")\n",
    "    ycrcb_mask = cv2.inRange(ycrcb, (y_low, cr_low, cb_low), (y_high, cr_high, cb_high))\n",
    "    ycrcb_result = cv2.bitwise_and(ycrcb, ycrcb, mask = ycrcb_mask)\n",
    "    result = cv2.cvtColor(ycrcb_result, cv2.COLOR_YCrCb2BGR)\n",
    "    cv2.imshow(\"TrackBar Windows\", result)\n",
    " \n",
    "cv2.destroyAllWindows()"
   ]
  },
  {
   "cell_type": "code",
   "execution_count": null,
   "id": "11e36b47",
   "metadata": {},
   "outputs": [],
   "source": []
  },
  {
   "cell_type": "code",
   "execution_count": 2,
   "id": "9d7debe3",
   "metadata": {},
   "outputs": [],
   "source": [
    "import cv2\n",
    "import numpy as np\n",
    "\n",
    "fra = cv2.imread('./img/101.jpg')\n",
    "height, width, channels = fra.shape\n",
    "\n",
    "src = cv2.medianBlur(fra, 21)\n",
    "hsv = cv2.cvtColor(src, cv2.COLOR_BGR2HSV_FULL)\n",
    "\n",
    "mask = cv2.inRange(hsv, np.array([0,133,77]), np.array([235,173,127]))\n",
    "mask = cv2.erode(mask, None, iterations=8)\n",
    "mask = cv2.dilate(mask, None, iterations=8)\n",
    "\n",
    "params = cv2.SimpleBlobDetector_Params()\n",
    "params.filterByArea = True\n",
    "params.minArea = int((height * width) / 500)\n",
    "params.maxArea = int((height * width) / 10)\n",
    "\n",
    "params.filterByCircularity = True\n",
    "params.minCircularity = 0.5\n",
    "params.filterByConvexity = True\n",
    "params.minConvexity = 0.5\n",
    "params.filterByInertia = True\n",
    "params.minInertiaRatio = 0.01\n",
    "\n",
    "detector = cv2.SimpleBlobDetector_create(params)\n",
    "key_points = detector.detect(255 - mask)\n",
    "\n",
    "vis = cv2.bitwise_and(hsv, hsv, mask=mask)\n",
    "vis = cv2.addWeighted(src, 0.2, vis, 0.8, 0)\n",
    "cv2.drawKeypoints(vis, key_points, vis, (0, 0, 255), cv2.DRAW_MATCHES_FLAGS_DRAW_RICH_KEYPOINTS)\n",
    "for kp in key_points:\n",
    "    cv2.drawMarker(vis, (int(kp.pt[0]), int(kp.pt[1])), color=(0, 255, 0), markerType=cv2.MARKER_CROSS, thickness=3)\n",
    "\n",
    "cv2.imshow(\"VIS\", vis)\n",
    "cv2.imwrite('nails_detected.png', vis)\n",
    "cv2.waitKey(0)\n",
    "cv2.destroyAllWindows()"
   ]
  },
  {
   "cell_type": "code",
   "execution_count": 1,
   "id": "6e40ca90",
   "metadata": {},
   "outputs": [],
   "source": [
    "name = \"4534887.jpg\""
   ]
  },
  {
   "cell_type": "code",
   "execution_count": 6,
   "id": "8fc9991e",
   "metadata": {},
   "outputs": [
    {
     "data": {
      "text/plain": [
       "'45348875.jpg'"
      ]
     },
     "execution_count": 6,
     "metadata": {},
     "output_type": "execute_result"
    }
   ],
   "source": [
    "name[:-4]+'5'+name[-4:]"
   ]
  },
  {
   "cell_type": "code",
   "execution_count": null,
   "id": "c3fe56a8",
   "metadata": {},
   "outputs": [],
   "source": []
  }
 ],
 "metadata": {
  "kernelspec": {
   "display_name": "Python 3 (ipykernel)",
   "language": "python",
   "name": "python3"
  },
  "language_info": {
   "codemirror_mode": {
    "name": "ipython",
    "version": 3
   },
   "file_extension": ".py",
   "mimetype": "text/x-python",
   "name": "python",
   "nbconvert_exporter": "python",
   "pygments_lexer": "ipython3",
   "version": "3.9.7"
  },
  "toc": {
   "base_numbering": 1,
   "nav_menu": {},
   "number_sections": true,
   "sideBar": true,
   "skip_h1_title": false,
   "title_cell": "Table of Contents",
   "title_sidebar": "Contents",
   "toc_cell": false,
   "toc_position": {},
   "toc_section_display": true,
   "toc_window_display": false
  }
 },
 "nbformat": 4,
 "nbformat_minor": 5
}
