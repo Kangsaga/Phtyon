{
 "cells": [
  {
   "cell_type": "markdown",
   "id": "08994f9a",
   "metadata": {},
   "source": [
    "# Flask란?\n",
    "- python을 활용환 웹 프레임워크로 단순한 코드로 쉽게 개발이 가능\n",
    "- Flask 설치"
   ]
  },
  {
   "cell_type": "code",
   "execution_count": 2,
   "id": "9431a66a",
   "metadata": {},
   "outputs": [
    {
     "name": "stdout",
     "output_type": "stream",
     "text": [
      "Requirement already satisfied: flask in c:\\users\\smhrd\\anaconda3\\lib\\site-packages (1.1.2)\n",
      "Requirement already satisfied: click>=5.1 in c:\\users\\smhrd\\anaconda3\\lib\\site-packages (from flask) (8.0.3)\n",
      "Requirement already satisfied: itsdangerous>=0.24 in c:\\users\\smhrd\\anaconda3\\lib\\site-packages (from flask) (2.0.1)\n",
      "Requirement already satisfied: Werkzeug>=0.15 in c:\\users\\smhrd\\anaconda3\\lib\\site-packages (from flask) (2.0.2)\n",
      "Requirement already satisfied: Jinja2>=2.10.1 in c:\\users\\smhrd\\anaconda3\\lib\\site-packages (from flask) (2.11.3)\n",
      "Requirement already satisfied: colorama in c:\\users\\smhrd\\anaconda3\\lib\\site-packages (from click>=5.1->flask) (0.4.4)\n",
      "Requirement already satisfied: MarkupSafe>=0.23 in c:\\users\\smhrd\\anaconda3\\lib\\site-packages (from Jinja2>=2.10.1->flask) (1.1.1)\n"
     ]
    }
   ],
   "source": [
    "!pip install flask"
   ]
  },
  {
   "cell_type": "markdown",
   "id": "9df7a2ee",
   "metadata": {},
   "source": [
    "# Flask 구조\n",
    "- 함수마다 맵핑이 가능\n",
    "- route()로 url맵핑 사용하고 그 아래에 함수를 둬서 실행시킴"
   ]
  },
  {
   "cell_type": "code",
   "execution_count": 3,
   "id": "cf310804",
   "metadata": {},
   "outputs": [],
   "source": [
    "from flask import Flask\n",
    "\n",
    "app = Flask(__name__) # flask 서버객체 생성\n",
    "\n",
    "# route(경로):외부에서 접근할 때 페이지 구분을 위한 경로지정\n",
    "@app.route('/')\n",
    "def index():\n",
    "    return 'Hello 한국인 World!' # return을 하게 될 경우 사용자에게 전달\n",
    "\n",
    "@app.route('/bye')\n",
    "def first():\n",
    "    return 'Bye 한국인'\n",
    "\n",
    "# main 함수의 시작을 의미\n",
    "# 비유하자면 자바의 main(String[] args)메소드와 같은 역할\n",
    "if __name__ == '__main__':\n",
    "    # 웹서버주소(host)와 포트번호(port)를 지정하여 웹 서버 실행\n",
    "    app.run(host='127.0.0.1', port='5000') # 분석용 팀원의 서버를 사용해도됨"
   ]
  },
  {
   "cell_type": "markdown",
   "id": "857ea014",
   "metadata": {},
   "source": [
    "# 딕셔너리 데이터 사용자에게 보내기\n",
    "- json 데이터 전달을 위해 jsonify 모듈 추가"
   ]
  },
  {
   "cell_type": "code",
   "execution_count": 7,
   "id": "17229c8e",
   "metadata": {},
   "outputs": [
    {
     "name": "stdout",
     "output_type": "stream",
     "text": [
      " * Serving Flask app \"__main__\" (lazy loading)\n",
      " * Environment: production\n",
      "\u001b[31m   WARNING: This is a development server. Do not use it in a production deployment.\u001b[0m\n",
      "\u001b[2m   Use a production WSGI server instead.\u001b[0m\n",
      " * Debug mode: off\n"
     ]
    },
    {
     "name": "stderr",
     "output_type": "stream",
     "text": [
      " * Running on http://127.0.0.1:5000/ (Press CTRL+C to quit)\n",
      "127.0.0.1 - - [14/Apr/2022 15:26:05] \"GET / HTTP/1.1\" 200 -\n"
     ]
    }
   ],
   "source": [
    "from flask import Flask, jsonify\n",
    "\n",
    "app = Flask(__name__)\n",
    "\n",
    "@app.route('/')\n",
    "def index():\n",
    "    data = {'name':'Aaron', 'family':'Byun'}\n",
    "    return jsonify(data)\n",
    "\n",
    "if __name__=='__main__':\n",
    "    app.run(host='127.0.0.1', port='5000')"
   ]
  },
  {
   "cell_type": "markdown",
   "id": "0762138b",
   "metadata": {},
   "source": [
    "# 요청방식 구분\n",
    "- 요청방식에는 크게 GET, POST로 구분\n",
    "- GET 방식은 URL을 통해 값을 전달하는 방식\n",
    "- POST 방식은 HTTP body에 담겨 값을 전달하는 방식\n",
    "- 요청방식을 구분하기 위해 request 모듈 추가"
   ]
  },
  {
   "cell_type": "code",
   "execution_count": 9,
   "id": "6a3ab16f",
   "metadata": {},
   "outputs": [
    {
     "name": "stdout",
     "output_type": "stream",
     "text": [
      " * Serving Flask app \"__main__\" (lazy loading)\n",
      " * Environment: production\n",
      "\u001b[31m   WARNING: This is a development server. Do not use it in a production deployment.\u001b[0m\n",
      "\u001b[2m   Use a production WSGI server instead.\u001b[0m\n",
      " * Debug mode: off\n"
     ]
    },
    {
     "name": "stderr",
     "output_type": "stream",
     "text": [
      " * Running on http://127.0.0.1:5000/ (Press CTRL+C to quit)\n",
      "127.0.0.1 - - [14/Apr/2022 15:47:02] \"GET / HTTP/1.1\" 200 -\n",
      "127.0.0.1 - - [14/Apr/2022 15:47:06] \"GET /test?data=asdfasdfasdf HTTP/1.1\" 200 -\n"
     ]
    },
    {
     "name": "stdout",
     "output_type": "stream",
     "text": [
      "asdfasdfasdf\n"
     ]
    }
   ],
   "source": [
    "from flask import Flask\n",
    "from flask import request\n",
    "\n",
    "app = Flask(__name__)\n",
    "\n",
    "@app.route('/')\n",
    "def index():\n",
    "    html = '''\n",
    "        <html>\n",
    "            <title>Flask를 활용한 웹 페이지 실행</title>\n",
    "            <body>\n",
    "                <h1>데이터 전송</h1>\n",
    "                \n",
    "                <form action=\"test\" method=\"GET\">\n",
    "                <!-- <form action=\"test\" method=\"POST\"> -->\n",
    "                    <input type=\"text\" name=\"data\">\n",
    "                    <input type=\"submit\" value=\"전송\">\n",
    "                </form>\n",
    "            </body>\n",
    "        </html>\n",
    "    '''\n",
    "    return html\n",
    "\n",
    "@app.route('/test', methods=['GET', 'POST'])\n",
    "def getData():\n",
    "    \n",
    "    if request.method == 'GET':\n",
    "        data = request.args['data']\n",
    "        print(data)\n",
    "        return data\n",
    "    \n",
    "    else:\n",
    "        data = request.form['data']\n",
    "        return data\n",
    "    \n",
    "if __name__ == '__main__':\n",
    "    app.run(host='127.0.0.1', port='5000')"
   ]
  },
  {
   "cell_type": "markdown",
   "id": "25336455",
   "metadata": {},
   "source": [
    "# 다른 웹 페이지로 이동\n",
    "- 이동기능을 사용하기 위해 redirect 모듈 추가"
   ]
  },
  {
   "cell_type": "code",
   "execution_count": 10,
   "id": "2c81d8ef",
   "metadata": {},
   "outputs": [
    {
     "name": "stdout",
     "output_type": "stream",
     "text": [
      " * Serving Flask app \"__main__\" (lazy loading)\n",
      " * Environment: production\n",
      "\u001b[31m   WARNING: This is a development server. Do not use it in a production deployment.\u001b[0m\n",
      "\u001b[2m   Use a production WSGI server instead.\u001b[0m\n",
      " * Debug mode: off\n"
     ]
    },
    {
     "name": "stderr",
     "output_type": "stream",
     "text": [
      " * Running on http://127.0.0.1:5000/ (Press CTRL+C to quit)\n",
      "127.0.0.1 - - [14/Apr/2022 15:50:15] \"GET / HTTP/1.1\" 302 -\n"
     ]
    }
   ],
   "source": [
    "from flask import Flask\n",
    "from flask import redirect\n",
    "\n",
    "app = Flask(__name__)\n",
    "\n",
    "@app.route('/')\n",
    "def index():\n",
    "    \n",
    "    url = 'https://www.naver.com'\n",
    "    return redirect(url)\n",
    "\n",
    "if __name__ == '__main__':\n",
    "    app.run(host = '127.0.0.1', port='5000')"
   ]
  },
  {
   "cell_type": "markdown",
   "id": "ac7eafcc",
   "metadata": {},
   "source": [
    "# Tomcat 서버로 데이터 전송"
   ]
  },
  {
   "cell_type": "markdown",
   "id": "2fb74c9c",
   "metadata": {},
   "source": [
    "## JSP로 만들어진 웹 페이지로 전송"
   ]
  },
  {
   "cell_type": "code",
   "execution_count": 24,
   "id": "aca27345",
   "metadata": {
    "scrolled": true
   },
   "outputs": [
    {
     "name": "stdout",
     "output_type": "stream",
     "text": [
      " * Serving Flask app \"__main__\" (lazy loading)\n",
      " * Environment: production\n",
      "\u001b[31m   WARNING: This is a development server. Do not use it in a production deployment.\u001b[0m\n",
      "\u001b[2m   Use a production WSGI server instead.\u001b[0m\n",
      " * Debug mode: off\n"
     ]
    },
    {
     "name": "stderr",
     "output_type": "stream",
     "text": [
      " * Running on http://127.0.0.1:5000/ (Press CTRL+C to quit)\n",
      "127.0.0.1 - - [15/Apr/2022 10:41:22] \"GET / HTTP/1.1\" 302 -\n"
     ]
    }
   ],
   "source": [
    "from flask import Flask\n",
    "from flask import redirect\n",
    "\n",
    "app = Flask(__name__)\n",
    "\n",
    "@app.route('/')\n",
    "def index():\n",
    "    # JSP로 만들어진 웹 페이지에 데이터 전송\n",
    "    # GET 방식으로 데이터 전달시 쿼리스트링 기술 활용\n",
    "    # -> ?name=value&name=value&...\n",
    "    url = 'http://localhost:8081/nail/index.do'\n",
    "    return redirect(url)\n",
    "\n",
    "if __name__ == '__main__':\n",
    "    app.run(host='127.0.0.1', port = '5000')"
   ]
  },
  {
   "cell_type": "markdown",
   "id": "90515a38",
   "metadata": {},
   "source": [
    "## URL Mapping 되어 있는 Servlet으로 데이터 전송"
   ]
  },
  {
   "cell_type": "code",
   "execution_count": 22,
   "id": "6bae9098",
   "metadata": {
    "scrolled": true
   },
   "outputs": [
    {
     "name": "stdout",
     "output_type": "stream",
     "text": [
      " * Serving Flask app \"__main__\" (lazy loading)\n",
      " * Environment: production\n",
      "\u001b[31m   WARNING: This is a development server. Do not use it in a production deployment.\u001b[0m\n",
      "\u001b[2m   Use a production WSGI server instead.\u001b[0m\n",
      " * Debug mode: off\n"
     ]
    },
    {
     "name": "stderr",
     "output_type": "stream",
     "text": [
      " * Running on http://127.0.0.1:5000/ (Press CTRL+C to quit)\n",
      "127.0.0.1 - - [14/Apr/2022 17:08:30] \"GET / HTTP/1.1\" 302 -\n"
     ]
    }
   ],
   "source": [
    "from flask import Flask\n",
    "from flask import redirect\n",
    "\n",
    "app = Flask(__name__)\n",
    "\n",
    "@app.route('/')\n",
    "def index():\n",
    "    # JSP로 만들어진 웹 페이지에 데이터 전송\n",
    "    # GET 방식으로 데이터 전달 시 쿼리스트링 기술 활용\n",
    "    # -> ?name=value&name=value&...\n",
    "    url = 'http://localhost:8083/MessageSystem/FlaskTestController' # 이건 테스트 안됨\n",
    "    return redirect(url)\n",
    "\n",
    "if __name__ == '__main__':\n",
    "    app.run(host='127.0.0.1', port = '5000')"
   ]
  },
  {
   "cell_type": "markdown",
   "id": "d6bb52ad",
   "metadata": {},
   "source": [
    "# 사용자가 입력한 값을 받은 후 처리된 결과를 Tomcat 서버로 전송"
   ]
  },
  {
   "cell_type": "markdown",
   "id": "6935b2f4",
   "metadata": {},
   "source": [
    "## 머신러닝 모델에 대한 결과값을 전송할 때 활용할 수 있음"
   ]
  },
  {
   "cell_type": "code",
   "execution_count": 23,
   "id": "aa0c6401",
   "metadata": {},
   "outputs": [
    {
     "name": "stdout",
     "output_type": "stream",
     "text": [
      " * Serving Flask app \"__main__\" (lazy loading)\n",
      " * Environment: production\n",
      "\u001b[31m   WARNING: This is a development server. Do not use it in a production deployment.\u001b[0m\n",
      "\u001b[2m   Use a production WSGI server instead.\u001b[0m\n",
      " * Debug mode: off\n"
     ]
    },
    {
     "name": "stderr",
     "output_type": "stream",
     "text": [
      " * Running on http://127.0.0.1:5000/ (Press CTRL+C to quit)\n",
      "127.0.0.1 - - [14/Apr/2022 17:19:47] \"GET /addNumber?num1=3&num2=5 HTTP/1.1\" 302 -\n"
     ]
    }
   ],
   "source": [
    "from flask import Flask\n",
    "from flask import request, redirect\n",
    "\n",
    "app = Flask(__name__)\n",
    "\n",
    "@app.route('/', methods = ['GET', 'POST'])\n",
    "def index():\n",
    "    \n",
    "    if request.method == 'GET':\n",
    "        num1 = request.args['num1']\n",
    "        num2 = request.args['num2']\n",
    "        \n",
    "    else:\n",
    "        num1 = request.form['num1']\n",
    "        num2 = request.form['num2']\n",
    "        \n",
    "    url = 'http://localhost:8081/nail/index.do'\n",
    "    return redirect(url)\n",
    "\n",
    "if __name__ == '__main__':\n",
    "    app.run(host='127.0.0.1', port='5000') "
   ]
  },
  {
   "cell_type": "code",
   "execution_count": null,
   "id": "fa6b1eb8",
   "metadata": {},
   "outputs": [],
   "source": [
    "from flask import Flask\n",
    "from flask import request, redirect\n",
    "\n",
    "app = Flask(__name__)\n",
    "@app.route('/nailEx', methods=['POST'])\n",
    "def nail_design():\n",
    "    \n",
    "    "
   ]
  }
 ],
 "metadata": {
  "kernelspec": {
   "display_name": "Python 3 (ipykernel)",
   "language": "python",
   "name": "python3"
  },
  "language_info": {
   "codemirror_mode": {
    "name": "ipython",
    "version": 3
   },
   "file_extension": ".py",
   "mimetype": "text/x-python",
   "name": "python",
   "nbconvert_exporter": "python",
   "pygments_lexer": "ipython3",
   "version": "3.9.7"
  },
  "toc": {
   "base_numbering": 1,
   "nav_menu": {},
   "number_sections": true,
   "sideBar": true,
   "skip_h1_title": false,
   "title_cell": "Table of Contents",
   "title_sidebar": "Contents",
   "toc_cell": false,
   "toc_position": {},
   "toc_section_display": true,
   "toc_window_display": false
  }
 },
 "nbformat": 4,
 "nbformat_minor": 5
}
