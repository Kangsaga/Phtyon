{
 "cells": [
  {
   "cell_type": "code",
   "execution_count": 1,
   "id": "da49e469",
   "metadata": {},
   "outputs": [
    {
     "name": "stderr",
     "output_type": "stream",
     "text": [
      "Cloning into 'yolov5'...\n"
     ]
    }
   ],
   "source": [
    "!git clone https://github.com/ultralytics/yolov5.git"
   ]
  },
  {
   "cell_type": "code",
   "execution_count": 3,
   "id": "15caec83",
   "metadata": {
    "collapsed": true
   },
   "outputs": [
    {
     "name": "stdout",
     "output_type": "stream",
     "text": [
      "Collecting matplotlib>=3.2.2\n",
      "  Using cached matplotlib-3.5.1-cp38-cp38-win_amd64.whl (7.2 MB)\n",
      "Requirement already satisfied: numpy>=1.18.5 in c:\\users\\smhrd\\anaconda3\\envs\\yolov5_test\\lib\\site-packages (from -r requirements.txt (line 5)) (1.21.5)\n",
      "Collecting opencv-python>=4.1.2\n",
      "  Using cached opencv_python-4.5.5.64-cp36-abi3-win_amd64.whl (35.4 MB)\n",
      "Requirement already satisfied: Pillow>=7.1.2 in c:\\users\\smhrd\\anaconda3\\envs\\yolov5_test\\lib\\site-packages (from -r requirements.txt (line 7)) (9.0.1)\n",
      "Collecting PyYAML>=5.3.1\n",
      "  Downloading PyYAML-6.0-cp38-cp38-win_amd64.whl (155 kB)\n",
      "Requirement already satisfied: requests>=2.23.0 in c:\\users\\smhrd\\anaconda3\\envs\\yolov5_test\\lib\\site-packages (from -r requirements.txt (line 9)) (2.27.1)\n",
      "Collecting scipy>=1.4.1\n",
      "  Using cached scipy-1.8.0-cp38-cp38-win_amd64.whl (36.9 MB)\n",
      "Requirement already satisfied: torch>=1.7.0 in c:\\users\\smhrd\\anaconda3\\envs\\yolov5_test\\lib\\site-packages (from -r requirements.txt (line 11)) (1.11.0)\n",
      "Requirement already satisfied: torchvision>=0.8.1 in c:\\users\\smhrd\\anaconda3\\envs\\yolov5_test\\lib\\site-packages (from -r requirements.txt (line 12)) (0.12.0)\n",
      "Collecting tqdm>=4.41.0\n",
      "  Downloading tqdm-4.64.0-py2.py3-none-any.whl (78 kB)\n",
      "Collecting tensorboard>=2.4.1\n",
      "  Using cached tensorboard-2.8.0-py3-none-any.whl (5.8 MB)\n",
      "Collecting pandas>=1.1.4\n",
      "  Downloading pandas-1.4.2-cp38-cp38-win_amd64.whl (10.6 MB)\n",
      "Collecting seaborn>=0.11.0\n",
      "  Downloading seaborn-0.11.2-py3-none-any.whl (292 kB)\n",
      "Collecting thop\n",
      "  Using cached thop-0.0.31.post2005241907-py3-none-any.whl (8.7 kB)\n",
      "Requirement already satisfied: packaging>=20.0 in c:\\users\\smhrd\\anaconda3\\envs\\yolov5_test\\lib\\site-packages (from matplotlib>=3.2.2->-r requirements.txt (line 4)) (21.3)Note: you may need to restart the kernel to use updated packages.\n"
     ]
    },
    {
     "name": "stderr",
     "output_type": "stream",
     "text": [
      "WARNING: Ignore distutils configs in setup.cfg due to encoding errors.\n",
      "  WARNING: Ignore distutils configs in setup.cfg due to encoding errors.\n",
      "  WARNING: Ignore distutils configs in setup.cfg due to encoding errors.\n",
      "  WARNING: Ignore distutils configs in setup.cfg due to encoding errors.\n",
      "  WARNING: Ignore distutils configs in setup.cfg due to encoding errors.\n",
      "  WARNING: Ignore distutils configs in setup.cfg due to encoding errors.\n",
      "  WARNING: Ignore distutils configs in setup.cfg due to encoding errors.\n",
      "  WARNING: Ignore distutils configs in setup.cfg due to encoding errors.\n",
      "  WARNING: Ignore distutils configs in setup.cfg due to encoding errors.\n",
      "  WARNING: Ignore distutils configs in setup.cfg due to encoding errors.\n",
      "  WARNING: Ignore distutils configs in setup.cfg due to encoding errors.\n",
      "  WARNING: Ignore distutils configs in setup.cfg due to encoding errors.\n",
      "  WARNING: Ignore distutils configs in setup.cfg due to encoding errors.\n",
      "  WARNING: Ignore distutils configs in setup.cfg due to encoding errors.\n",
      "  WARNING: Ignore distutils configs in setup.cfg due to encoding errors.\n",
      "  WARNING: Ignore distutils configs in setup.cfg due to encoding errors.\n",
      "  WARNING: Ignore distutils configs in setup.cfg due to encoding errors.\n",
      "  WARNING: Ignore distutils configs in setup.cfg due to encoding errors.\n",
      "  WARNING: Ignore distutils configs in setup.cfg due to encoding errors.\n",
      "  WARNING: Ignore distutils configs in setup.cfg due to encoding errors.\n",
      "  WARNING: Ignore distutils configs in setup.cfg due to encoding errors.\n",
      "  WARNING: Ignore distutils configs in setup.cfg due to encoding errors.\n",
      "  WARNING: Ignore distutils configs in setup.cfg due to encoding errors.\n",
      "  WARNING: Ignore distutils configs in setup.cfg due to encoding errors.\n",
      "  WARNING: Ignore distutils configs in setup.cfg due to encoding errors.\n",
      "  WARNING: Ignore distutils configs in setup.cfg due to encoding errors.\n",
      "  WARNING: Ignore distutils configs in setup.cfg due to encoding errors.\n",
      "  WARNING: Ignore distutils configs in setup.cfg due to encoding errors.\n",
      "  WARNING: Ignore distutils configs in setup.cfg due to encoding errors.\n",
      "WARNING: Ignore distutils configs in setup.cfg due to encoding errors.\n"
     ]
    },
    {
     "name": "stdout",
     "output_type": "stream",
     "text": [
      "\n",
      "Collecting fonttools>=4.22.0\n",
      "  Downloading fonttools-4.32.0-py3-none-any.whl (900 kB)\n",
      "Requirement already satisfied: pyparsing>=2.2.1 in c:\\users\\smhrd\\anaconda3\\envs\\yolov5_test\\lib\\site-packages (from matplotlib>=3.2.2->-r requirements.txt (line 4)) (3.0.4)\n",
      "Collecting cycler>=0.10\n",
      "  Using cached cycler-0.11.0-py3-none-any.whl (6.4 kB)\n",
      "Collecting kiwisolver>=1.0.1\n",
      "  Using cached kiwisolver-1.4.2-cp38-cp38-win_amd64.whl (55 kB)\n",
      "Requirement already satisfied: python-dateutil>=2.7 in c:\\users\\smhrd\\anaconda3\\envs\\yolov5_test\\lib\\site-packages (from matplotlib>=3.2.2->-r requirements.txt (line 4)) (2.8.2)\n",
      "Requirement already satisfied: charset-normalizer~=2.0.0 in c:\\users\\smhrd\\anaconda3\\envs\\yolov5_test\\lib\\site-packages (from requests>=2.23.0->-r requirements.txt (line 9)) (2.0.4)\n",
      "Requirement already satisfied: idna<4,>=2.5 in c:\\users\\smhrd\\anaconda3\\envs\\yolov5_test\\lib\\site-packages (from requests>=2.23.0->-r requirements.txt (line 9)) (3.3)\n",
      "Requirement already satisfied: certifi>=2017.4.17 in c:\\users\\smhrd\\anaconda3\\envs\\yolov5_test\\lib\\site-packages (from requests>=2.23.0->-r requirements.txt (line 9)) (2021.10.8)\n",
      "Requirement already satisfied: urllib3<1.27,>=1.21.1 in c:\\users\\smhrd\\anaconda3\\envs\\yolov5_test\\lib\\site-packages (from requests>=2.23.0->-r requirements.txt (line 9)) (1.26.8)\n",
      "Requirement already satisfied: typing_extensions in c:\\users\\smhrd\\anaconda3\\envs\\yolov5_test\\lib\\site-packages (from torch>=1.7.0->-r requirements.txt (line 11)) (4.1.1)\n",
      "Requirement already satisfied: colorama in c:\\users\\smhrd\\anaconda3\\envs\\yolov5_test\\lib\\site-packages (from tqdm>=4.41.0->-r requirements.txt (line 13)) (0.4.4)\n",
      "Collecting google-auth-oauthlib<0.5,>=0.4.1\n",
      "  Using cached google_auth_oauthlib-0.4.6-py2.py3-none-any.whl (18 kB)\n",
      "Collecting werkzeug>=0.11.15\n",
      "  Using cached Werkzeug-2.1.1-py3-none-any.whl (224 kB)\n",
      "Collecting google-auth<3,>=1.6.3\n",
      "  Downloading google_auth-2.6.3-py2.py3-none-any.whl (156 kB)\n",
      "Collecting markdown>=2.6.8\n",
      "  Using cached Markdown-3.3.6-py3-none-any.whl (97 kB)\n",
      "Collecting grpcio>=1.24.3\n",
      "  Using cached grpcio-1.44.0-cp38-cp38-win_amd64.whl (3.4 MB)\n",
      "Collecting protobuf>=3.6.0\n",
      "  Using cached protobuf-3.20.0-cp38-cp38-win_amd64.whl (904 kB)\n",
      "Collecting absl-py>=0.4\n",
      "  Using cached absl_py-1.0.0-py3-none-any.whl (126 kB)\n",
      "Requirement already satisfied: setuptools>=41.0.0 in c:\\users\\smhrd\\anaconda3\\envs\\yolov5_test\\lib\\site-packages (from tensorboard>=2.4.1->-r requirements.txt (line 16)) (58.0.4)\n",
      "Requirement already satisfied: wheel>=0.26 in c:\\users\\smhrd\\anaconda3\\envs\\yolov5_test\\lib\\site-packages (from tensorboard>=2.4.1->-r requirements.txt (line 16)) (0.37.1)\n",
      "Collecting tensorboard-data-server<0.7.0,>=0.6.0\n",
      "  Using cached tensorboard_data_server-0.6.1-py3-none-any.whl (2.4 kB)\n",
      "Collecting tensorboard-plugin-wit>=1.6.0\n",
      "  Using cached tensorboard_plugin_wit-1.8.1-py3-none-any.whl (781 kB)\n",
      "Collecting pytz>=2020.1\n",
      "  Using cached pytz-2022.1-py2.py3-none-any.whl (503 kB)\n",
      "Requirement already satisfied: six in c:\\users\\smhrd\\anaconda3\\envs\\yolov5_test\\lib\\site-packages (from absl-py>=0.4->tensorboard>=2.4.1->-r requirements.txt (line 16)) (1.16.0)\n",
      "Collecting rsa<5,>=3.1.4\n",
      "  Using cached rsa-4.8-py3-none-any.whl (39 kB)\n",
      "Collecting cachetools<6.0,>=2.0.0\n",
      "  Using cached cachetools-5.0.0-py3-none-any.whl (9.1 kB)\n",
      "Collecting pyasn1-modules>=0.2.1\n",
      "  Using cached pyasn1_modules-0.2.8-py2.py3-none-any.whl (155 kB)\n",
      "Collecting requests-oauthlib>=0.7.0\n",
      "  Using cached requests_oauthlib-1.3.1-py2.py3-none-any.whl (23 kB)\n",
      "Requirement already satisfied: importlib-metadata>=4.4 in c:\\users\\smhrd\\anaconda3\\envs\\yolov5_test\\lib\\site-packages (from markdown>=2.6.8->tensorboard>=2.4.1->-r requirements.txt (line 16)) (4.11.3)\n",
      "Requirement already satisfied: zipp>=0.5 in c:\\users\\smhrd\\anaconda3\\envs\\yolov5_test\\lib\\site-packages (from importlib-metadata>=4.4->markdown>=2.6.8->tensorboard>=2.4.1->-r requirements.txt (line 16)) (3.7.0)\n",
      "Collecting pyasn1<0.5.0,>=0.4.6\n",
      "  Using cached pyasn1-0.4.8-py2.py3-none-any.whl (77 kB)\n",
      "Collecting oauthlib>=3.0.0\n",
      "  Using cached oauthlib-3.2.0-py3-none-any.whl (151 kB)\n",
      "Installing collected packages: pyasn1, rsa, pyasn1-modules, oauthlib, cachetools, requests-oauthlib, pytz, kiwisolver, google-auth, fonttools, cycler, werkzeug, tensorboard-plugin-wit, tensorboard-data-server, scipy, protobuf, pandas, matplotlib, markdown, grpcio, google-auth-oauthlib, absl-py, tqdm, thop, tensorboard, seaborn, PyYAML, opencv-python\n",
      "Successfully installed PyYAML-6.0 absl-py-1.0.0 cachetools-5.0.0 cycler-0.11.0 fonttools-4.32.0 google-auth-2.6.3 google-auth-oauthlib-0.4.6 grpcio-1.44.0 kiwisolver-1.4.2 markdown-3.3.6 matplotlib-3.5.1 oauthlib-3.2.0 opencv-python-4.5.5.64 pandas-1.4.2 protobuf-3.20.0 pyasn1-0.4.8 pyasn1-modules-0.2.8 pytz-2022.1 requests-oauthlib-1.3.1 rsa-4.8 scipy-1.8.0 seaborn-0.11.2 tensorboard-2.8.0 tensorboard-data-server-0.6.1 tensorboard-plugin-wit-1.8.1 thop-0.0.31.post2005241907 tqdm-4.64.0 werkzeug-2.1.1\n"
     ]
    }
   ],
   "source": [
    "pip install -r requirements.txt"
   ]
  },
  {
   "cell_type": "code",
   "execution_count": null,
   "id": "559f9529",
   "metadata": {},
   "outputs": [],
   "source": [
    "python train.py --data ./data/data.yaml --cfg ./models/yolov5x.yaml --weights yolov5x.pt --batch 6 --worker 4 --epochs 200 --name 2471t8v2_200 --patience 300"
   ]
  },
  {
   "cell_type": "code",
   "execution_count": null,
   "id": "05e92cf7",
   "metadata": {},
   "outputs": [],
   "source": [
    "python detect.py --source ./det/ --weights C:/Users/smhrd/yolov5/yolov5/runs/train/test502/weights/best.pt"
   ]
  },
  {
   "cell_type": "code",
   "execution_count": null,
   "id": "910dab52",
   "metadata": {},
   "outputs": [],
   "source": [
    "python val.py --source ./det/ --weights C:/Users/smhrd/yolov5/yolov5/runs/train/test502/weights/best.pt --name test1"
   ]
  },
  {
   "cell_type": "code",
   "execution_count": 119,
   "id": "7ed4fd09",
   "metadata": {},
   "outputs": [
    {
     "name": "stderr",
     "output_type": "stream",
     "text": [
      "\u001b[34m\u001b[1mval: \u001b[0mdata=./data/data.yaml, weights=['C:/Users/smhrd/yolov5/yolov5/runs/train/test502/weights/best.pt'], batch_size=32, imgsz=640, conf_thres=0.001, iou_thres=0.6, task=val, device=, workers=8, single_cls=False, augment=False, verbose=False, save_txt=True, save_hybrid=False, save_conf=False, save_json=False, project=runs\\val, name=test4, exist_ok=False, half=False, dnn=False\n",
      "YOLOv5  v6.1-127-gfa569cd torch 1.11.0 CUDA:0 (NVIDIA GeForce RTX 2070, 8192MiB)\n",
      "\n",
      "Fusing layers... \n",
      "YOLOv5s summary: 213 layers, 7018216 parameters, 0 gradients, 15.8 GFLOPs\n",
      "\n",
      "\u001b[34m\u001b[1mval: \u001b[0mScanning 'C:\\Users\\smhrd\\yolov5\\yolov5\\runs\\detect\\test1\\labels' images and labels...:   0%|          | 0/4 [00:00<?, ?it/s]\n",
      "\u001b[34m\u001b[1mval: \u001b[0mScanning 'C:\\Users\\smhrd\\yolov5\\yolov5\\runs\\detect\\test1\\labels' images and labels...1 found, 0 missing, 0 empty, 0 corrupt:  25%|##5       | 1/4 [00:05<00:15,  5.05s/it]\n",
      "\u001b[34m\u001b[1mval: \u001b[0mScanning 'C:\\Users\\smhrd\\yolov5\\yolov5\\runs\\detect\\test1\\labels' images and labels...4 found, 0 missing, 0 empty, 0 corrupt: 100%|##########| 4/4 [00:05<00:00,  1.26s/it]\n",
      "\u001b[34m\u001b[1mval: \u001b[0mNew cache created: C:\\Users\\smhrd\\yolov5\\yolov5\\runs\\detect\\test1\\labels.cache\n",
      "\n",
      "               Class     Images     Labels          P          R     mAP@.5 mAP@.5:.95:   0%|          | 0/1 [00:00<?, ?it/s]\n",
      "               Class     Images     Labels          P          R     mAP@.5 mAP@.5:.95: 100%|##########| 1/1 [00:00<00:00,  1.17it/s]\n",
      "               Class     Images     Labels          P          R     mAP@.5 mAP@.5:.95: 100%|##########| 1/1 [00:00<00:00,  1.17it/s]\n",
      "                 all          4       1200          1          1      0.995      0.995\n",
      "                   0          4         89          1          1      0.995      0.995\n",
      "                   1          4        695          1          1      0.995      0.995\n",
      "                   2          4        416          1          1      0.995      0.995\n",
      "Speed: 3.5ms pre-process, 63.3ms inference, 5.0ms NMS per image at shape (32, 3, 640, 640)\n",
      "Results saved to \u001b[1mruns\\val\\test4\u001b[0m\n",
      "4 labels saved to runs\\val\\test4\\labels\n",
      "Exception ignored in: <function StorageWeakRef.__del__ at 0x000001B34C665CA0>\n",
      "Traceback (most recent call last):\n",
      "  File \"C:\\Users\\smhrd\\anaconda3\\envs\\yolov5_test\\lib\\site-packages\\torch\\multiprocessing\\reductions.py\", line 36, in __del__\n",
      "  File \"C:\\Users\\smhrd\\anaconda3\\envs\\yolov5_test\\lib\\site-packages\\torch\\storage.py\", line 520, in _free_weak_ref\n",
      "AttributeError: 'NoneType' object has no attribute '_free_weak_ref'\n",
      "Exception ignored in: <function StorageWeakRef.__del__ at 0x000001B34C665CA0>\n",
      "Traceback (most recent call last):\n",
      "  File \"C:\\Users\\smhrd\\anaconda3\\envs\\yolov5_test\\lib\\site-packages\\torch\\multiprocessing\\reductions.py\", line 36, in __del__\n",
      "  File \"C:\\Users\\smhrd\\anaconda3\\envs\\yolov5_test\\lib\\site-packages\\torch\\storage.py\", line 520, in _free_weak_ref\n",
      "AttributeError: 'NoneType' object has no attribute '_free_weak_ref'\n",
      "Exception ignored in: <function StorageWeakRef.__del__ at 0x0000026503BC4CA0>\n",
      "Traceback (most recent call last):\n",
      "  File \"C:\\Users\\smhrd\\anaconda3\\envs\\yolov5_test\\lib\\site-packages\\torch\\multiprocessing\\reductions.py\", line 36, in __del__\n",
      "  File \"C:\\Users\\smhrd\\anaconda3\\envs\\yolov5_test\\lib\\site-packages\\torch\\storage.py\", line 520, in _free_weak_ref\n",
      "AttributeError: 'NoneType' object has no attribute '_free_weak_ref'\n",
      "Exception ignored in: <function StorageWeakRef.__del__ at 0x000001B34C665CA0>\n",
      "Traceback (most recent call last):\n",
      "  File \"C:\\Users\\smhrd\\anaconda3\\envs\\yolov5_test\\lib\\site-packages\\torch\\multiprocessing\\reductions.py\", line 36, in __del__\n",
      "  File \"C:\\Users\\smhrd\\anaconda3\\envs\\yolov5_test\\lib\\site-packages\\torch\\storage.py\", line 520, in _free_weak_ref\n",
      "AttributeError: 'NoneType' object has no attribute '_free_weak_ref'\n",
      "Exception ignored in: <function StorageWeakRef.__del__ at 0x0000026503BC4CA0>\n",
      "Traceback (most recent call last):\n",
      "  File \"C:\\Users\\smhrd\\anaconda3\\envs\\yolov5_test\\lib\\site-packages\\torch\\multiprocessing\\reductions.py\", line 36, in __del__\n",
      "  File \"C:\\Users\\smhrd\\anaconda3\\envs\\yolov5_test\\lib\\site-packages\\torch\\storage.py\", line 520, in _free_weak_ref\n",
      "AttributeError: 'NoneType' object has no attribute '_free_weak_ref'\n",
      "Exception ignored in: <function StorageWeakRef.__del__ at 0x000001B34C665CA0>\n",
      "Traceback (most recent call last):\n",
      "  File \"C:\\Users\\smhrd\\anaconda3\\envs\\yolov5_test\\lib\\site-packages\\torch\\multiprocessing\\reductions.py\", line 36, in __del__\n",
      "  File \"C:\\Users\\smhrd\\anaconda3\\envs\\yolov5_test\\lib\\site-packages\\torch\\storage.py\", line 520, in _free_weak_ref\n",
      "AttributeError: 'NoneType' object has no attribute '_free_weak_ref'\n",
      "Exception ignored in: <function StorageWeakRef.__del__ at 0x0000026503BC4CA0>\n",
      "Traceback (most recent call last):\n",
      "  File \"C:\\Users\\smhrd\\anaconda3\\envs\\yolov5_test\\lib\\site-packages\\torch\\multiprocessing\\reductions.py\", line 36, in __del__\n",
      "  File \"C:\\Users\\smhrd\\anaconda3\\envs\\yolov5_test\\lib\\site-packages\\torch\\storage.py\", line 520, in _free_weak_ref\n",
      "AttributeError: 'NoneType' object has no attribute '_free_weak_ref'\n",
      "Exception ignored in: <function StorageWeakRef.__del__ at 0x0000026503BC4CA0>\n",
      "Traceback (most recent call last):\n",
      "  File \"C:\\Users\\smhrd\\anaconda3\\envs\\yolov5_test\\lib\\site-packages\\torch\\multiprocessing\\reductions.py\", line 36, in __del__\n",
      "  File \"C:\\Users\\smhrd\\anaconda3\\envs\\yolov5_test\\lib\\site-packages\\torch\\storage.py\", line 520, in _free_weak_ref\n",
      "AttributeError: 'NoneType' object has no attribute '_free_weak_ref'\n",
      "Exception ignored in: <function StorageWeakRef.__del__ at 0x000001B704C26CA0>\n",
      "Traceback (most recent call last):\n",
      "  File \"C:\\Users\\smhrd\\anaconda3\\envs\\yolov5_test\\lib\\site-packages\\torch\\multiprocessing\\reductions.py\", line 36, in __del__\n",
      "  File \"C:\\Users\\smhrd\\anaconda3\\envs\\yolov5_test\\lib\\site-packages\\torch\\storage.py\", line 520, in _free_weak_ref\n",
      "AttributeError: 'NoneType' object has no attribute '_free_weak_ref'\n",
      "Exception ignored in: <function StorageWeakRef.__del__ at 0x000001B704C26CA0>\n",
      "Traceback (most recent call last):\n",
      "  File \"C:\\Users\\smhrd\\anaconda3\\envs\\yolov5_test\\lib\\site-packages\\torch\\multiprocessing\\reductions.py\", line 36, in __del__\n",
      "  File \"C:\\Users\\smhrd\\anaconda3\\envs\\yolov5_test\\lib\\site-packages\\torch\\storage.py\", line 520, in _free_weak_ref\n",
      "AttributeError: 'NoneType' object has no attribute '_free_weak_ref'\n",
      "Exception ignored in: <function StorageWeakRef.__del__ at 0x000001B704C26CA0>\n",
      "Traceback (most recent call last):\n",
      "  File \"C:\\Users\\smhrd\\anaconda3\\envs\\yolov5_test\\lib\\site-packages\\torch\\multiprocessing\\reductions.py\", line 36, in __del__\n",
      "  File \"C:\\Users\\smhrd\\anaconda3\\envs\\yolov5_test\\lib\\site-packages\\torch\\storage.py\", line 520, in _free_weak_ref\n",
      "AttributeError: 'NoneType' object has no attribute '_free_weak_ref'\n",
      "Exception ignored in: <function StorageWeakRef.__del__ at 0x000001B704C26CA0>\n",
      "Traceback (most recent call last):\n",
      "  File \"C:\\Users\\smhrd\\anaconda3\\envs\\yolov5_test\\lib\\site-packages\\torch\\multiprocessing\\reductions.py\", line 36, in __del__\n",
      "  File \"C:\\Users\\smhrd\\anaconda3\\envs\\yolov5_test\\lib\\site-packages\\torch\\storage.py\", line 520, in _free_weak_ref\n",
      "AttributeError: 'NoneType' object has no attribute '_free_weak_ref'\n",
      "Exception ignored in: <function StorageWeakRef.__del__ at 0x0000027888315CA0>\n",
      "Traceback (most recent call last):\n",
      "  File \"C:\\Users\\smhrd\\anaconda3\\envs\\yolov5_test\\lib\\site-packages\\torch\\multiprocessing\\reductions.py\", line 36, in __del__\n",
      "  File \"C:\\Users\\smhrd\\anaconda3\\envs\\yolov5_test\\lib\\site-packages\\torch\\storage.py\", line 520, in _free_weak_ref\n",
      "AttributeError: 'NoneType' object has no attribute '_free_weak_ref'\n",
      "Exception ignored in: <function StorageWeakRef.__del__ at 0x0000027888315CA0>\n",
      "Traceback (most recent call last):\n",
      "  File \"C:\\Users\\smhrd\\anaconda3\\envs\\yolov5_test\\lib\\site-packages\\torch\\multiprocessing\\reductions.py\", line 36, in __del__\n",
      "  File \"C:\\Users\\smhrd\\anaconda3\\envs\\yolov5_test\\lib\\site-packages\\torch\\storage.py\", line 520, in _free_weak_ref\n",
      "AttributeError: 'NoneType' object has no attribute '_free_weak_ref'\n",
      "Exception ignored in: <function StorageWeakRef.__del__ at 0x0000027888315CA0>\n",
      "Traceback (most recent call last):\n",
      "  File \"C:\\Users\\smhrd\\anaconda3\\envs\\yolov5_test\\lib\\site-packages\\torch\\multiprocessing\\reductions.py\", line 36, in __del__\n",
      "  File \"C:\\Users\\smhrd\\anaconda3\\envs\\yolov5_test\\lib\\site-packages\\torch\\storage.py\", line 520, in _free_weak_ref\n",
      "AttributeError: 'NoneType' object has no attribute '_free_weak_ref'\n",
      "Exception ignored in: <function StorageWeakRef.__del__ at 0x0000027888315CA0>\n",
      "Traceback (most recent call last):\n",
      "  File \"C:\\Users\\smhrd\\anaconda3\\envs\\yolov5_test\\lib\\site-packages\\torch\\multiprocessing\\reductions.py\", line 36, in __del__\n",
      "  File \"C:\\Users\\smhrd\\anaconda3\\envs\\yolov5_test\\lib\\site-packages\\torch\\storage.py\", line 520, in _free_weak_ref\n",
      "AttributeError: 'NoneType' object has no attribute '_free_weak_ref'\n",
      "Exception ignored in: <function StorageWeakRef.__del__ at 0x0000027888315CA0>\n",
      "Traceback (most recent call last):\n",
      "  File \"C:\\Users\\smhrd\\anaconda3\\envs\\yolov5_test\\lib\\site-packages\\torch\\multiprocessing\\reductions.py\", line 36, in __del__\n",
      "  File \"C:\\Users\\smhrd\\anaconda3\\envs\\yolov5_test\\lib\\site-packages\\torch\\storage.py\", line 520, in _free_weak_ref\n",
      "AttributeError: 'NoneType' object has no attribute '_free_weak_ref'\n",
      "Exception ignored in: <function StorageWeakRef.__del__ at 0x0000027888315CA0>\n",
      "Traceback (most recent call last):\n",
      "  File \"C:\\Users\\smhrd\\anaconda3\\envs\\yolov5_test\\lib\\site-packages\\torch\\multiprocessing\\reductions.py\", line 36, in __del__\n",
      "  File \"C:\\Users\\smhrd\\anaconda3\\envs\\yolov5_test\\lib\\site-packages\\torch\\storage.py\", line 520, in _free_weak_ref\n",
      "AttributeError: 'NoneType' object has no attribute '_free_weak_ref'\n",
      "Exception ignored in: <function StorageWeakRef.__del__ at 0x000001F811A21700>\n",
      "Traceback (most recent call last):\n",
      "  File \"C:\\Users\\smhrd\\anaconda3\\envs\\yolov5_test\\lib\\site-packages\\torch\\multiprocessing\\reductions.py\", line 36, in __del__\n",
      "  File \"C:\\Users\\smhrd\\anaconda3\\envs\\yolov5_test\\lib\\site-packages\\torch\\storage.py\", line 520, in _free_weak_ref\n",
      "AttributeError: 'NoneType' object has no attribute '_free_weak_ref'\n",
      "Exception ignored in: <function StorageWeakRef.__del__ at 0x000001F811A21700>\n",
      "Traceback (most recent call last):\n",
      "  File \"C:\\Users\\smhrd\\anaconda3\\envs\\yolov5_test\\lib\\site-packages\\torch\\multiprocessing\\reductions.py\", line 36, in __del__\n",
      "  File \"C:\\Users\\smhrd\\anaconda3\\envs\\yolov5_test\\lib\\site-packages\\torch\\storage.py\", line 520, in _free_weak_ref\n",
      "AttributeError: 'NoneType' object has no attribute '_free_weak_ref'\n",
      "Exception ignored in: <function StorageWeakRef.__del__ at 0x000001F811A21700>\n",
      "Traceback (most recent call last):\n",
      "  File \"C:\\Users\\smhrd\\anaconda3\\envs\\yolov5_test\\lib\\site-packages\\torch\\multiprocessing\\reductions.py\", line 36, in __del__\n",
      "  File \"C:\\Users\\smhrd\\anaconda3\\envs\\yolov5_test\\lib\\site-packages\\torch\\storage.py\", line 520, in _free_weak_ref\n",
      "AttributeError: 'NoneType' object has no attribute '_free_weak_ref'\n",
      "Exception ignored in: <function StorageWeakRef.__del__ at 0x000001F811A21700>\n",
      "Traceback (most recent call last):\n",
      "  File \"C:\\Users\\smhrd\\anaconda3\\envs\\yolov5_test\\lib\\site-packages\\torch\\multiprocessing\\reductions.py\", line 36, in __del__\n",
      "  File \"C:\\Users\\smhrd\\anaconda3\\envs\\yolov5_test\\lib\\site-packages\\torch\\storage.py\", line 520, in _free_weak_ref\n",
      "AttributeError: 'NoneType' object has no attribute '_free_weak_ref'\n",
      "Exception ignored in: <function StorageWeakRef.__del__ at 0x000001F811A21700>\n",
      "Traceback (most recent call last):\n",
      "  File \"C:\\Users\\smhrd\\anaconda3\\envs\\yolov5_test\\lib\\site-packages\\torch\\multiprocessing\\reductions.py\", line 36, in __del__\n",
      "  File \"C:\\Users\\smhrd\\anaconda3\\envs\\yolov5_test\\lib\\site-packages\\torch\\storage.py\", line 520, in _free_weak_ref\n",
      "AttributeError: 'NoneType' object has no attribute '_free_weak_ref'\n",
      "Exception ignored in: <function StorageWeakRef.__del__ at 0x000001F811A21700>\n",
      "Traceback (most recent call last):\n",
      "  File \"C:\\Users\\smhrd\\anaconda3\\envs\\yolov5_test\\lib\\site-packages\\torch\\multiprocessing\\reductions.py\", line 36, in __del__\n",
      "  File \"C:\\Users\\smhrd\\anaconda3\\envs\\yolov5_test\\lib\\site-packages\\torch\\storage.py\", line 520, in _free_weak_ref\n",
      "AttributeError: 'NoneType' object has no attribute '_free_weak_ref'\n",
      "Exception ignored in: <function StorageWeakRef.__del__ at 0x000001F811A21700>\n",
      "Traceback (most recent call last):\n",
      "  File \"C:\\Users\\smhrd\\anaconda3\\envs\\yolov5_test\\lib\\site-packages\\torch\\multiprocessing\\reductions.py\", line 36, in __del__\n",
      "  File \"C:\\Users\\smhrd\\anaconda3\\envs\\yolov5_test\\lib\\site-packages\\torch\\storage.py\", line 520, in _free_weak_ref\n",
      "AttributeError: 'NoneType' object has no attribute '_free_weak_ref'\n",
      "Exception ignored in: <function StorageWeakRef.__del__ at 0x000001F811A21700>\n",
      "Traceback (most recent call last):\n",
      "  File \"C:\\Users\\smhrd\\anaconda3\\envs\\yolov5_test\\lib\\site-packages\\torch\\multiprocessing\\reductions.py\", line 36, in __del__\n",
      "  File \"C:\\Users\\smhrd\\anaconda3\\envs\\yolov5_test\\lib\\site-packages\\torch\\storage.py\", line 520, in _free_weak_ref\n",
      "AttributeError: 'NoneType' object has no attribute '_free_weak_ref'\n",
      "Exception ignored in: <function StorageWeakRef.__del__ at 0x000001F811A21700>\n",
      "Traceback (most recent call last):\n",
      "  File \"C:\\Users\\smhrd\\anaconda3\\envs\\yolov5_test\\lib\\site-packages\\torch\\multiprocessing\\reductions.py\", line 36, in __del__\n",
      "  File \"C:\\Users\\smhrd\\anaconda3\\envs\\yolov5_test\\lib\\site-packages\\torch\\storage.py\", line 520, in _free_weak_ref\n",
      "AttributeError: 'NoneType' object has no attribute '_free_weak_ref'\n",
      "Exception ignored in: <function StorageWeakRef.__del__ at 0x000001F811A21700>\n",
      "Traceback (most recent call last):\n",
      "  File \"C:\\Users\\smhrd\\anaconda3\\envs\\yolov5_test\\lib\\site-packages\\torch\\multiprocessing\\reductions.py\", line 36, in __del__\n",
      "  File \"C:\\Users\\smhrd\\anaconda3\\envs\\yolov5_test\\lib\\site-packages\\torch\\storage.py\", line 520, in _free_weak_ref\n",
      "AttributeError: 'NoneType' object has no attribute '_free_weak_ref'\n",
      "Exception ignored in: <function StorageWeakRef.__del__ at 0x000001F811A21700>\n",
      "Traceback (most recent call last):\n",
      "  File \"C:\\Users\\smhrd\\anaconda3\\envs\\yolov5_test\\lib\\site-packages\\torch\\multiprocessing\\reductions.py\", line 36, in __del__\n",
      "  File \"C:\\Users\\smhrd\\anaconda3\\envs\\yolov5_test\\lib\\site-packages\\torch\\storage.py\", line 520, in _free_weak_ref\n",
      "AttributeError: 'NoneType' object has no attribute '_free_weak_ref'\n",
      "Exception ignored in: <function StorageWeakRef.__del__ at 0x000001F811A21700>\n",
      "Traceback (most recent call last):\n",
      "  File \"C:\\Users\\smhrd\\anaconda3\\envs\\yolov5_test\\lib\\site-packages\\torch\\multiprocessing\\reductions.py\", line 36, in __del__\n",
      "  File \"C:\\Users\\smhrd\\anaconda3\\envs\\yolov5_test\\lib\\site-packages\\torch\\storage.py\", line 520, in _free_weak_ref\n",
      "AttributeError: 'NoneType' object has no attribute '_free_weak_ref'\n",
      "Exception ignored in: <function StorageWeakRef.__del__ at 0x000001F811A21700>\n",
      "Traceback (most recent call last):\n",
      "  File \"C:\\Users\\smhrd\\anaconda3\\envs\\yolov5_test\\lib\\site-packages\\torch\\multiprocessing\\reductions.py\", line 36, in __del__\n",
      "  File \"C:\\Users\\smhrd\\anaconda3\\envs\\yolov5_test\\lib\\site-packages\\torch\\storage.py\", line 520, in _free_weak_ref\n",
      "AttributeError: 'NoneType' object has no attribute '_free_weak_ref'\n",
      "Exception ignored in: <function StorageWeakRef.__del__ at 0x000001F811A21700>\n",
      "Traceback (most recent call last):\n",
      "  File \"C:\\Users\\smhrd\\anaconda3\\envs\\yolov5_test\\lib\\site-packages\\torch\\multiprocessing\\reductions.py\", line 36, in __del__\n",
      "  File \"C:\\Users\\smhrd\\anaconda3\\envs\\yolov5_test\\lib\\site-packages\\torch\\storage.py\", line 520, in _free_weak_ref\n",
      "AttributeError: 'NoneType' object has no attribute '_free_weak_ref'\n",
      "Exception ignored in: <function StorageWeakRef.__del__ at 0x000001F811A21700>\n",
      "Traceback (most recent call last):\n",
      "  File \"C:\\Users\\smhrd\\anaconda3\\envs\\yolov5_test\\lib\\site-packages\\torch\\multiprocessing\\reductions.py\", line 36, in __del__\n",
      "  File \"C:\\Users\\smhrd\\anaconda3\\envs\\yolov5_test\\lib\\site-packages\\torch\\storage.py\", line 520, in _free_weak_ref\n",
      "AttributeError: 'NoneType' object has no attribute '_free_weak_ref'\n",
      "Exception ignored in: <function StorageWeakRef.__del__ at 0x000001F811A21700>\n",
      "Traceback (most recent call last):\n",
      "  File \"C:\\Users\\smhrd\\anaconda3\\envs\\yolov5_test\\lib\\site-packages\\torch\\multiprocessing\\reductions.py\", line 36, in __del__\n",
      "  File \"C:\\Users\\smhrd\\anaconda3\\envs\\yolov5_test\\lib\\site-packages\\torch\\storage.py\", line 520, in _free_weak_ref\n",
      "AttributeError: 'NoneType' object has no attribute '_free_weak_ref'\n",
      "Exception ignored in: <function StorageWeakRef.__del__ at 0x000001F811A21700>\n",
      "Traceback (most recent call last):\n",
      "  File \"C:\\Users\\smhrd\\anaconda3\\envs\\yolov5_test\\lib\\site-packages\\torch\\multiprocessing\\reductions.py\", line 36, in __del__\n",
      "  File \"C:\\Users\\smhrd\\anaconda3\\envs\\yolov5_test\\lib\\site-packages\\torch\\storage.py\", line 520, in _free_weak_ref\n",
      "AttributeError: 'NoneType' object has no attribute '_free_weak_ref'\n",
      "Exception ignored in: <function StorageWeakRef.__del__ at 0x000001F811A21700>\n",
      "Traceback (most recent call last):\n",
      "  File \"C:\\Users\\smhrd\\anaconda3\\envs\\yolov5_test\\lib\\site-packages\\torch\\multiprocessing\\reductions.py\", line 36, in __del__\n",
      "  File \"C:\\Users\\smhrd\\anaconda3\\envs\\yolov5_test\\lib\\site-packages\\torch\\storage.py\", line 520, in _free_weak_ref\n",
      "AttributeError: 'NoneType' object has no attribute '_free_weak_ref'\n"
     ]
    }
   ],
   "source": [
    "!python val.py --data ./data/data.yaml --weights C:/Users/smhrd/yolov5/yolov5/runs/train/test502/weights/best.pt --name test4 --save-txt"
   ]
  },
  {
   "cell_type": "code",
   "execution_count": null,
   "id": "152809e3",
   "metadata": {},
   "outputs": [],
   "source": []
  },
  {
   "cell_type": "code",
   "execution_count": 110,
   "id": "2a5f9d32",
   "metadata": {
    "scrolled": true
   },
   "outputs": [
    {
     "name": "stdout",
     "output_type": "stream",
     "text": [
      "Collecting wandb"
     ]
    },
    {
     "name": "stderr",
     "output_type": "stream",
     "text": [
      "WARNING: Ignore distutils configs in setup.cfg due to encoding errors.\n",
      "  WARNING: Ignore distutils configs in setup.cfg due to encoding errors.\n",
      "  WARNING: Ignore distutils configs in setup.cfg due to encoding errors.\n",
      "  WARNING: Ignore distutils configs in setup.cfg due to encoding errors.\n",
      "  WARNING: Ignore distutils configs in setup.cfg due to encoding errors.\n",
      "  WARNING: Ignore distutils configs in setup.cfg due to encoding errors.\n",
      "  WARNING: Ignore distutils configs in setup.cfg due to encoding errors.\n",
      "  WARNING: Ignore distutils configs in setup.cfg due to encoding errors.\n",
      "  WARNING: Ignore distutils configs in setup.cfg due to encoding errors.\n",
      "  WARNING: Ignore distutils configs in setup.cfg due to encoding errors.\n",
      "  WARNING: Ignore distutils configs in setup.cfg due to encoding errors.\n",
      "  WARNING: Ignore distutils configs in setup.cfg due to encoding errors.\n",
      "  WARNING: Ignore distutils configs in setup.cfg due to encoding errors.\n",
      "WARNING: Ignore distutils configs in setup.cfg due to encoding errors.\n"
     ]
    },
    {
     "name": "stdout",
     "output_type": "stream",
     "text": [
      "\n",
      "  Downloading wandb-0.12.14-py2.py3-none-any.whl (1.8 MB)\n",
      "Collecting Click!=8.0.0,>=7.0\n",
      "  Using cached click-8.1.2-py3-none-any.whl (96 kB)\n",
      "Collecting psutil>=5.0.0\n",
      "  Downloading psutil-5.9.0-cp38-cp38-win_amd64.whl (246 kB)\n",
      "Collecting setproctitle\n",
      "  Downloading setproctitle-1.2.2-cp38-cp38-win_amd64.whl (10 kB)\n",
      "Collecting docker-pycreds>=0.4.0\n",
      "  Downloading docker_pycreds-0.4.0-py2.py3-none-any.whl (9.0 kB)\n",
      "Requirement already satisfied: six>=1.13.0 in c:\\users\\smhrd\\anaconda3\\envs\\yolov5_test\\lib\\site-packages (from wandb) (1.16.0)\n",
      "Requirement already satisfied: protobuf>=3.12.0 in c:\\users\\smhrd\\anaconda3\\envs\\yolov5_test\\lib\\site-packages (from wandb) (3.20.0)\n",
      "Collecting shortuuid>=0.5.0\n",
      "  Downloading shortuuid-1.0.8-py3-none-any.whl (9.5 kB)\n",
      "Collecting pathtools\n",
      "  Downloading pathtools-0.1.2.tar.gz (11 kB)\n",
      "Collecting promise<3,>=2.0\n",
      "  Downloading promise-2.3.tar.gz (19 kB)\n",
      "Collecting GitPython>=1.0.0\n",
      "  Downloading GitPython-3.1.27-py3-none-any.whl (181 kB)\n",
      "Requirement already satisfied: python-dateutil>=2.6.1 in c:\\users\\smhrd\\anaconda3\\envs\\yolov5_test\\lib\\site-packages (from wandb) (2.8.2)\n",
      "Collecting sentry-sdk>=1.0.0\n",
      "  Downloading sentry_sdk-1.5.9-py2.py3-none-any.whl (144 kB)\n",
      "Requirement already satisfied: PyYAML in c:\\users\\smhrd\\anaconda3\\envs\\yolov5_test\\lib\\site-packages (from wandb) (6.0)\n",
      "Requirement already satisfied: requests<3,>=2.0.0 in c:\\users\\smhrd\\anaconda3\\envs\\yolov5_test\\lib\\site-packages (from wandb) (2.27.1)\n",
      "Requirement already satisfied: colorama in c:\\users\\smhrd\\anaconda3\\envs\\yolov5_test\\lib\\site-packages (from Click!=8.0.0,>=7.0->wandb) (0.4.4)\n",
      "Collecting gitdb<5,>=4.0.1\n",
      "  Downloading gitdb-4.0.9-py3-none-any.whl (63 kB)\n",
      "Collecting smmap<6,>=3.0.1\n",
      "  Downloading smmap-5.0.0-py3-none-any.whl (24 kB)\n",
      "Requirement already satisfied: certifi>=2017.4.17 in c:\\users\\smhrd\\anaconda3\\envs\\yolov5_test\\lib\\site-packages (from requests<3,>=2.0.0->wandb) (2021.10.8)\n",
      "Requirement already satisfied: urllib3<1.27,>=1.21.1 in c:\\users\\smhrd\\anaconda3\\envs\\yolov5_test\\lib\\site-packages (from requests<3,>=2.0.0->wandb) (1.26.8)\n",
      "Requirement already satisfied: idna<4,>=2.5 in c:\\users\\smhrd\\anaconda3\\envs\\yolov5_test\\lib\\site-packages (from requests<3,>=2.0.0->wandb) (3.3)\n",
      "Requirement already satisfied: charset-normalizer~=2.0.0 in c:\\users\\smhrd\\anaconda3\\envs\\yolov5_test\\lib\\site-packages (from requests<3,>=2.0.0->wandb) (2.0.4)\n",
      "Building wheels for collected packages: promise, pathtools\n",
      "  Building wheel for promise (setup.py): started\n",
      "  Building wheel for promise (setup.py): finished with status 'done'\n",
      "  Created wheel for promise: filename=promise-2.3-py3-none-any.whl size=21503 sha256=6dff6614c2894edc4646456c90c32f4143a59d2b816f556d8c245e6db2246d69\n",
      "  Stored in directory: c:\\users\\smhrd\\appdata\\local\\pip\\cache\\wheels\\54\\aa\\01\\724885182f93150035a2a91bce34a12877e8067a97baaf5dc8\n",
      "  Building wheel for pathtools (setup.py): started\n",
      "  Building wheel for pathtools (setup.py): finished with status 'done'\n",
      "  Created wheel for pathtools: filename=pathtools-0.1.2-py3-none-any.whl size=8806 sha256=a205000f908a08937eee0387ef8b6ce9fb62d78965f27fd75cc469ba52dbd286\n",
      "  Stored in directory: c:\\users\\smhrd\\appdata\\local\\pip\\cache\\wheels\\4c\\8e\\7e\\72fbc243e1aeecae64a96875432e70d4e92f3d2d18123be004\n",
      "Successfully built promise pathtools\n",
      "Installing collected packages: smmap, gitdb, shortuuid, setproctitle, sentry-sdk, psutil, promise, pathtools, GitPython, docker-pycreds, Click, wandb\n",
      "Successfully installed Click-8.1.2 GitPython-3.1.27 docker-pycreds-0.4.0 gitdb-4.0.9 pathtools-0.1.2 promise-2.3 psutil-5.9.0 sentry-sdk-1.5.9 setproctitle-1.2.2 shortuuid-1.0.8 smmap-5.0.0 wandb-0.12.14\n"
     ]
    }
   ],
   "source": [
    "!pip install wandb"
   ]
  },
  {
   "cell_type": "code",
   "execution_count": 5,
   "id": "5f2d4ea8",
   "metadata": {
    "collapsed": true
   },
   "outputs": [
    {
     "name": "stdout",
     "output_type": "stream",
     "text": [
      "Collecting pymysql\n",
      "  Using cached PyMySQL-1.0.2-py3-none-any.whl (43 kB)\n",
      "Installing collected packages: pymysql\n",
      "Successfully installed pymysql-1.0.2\n"
     ]
    },
    {
     "name": "stderr",
     "output_type": "stream",
     "text": [
      "WARNING: Ignore distutils configs in setup.cfg due to encoding errors.\n",
      "  WARNING: Ignore distutils configs in setup.cfg due to encoding errors.\n",
      "WARNING: Ignore distutils configs in setup.cfg due to encoding errors.\n"
     ]
    }
   ],
   "source": [
    "!pip install pymysql"
   ]
  },
  {
   "cell_type": "code",
   "execution_count": 9,
   "id": "3f0928b5",
   "metadata": {
    "collapsed": true
   },
   "outputs": [
    {
     "name": "stdout",
     "output_type": "stream",
     "text": [
      "Collecting ipywidgets\n",
      "  Downloading ipywidgets-7.7.0-py2.py3-none-any.whl (123 kB)\n",
      "Requirement already satisfied: ipykernel>=4.5.1 in c:\\users\\smhrd\\anaconda3\\envs\\yolov5_test\\lib\\site-packages (from ipywidgets) (6.9.1)\n",
      "Collecting jupyterlab-widgets>=1.0.0\n",
      "  Downloading jupyterlab_widgets-1.1.0-py3-none-any.whl (245 kB)\n",
      "Requirement already satisfied: nbformat>=4.2.0 in c:\\users\\smhrd\\anaconda3\\envs\\yolov5_test\\lib\\site-packages (from ipywidgets) (5.1.3)\n",
      "Requirement already satisfied: ipython-genutils~=0.2.0 in c:\\users\\smhrd\\anaconda3\\envs\\yolov5_test\\lib\\site-packages (from ipywidgets) (0.2.0)\n",
      "Requirement already satisfied: ipython>=4.0.0 in c:\\users\\smhrd\\anaconda3\\envs\\yolov5_test\\lib\\site-packages (from ipywidgets) (8.2.0)\n",
      "Requirement already satisfied: traitlets>=4.3.1 in c:\\users\\smhrd\\anaconda3\\envs\\yolov5_test\\lib\\site-packages (from ipywidgets) (5.1.1)\n",
      "Collecting widgetsnbextension~=3.6.0\n",
      "  Downloading widgetsnbextension-3.6.0-py2.py3-none-any.whl (1.6 MB)\n",
      "Requirement already satisfied: jupyter-client<8.0 in c:\\users\\smhrd\\anaconda3\\envs\\yolov5_test\\lib\\site-packages (from ipykernel>=4.5.1->ipywidgets) (7.1.2)\n",
      "Requirement already satisfied: tornado<7.0,>=4.2 in c:\\users\\smhrd\\anaconda3\\envs\\yolov5_test\\lib\\site-packages (from ipykernel>=4.5.1->ipywidgets) (6.1)\n",
      "Requirement already satisfied: matplotlib-inline<0.2.0,>=0.1.0 in c:\\users\\smhrd\\anaconda3\\envs\\yolov5_test\\lib\\site-packages (from ipykernel>=4.5.1->ipywidgets) (0.1.2)\n",
      "Requirement already satisfied: debugpy<2.0,>=1.0.0 in c:\\users\\smhrd\\anaconda3\\envs\\yolov5_test\\lib\\site-packages (from ipykernel>=4.5.1->ipywidgets) (1.5.1)\n",
      "Requirement already satisfied: nest-asyncio in c:\\users\\smhrd\\anaconda3\\envs\\yolov5_test\\lib\\site-packages (from ipykernel>=4.5.1->ipywidgets) (1.5.1)\n",
      "Requirement already satisfied: pygments>=2.4.0 in c:\\users\\smhrd\\anaconda3\\envs\\yolov5_test\\lib\\site-packages (from ipython>=4.0.0->ipywidgets) (2.11.2)\n",
      "Requirement already satisfied: colorama in c:\\users\\smhrd\\anaconda3\\envs\\yolov5_test\\lib\\site-packages (from ipython>=4.0.0->ipywidgets) (0.4.4)\n",
      "Requirement already satisfied: pickleshare in c:\\users\\smhrd\\anaconda3\\envs\\yolov5_test\\lib\\site-packages (from ipython>=4.0.0->ipywidgets) (0.7.5)\n",
      "Requirement already satisfied: prompt-toolkit!=3.0.0,!=3.0.1,<3.1.0,>=2.0.0 in c:\\users\\smhrd\\anaconda3\\envs\\yolov5_test\\lib\\site-packages (from ipython>=4.0.0->ipywidgets) (3.0.20)\n",
      "Requirement already satisfied: backcall in c:\\users\\smhrd\\anaconda3\\envs\\yolov5_test\\lib\\site-packages (from ipython>=4.0.0->ipywidgets) (0.2.0)\n",
      "Requirement already satisfied: setuptools>=18.5 in c:\\users\\smhrd\\anaconda3\\envs\\yolov5_test\\lib\\site-packages (from ipython>=4.0.0->ipywidgets) (58.0.4)\n",
      "Requirement already satisfied: stack-data in c:\\users\\smhrd\\anaconda3\\envs\\yolov5_test\\lib\\site-packages (from ipython>=4.0.0->ipywidgets) (0.2.0)\n",
      "Requirement already satisfied: decorator in c:\\users\\smhrd\\anaconda3\\envs\\yolov5_test\\lib\\site-packages (from ipython>=4.0.0->ipywidgets) (5.1.1)\n",
      "Requirement already satisfied: jedi>=0.16 in c:\\users\\smhrd\\anaconda3\\envs\\yolov5_test\\lib\\site-packages (from ipython>=4.0.0->ipywidgets) (0.18.1)\n",
      "Requirement already satisfied: parso<0.9.0,>=0.8.0 in c:\\users\\smhrd\\anaconda3\\envs\\yolov5_test\\lib\\site-packages (from jedi>=0.16->ipython>=4.0.0->ipywidgets) (0.8.3)\n",
      "Requirement already satisfied: jupyter-core>=4.6.0 in c:\\users\\smhrd\\anaconda3\\envs\\yolov5_test\\lib\\site-packages (from jupyter-client<8.0->ipykernel>=4.5.1->ipywidgets) (4.9.2)\n",
      "Requirement already satisfied: pyzmq>=13 in c:\\users\\smhrd\\anaconda3\\envs\\yolov5_test\\lib\\site-packages (from jupyter-client<8.0->ipykernel>=4.5.1->ipywidgets) (22.3.0)\n",
      "Requirement already satisfied: entrypoints in c:\\users\\smhrd\\anaconda3\\envs\\yolov5_test\\lib\\site-packages (from jupyter-client<8.0->ipykernel>=4.5.1->ipywidgets) (0.3)\n",
      "Requirement already satisfied: python-dateutil>=2.1 in c:\\users\\smhrd\\anaconda3\\envs\\yolov5_test\\lib\\site-packages (from jupyter-client<8.0->ipykernel>=4.5.1->ipywidgets) (2.8.2)\n",
      "Requirement already satisfied: pywin32>=1.0 in c:\\users\\smhrd\\anaconda3\\envs\\yolov5_test\\lib\\site-packages (from jupyter-core>=4.6.0->jupyter-client<8.0->ipykernel>=4.5.1->ipywidgets) (302)\n",
      "Requirement already satisfied: jsonschema!=2.5.0,>=2.4 in c:\\users\\smhrd\\anaconda3\\envs\\yolov5_test\\lib\\site-packages (from nbformat>=4.2.0->ipywidgets) (3.2.0)\n",
      "Requirement already satisfied: pyrsistent>=0.14.0 in c:\\users\\smhrd\\anaconda3\\envs\\yolov5_test\\lib\\site-packages (from jsonschema!=2.5.0,>=2.4->nbformat>=4.2.0->ipywidgets) (0.18.0)\n",
      "Requirement already satisfied: attrs>=17.4.0 in c:\\users\\smhrd\\anaconda3\\envs\\yolov5_test\\lib\\site-packages (from jsonschema!=2.5.0,>=2.4->nbformat>=4.2.0->ipywidgets) (21.4.0)\n",
      "Requirement already satisfied: six>=1.11.0 in c:\\users\\smhrd\\anaconda3\\envs\\yolov5_test\\lib\\site-packages (from jsonschema!=2.5.0,>=2.4->nbformat>=4.2.0->ipywidgets) (1.16.0)\n",
      "Requirement already satisfied: wcwidth in c:\\users\\smhrd\\anaconda3\\envs\\yolov5_test\\lib\\site-packages (from prompt-toolkit!=3.0.0,!=3.0.1,<3.1.0,>=2.0.0->ipython>=4.0.0->ipywidgets) (0.2.5)\n",
      "Requirement already satisfied: notebook>=4.4.1 in c:\\users\\smhrd\\anaconda3\\envs\\yolov5_test\\lib\\site-packages (from widgetsnbextension~=3.6.0->ipywidgets) (6.4.8)\n",
      "Requirement already satisfied: Send2Trash>=1.8.0 in c:\\users\\smhrd\\anaconda3\\envs\\yolov5_test\\lib\\site-packages (from notebook>=4.4.1->widgetsnbextension~=3.6.0->ipywidgets) (1.8.0)\n",
      "Requirement already satisfied: argon2-cffi in c:\\users\\smhrd\\anaconda3\\envs\\yolov5_test\\lib\\site-packages (from notebook>=4.4.1->widgetsnbextension~=3.6.0->ipywidgets) (21.3.0)\n",
      "Requirement already satisfied: terminado>=0.8.3 in c:\\users\\smhrd\\anaconda3\\envs\\yolov5_test\\lib\\site-packages (from notebook>=4.4.1->widgetsnbextension~=3.6.0->ipywidgets) (0.13.1)\n",
      "Requirement already satisfied: nbconvert in c:\\users\\smhrd\\anaconda3\\envs\\yolov5_test\\lib\\site-packages (from notebook>=4.4.1->widgetsnbextension~=3.6.0->ipywidgets) (6.1.0)\n",
      "Requirement already satisfied: jinja2 in c:\\users\\smhrd\\anaconda3\\envs\\yolov5_test\\lib\\site-packages (from notebook>=4.4.1->widgetsnbextension~=3.6.0->ipywidgets) (3.0.3)\n",
      "Requirement already satisfied: prometheus-client in c:\\users\\smhrd\\anaconda3\\envs\\yolov5_test\\lib\\site-packages (from notebook>=4.4.1->widgetsnbextension~=3.6.0->ipywidgets) (0.13.1)\n",
      "Requirement already satisfied: pywinpty>=1.1.0 in c:\\users\\smhrd\\anaconda3\\envs\\yolov5_test\\lib\\site-packages (from terminado>=0.8.3->notebook>=4.4.1->widgetsnbextension~=3.6.0->ipywidgets) (2.0.2)\n",
      "Requirement already satisfied: argon2-cffi-bindings in c:\\users\\smhrd\\anaconda3\\envs\\yolov5_test\\lib\\site-packages (from argon2-cffi->notebook>=4.4.1->widgetsnbextension~=3.6.0->ipywidgets) (21.2.0)\n",
      "Requirement already satisfied: cffi>=1.0.1 in c:\\users\\smhrd\\anaconda3\\envs\\yolov5_test\\lib\\site-packages (from argon2-cffi-bindings->argon2-cffi->notebook>=4.4.1->widgetsnbextension~=3.6.0->ipywidgets) (1.15.0)\n",
      "Requirement already satisfied: pycparser in c:\\users\\smhrd\\anaconda3\\envs\\yolov5_test\\lib\\site-packages (from cffi>=1.0.1->argon2-cffi-bindings->argon2-cffi->notebook>=4.4.1->widgetsnbextension~=3.6.0->ipywidgets) (2.21)\n",
      "Requirement already satisfied: MarkupSafe>=2.0 in c:\\users\\smhrd\\anaconda3\\envs\\yolov5_test\\lib\\site-packages (from jinja2->notebook>=4.4.1->widgetsnbextension~=3.6.0->ipywidgets) (2.0.1)\n",
      "Requirement already satisfied: pandocfilters>=1.4.1 in c:\\users\\smhrd\\anaconda3\\envs\\yolov5_test\\lib\\site-packages (from nbconvert->notebook>=4.4.1->widgetsnbextension~=3.6.0->ipywidgets) (1.5.0)\n",
      "Requirement already satisfied: mistune<2,>=0.8.1 in c:\\users\\smhrd\\anaconda3\\envs\\yolov5_test\\lib\\site-packages (from nbconvert->notebook>=4.4.1->widgetsnbextension~=3.6.0->ipywidgets) (0.8.4)\n",
      "Requirement already satisfied: nbclient<0.6.0,>=0.5.0 in c:\\users\\smhrd\\anaconda3\\envs\\yolov5_test\\lib\\site-packages (from nbconvert->notebook>=4.4.1->widgetsnbextension~=3.6.0->ipywidgets) (0.5.11)\n",
      "Requirement already satisfied: jupyterlab-pygments in c:\\users\\smhrd\\anaconda3\\envs\\yolov5_test\\lib\\site-packages (from nbconvert->notebook>=4.4.1->widgetsnbextension~=3.6.0->ipywidgets) (0.1.2)\n",
      "Requirement already satisfied: testpath in c:\\users\\smhrd\\anaconda3\\envs\\yolov5_test\\lib\\site-packages (from nbconvert->notebook>=4.4.1->widgetsnbextension~=3.6.0->ipywidgets) (0.5.0)\n",
      "Requirement already satisfied: defusedxml in c:\\users\\smhrd\\anaconda3\\envs\\yolov5_test\\lib\\site-packages (from nbconvert->notebook>=4.4.1->widgetsnbextension~=3.6.0->ipywidgets) (0.7.1)\n",
      "Requirement already satisfied: bleach in c:\\users\\smhrd\\anaconda3\\envs\\yolov5_test\\lib\\site-packages (from nbconvert->notebook>=4.4.1->widgetsnbextension~=3.6.0->ipywidgets) (4.1.0)\n",
      "Requirement already satisfied: webencodings in c:\\users\\smhrd\\anaconda3\\envs\\yolov5_test\\lib\\site-packages (from bleach->nbconvert->notebook>=4.4.1->widgetsnbextension~=3.6.0->ipywidgets) (0.5.1)\n",
      "Requirement already satisfied: packaging in c:\\users\\smhrd\\anaconda3\\envs\\yolov5_test\\lib\\site-packages (from bleach->nbconvert->notebook>=4.4.1->widgetsnbextension~=3.6.0->ipywidgets) (21.3)\n",
      "Requirement already satisfied: pyparsing!=3.0.5,>=2.0.2 in c:\\users\\smhrd\\anaconda3\\envs\\yolov5_test\\lib\\site-packages (from packaging->bleach->nbconvert->notebook>=4.4.1->widgetsnbextension~=3.6.0->ipywidgets) (3.0.4)\n",
      "Requirement already satisfied: asttokens in c:\\users\\smhrd\\anaconda3\\envs\\yolov5_test\\lib\\site-packages (from stack-data->ipython>=4.0.0->ipywidgets) (2.0.5)\n",
      "Requirement already satisfied: executing in c:\\users\\smhrd\\anaconda3\\envs\\yolov5_test\\lib\\site-packages (from stack-data->ipython>=4.0.0->ipywidgets) (0.8.3)\n",
      "Requirement already satisfied: pure-eval in c:\\users\\smhrd\\anaconda3\\envs\\yolov5_test\\lib\\site-packages (from stack-data->ipython>=4.0.0->ipywidgets) (0.2.2)\n",
      "Installing collected packages: widgetsnbextension, jupyterlab-widgets, ipywidgets\n",
      "Successfully installed ipywidgets-7.7.0 jupyterlab-widgets-1.1.0 widgetsnbextension-3.6.0\n"
     ]
    }
   ],
   "source": [
    "!pip install ipywidgets"
   ]
  },
  {
   "cell_type": "markdown",
   "id": "03903404",
   "metadata": {},
   "source": [
    "# 플라스크에서 실행 ( Yolov5_test 환경 )"
   ]
  },
  {
   "cell_type": "markdown",
   "id": "7775bd76",
   "metadata": {},
   "source": [
    "## 함수화"
   ]
  },
  {
   "cell_type": "code",
   "execution_count": null,
   "id": "562e7c84",
   "metadata": {},
   "outputs": [],
   "source": [
    "cd yolov5"
   ]
  },
  {
   "cell_type": "code",
   "execution_count": 5,
   "id": "47de9f18",
   "metadata": {},
   "outputs": [],
   "source": [
    "import os\n",
    "import torch\n",
    "import pymysql"
   ]
  },
  {
   "cell_type": "code",
   "execution_count": 11,
   "id": "afd241f5",
   "metadata": {},
   "outputs": [],
   "source": [
    "def flaskAll() :\n",
    "    # Yolov5 자료 위치\n",
    "    path = 'C:/eGovFrame-3.10.0/workspace.edu/SpringMVC/src/main/webapp/resources'\n",
    "    # 사용자 아이디와 날짜\n",
    "    userId = \"jongin\"\n",
    "    userDate = \"2022-04-13\"\n",
    "    inform = userId + '_' + userDate\n",
    "    \n",
    "    beforePath = path + '/files/' + inform\n",
    "    afterPath = path + '/results/'\n",
    "    # 예측\n",
    "    # project : 파일 저장경로 -> '' 쓰면 안됨\n",
    "    # name : 저장하는 폴더 이름\n",
    "    !python detect.py --source $beforePath --weights C:/Users/smhrd/yolov5/yolov5/runs/train/test502/weights/best.pt --save-txt --project $afterPath --name $inform\n",
    "\n",
    "    # 결과 저장 확인\n",
    "    file_list = os.listdir(afterPath + inform)\n",
    "    print(\"file_list : \", file_list)\n",
    "    \n",
    "    # 이미지 파일 정보 DB 저장\n",
    "    for i in range(len(file_list)) :\n",
    "        print(\"DB저장 시작\")\n",
    "        if file_list[i] != 'labels' : \n",
    "            # 결과 이미지 경로와 이름 컬럼에 저장\n",
    "            db = pymysql.connect(host = 'localhost', port = 3306 , user='root' ,\n",
    "                                 passwd='12345' , db='mysql' , charset ='utf8')\n",
    "            cursor = db.cursor()\n",
    "            # 경로 컬럼 저장\n",
    "            sql = \"\"\"INSERT INTO images2(image_path, image_date, image_name, user_id) VALUES(%s,%s,%s,%s)\"\"\"\n",
    "            cursor.execute(sql, (afterPath , userDate, file_list[i], userId))\n",
    "            # 파일 이름 컬럼 저장\n",
    "            #sql = \"\"\"INSERT INTO images2(image_data) VALUES(%s)\"\"\"\n",
    "            #cursor.execute(sql, (file_list[i]))\n",
    "            db.commit()\n",
    "            print(\"for문 내부\")\n",
    "            print(file_list[i])\n",
    "            db.close()\n",
    "    print(\"DB저장 끝\")\n",
    "    \n",
    "    return \"완료\""
   ]
  },
  {
   "cell_type": "code",
   "execution_count": 12,
   "id": "090f5325",
   "metadata": {
    "collapsed": true
   },
   "outputs": [
    {
     "name": "stdout",
     "output_type": "stream",
     "text": [
      "file_list :  ['labels', 'V006_79_1_15_07_03_13_2_3248bb_20201120_13.jpg', 'V006_79_1_15_07_03_13_2_3248bb_20201120_49.jpg', 'V006_79_1_15_07_03_13_2_3248bb_20201120_67.jpg', 'V006_79_1_15_07_03_13_2_3248bb_20201126_71.jpg']\n",
      "DB저장 시작\n",
      "DB저장 시작\n",
      "for문 내부\n",
      "V006_79_1_15_07_03_13_2_3248bb_20201120_13.jpg\n",
      "DB저장 시작\n",
      "for문 내부\n",
      "V006_79_1_15_07_03_13_2_3248bb_20201120_49.jpg\n",
      "DB저장 시작\n",
      "for문 내부\n",
      "V006_79_1_15_07_03_13_2_3248bb_20201120_67.jpg\n",
      "DB저장 시작\n",
      "for문 내부\n",
      "V006_79_1_15_07_03_13_2_3248bb_20201126_71.jpg\n",
      "DB저장 끝\n"
     ]
    },
    {
     "name": "stderr",
     "output_type": "stream",
     "text": [
      "\u001b[34m\u001b[1mdetect: \u001b[0mweights=['C:/Users/smhrd/yolov5/yolov5/runs/train/test502/weights/best.pt'], source=C:/eGovFrame-3.10.0/workspace.edu/SpringMVC/src/main/webapp/resources/files/jongin_2022-04-13, data=data\\coco128.yaml, imgsz=[640, 640], conf_thres=0.25, iou_thres=0.45, max_det=1000, device=, view_img=False, save_txt=True, save_conf=False, save_crop=False, nosave=False, classes=None, agnostic_nms=False, augment=False, visualize=False, update=False, project=C:/eGovFrame-3.10.0/workspace.edu/SpringMVC/src/main/webapp/resources/results/, name=jongin_2022-04-13, exist_ok=False, line_thickness=3, hide_labels=False, hide_conf=False, half=False, dnn=False\n",
      "YOLOv5  v6.1-127-gfa569cd torch 1.11.0 CUDA:0 (NVIDIA GeForce RTX 2070, 8192MiB)\n",
      "\n",
      "Fusing layers... \n",
      "YOLOv5s summary: 213 layers, 7018216 parameters, 0 gradients, 15.8 GFLOPs\n",
      "image 1/4 C:\\eGovFrame-3.10.0\\workspace.edu\\SpringMVC\\src\\main\\webapp\\resources\\files\\jongin_2022-04-13\\V006_79_1_15_07_03_13_2_3248bb_20201120_13.jpg: 640x480 1 1, 4 2s, Done. (0.013s)\n",
      "image 2/4 C:\\eGovFrame-3.10.0\\workspace.edu\\SpringMVC\\src\\main\\webapp\\resources\\files\\jongin_2022-04-13\\V006_79_1_15_07_03_13_2_3248bb_20201120_49.jpg: 640x480 1 0, 19 1s, 6 2s, Done. (0.008s)\n",
      "image 3/4 C:\\eGovFrame-3.10.0\\workspace.edu\\SpringMVC\\src\\main\\webapp\\resources\\files\\jongin_2022-04-13\\V006_79_1_15_07_03_13_2_3248bb_20201120_67.jpg: 640x480 4 0s, 1 1, 6 2s, Done. (0.009s)\n",
      "image 4/4 C:\\eGovFrame-3.10.0\\workspace.edu\\SpringMVC\\src\\main\\webapp\\resources\\files\\jongin_2022-04-13\\V006_79_1_15_07_03_13_2_3248bb_20201126_71.jpg: 640x480 1 0, 12 1s, 11 2s, Done. (0.009s)\n",
      "Speed: 0.5ms pre-process, 9.7ms inference, 2.0ms NMS per image at shape (1, 3, 640, 640)\n",
      "Results saved to \u001b[1mC:\\eGovFrame-3.10.0\\workspace.edu\\SpringMVC\\src\\main\\webapp\\resources\\results\\jongin_2022-04-13\u001b[0m\n",
      "4 labels saved to C:\\eGovFrame-3.10.0\\workspace.edu\\SpringMVC\\src\\main\\webapp\\resources\\results\\jongin_2022-04-13\\labels\n"
     ]
    },
    {
     "data": {
      "text/plain": [
       "'완료'"
      ]
     },
     "execution_count": 12,
     "metadata": {},
     "output_type": "execute_result"
    }
   ],
   "source": [
    "flaskAll()"
   ]
  },
  {
   "cell_type": "markdown",
   "id": "e1170244",
   "metadata": {},
   "source": [
    "## 플라스크 연동 ( 실제 모델 )"
   ]
  },
  {
   "cell_type": "code",
   "execution_count": 18,
   "id": "9fbbdf2c",
   "metadata": {
    "collapsed": true
   },
   "outputs": [
    {
     "name": "stderr",
     "output_type": "stream",
     "text": [
      "WARNING: Ignore distutils configs in setup.cfg due to encoding errors.\n",
      "WARNING: Ignore distutils configs in setup.cfg due to encoding errors.\n"
     ]
    },
    {
     "name": "stdout",
     "output_type": "stream",
     "text": [
      "Requirement already satisfied: flask in c:\\users\\smhrd\\anaconda3\\envs\\yolov5_test\\lib\\site-packages (2.1.1)\n",
      "Requirement already satisfied: Jinja2>=3.0 in c:\\users\\smhrd\\anaconda3\\envs\\yolov5_test\\lib\\site-packages (from flask) (3.0.3)\n",
      "Requirement already satisfied: importlib-metadata>=3.6.0 in c:\\users\\smhrd\\anaconda3\\envs\\yolov5_test\\lib\\site-packages (from flask) (4.11.3)\n",
      "Requirement already satisfied: click>=8.0 in c:\\users\\smhrd\\anaconda3\\envs\\yolov5_test\\lib\\site-packages (from flask) (8.1.2)\n",
      "Requirement already satisfied: itsdangerous>=2.0 in c:\\users\\smhrd\\anaconda3\\envs\\yolov5_test\\lib\\site-packages (from flask) (2.1.2)\n",
      "Requirement already satisfied: Werkzeug>=2.0 in c:\\users\\smhrd\\anaconda3\\envs\\yolov5_test\\lib\\site-packages (from flask) (2.1.1)\n",
      "Requirement already satisfied: colorama in c:\\users\\smhrd\\anaconda3\\envs\\yolov5_test\\lib\\site-packages (from click>=8.0->flask) (0.4.4)\n",
      "Requirement already satisfied: zipp>=0.5 in c:\\users\\smhrd\\anaconda3\\envs\\yolov5_test\\lib\\site-packages (from importlib-metadata>=3.6.0->flask) (3.7.0)\n",
      "Requirement already satisfied: MarkupSafe>=2.0 in c:\\users\\smhrd\\anaconda3\\envs\\yolov5_test\\lib\\site-packages (from Jinja2>=3.0->flask) (2.0.1)\n"
     ]
    }
   ],
   "source": [
    "!pip install flask"
   ]
  },
  {
   "cell_type": "code",
   "execution_count": 19,
   "id": "961b24cf",
   "metadata": {},
   "outputs": [],
   "source": [
    "import pymysql\n",
    "from PIL import Image\n",
    "import base64\n",
    "from io import BytesIO\n",
    "import time"
   ]
  },
  {
   "cell_type": "code",
   "execution_count": 23,
   "id": "dcbf3b2a",
   "metadata": {},
   "outputs": [
    {
     "name": "stdout",
     "output_type": "stream",
     "text": [
      " * Serving Flask app '__main__' (lazy loading)\n",
      " * Environment: production\n",
      "\u001b[31m   WARNING: This is a development server. Do not use it in a production deployment.\u001b[0m\n",
      "\u001b[2m   Use a production WSGI server instead.\u001b[0m\n",
      " * Debug mode: off\n"
     ]
    },
    {
     "name": "stderr",
     "output_type": "stream",
     "text": [
      " * Running on http://127.0.0.1:9000 (Press CTRL+C to quit)\n",
      "\u001b[34m\u001b[1mdetect: \u001b[0mweights=['C:/Users/smhrd/yolov5/yolov5/runs/train/test502/weights/best.pt'], source=C:/eGovFrame-3.10.0/workspace.edu/SpringMVC/src/main/webapp/resources/files/jongin_2022-04-13, data=data\\coco128.yaml, imgsz=[640, 640], conf_thres=0.25, iou_thres=0.45, max_det=1000, device=, view_img=False, save_txt=True, save_conf=False, save_crop=False, nosave=False, classes=None, agnostic_nms=False, augment=False, visualize=False, update=False, project=C:/eGovFrame-3.10.0/workspace.edu/SpringMVC/src/main/webapp/resources/results/, name=jongin_2022-04-13, exist_ok=False, line_thickness=3, hide_labels=False, hide_conf=False, half=False, dnn=False\n",
      "YOLOv5  v6.1-127-gfa569cd torch 1.11.0 CUDA:0 (NVIDIA GeForce RTX 2070, 8192MiB)\n",
      "\n",
      "Fusing layers... \n",
      "YOLOv5s summary: 213 layers, 7018216 parameters, 0 gradients, 15.8 GFLOPs\n",
      "image 1/4 C:\\eGovFrame-3.10.0\\workspace.edu\\SpringMVC\\src\\main\\webapp\\resources\\files\\jongin_2022-04-13\\V006_79_1_15_07_03_13_2_3248bb_20201120_13.jpg: 640x480 1 1, 4 2s, Done. (0.014s)\n",
      "image 2/4 C:\\eGovFrame-3.10.0\\workspace.edu\\SpringMVC\\src\\main\\webapp\\resources\\files\\jongin_2022-04-13\\V006_79_1_15_07_03_13_2_3248bb_20201120_49.jpg: 640x480 1 0, 19 1s, 6 2s, Done. (0.008s)\n",
      "image 3/4 C:\\eGovFrame-3.10.0\\workspace.edu\\SpringMVC\\src\\main\\webapp\\resources\\files\\jongin_2022-04-13\\V006_79_1_15_07_03_13_2_3248bb_20201120_67.jpg: 640x480 4 0s, 1 1, 6 2s, Done. (0.010s)\n",
      "image 4/4 C:\\eGovFrame-3.10.0\\workspace.edu\\SpringMVC\\src\\main\\webapp\\resources\\files\\jongin_2022-04-13\\V006_79_1_15_07_03_13_2_3248bb_20201126_71.jpg: 640x480 1 0, 12 1s, 11 2s, Done. (0.008s)\n",
      "Speed: 0.5ms pre-process, 10.0ms inference, 2.0ms NMS per image at shape (1, 3, 640, 640)\n",
      "Results saved to \u001b[1mC:\\eGovFrame-3.10.0\\workspace.edu\\SpringMVC\\src\\main\\webapp\\resources\\results\\jongin_2022-04-13\u001b[0m\n",
      "4 labels saved to C:\\eGovFrame-3.10.0\\workspace.edu\\SpringMVC\\src\\main\\webapp\\resources\\results\\jongin_2022-04-13\\labels\n",
      "127.0.0.1 - - [13/Apr/2022 17:20:25] \"POST /asd HTTP/1.1\" 302 -\n"
     ]
    },
    {
     "name": "stdout",
     "output_type": "stream",
     "text": [
      "file_list :  ['labels', 'V006_79_1_15_07_03_13_2_3248bb_20201120_13.jpg', 'V006_79_1_15_07_03_13_2_3248bb_20201120_49.jpg', 'V006_79_1_15_07_03_13_2_3248bb_20201120_67.jpg', 'V006_79_1_15_07_03_13_2_3248bb_20201126_71.jpg']\n",
      "DB저장 시작\n",
      "DB저장 시작\n",
      "for문 내부\n",
      "V006_79_1_15_07_03_13_2_3248bb_20201120_13.jpg\n",
      "DB저장 시작\n",
      "for문 내부\n",
      "V006_79_1_15_07_03_13_2_3248bb_20201120_49.jpg\n",
      "DB저장 시작\n",
      "for문 내부\n",
      "V006_79_1_15_07_03_13_2_3248bb_20201120_67.jpg\n",
      "DB저장 시작\n",
      "for문 내부\n",
      "V006_79_1_15_07_03_13_2_3248bb_20201126_71.jpg\n",
      "DB저장 끝\n",
      "성공\n"
     ]
    }
   ],
   "source": [
    "from flask import Flask\n",
    "from flask import redirect\n",
    "\n",
    "app = Flask(__name__) \n",
    "\n",
    "@app.route('/asd' , methods = ['POST'])\n",
    "def index():\n",
    "    result = flaskAll()\n",
    "    \n",
    "    if result == \"완료\" :\n",
    "        print(\"성공\")\n",
    "        return redirect(\"http://localhost:8081/web/printImg.do\")\n",
    "    else :\n",
    "        print(\"실패\")\n",
    "        return \"다시해\"\n",
    "\n",
    "if __name__ == '__main__':\n",
    "    app.run(host='127.0.0.1', port='9000')"
   ]
  },
  {
   "cell_type": "code",
   "execution_count": null,
   "id": "3ef69306",
   "metadata": {},
   "outputs": [],
   "source": []
  },
  {
   "cell_type": "code",
   "execution_count": null,
   "id": "aedb149a",
   "metadata": {},
   "outputs": [],
   "source": []
  },
  {
   "cell_type": "code",
   "execution_count": null,
   "id": "d0b4ada3",
   "metadata": {},
   "outputs": [],
   "source": []
  },
  {
   "cell_type": "code",
   "execution_count": null,
   "id": "58db1779",
   "metadata": {},
   "outputs": [],
   "source": []
  },
  {
   "cell_type": "code",
   "execution_count": null,
   "id": "d373b07d",
   "metadata": {},
   "outputs": [],
   "source": []
  },
  {
   "cell_type": "code",
   "execution_count": null,
   "id": "828fa263",
   "metadata": {},
   "outputs": [],
   "source": []
  },
  {
   "cell_type": "code",
   "execution_count": null,
   "id": "7c04bcf8",
   "metadata": {},
   "outputs": [],
   "source": []
  },
  {
   "cell_type": "markdown",
   "id": "38aeedfa",
   "metadata": {},
   "source": [
    "# 비고"
   ]
  },
  {
   "cell_type": "code",
   "execution_count": 13,
   "id": "e5ca0a29",
   "metadata": {},
   "outputs": [
    {
     "data": {
      "text/plain": [
       "(('jongin', '2022-04-13'),)"
      ]
     },
     "execution_count": 13,
     "metadata": {},
     "output_type": "execute_result"
    }
   ],
   "source": [
    "# 유저 정보와 날짜 데이터\n",
    "db = pymysql.connect(host = 'localhost', port = 3306 , user='root' ,\n",
    "                     passwd='12345' , db='mysql' , charset ='utf8')\n",
    "cursor = db.cursor()\n",
    "sql = \"\"\"SELECT * FROM f_member where apply_date = %s\"\"\"\n",
    "cursor.execute(sql, (\"2022-04-13\"))\n",
    "result = cursor.fetchall()\n",
    "db.close()\n",
    "\n",
    "result"
   ]
  },
  {
   "cell_type": "code",
   "execution_count": null,
   "id": "b2d0673d",
   "metadata": {},
   "outputs": [],
   "source": [
    "# 해당 이미지 폴더 원하는 이름으로 변경\n",
    "    path = 'C:/eGovFrame-3.10.0/workspace.edu/SpringMVC/src/main/webapp/resources/results' # 결과가 저장된 곳 = / results 로 변경할 곳\n",
    "    file_list = os.listdir(path)\n",
    "    print(\"file_list : \", file_list)\n",
    "\n",
    "    before = path + '/' +'exp'\n",
    "    after = path + '/' + inform\n",
    "\n",
    "    for i in file_list :\n",
    "        if i == 'exp' :\n",
    "            print(\"i\", i)\n",
    "            print(\"inform\" , inform)\n",
    "            os.rename(before, after)\n",
    "            print(i)"
   ]
  },
  {
   "cell_type": "code",
   "execution_count": null,
   "id": "0d680d75",
   "metadata": {},
   "outputs": [],
   "source": [
    "# det 파일 내부 삭제\n",
    "    path = 'C:/Users/smhrd/yolov5/yolov5/det' # 결과가 저장된 곳 = / results 로 변경할 곳\n",
    "    file_list = os.listdir(path)\n",
    "    print(\"det file_list : \", file_list)\n",
    "    \n",
    "    for i in file_list :\n",
    "        print('삭제')\n",
    "        img = path + '/' + i\n",
    "        os.remove(img)"
   ]
  },
  {
   "cell_type": "code",
   "execution_count": 43,
   "id": "c604cca3",
   "metadata": {},
   "outputs": [
    {
     "data": {
      "text/plain": [
       "'jongin_2022-04-12-1'"
      ]
     },
     "execution_count": 43,
     "metadata": {},
     "output_type": "execute_result"
    }
   ],
   "source": [
    "userId = \"jongin\"\n",
    "userDate = \"2022-04-12-1\"\n",
    "inform = userId + \"_\" + userDate\n",
    "inform"
   ]
  },
  {
   "cell_type": "code",
   "execution_count": 58,
   "id": "5973c392",
   "metadata": {},
   "outputs": [
    {
     "name": "stdout",
     "output_type": "stream",
     "text": [
      "file_list :  ['exp']\n",
      "i exp\n",
      "inform jongin_2022-04-12-1\n",
      "exp\n",
      "file_list :  ['jongin_2022-04-12-1']\n"
     ]
    }
   ],
   "source": [
    "# 폴더 이름 변경\n",
    "path = 'C:/Users/smhrd/yolov5/yolov5/runs/flaskAll'\n",
    "file_list = os.listdir(path)\n",
    "print(\"file_list : \", file_list)\n",
    "\n",
    "before = path + '/' +'exp'\n",
    "after = path + '/' + inform\n",
    "\n",
    "for i in file_list :\n",
    "    if i == 'exp' :\n",
    "        print(\"i\", i)\n",
    "        print(\"inform\" , inform)\n",
    "        os.rename(before, after)\n",
    "        print(i)\n",
    "\n",
    "path = 'C:/Users/smhrd/yolov5/yolov5/runs/flaskAll'\n",
    "file_list = os.listdir(path)\n",
    "print(\"file_list : \", file_list)"
   ]
  },
  {
   "cell_type": "code",
   "execution_count": 21,
   "id": "7a4a7315",
   "metadata": {
    "collapsed": true
   },
   "outputs": [
    {
     "name": "stderr",
     "output_type": "stream",
     "text": [
      "\u001b[34m\u001b[1mdetect: \u001b[0mweights=['C:/Users/smhrd/yolov5/yolov5/runs/train/test502/weights/best.pt'], source=./det/, data=data\\coco128.yaml, imgsz=[640, 640], conf_thres=0.25, iou_thres=0.45, max_det=1000, device=, view_img=False, save_txt=True, save_conf=False, save_crop=False, nosave=False, classes=None, agnostic_nms=False, augment=False, visualize=False, update=False, project=C:/Users/smhrd/yolov5/yolov5/runs/flaskAll, name='info', exist_ok=False, line_thickness=3, hide_labels=False, hide_conf=False, half=False, dnn=False\n",
      "YOLOv5  v6.1-127-gfa569cd torch 1.11.0 CUDA:0 (NVIDIA GeForce RTX 2070, 8192MiB)\n",
      "\n",
      "Fusing layers... \n",
      "YOLOv5s summary: 213 layers, 7018216 parameters, 0 gradients, 15.8 GFLOPs\n",
      "image 1/66 C:\\Users\\smhrd\\yolov5\\yolov5\\det\\V006_79_1_15_07_03_12_2_8540w_20201124_105.jpg: 640x480 7 1s, 15 2s, Done. (0.015s)\n",
      "image 2/66 C:\\Users\\smhrd\\yolov5\\yolov5\\det\\V006_79_1_15_07_03_12_2_8540w_20201124_123.jpg: 640x480 18 1s, 3 2s, Done. (0.016s)\n",
      "image 3/66 C:\\Users\\smhrd\\yolov5\\yolov5\\det\\V006_79_1_15_07_03_12_2_8540w_20201124_195.jpg: 480x640 18 1s, 14 2s, Done. (0.014s)\n",
      "image 4/66 C:\\Users\\smhrd\\yolov5\\yolov5\\det\\V006_79_1_15_07_03_12_2_8540w_20201125_70.jpg: 640x480 11 1s, 4 2s, Done. (0.010s)\n",
      "image 5/66 C:\\Users\\smhrd\\yolov5\\yolov5\\det\\V006_79_1_15_07_03_12_2_8540w_20201126_107.jpg: 640x480 10 1s, 11 2s, Done. (0.009s)\n",
      "image 6/66 C:\\Users\\smhrd\\yolov5\\yolov5\\det\\V006_79_1_15_07_03_12_2_8540w_20201126_53.jpg: 640x480 1 0, 2 1s, 4 2s, Done. (0.009s)\n",
      "image 7/66 C:\\Users\\smhrd\\yolov5\\yolov5\\det\\V006_79_1_15_07_03_12_2_8540w_20201126_89.jpg: 480x640 6 1s, 4 2s, Done. (0.010s)\n",
      "image 8/66 C:\\Users\\smhrd\\yolov5\\yolov5\\det\\V006_79_1_15_07_03_12_2_8540w_20201127_36.jpg: 640x480 8 1s, 5 2s, Done. (0.010s)\n",
      "image 9/66 C:\\Users\\smhrd\\yolov5\\yolov5\\det\\V006_79_1_15_07_03_12_2_8540w_20201127_72.jpg: 640x480 23 1s, 17 2s, Done. (0.009s)\n",
      "image 10/66 C:\\Users\\smhrd\\yolov5\\yolov5\\det\\V006_79_1_15_07_03_12_2_8540w_20201127_90.jpg: 640x480 10 1s, 2 2s, Done. (0.009s)\n",
      "image 11/66 C:\\Users\\smhrd\\yolov5\\yolov5\\det\\V006_79_1_15_07_03_12_3_3248bb_20201125_52.jpg: 640x480 19 1s, 24 2s, Done. (0.009s)\n",
      "image 12/66 C:\\Users\\smhrd\\yolov5\\yolov5\\det\\V006_79_1_15_07_03_12_3_8540w_20201104_127.jpg: 640x480 1 0, 16 1s, 11 2s, Done. (0.008s)\n",
      "image 13/66 C:\\Users\\smhrd\\yolov5\\yolov5\\det\\V006_79_1_15_07_03_12_3_8540w_20201104_133.jpg: 640x480 21 1s, 16 2s, Done. (0.009s)\n",
      "image 14/66 C:\\Users\\smhrd\\yolov5\\yolov5\\det\\V006_79_1_15_07_03_12_3_8540w_20201104_199.jpg: 480x640 11 1s, 15 2s, Done. (0.009s)\n",
      "image 15/66 C:\\Users\\smhrd\\yolov5\\yolov5\\det\\V006_79_1_15_07_03_12_3_8540w_20201105_164.jpg: 640x480 36 1s, 26 2s, Done. (0.009s)\n",
      "image 16/66 C:\\Users\\smhrd\\yolov5\\yolov5\\det\\V006_79_1_15_07_03_12_3_8540w_20201106_15.jpg: 640x480 12 1s, 8 2s, Done. (0.008s)\n",
      "image 17/66 C:\\Users\\smhrd\\yolov5\\yolov5\\det\\V006_79_1_15_07_03_12_3_8540w_20201106_165.jpg: 640x480 49 1s, 25 2s, Done. (0.009s)\n",
      "image 18/66 C:\\Users\\smhrd\\yolov5\\yolov5\\det\\V006_79_1_15_07_03_12_3_8540w_20201106_201.jpg: 480x640 22 1s, 21 2s, Done. (0.009s)\n",
      "image 19/66 C:\\Users\\smhrd\\yolov5\\yolov5\\det\\V006_79_1_15_07_03_12_3_8540w_20201109_144.jpg: 640x480 21 1s, 14 2s, Done. (0.010s)\n",
      "image 20/66 C:\\Users\\smhrd\\yolov5\\yolov5\\det\\V006_79_1_15_07_03_12_3_8540w_20201109_16.jpg: 640x480 14 1s, 10 2s, Done. (0.009s)\n",
      "image 21/66 C:\\Users\\smhrd\\yolov5\\yolov5\\det\\V006_79_1_15_07_03_12_3_8540w_20201109_166.jpg: 640x480 20 1s, 11 2s, Done. (0.001s)\n",
      "image 22/66 C:\\Users\\smhrd\\yolov5\\yolov5\\det\\V006_79_1_15_07_03_12_3_8540w_20201110_155.jpg: 640x480 28 1s, 13 2s, Done. (0.016s)\n",
      "image 23/66 C:\\Users\\smhrd\\yolov5\\yolov5\\det\\V006_79_1_15_07_03_12_3_8540w_20201110_203.jpg: 480x640 34 1s, 21 2s, Done. (0.000s)\n",
      "image 24/66 C:\\Users\\smhrd\\yolov5\\yolov5\\det\\V006_79_1_15_07_03_12_3_8540w_20201111_114.jpg: 640x480 2 1s, 10 2s, Done. (0.009s)\n",
      "image 25/66 C:\\Users\\smhrd\\yolov5\\yolov5\\det\\V006_79_1_15_07_03_12_3_8540w_20201111_157.jpg: 480x640 33 1s, 15 2s, Done. (0.010s)\n",
      "image 26/66 C:\\Users\\smhrd\\yolov5\\yolov5\\det\\V006_79_1_15_07_03_12_3_8540w_20201111_158.jpg: 640x480 4 1s, 11 2s, Done. (0.011s)\n",
      "image 27/66 C:\\Users\\smhrd\\yolov5\\yolov5\\det\\V006_79_1_15_07_03_12_3_8540w_20201111_204.jpg: 480x640 14 1s, 9 2s, Done. (0.009s)\n",
      "image 28/66 C:\\Users\\smhrd\\yolov5\\yolov5\\det\\V006_79_1_15_07_03_12_3_8540w_20201112_115.jpg: 640x480 6 1s, 14 2s, Done. (0.009s)\n",
      "image 29/66 C:\\Users\\smhrd\\yolov5\\yolov5\\det\\V006_79_1_15_07_03_12_3_8540w_20201112_169.jpg: 640x480 20 1s, 6 2s, Done. (0.009s)\n",
      "image 30/66 C:\\Users\\smhrd\\yolov5\\yolov5\\det\\V006_79_1_15_07_03_12_3_8540w_20201112_43.jpg: 640x480 5 1s, 7 2s, Done. (0.009s)\n",
      "image 31/66 C:\\Users\\smhrd\\yolov5\\yolov5\\det\\V006_79_1_15_07_03_12_3_8540w_20201113_170.jpg: 640x480 13 1s, 6 2s, Done. (0.009s)\n",
      "image 32/66 C:\\Users\\smhrd\\yolov5\\yolov5\\det\\V006_79_1_15_07_03_12_3_8540w_20201113_206.jpg: 480x640 18 1s, 20 2s, Done. (0.011s)\n",
      "image 33/66 C:\\Users\\smhrd\\yolov5\\yolov5\\det\\V006_79_1_15_07_03_12_3_8540w_20201113_44.jpg: 640x480 5 1s, 8 2s, Done. (0.009s)\n",
      "image 34/66 C:\\Users\\smhrd\\yolov5\\yolov5\\det\\V006_79_1_15_07_03_12_3_8540w_20201116_160.jpg: 640x480 27 1s, 19 2s, Done. (0.021s)\n",
      "image 35/66 C:\\Users\\smhrd\\yolov5\\yolov5\\det\\V006_79_1_15_07_03_12_3_8540w_20201116_161.jpg: 640x480 15 1s, 13 2s, Done. (0.025s)\n",
      "image 36/66 C:\\Users\\smhrd\\yolov5\\yolov5\\det\\V006_79_1_15_07_03_12_3_8540w_20201116_171.jpg: 640x480 9 1s, 6 2s, Done. (0.020s)\n",
      "image 37/66 C:\\Users\\smhrd\\yolov5\\yolov5\\det\\V006_79_1_15_07_03_12_3_8540w_20201116_63.jpg: 640x480 10 1s, 4 2s, Done. (0.020s)\n",
      "image 38/66 C:\\Users\\smhrd\\yolov5\\yolov5\\det\\V006_79_1_15_07_03_12_3_8540w_20201117_208.jpg: 480x640 5 1s, 9 2s, Done. (0.016s)\n",
      "image 39/66 C:\\Users\\smhrd\\yolov5\\yolov5\\det\\V006_79_1_15_07_03_12_3_8540w_20201118_47.jpg: 640x480 5 1s, 4 2s, Done. (0.027s)\n",
      "image 40/66 C:\\Users\\smhrd\\yolov5\\yolov5\\det\\V006_79_1_15_07_03_12_3_8540w_20201119_192.jpg: 480x640 6 1s, 12 2s, Done. (0.024s)\n",
      "image 41/66 C:\\Users\\smhrd\\yolov5\\yolov5\\det\\V006_79_1_15_07_03_12_3_8540w_20201119_210.jpg: 480x640 2 1s, 5 2s, Done. (0.044s)\n",
      "image 42/66 C:\\Users\\smhrd\\yolov5\\yolov5\\det\\V006_79_1_15_07_03_12_3_8540w_20201119_66.jpg: 640x480 18 1s, 13 2s, Done. (0.055s)\n",
      "image 43/66 C:\\Users\\smhrd\\yolov5\\yolov5\\det\\V006_79_1_15_07_03_12_3_8540w_20201120_193.jpg: 480x640 8 1s, 18 2s, Done. (0.045s)\n",
      "image 44/66 C:\\Users\\smhrd\\yolov5\\yolov5\\det\\V006_79_1_15_07_03_13_1_3248bb_20201104_1.jpg: 480x640 4 1s, 13 2s, Done. (0.054s)\n",
      "image 45/66 C:\\Users\\smhrd\\yolov5\\yolov5\\det\\V006_79_1_15_07_03_13_1_3248bb_20201113_44.jpg: 640x480 10 1s, 19 2s, Done. (0.047s)\n",
      "image 46/66 C:\\Users\\smhrd\\yolov5\\yolov5\\det\\V006_79_1_15_07_03_13_1_3248bb_20201116_9.jpg: 640x480 1 1, 3 2s, Done. (0.047s)\n",
      "image 47/66 C:\\Users\\smhrd\\yolov5\\yolov5\\det\\V006_79_1_15_07_03_13_1_3248bb_20201117_10.jpg: 480x640 3 1s, 22 2s, Done. (0.060s)\n",
      "image 48/66 C:\\Users\\smhrd\\yolov5\\yolov5\\det\\V006_79_1_15_07_03_13_1_3248bb_20201117_281.jpg: 640x480 8 2s, Done. (0.051s)\n",
      "image 49/66 C:\\Users\\smhrd\\yolov5\\yolov5\\det\\V006_79_1_15_07_03_13_1_3248bb_20201118_11.jpg: 480x640 3 2s, Done. (0.058s)\n",
      "image 50/66 C:\\Users\\smhrd\\yolov5\\yolov5\\det\\V006_79_1_15_07_03_13_1_3248bb_20201123_68.jpg: 640x480 2 0s, 2 1s, 5 2s, Done. (0.069s)\n",
      "image 51/66 C:\\Users\\smhrd\\yolov5\\yolov5\\det\\V006_79_1_15_07_03_13_1_3248bb_20201124_51.jpg: 640x480 1 0, 7 2s, Done. (0.066s)\n",
      "image 52/66 C:\\Users\\smhrd\\yolov5\\yolov5\\det\\V006_79_1_15_07_03_13_2_3248bb_20201104_73.jpg: 640x480 13 1s, 7 2s, Done. (0.042s)\n",
      "image 53/66 C:\\Users\\smhrd\\yolov5\\yolov5\\det\\V006_79_1_15_07_03_13_2_3248bb_20201109_22.jpg: 480x640 2 1s, 7 2s, Done. (0.040s)\n",
      "image 54/66 C:\\Users\\smhrd\\yolov5\\yolov5\\det\\V006_79_1_15_07_03_13_2_3248bb_20201111_24.jpg: 640x480 3 1s, 5 2s, Done. (0.045s)\n",
      "image 55/66 C:\\Users\\smhrd\\yolov5\\yolov5\\det\\V006_79_1_15_07_03_13_2_3248bb_20201111_6.jpg: 640x480 1 1, 2 2s, Done. (0.051s)\n",
      "image 56/66 C:\\Users\\smhrd\\yolov5\\yolov5\\det\\V006_79_1_15_07_03_13_2_3248bb_20201112_7.jpg: 480x640 5 1s, 3 2s, Done. (0.019s)\n",
      "image 57/66 C:\\Users\\smhrd\\yolov5\\yolov5\\det\\V006_79_1_15_07_03_13_2_3248bb_20201114_2.jpeg: 480x640 1 1, 4 2s, Done. (0.041s)\n",
      "image 58/66 C:\\Users\\smhrd\\yolov5\\yolov5\\det\\V006_79_1_15_07_03_13_2_3248bb_20201116_27.jpg: 480x640 13 1s, 18 2s, Done. (0.051s)\n",
      "image 59/66 C:\\Users\\smhrd\\yolov5\\yolov5\\det\\V006_79_1_15_07_03_13_2_3248bb_20201116_63.jpg: 640x480 7 1s, 5 2s, Done. (0.043s)\n",
      "image 60/66 C:\\Users\\smhrd\\yolov5\\yolov5\\det\\V006_79_1_15_07_03_13_2_3248bb_20201119_12.jpg: 640x480 1 1, 6 2s, Done. (0.041s)\n",
      "image 61/66 C:\\Users\\smhrd\\yolov5\\yolov5\\det\\V006_79_1_15_07_03_13_2_3248bb_20201119_30.jpg: 480x640 10 1s, 18 2s, Done. (0.020s)\n",
      "image 62/66 C:\\Users\\smhrd\\yolov5\\yolov5\\det\\V006_79_1_15_07_03_13_2_3248bb_20201119_48.jpg: 640x480 2 1s, 9 2s, Done. (0.018s)\n",
      "image 63/66 C:\\Users\\smhrd\\yolov5\\yolov5\\det\\V006_79_1_15_07_03_13_2_3248bb_20201120_13.jpg: 640x480 1 1, 4 2s, Done. (0.021s)\n",
      "image 64/66 C:\\Users\\smhrd\\yolov5\\yolov5\\det\\V006_79_1_15_07_03_13_2_3248bb_20201120_49.jpg: 640x480 1 0, 19 1s, 6 2s, Done. (0.022s)\n",
      "image 65/66 C:\\Users\\smhrd\\yolov5\\yolov5\\det\\V006_79_1_15_07_03_13_2_3248bb_20201120_67.jpg: 640x480 4 0s, 1 1, 6 2s, Done. (0.019s)\n",
      "image 66/66 C:\\Users\\smhrd\\yolov5\\yolov5\\det\\V006_79_1_15_07_03_13_2_3248bb_20201126_71.jpg: 640x480 1 0, 12 1s, 11 2s, Done. (0.018s)\n",
      "Speed: 1.2ms pre-process, 23.4ms inference, 1.7ms NMS per image at shape (1, 3, 640, 640)\n",
      "Results saved to \u001b[1mC:\\Users\\smhrd\\yolov5\\yolov5\\runs\\flaskAll\\'info'\u001b[0m\n",
      "66 labels saved to C:\\Users\\smhrd\\yolov5\\yolov5\\runs\\flaskAll\\'info'\\labels\n"
     ]
    }
   ],
   "source": [
    "!python detect.py --source ./det/ --weights C:/Users/smhrd/yolov5/yolov5/runs/train/test502/weights/best.pt --save-txt --project C:/Users/smhrd/yolov5/yolov5/runs/flaskAll --name 'info'"
   ]
  }
 ],
 "metadata": {
  "kernelspec": {
   "display_name": "Python 3 (ipykernel)",
   "language": "python",
   "name": "python3"
  },
  "language_info": {
   "codemirror_mode": {
    "name": "ipython",
    "version": 3
   },
   "file_extension": ".py",
   "mimetype": "text/x-python",
   "name": "python",
   "nbconvert_exporter": "python",
   "pygments_lexer": "ipython3",
   "version": "3.9.7"
  },
  "toc": {
   "base_numbering": 1,
   "nav_menu": {},
   "number_sections": true,
   "sideBar": true,
   "skip_h1_title": false,
   "title_cell": "Table of Contents",
   "title_sidebar": "Contents",
   "toc_cell": false,
   "toc_position": {},
   "toc_section_display": true,
   "toc_window_display": false
  }
 },
 "nbformat": 4,
 "nbformat_minor": 5
}
