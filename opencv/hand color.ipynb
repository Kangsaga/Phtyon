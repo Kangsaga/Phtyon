{
 "cells": [
  {
   "cell_type": "code",
   "execution_count": 1,
   "id": "474214d6",
   "metadata": {},
   "outputs": [
    {
     "name": "stdout",
     "output_type": "stream",
     "text": [
      "Color Information\n",
      "{'cluster_index': 4,\n",
      " 'color': [165.63683818045945, 97.09563758389208, 81.9546979865791],\n",
      " 'color_percentage': 0.29975013881177126}\n",
      "\n",
      "{'cluster_index': 2,\n",
      " 'color': [144.2269639268952, 80.45383216916855, 69.35384173763347],\n",
      " 'color_percentage': 0.2878956135480289}\n",
      "\n",
      "{'cluster_index': 3,\n",
      " 'color': [177.90949302483887, 123.85539299081117, 108.12470227968788],\n",
      " 'color_percentage': 0.1641588006662965}\n",
      "\n",
      "{'cluster_index': 1,\n",
      " 'color': [116.11789562645224, 56.146207479400076, 47.651595182759394],\n",
      " 'color_percentage': 0.1308717379233759}\n",
      "\n",
      "{'cluster_index': 0,\n",
      " 'color': [144.03687943262412, 98.19078014184282, 92.80709219858238],\n",
      " 'color_percentage': 0.11732370905052748}\n",
      "\n",
      "Color Bar\n"
     ]
    },
    {
     "data": {
      "image/png": "[encoded data removed]",
      "text/plain": [
       "<Figure size 432x288 with 3 Axes>"
      ]
     },
     "metadata": {
      "needs_background": "light"
     },
     "output_type": "display_data"
    }
   ],
   "source": [
    "import numpy as np\n",
    "import cv2\n",
    "from sklearn.cluster import KMeans\n",
    "from collections import Counter\n",
    "import imutils\n",
    "import pprint\n",
    "from matplotlib import pyplot as plt\n",
    "\n",
    "\n",
    "def extractSkin(image):\n",
    "    # Taking a copy of the image\n",
    "    img = image.copy()\n",
    "    # Converting from BGR Colours Space to HSV\n",
    "    img = cv2.cvtColor(img, cv2.COLOR_BGR2HSV)\n",
    "\n",
    "    # Defining HSV Threadholds\n",
    "    lower_threshold = np.array([0, 48, 80], dtype=np.uint8)\n",
    "    upper_threshold = np.array([20, 255, 255], dtype=np.uint8)\n",
    "\n",
    "    # Single Channel mask,denoting presence of colours in the about threshold\n",
    "    skinMask = cv2.inRange(img, lower_threshold, upper_threshold)\n",
    "\n",
    "    # Cleaning up mask using Gaussian Filter\n",
    "    skinMask = cv2.GaussianBlur(skinMask, (3, 3), 0)\n",
    "\n",
    "    # Extracting skin from the threshold mask\n",
    "    skin = cv2.bitwise_and(img, img, mask=skinMask)\n",
    "\n",
    "    # Return the Skin image\n",
    "    return cv2.cvtColor(skin, cv2.COLOR_HSV2BGR)\n",
    "\n",
    "\n",
    "def removeBlack(estimator_labels, estimator_cluster):\n",
    "\n",
    "    # Check for black\n",
    "    hasBlack = False\n",
    "\n",
    "    # Get the total number of occurance for each color\n",
    "    occurance_counter = Counter(estimator_labels)\n",
    "\n",
    "    # Quick lambda function to compare to lists\n",
    "    def compare(x, y): return Counter(x) == Counter(y)\n",
    "\n",
    "    # Loop through the most common occuring color\n",
    "    for x in occurance_counter.most_common(len(estimator_cluster)):\n",
    "\n",
    "        # Quick List comprehension to convert each of RBG Numbers to int\n",
    "        color = [int(i) for i in estimator_cluster[x[0]].tolist()]\n",
    "\n",
    "        # Check if the color is [0,0,0] that if it is black\n",
    "        if compare(color, [0, 0, 0]) == True:\n",
    "            # delete the occurance\n",
    "            del occurance_counter[x[0]]\n",
    "            # remove the cluster\n",
    "            hasBlack = True\n",
    "            estimator_cluster = np.delete(estimator_cluster, x[0], 0)\n",
    "            break\n",
    "\n",
    "    return (occurance_counter, estimator_cluster, hasBlack)\n",
    "\n",
    "\n",
    "def getColorInformation(estimator_labels, estimator_cluster, hasThresholding=False):\n",
    "\n",
    "    # Variable to keep count of the occurance of each color predicted\n",
    "    occurance_counter = None\n",
    "\n",
    "    # Output list variable to return\n",
    "    colorInformation = []\n",
    "\n",
    "    # Check for Black\n",
    "    hasBlack = False\n",
    "\n",
    "    # If a mask has be applied, remove th black\n",
    "    if hasThresholding == True:\n",
    "\n",
    "        (occurance, cluster, black) = removeBlack(\n",
    "            estimator_labels, estimator_cluster)\n",
    "        occurance_counter = occurance\n",
    "        estimator_cluster = cluster\n",
    "        hasBlack = black\n",
    "\n",
    "    else:\n",
    "        occurance_counter = Counter(estimator_labels)\n",
    "\n",
    "    # Get the total sum of all the predicted occurances\n",
    "    totalOccurance = sum(occurance_counter.values())\n",
    "\n",
    "    # Loop through all the predicted colors\n",
    "    for x in occurance_counter.most_common(len(estimator_cluster)):\n",
    "\n",
    "        index = (int(x[0]))\n",
    "\n",
    "        # Quick fix for index out of bound when there is no threshold\n",
    "        index = (index-1) if ((hasThresholding & hasBlack)\n",
    "                              & (int(index) != 0)) else index\n",
    "\n",
    "        # Get the color number into a list\n",
    "        color = estimator_cluster[index].tolist()\n",
    "\n",
    "        # Get the percentage of each color\n",
    "        color_percentage = (x[1]/totalOccurance)\n",
    "\n",
    "        # make the dictionay of the information\n",
    "        colorInfo = {\"cluster_index\": index, \"color\": color,\n",
    "                     \"color_percentage\": color_percentage}\n",
    "\n",
    "        # Add the dictionary to the list\n",
    "        colorInformation.append(colorInfo)\n",
    "\n",
    "    return colorInformation\n",
    "\n",
    "\n",
    "def extractDominantColor(image, number_of_colors=5, hasThresholding=False):\n",
    "\n",
    "    # Quick Fix Increase cluster counter to neglect the black(Read Article)\n",
    "    if hasThresholding == True:\n",
    "        number_of_colors += 1\n",
    "\n",
    "    # Taking Copy of the image\n",
    "    img = image.copy()\n",
    "\n",
    "    # Convert Image into RGB Colours Space\n",
    "    img = cv2.cvtColor(img, cv2.COLOR_BGR2RGB)\n",
    "\n",
    "    # Reshape Image\n",
    "    img = img.reshape((img.shape[0]*img.shape[1]), 3)\n",
    "\n",
    "    # Initiate KMeans Object\n",
    "    estimator = KMeans(n_clusters=number_of_colors, random_state=0)\n",
    "\n",
    "    # Fit the image\n",
    "    estimator.fit(img)\n",
    "\n",
    "    # Get Colour Information\n",
    "    colorInformation = getColorInformation(\n",
    "        estimator.labels_, estimator.cluster_centers_, hasThresholding)\n",
    "    return colorInformation\n",
    "\n",
    "\n",
    "def plotColorBar(colorInformation):\n",
    "    # Create a 500x100 black image\n",
    "    color_bar = np.zeros((100, 500, 3), dtype=\"uint8\")\n",
    "\n",
    "    top_x = 0\n",
    "    for x in colorInformation:\n",
    "        bottom_x = top_x + (x[\"color_percentage\"] * color_bar.shape[1])\n",
    "\n",
    "        color = tuple(map(int, (x['color'])))\n",
    "\n",
    "        cv2.rectangle(color_bar, (int(top_x), 0),\n",
    "                      (int(bottom_x), color_bar.shape[0]), color, -1)\n",
    "        top_x = bottom_x\n",
    "    return color_bar\n",
    "\n",
    "\n",
    "\"\"\"## Section Two.4.2 : Putting it All together: Pretty Print\n",
    "The function makes print out the color information in a readable manner\n",
    "\"\"\"\n",
    "\n",
    "\n",
    "def prety_print_data(color_info):\n",
    "    for x in color_info:\n",
    "        print(pprint.pformat(x))\n",
    "        print()\n",
    "\n",
    "\n",
    "\"\"\"\n",
    "The below lines of code, is the implementation of the above defined function.\n",
    "\"\"\"\n",
    "\n",
    "'''\n",
    "Skin Image Primary : https://raw.githubusercontent.com/octalpixel/Skin-Extraction-from-Image-and-Finding-Dominant-Color/master/82764696-open-palm-hand-gesture-of-male-hand_image_from_123rf.com.jpg\n",
    "Skin Image One     : https://raw.githubusercontent.com/octalpixel/Skin-Extraction-from-Image-and-Finding-Dominant-Color/master/skin.jpg\n",
    "Skin Image Two     : https://raw.githubusercontent.com/octalpixel/Skin-Extraction-from-Image-and-Finding-Dominant-Color/master/skin_2.jpg\n",
    "Skin Image Three   : https://raw.githubusercontent.com/octalpixel/Skin-Extraction-from-Image-and-Finding-Dominant-Color/master/Human-Hands-Front-Back-Image-From-Wikipedia.jpg\n",
    "'''\n",
    "\n",
    "\n",
    "# Get Image from URL. If you want to upload an image file and use that comment the below code and replace with  image=cv2.imread(\"FILE_NAME\")\n",
    "image = cv2.imread(\"./img/233.jpg\")\n",
    "   \n",
    "\n",
    "# Resize image to a width of 250\n",
    "image = imutils.resize(image, width=250)\n",
    "\n",
    "# Show image\n",
    "plt.subplot(3, 1, 1)\n",
    "plt.imshow(cv2.cvtColor(image, cv2.COLOR_BGR2RGB))\n",
    "plt.title(\"Original Image\")\n",
    "# plt.show()\n",
    "\n",
    "# Apply Skin Mask\n",
    "skin = extractSkin(image)\n",
    "\n",
    "plt.subplot(3, 1, 2)\n",
    "plt.imshow(cv2.cvtColor(skin, cv2.COLOR_BGR2RGB))\n",
    "plt.title(\"Thresholded  Image\")\n",
    "# plt.show()\n",
    "\n",
    "# Find the dominant color. Default is 1 , pass the parameter 'number_of_colors=N' where N is the specified number of colors\n",
    "dominantColors = extractDominantColor(skin, hasThresholding=True)\n",
    "\n",
    "# Show in the dominant color information\n",
    "print(\"Color Information\")\n",
    "prety_print_data(dominantColors)\n",
    "\n",
    "# Show in the dominant color as bar\n",
    "print(\"Color Bar\")\n",
    "colour_bar = plotColorBar(dominantColors)\n",
    "plt.subplot(3, 1, 3)\n",
    "plt.axis(\"off\")\n",
    "plt.imshow(colour_bar)\n",
    "plt.title(\"Color Bar\")\n",
    "\n",
    "plt.tight_layout()\n",
    "plt.show()"
   ]
  },
  {
   "cell_type": "code",
   "execution_count": 22,
   "id": "f161cd84",
   "metadata": {},
   "outputs": [],
   "source": [
    "r = dominantColors[1]['color'][0]\n",
    "g = dominantColors[1]['color'][1]\n",
    "b = dominantColors[1]['color'][2]\n",
    "r1 = dominantColors[2]['color'][0]\n",
    "g1 = dominantColors[2]['color'][1]\n",
    "b1 = dominantColors[2]['color'][2]\n"
   ]
  },
  {
   "cell_type": "code",
   "execution_count": 23,
   "id": "e31268b1",
   "metadata": {},
   "outputs": [
    {
     "data": {
      "text/plain": [
       "(207.83601799448928, 147.95080539834464, 132.5536206646351)"
      ]
     },
     "execution_count": 23,
     "metadata": {},
     "output_type": "execute_result"
    }
   ],
   "source": [
    "r,g,b"
   ]
  },
  {
   "cell_type": "code",
   "execution_count": 25,
   "id": "f54318c8",
   "metadata": {},
   "outputs": [],
   "source": [
    "import cv2\n",
    "import numpy as np\n",
    "\n",
    "img = cv2.imread(\"img/362.jpg\")\n",
    "cv2.imshow('Original', img)\n",
    "\n",
    "hsv = cv2.cvtColor(img, cv2.COLOR_BGR2RGB)\n",
    "\n",
    "lower = np.array([r, g, b])\n",
    "upper = np.array([r1, g1, b1])\n",
    "\n",
    "mask = cv2.inRange(hsv, lower, upper)\n",
    "img2 = cv2.bitwise_and(img, img, mask=mask)\n",
    "\n",
    "cv2.imshow('Extract Color', img2)\n",
    "\n",
    "k = cv2.waitKey(0)\n",
    "cv2.destroyAllWindows()"
   ]
  },
  {
   "cell_type": "code",
   "execution_count": 26,
   "id": "2b930d3b",
   "metadata": {},
   "outputs": [
    {
     "data": {
      "text/plain": [
       "<function destroyAllWindows>"
      ]
     },
     "execution_count": 26,
     "metadata": {},
     "output_type": "execute_result"
    }
   ],
   "source": [
    "handSkin = skin.copy()\n",
    "cv2.imshow('handSkin', handSkin)\n",
    "k = cv2.waitKey(0)\n",
    "cv2.destroyAllWindows"
   ]
  },
  {
   "cell_type": "code",
   "execution_count": 27,
   "id": "430f674e",
   "metadata": {},
   "outputs": [
    {
     "data": {
      "text/plain": [
       "147.95080539834464"
      ]
     },
     "execution_count": 27,
     "metadata": {},
     "output_type": "execute_result"
    }
   ],
   "source": [
    "dominantColors[1]['color'][1]"
   ]
  },
  {
   "cell_type": "code",
   "execution_count": 28,
   "id": "eb3a7256",
   "metadata": {},
   "outputs": [
    {
     "data": {
      "text/plain": [
       "5"
      ]
     },
     "execution_count": 28,
     "metadata": {},
     "output_type": "execute_result"
    }
   ],
   "source": [
    "len(dominantColors)"
   ]
  },
  {
   "cell_type": "code",
   "execution_count": 2,
   "id": "1e411238",
   "metadata": {},
   "outputs": [
    {
     "name": "stdout",
     "output_type": "stream",
     "text": [
      "165.63683818045945\n",
      "144.2269639268952\n",
      "177.90949302483887\n",
      "116.11789562645224\n",
      "144.03687943262412\n"
     ]
    }
   ],
   "source": [
    "lowColor = []\n",
    "for i in dominantColors:\n",
    "    print(i['color'][0])\n",
    "    lowColor.append(i['color'][0])"
   ]
  },
  {
   "cell_type": "code",
   "execution_count": 3,
   "id": "864f96bd",
   "metadata": {},
   "outputs": [
    {
     "name": "stdout",
     "output_type": "stream",
     "text": [
      "97.09563758389208\n",
      "80.45383216916855\n",
      "123.85539299081117\n",
      "56.146207479400076\n",
      "98.19078014184282\n"
     ]
    }
   ],
   "source": [
    "lowColor2 = []\n",
    "for i in dominantColors:\n",
    "    print(i['color'][1])\n",
    "    lowColor2.append(i['color'][1])"
   ]
  },
  {
   "cell_type": "code",
   "execution_count": 4,
   "id": "be9f9521",
   "metadata": {},
   "outputs": [
    {
     "name": "stdout",
     "output_type": "stream",
     "text": [
      "81.9546979865791\n",
      "69.35384173763347\n",
      "108.12470227968788\n",
      "47.651595182759394\n",
      "92.80709219858238\n"
     ]
    }
   ],
   "source": [
    "lowColor3 = []\n",
    "for i in dominantColors:\n",
    "    print(i['color'][2])\n",
    "    lowColor3.append(i['color'][2])"
   ]
  },
  {
   "cell_type": "code",
   "execution_count": 5,
   "id": "b0a8c2c2",
   "metadata": {},
   "outputs": [],
   "source": [
    "lowColor3.sort()"
   ]
  },
  {
   "cell_type": "code",
   "execution_count": 6,
   "id": "ff182411",
   "metadata": {},
   "outputs": [],
   "source": [
    "lowColor2.sort()"
   ]
  },
  {
   "cell_type": "code",
   "execution_count": 7,
   "id": "ef1e60fc",
   "metadata": {},
   "outputs": [],
   "source": [
    "lowColor.sort()"
   ]
  },
  {
   "cell_type": "code",
   "execution_count": 35,
   "id": "8c80833f",
   "metadata": {},
   "outputs": [
    {
     "data": {
      "text/plain": [
       "108.337775499743"
      ]
     },
     "execution_count": 35,
     "metadata": {},
     "output_type": "execute_result"
    }
   ],
   "source": [
    "lowColor2[0]"
   ]
  },
  {
   "cell_type": "code",
   "execution_count": 36,
   "id": "edc3572d",
   "metadata": {},
   "outputs": [
    {
     "data": {
      "text/plain": [
       "229.79764107308344"
      ]
     },
     "execution_count": 36,
     "metadata": {},
     "output_type": "execute_result"
    }
   ],
   "source": [
    "lowColor[-1]"
   ]
  },
  {
   "cell_type": "code",
   "execution_count": 10,
   "id": "b3be5c18",
   "metadata": {},
   "outputs": [],
   "source": [
    "import cv2\n",
    "import numpy as np\n",
    "\n",
    "img = cv2.imread(\"img/233.jpg\")\n",
    "cv2.imshow('Original', img)\n",
    "\n",
    "hsv = cv2.cvtColor(img, cv2.COLOR_BGR2RGB)\n",
    "\n",
    "lower = np.array([lowColor[0], lowColor2[0], lowColor3[0]])\n",
    "upper = np.array([lowColor[-1], lowColor2[-1], lowColor3[-1]])\n",
    "\n",
    "mask = cv2.inRange(hsv, lower, upper)\n",
    "img2 = cv2.bitwise_and(img, img, mask=mask)\n",
    "\n",
    "cv2.imshow('Extract Color', img2)\n",
    "\n",
    "k = cv2.waitKey(0)\n",
    "cv2.destroyAllWindows()"
   ]
  },
  {
   "cell_type": "code",
   "execution_count": 39,
   "id": "571756e9",
   "metadata": {},
   "outputs": [
    {
     "name": "stdout",
     "output_type": "stream",
     "text": [
      "otsu's threshold: 0.0\n"
     ]
    }
   ],
   "source": [
    "img2 = cv2.cvtColor(img2, cv2.COLOR_BGR2GRAY)\n",
    "th, dst = cv2.threshold(img2, 0, 255, cv2.THRESH_BINARY | cv2.THRESH_OTSU)\n",
    "print(\"otsu's threshold:\", th)  # 131\n",
    "\n",
    "cv2.imshow('src', img2)\n",
    "cv2.imshow('dst', dst)\n",
    "cv2.waitKey()\n",
    "cv2.destroyAllWindows()"
   ]
  },
  {
   "cell_type": "code",
   "execution_count": null,
   "id": "ce3e2ba5",
   "metadata": {},
   "outputs": [],
   "source": []
  }
 ],
 "metadata": {
  "kernelspec": {
   "display_name": "Python 3 (ipykernel)",
   "language": "python",
   "name": "python3"
  },
  "language_info": {
   "codemirror_mode": {
    "name": "ipython",
    "version": 3
   },
   "file_extension": ".py",
   "mimetype": "text/x-python",
   "name": "python",
   "nbconvert_exporter": "python",
   "pygments_lexer": "ipython3",
   "version": "3.9.7"
  },
  "toc": {
   "base_numbering": 1,
   "nav_menu": {},
   "number_sections": true,
   "sideBar": true,
   "skip_h1_title": false,
   "title_cell": "Table of Contents",
   "title_sidebar": "Contents",
   "toc_cell": false,
   "toc_position": {},
   "toc_section_display": true,
   "toc_window_display": false
  }
 },
 "nbformat": 4,
 "nbformat_minor": 5
}
