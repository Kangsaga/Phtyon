{
 "cells": [
  {
   "cell_type": "code",
   "execution_count": 3,
   "id": "0aca7dde",
   "metadata": {
    "collapsed": true
   },
   "outputs": [
    {
     "name": "stdout",
     "output_type": "stream",
     "text": [
      "Collecting mediapipe\n",
      "  Using cached mediapipe-0.8.9.1-cp39-cp39-win_amd64.whl (48.5 MB)\n",
      "Collecting opencv-contrib-python\n",
      "  Using cached opencv_contrib_python-4.5.5.64-cp36-abi3-win_amd64.whl (42.2 MB)\n",
      "Collecting absl-py\n",
      "  Using cached absl_py-1.0.0-py3-none-any.whl (126 kB)\n",
      "Requirement already satisfied: protobuf>=3.11.4 in c:\\users\\smhrd\\anaconda3\\lib\\site-packages (from mediapipe) (3.19.1)\n",
      "Requirement already satisfied: matplotlib in c:\\users\\smhrd\\anaconda3\\lib\\site-packages (from mediapipe) (3.4.3)\n",
      "Requirement already satisfied: numpy in c:\\users\\smhrd\\anaconda3\\lib\\site-packages (from mediapipe) (1.20.3)\n",
      "Requirement already satisfied: attrs>=19.1.0 in c:\\users\\smhrd\\anaconda3\\lib\\site-packages (from mediapipe) (21.2.0)\n",
      "Requirement already satisfied: six in c:\\users\\smhrd\\anaconda3\\lib\\site-packages (from absl-py->mediapipe) (1.16.0)\n",
      "Requirement already satisfied: cycler>=0.10 in c:\\users\\smhrd\\anaconda3\\lib\\site-packages (from matplotlib->mediapipe) (0.10.0)\n",
      "Requirement already satisfied: pillow>=6.2.0 in c:\\users\\smhrd\\anaconda3\\lib\\site-packages (from matplotlib->mediapipe) (8.4.0)\n",
      "Requirement already satisfied: kiwisolver>=1.0.1 in c:\\users\\smhrd\\anaconda3\\lib\\site-packages (from matplotlib->mediapipe) (1.3.1)\n",
      "Requirement already satisfied: pyparsing>=2.2.1 in c:\\users\\smhrd\\anaconda3\\lib\\site-packages (from matplotlib->mediapipe) (3.0.4)\n",
      "Requirement already satisfied: python-dateutil>=2.7 in c:\\users\\smhrd\\anaconda3\\lib\\site-packages (from matplotlib->mediapipe) (2.8.2)\n",
      "Installing collected packages: opencv-contrib-python, absl-py, mediapipe\n",
      "Successfully installed absl-py-1.0.0 mediapipe-0.8.9.1 opencv-contrib-python-4.5.5.64\n"
     ]
    }
   ],
   "source": [
    "!pip install mediapipe"
   ]
  },
  {
   "cell_type": "code",
   "execution_count": 12,
   "id": "b5f2d7bf",
   "metadata": {},
   "outputs": [],
   "source": [
    "import math"
   ]
  },
  {
   "cell_type": "code",
   "execution_count": 15,
   "id": "18e3e1bb",
   "metadata": {},
   "outputs": [],
   "source": [
    "import cv2\n",
    "import mediapipe as mp\n",
    "mp_drawing = mp.solutions.drawing_utils\n",
    "mp_drawing_styles = mp.solutions.drawing_styles\n",
    "mp_hands = mp.solutions.hands\n",
    "\n",
    "# For static images:\n",
    "IMAGE_FILES = []\n",
    "with mp_hands.Hands(\n",
    "    static_image_mode=True,\n",
    "    max_num_hands=2,\n",
    "    min_detection_confidence=0.5) as hands:\n",
    "    for idx, file in enumerate(IMAGE_FILES):\n",
    "    # Read an image, flip it around y-axis for correct handedness output (see\n",
    "    # above).\n",
    "        image = cv2.flip(cv2.imread('./img/0.jpg'), 1)\n",
    "    # Convert the BGR image to RGB before processing.\n",
    "        results = hands.process(cv2.cvtColor(image, cv2.COLOR_BGR2RGB))\n",
    "\n",
    "    # Print handedness and draw hand landmarks on the image.\n",
    "        print('Handedness:', results.multi_handedness)\n",
    "        if not results.multi_hand_landmarks:\n",
    "            continue\n",
    "        image_height, image_width, _ = image.shape\n",
    "        annotated_image = image.copy()\n",
    "        for hand_landmarks in results.multi_hand_landmarks:\n",
    "            print('hand_landmarks:', hand_landmarks)\n",
    "            print(\n",
    "              f'Index finger tip coordinates: (',\n",
    "              f'{hand_landmarks.landmark[mp_hands.HandLandmark.INDEX_FINGER_TIP].x * image_width}, '\n",
    "              f'{hand_landmarks.landmark[mp_hands.HandLandmark.INDEX_FINGER_TIP].y * image_height})'\n",
    "          )\n",
    "            mp_drawing.draw_landmarks(\n",
    "              annotated_image,\n",
    "              hand_landmarks,\n",
    "              mp_hands.HAND_CONNECTIONS,\n",
    "              mp_drawing_styles.get_default_hand_landmarks_style(),\n",
    "              mp_drawing_styles.get_default_hand_connections_style())\n",
    "        cv2.imwrite(\n",
    "            './img/수정' + str(idx) + '.png', cv2.flip(annotated_image, 1))\n",
    "        # Draw hand world landmarks.\n",
    "        if not results.multi_hand_world_landmarks:\n",
    "            continue\n",
    "        for hand_world_landmarks in results.multi_hand_world_landmarks:\n",
    "            mp_drawing.plot_landmarks(\n",
    "            hand_world_landmarks, mp_hands.HAND_CONNECTIONS, azimuth=5)\n"
   ]
  },
  {
   "cell_type": "code",
   "execution_count": 1,
   "id": "a91881f5",
   "metadata": {},
   "outputs": [
    {
     "ename": "ModuleNotFoundError",
     "evalue": "No module named 'mediapipe'",
     "output_type": "error",
     "traceback": [
      "\u001b[1;31m---------------------------------------------------------------------------\u001b[0m",
      "\u001b[1;31mModuleNotFoundError\u001b[0m                       Traceback (most recent call last)",
      "\u001b[1;32m~\\AppData\\Local\\Temp\\ipykernel_7748\\3333663311.py\u001b[0m in \u001b[0;36m<module>\u001b[1;34m\u001b[0m\n\u001b[0;32m      1\u001b[0m \u001b[1;32mimport\u001b[0m \u001b[0mcv2\u001b[0m\u001b[1;33m\u001b[0m\u001b[1;33m\u001b[0m\u001b[0m\n\u001b[1;32m----> 2\u001b[1;33m \u001b[1;32mimport\u001b[0m \u001b[0mmediapipe\u001b[0m\u001b[1;33m\u001b[0m\u001b[1;33m\u001b[0m\u001b[0m\n\u001b[0m\u001b[0;32m      3\u001b[0m \u001b[1;33m\u001b[0m\u001b[0m\n\u001b[0;32m      4\u001b[0m \u001b[0mdrawingModule\u001b[0m \u001b[1;33m=\u001b[0m \u001b[0mmediapipe\u001b[0m\u001b[1;33m.\u001b[0m\u001b[0msolutions\u001b[0m\u001b[1;33m.\u001b[0m\u001b[0mdrawing_utils\u001b[0m\u001b[1;33m\u001b[0m\u001b[1;33m\u001b[0m\u001b[0m\n\u001b[0;32m      5\u001b[0m \u001b[0mhandsModule\u001b[0m \u001b[1;33m=\u001b[0m \u001b[0mmediapipe\u001b[0m\u001b[1;33m.\u001b[0m\u001b[0msolutions\u001b[0m\u001b[1;33m.\u001b[0m\u001b[0mhands\u001b[0m\u001b[1;33m\u001b[0m\u001b[1;33m\u001b[0m\u001b[0m\n",
      "\u001b[1;31mModuleNotFoundError\u001b[0m: No module named 'mediapipe'"
     ]
    }
   ],
   "source": [
    "import cv2\n",
    "import mediapipe\n",
    " \n",
    "drawingModule = mediapipe.solutions.drawing_utils\n",
    "handsModule = mediapipe.solutions.hands"
   ]
  },
  {
   "cell_type": "code",
   "execution_count": 17,
   "id": "d1104341",
   "metadata": {},
   "outputs": [],
   "source": [
    "import cv2\n",
    "import mediapipe as mp\n",
    "mp_drawing = mp.solutions.drawing_utils\n",
    "mp_drawing_styles = mp.solutions.drawing_styles\n",
    "mp_hands = mp.solutions.hands\n",
    "\n",
    "# For static images:\n",
    "IMAGE_FILES = []\n",
    "with mp_hands.Hands(\n",
    "    static_image_mode=True,\n",
    "    max_num_hands=2,\n",
    "    min_detection_confidence=0.5) as hands:\n",
    "  for idx, file in enumerate(IMAGE_FILES):\n",
    "    # Read an image, flip it around y-axis for correct handedness output (see\n",
    "    # above).\n",
    "    image = cv2.flip(cv2.imread(\"./img/0.jpg\"), 1)\n",
    "    # Convert the BGR image to RGB before processing.\n",
    "    results = hands.process(cv2.cvtColor(image, cv2.COLOR_BGR2RGB))\n",
    "\n",
    "    # Print handedness and draw hand landmarks on the image.\n",
    "    print('Handedness:', results.multi_handedness)\n",
    "    if not results.multi_hand_landmarks:\n",
    "      continue\n",
    "    image_height, image_width, _ = image.shape\n",
    "    annotated_image = image.copy()\n",
    "    for hand_landmarks in results.multi_hand_landmarks:\n",
    "      print('hand_landmarks:', hand_landmarks)\n",
    "      print(\n",
    "          f'Index finger tip coordinates: (',\n",
    "          f'{hand_landmarks.landmark[mp_hands.HandLandmark.INDEX_FINGER_TIP].x * image_width}, '\n",
    "          f'{hand_landmarks.landmark[mp_hands.HandLandmark.INDEX_FINGER_TIP].y * image_height})'\n",
    "      )\n",
    "      mp_drawing.draw_landmarks(\n",
    "          annotated_image,\n",
    "          hand_landmarks,\n",
    "          mp_hands.HAND_CONNECTIONS,\n",
    "          mp_drawing_styles.get_default_hand_landmarks_style(),\n",
    "          mp_drawing_styles.get_default_hand_connections_style())\n",
    "    cv2.imwrite(\n",
    "        '/img/annotated_image' + str(idx) + '.png', cv2.flip(annotated_image, 1))\n",
    "    # Draw hand world landmarks.\n",
    "    if not results.multi_hand_world_landmarks:\n",
    "      continue\n",
    "    for hand_world_landmarks in results.multi_hand_world_landmarks:\n",
    "      mp_drawing.plot_landmarks(\n",
    "        hand_world_landmarks, mp_hands.HAND_CONNECTIONS, azimuth=5)\n",
    "\n",
    "# For webcam input:\n",
    "cap = cv2.VideoCapture(0)\n",
    "with mp_hands.Hands(\n",
    "    model_complexity=0,\n",
    "    min_detection_confidence=0.5,\n",
    "    min_tracking_confidence=0.5) as hands:\n",
    "  while cap.isOpened():\n",
    "    success, image = cap.read()\n",
    "    if not success:\n",
    "      print(\"Ignoring empty camera frame.\")\n",
    "      # If loading a video, use 'break' instead of 'continue'.\n",
    "      continue\n",
    "\n",
    "    # To improve performance, optionally mark the image as not writeable to\n",
    "    # pass by reference.\n",
    "    image.flags.writeable = False\n",
    "    image = cv2.cvtColor(image, cv2.COLOR_BGR2RGB)\n",
    "    results = hands.process(image)\n",
    "\n",
    "    # Draw the hand annotations on the image.\n",
    "    image.flags.writeable = True\n",
    "    image = cv2.cvtColor(image, cv2.COLOR_RGB2BGR)\n",
    "    if results.multi_hand_landmarks:\n",
    "      for hand_landmarks in results.multi_hand_landmarks:\n",
    "        mp_drawing.draw_landmarks(\n",
    "            image,\n",
    "            hand_landmarks,\n",
    "            mp_hands.HAND_CONNECTIONS,\n",
    "            mp_drawing_styles.get_default_hand_landmarks_style(),\n",
    "            mp_drawing_styles.get_default_hand_connections_style())\n",
    "    # Flip the image horizontally for a selfie-view display.\n",
    "    cv2.imshow('MediaPipe Hands', cv2.flip(image, 1))\n",
    "    if cv2.waitKey(5) & 0xFF == 27:\n",
    "      break\n",
    "cap.release()"
   ]
  },
  {
   "cell_type": "markdown",
   "id": "09cf79e4",
   "metadata": {},
   "source": [
    "# 이미지"
   ]
  },
  {
   "cell_type": "code",
   "execution_count": 2,
   "id": "e0dfa147",
   "metadata": {},
   "outputs": [],
   "source": [
    "import cv2\n",
    "import mediapipe as mp\n",
    "mp_drawing = mp.solutions.drawing_utils\n",
    "mp_drawing_styles = mp.solutions.drawing_styles\n",
    "mp_hands = mp.solutions.hands\n",
    "\n",
    "# For static images:\n",
    "mp_model = mp_hands.Hands(\n",
    "    static_image_mode=True, # only static images\n",
    "    max_num_hands=2, # max 2 hands detection\n",
    "    min_detection_confidence=0.5) # detection confidence\n",
    "\n",
    "# we are not using tracking confidence as static_image_mode is true."
   ]
  },
  {
   "cell_type": "markdown",
   "id": "1f4bba3d",
   "metadata": {},
   "source": [
    "## 이미지 반전"
   ]
  },
  {
   "cell_type": "code",
   "execution_count": 31,
   "id": "cfe890ca",
   "metadata": {},
   "outputs": [],
   "source": [
    "image = cv2.imread(\"img/9.jpg\")\n",
    "# now we flip image and convert to rgb image and input to model\n",
    "image = cv2.flip(image, 1)\n",
    "imageco = image.copy()\n",
    "\n",
    "results = mp_model.process(cv2.cvtColor(image, cv2.COLOR_BGR2RGB))\n",
    "cv2.imshow(\"img\",image)\n",
    "cv2.waitKey(0)\n",
    "cv2.destroyAllWindows()"
   ]
  },
  {
   "cell_type": "code",
   "execution_count": 32,
   "id": "58971aae",
   "metadata": {},
   "outputs": [
    {
     "name": "stdout",
     "output_type": "stream",
     "text": [
      "[classification {\n",
      "  index: 0\n",
      "  score: 0.97737026\n",
      "  label: \"Left\"\n",
      "}\n",
      "]\n"
     ]
    }
   ],
   "source": [
    "print(results.multi_handedness)"
   ]
  },
  {
   "cell_type": "markdown",
   "id": "94445ee7",
   "metadata": {},
   "source": [
    "## 이미지  랜드마크 만들기"
   ]
  },
  {
   "cell_type": "code",
   "execution_count": 33,
   "id": "96ee6470",
   "metadata": {},
   "outputs": [
    {
     "name": "stdout",
     "output_type": "stream",
     "text": [
      "Ring finger tip coordinates: ( 94.92117643356323, 72.30308827757835)\n"
     ]
    }
   ],
   "source": [
    "image_height, image_width, c = image.shape # get image shape\n",
    "# iterate on all detected hand landmarks\n",
    "for hand_landmarks in results.multi_hand_landmarks:\n",
    "      # we can get points using mp_hands\n",
    "      print(f'Ring finger tip coordinates: (',\n",
    "          f'{hand_landmarks.landmark[mp_hands.HandLandmark.RING_FINGER_TIP].x * image_width}, '\n",
    "          f'{hand_landmarks.landmark[mp_hands.HandLandmark.RING_FINGER_TIP].y * image_height})'\n",
    "      )"
   ]
  },
  {
   "cell_type": "markdown",
   "id": "4cac6a69",
   "metadata": {},
   "source": [
    "## 이미지 좌표와 랜드마크 찍기"
   ]
  },
  {
   "cell_type": "code",
   "execution_count": 34,
   "id": "276d9f85",
   "metadata": {},
   "outputs": [],
   "source": [
    "pointList = []"
   ]
  },
  {
   "cell_type": "code",
   "execution_count": 35,
   "id": "0d574bb1",
   "metadata": {
    "scrolled": true
   },
   "outputs": [
    {
     "name": "stdout",
     "output_type": "stream",
     "text": [
      "HandLandmark.WRIST\n",
      "(285, 252)\n",
      "x: 0.84045506\n",
      "y: 0.6108359\n",
      "z: 1.1612916e-06\n",
      "\n",
      "HandLandmark.THUMB_CMC\n",
      "(237, 286)\n",
      "x: 0.69712716\n",
      "y: 0.6914296\n",
      "z: -0.057232205\n",
      "\n",
      "HandLandmark.THUMB_MCP\n",
      "(184, 282)\n",
      "x: 0.5412601\n",
      "y: 0.68348193\n",
      "z: -0.0942835\n",
      "\n",
      "HandLandmark.THUMB_IP\n",
      "(138, 261)\n",
      "x: 0.40655652\n",
      "y: 0.6325308\n",
      "z: -0.117307745\n",
      "\n",
      "HandLandmark.THUMB_TIP\n",
      "(98, 250)\n",
      "x: 0.2895813\n",
      "y: 0.6059494\n",
      "z: -0.14233975\n",
      "\n",
      "HandLandmark.INDEX_FINGER_MCP\n",
      "(165, 222)\n",
      "x: 0.48753396\n",
      "y: 0.53862524\n",
      "z: -0.13087514\n",
      "\n",
      "HandLandmark.INDEX_FINGER_PIP\n",
      "(103, 183)\n",
      "x: 0.30411446\n",
      "y: 0.44416332\n",
      "z: -0.18381368\n",
      "\n",
      "HandLandmark.INDEX_FINGER_DIP\n",
      "(66, 160)\n",
      "x: 0.1947824\n",
      "y: 0.3867687\n",
      "z: -0.21145813\n",
      "\n",
      "HandLandmark.INDEX_FINGER_TIP\n",
      "(37, 139)\n",
      "x: 0.11049929\n",
      "y: 0.33736873\n",
      "z: -0.22601062\n",
      "\n",
      "HandLandmark.MIDDLE_FINGER_MCP\n",
      "(185, 190)\n",
      "x: 0.54510957\n",
      "y: 0.45997292\n",
      "z: -0.12660947\n",
      "\n",
      "HandLandmark.MIDDLE_FINGER_PIP\n",
      "(122, 144)\n",
      "x: 0.36167645\n",
      "y: 0.34821177\n",
      "z: -0.1690928\n",
      "\n",
      "HandLandmark.MIDDLE_FINGER_DIP\n",
      "(83, 115)\n",
      "x: 0.2455078\n",
      "y: 0.27853864\n",
      "z: -0.19400194\n",
      "\n",
      "HandLandmark.MIDDLE_FINGER_TIP\n",
      "(54, 92)\n",
      "x: 0.15968859\n",
      "y: 0.22262803\n",
      "z: -0.21050732\n",
      "\n",
      "HandLandmark.RING_FINGER_MCP\n",
      "(210, 169)\n",
      "x: 0.6177374\n",
      "y: 0.4089199\n",
      "z: -0.12188929\n",
      "\n",
      "HandLandmark.RING_FINGER_PIP\n",
      "(154, 124)\n",
      "x: 0.4542681\n",
      "y: 0.30032057\n",
      "z: -0.16301426\n",
      "\n",
      "HandLandmark.RING_FINGER_DIP\n",
      "(120, 95)\n",
      "x: 0.35353374\n",
      "y: 0.22999018\n",
      "z: -0.19061464\n",
      "\n",
      "HandLandmark.RING_FINGER_TIP\n",
      "(94, 72)\n",
      "x: 0.27917993\n",
      "y: 0.17464514\n",
      "z: -0.2076384\n",
      "\n",
      "HandLandmark.PINKY_MCP\n",
      "(235, 157)\n",
      "x: 0.69403887\n",
      "y: 0.3793048\n",
      "z: -0.118445285\n",
      "\n",
      "HandLandmark.PINKY_PIP\n",
      "(196, 120)\n",
      "x: 0.5775735\n",
      "y: 0.29173625\n",
      "z: -0.15624158\n",
      "\n",
      "HandLandmark.PINKY_DIP\n",
      "(172, 98)\n",
      "x: 0.5080381\n",
      "y: 0.23685607\n",
      "z: -0.17258002\n",
      "\n",
      "HandLandmark.PINKY_TIP\n",
      "(153, 78)\n",
      "x: 0.45035043\n",
      "y: 0.18880294\n",
      "z: -0.18000937\n",
      "\n"
     ]
    },
    {
     "data": {
      "text/plain": [
       "-1"
      ]
     },
     "execution_count": 35,
     "metadata": {},
     "output_type": "execute_result"
    }
   ],
   "source": [
    "for hand_landmarks in results.multi_hand_landmarks:\n",
    "    mp_drawing.draw_landmarks(\n",
    "        image, # image to draw\n",
    "        hand_landmarks, # model output\n",
    "        mp_hands.HAND_CONNECTIONS, # hand connections\n",
    "        mp_drawing_styles.get_default_hand_landmarks_style(),\n",
    "        mp_drawing_styles.get_default_hand_connections_style())\n",
    "    for point in mp_hands.HandLandmark:\n",
    "        normalizedLandmark = hand_landmarks.landmark[point]\n",
    "        pixelCoordinatesLandmark = mp_drawing._normalized_to_pixel_coordinates(normalizedLandmark.x, normalizedLandmark.y, image_width, image_height)\n",
    "\n",
    "        print(point)\n",
    "        print(pixelCoordinatesLandmark)\n",
    "        pointList.append(pixelCoordinatesLandmark)\n",
    "        print(normalizedLandmark)\n",
    "cv2.imshow(\"img\",image)\n",
    "cv2.waitKey(0)"
   ]
  },
  {
   "cell_type": "code",
   "execution_count": 36,
   "id": "e80cb02a",
   "metadata": {},
   "outputs": [],
   "source": [
    "x2 = pointList[7][0] + 10\n",
    "y2 = pointList[7][1]\n",
    "if pointList[8][1] < pointList[7][1]:\n",
    "    x1 = int(pointList[8][0] - abs(pointList[8][0] - pointList[7][0]) / 2)\n",
    "    y1 = int(pointList[8][1] - abs(pointList[8][1] - pointList[7][1]))\n",
    "else:\n",
    "    x1 = int(pointList[8][0] - abs(pointList[8][0] - pointList[7][0]) / 2)\n",
    "    y1 = int(pointList[8][1] + abs(pointList[8][1] - pointList[7][1]))"
   ]
  },
  {
   "cell_type": "code",
   "execution_count": 44,
   "id": "5a7e6983",
   "metadata": {},
   "outputs": [
    {
     "data": {
      "text/plain": [
       "50"
      ]
     },
     "execution_count": 44,
     "metadata": {},
     "output_type": "execute_result"
    }
   ],
   "source": [
    "abs(pointList[4][0] - pointList[3][0])"
   ]
  },
  {
   "cell_type": "code",
   "execution_count": 61,
   "id": "a0402950",
   "metadata": {},
   "outputs": [
    {
     "data": {
      "text/plain": [
       "138"
      ]
     },
     "execution_count": 61,
     "metadata": {},
     "output_type": "execute_result"
    }
   ],
   "source": [
    "x2"
   ]
  },
  {
   "cell_type": "markdown",
   "id": "7c2af691",
   "metadata": {},
   "source": [
    "## 이미지 각도 계산"
   ]
  },
  {
   "cell_type": "code",
   "execution_count": 37,
   "id": "6eea0544",
   "metadata": {},
   "outputs": [],
   "source": [
    "import math\n",
    "def calRad(x1,y1,x2,y2):\n",
    "    rad = math.atan2(abs(x2-x1), abs(y2-y1))\n",
    "    return rad\n",
    "def radTodeg(rad):\n",
    "    # math에서 파이값 가져오기\n",
    "    PI = math.pi\n",
    "    # 라디안에 180도 곱하고 파이로 나누면 나옴\n",
    "    deg = (rad * 180) / PI\n",
    "    # 자리수 맞추기 위해 format 형식으로 출력\n",
    "    # 중괄호 안에는  0번 인덱스를 출력할거고 소수두번째 자리까지 출력 하며 float함수\n",
    "    return \"{0:0.2f}\".format(deg)\n"
   ]
  },
  {
   "cell_type": "code",
   "execution_count": 38,
   "id": "49f0d4d7",
   "metadata": {},
   "outputs": [
    {
     "data": {
      "text/plain": [
       "52.13"
      ]
     },
     "execution_count": 38,
     "metadata": {},
     "output_type": "execute_result"
    }
   ],
   "source": [
    "rad = calRad(x1,y1,x2,y2)\n",
    "angle = float(radTodeg(rad))\n",
    "angle"
   ]
  },
  {
   "cell_type": "code",
   "execution_count": 39,
   "id": "3e0ab38e",
   "metadata": {},
   "outputs": [
    {
     "data": {
      "text/plain": [
       "(414, 340, 3)"
      ]
     },
     "execution_count": 39,
     "metadata": {},
     "output_type": "execute_result"
    }
   ],
   "source": [
    "image.shape"
   ]
  },
  {
   "cell_type": "code",
   "execution_count": 72,
   "id": "1ab70728",
   "metadata": {},
   "outputs": [
    {
     "ename": "error",
     "evalue": "OpenCV(4.5.5) D:\\a\\opencv-python\\opencv-python\\opencv\\modules\\imgproc\\src\\color.cpp:182: error: (-215:Assertion failed) !_src.empty() in function 'cv::cvtColor'\n",
     "output_type": "error",
     "traceback": [
      "\u001b[1;31m---------------------------------------------------------------------------\u001b[0m",
      "\u001b[1;31merror\u001b[0m                                     Traceback (most recent call last)",
      "\u001b[1;32m~\\AppData\\Local\\Temp/ipykernel_7392/1674794077.py\u001b[0m in \u001b[0;36m<module>\u001b[1;34m\u001b[0m\n\u001b[0;32m      1\u001b[0m \u001b[0mcrop\u001b[0m \u001b[1;33m=\u001b[0m \u001b[0mimageco\u001b[0m\u001b[1;33m[\u001b[0m\u001b[0my1\u001b[0m\u001b[1;33m:\u001b[0m\u001b[0my2\u001b[0m \u001b[1;33m,\u001b[0m \u001b[0mx1\u001b[0m\u001b[1;33m:\u001b[0m\u001b[0mx2\u001b[0m\u001b[1;33m]\u001b[0m\u001b[1;33m\u001b[0m\u001b[1;33m\u001b[0m\u001b[0m\n\u001b[0;32m      2\u001b[0m \u001b[1;33m\u001b[0m\u001b[0m\n\u001b[1;32m----> 3\u001b[1;33m \u001b[0mcv2\u001b[0m\u001b[1;33m.\u001b[0m\u001b[0mimshow\u001b[0m\u001b[1;33m(\u001b[0m\u001b[1;34m'crop'\u001b[0m\u001b[1;33m,\u001b[0m \u001b[0mcrop\u001b[0m\u001b[1;33m)\u001b[0m\u001b[1;33m\u001b[0m\u001b[1;33m\u001b[0m\u001b[0m\n\u001b[0m\u001b[0;32m      4\u001b[0m \u001b[0mcv2\u001b[0m\u001b[1;33m.\u001b[0m\u001b[0mwaitKey\u001b[0m\u001b[1;33m(\u001b[0m\u001b[1;36m0\u001b[0m\u001b[1;33m)\u001b[0m\u001b[1;33m\u001b[0m\u001b[1;33m\u001b[0m\u001b[0m\n",
      "\u001b[1;31merror\u001b[0m: OpenCV(4.5.5) D:\\a\\opencv-python\\opencv-python\\opencv\\modules\\imgproc\\src\\color.cpp:182: error: (-215:Assertion failed) !_src.empty() in function 'cv::cvtColor'\n"
     ]
    }
   ],
   "source": [
    "crop = imageco[y1:y2 , x1:x2]\n",
    "\n",
    "cv2.imshow('crop', crop)\n",
    "cv2.waitKey(0)"
   ]
  },
  {
   "cell_type": "code",
   "execution_count": 26,
   "id": "ee47ded4",
   "metadata": {},
   "outputs": [],
   "source": [
    "changeWidth , changeHeight, dd = crop.shape"
   ]
  },
  {
   "cell_type": "code",
   "execution_count": null,
   "id": "af946953",
   "metadata": {},
   "outputs": [],
   "source": []
  },
  {
   "cell_type": "code",
   "execution_count": 19,
   "id": "f16ce644",
   "metadata": {},
   "outputs": [
    {
     "data": {
      "text/plain": [
       "-1"
      ]
     },
     "execution_count": 19,
     "metadata": {},
     "output_type": "execute_result"
    }
   ],
   "source": [
    "crop = image[pointList[4][1]:pointList[3][1] , pointList[4][0]:pointList[3][0]]\n",
    "\n",
    "cv2.imshow('crop', crop)\n",
    "cv2.waitKey(0)"
   ]
  },
  {
   "cell_type": "code",
   "execution_count": null,
   "id": "93e435de",
   "metadata": {},
   "outputs": [],
   "source": []
  },
  {
   "cell_type": "code",
   "execution_count": 22,
   "id": "8299d22f",
   "metadata": {},
   "outputs": [
    {
     "data": {
      "text/plain": [
       "(64, 105, 3)"
      ]
     },
     "execution_count": 22,
     "metadata": {},
     "output_type": "execute_result"
    }
   ],
   "source": [
    "crop.shape"
   ]
  },
  {
   "cell_type": "markdown",
   "id": "906b54d6",
   "metadata": {},
   "source": [
    "## 이미지 각도 변경"
   ]
  },
  {
   "cell_type": "code",
   "execution_count": 50,
   "id": "bf65bfd4",
   "metadata": {
    "scrolled": true
   },
   "outputs": [
    {
     "name": "stdout",
     "output_type": "stream",
     "text": [
      "422280\n",
      "[classification {\n",
      "  index: 0\n",
      "  score: 0.98300016\n",
      "  label: \"Left\"\n",
      "}\n",
      "]\n"
     ]
    }
   ],
   "source": [
    "from PIL import Image\n",
    "import numpy as np\n",
    " \n",
    "image1 = Image.open('img/9.jpg')\n",
    "image1 = image1.transpose(Image.FLIP_LEFT_RIGHT)\n",
    " \n",
    "#이미지의 크기 출력\n",
    "print(image.size)\n",
    "\n",
    "imgAngle = image1.rotate(-angle, expand = 1)\n",
    " \n",
    "# 회전한 이미지 다시 cv2로 변환\n",
    "numpy_image = np.array(imgAngle)  \n",
    "img = cv2.cvtColor(numpy_image, cv2.COLOR_RGB2BGR)\n",
    "imgco = img.copy()\n",
    "imgco = cv2.cvtColor(imgco, cv2.COLOR_BGR2RGB)\n",
    "result = mp_model.process(cv2.cvtColor(img, cv2.COLOR_BGR2RGB))\n",
    "cv2.imshow('img',img)\n",
    "cv2.waitKey(0)\n",
    "cv2.destroyAllWindows()\n",
    "print(result.multi_handedness)"
   ]
  },
  {
   "cell_type": "markdown",
   "id": "c2e0ef09",
   "metadata": {},
   "source": [
    "## 다시 이미지 랜드마크 만들기"
   ]
  },
  {
   "cell_type": "code",
   "execution_count": 51,
   "id": "a5480134",
   "metadata": {},
   "outputs": [
    {
     "name": "stdout",
     "output_type": "stream",
     "text": [
      "Ring finger tip coordinates: ( 349.85444462299347, 117.42897319793701)\n"
     ]
    }
   ],
   "source": [
    "image_height, image_width, c = img.shape # get image shape\n",
    "# iterate on all detected hand landmarks\n",
    "for hand_landmarks in result.multi_hand_landmarks:\n",
    "      # we can get points using mp_hands\n",
    "      print(f'Ring finger tip coordinates: (',\n",
    "          f'{hand_landmarks.landmark[mp_hands.HandLandmark.RING_FINGER_TIP].x * image_width}, '\n",
    "          f'{hand_landmarks.landmark[mp_hands.HandLandmark.RING_FINGER_TIP].y * image_height})'\n",
    "      )"
   ]
  },
  {
   "cell_type": "markdown",
   "id": "b162e8a8",
   "metadata": {},
   "source": [
    "## 다시 이미지 좌표와 랜드마크 찍기"
   ]
  },
  {
   "cell_type": "code",
   "execution_count": 52,
   "id": "4141b766",
   "metadata": {
    "scrolled": true
   },
   "outputs": [
    {
     "name": "stdout",
     "output_type": "stream",
     "text": [
      "HandLandmark.WRIST\n",
      "(265, 375)\n",
      "x: 0.50871557\n",
      "y: 0.773281\n",
      "z: 6.2632665e-07\n",
      "\n",
      "HandLandmark.THUMB_CMC\n",
      "(216, 338)\n",
      "x: 0.41498727\n",
      "y: 0.6956428\n",
      "z: -0.02775481\n",
      "\n",
      "HandLandmark.THUMB_MCP\n",
      "(196, 286)\n",
      "x: 0.37717968\n",
      "y: 0.5901518\n",
      "z: -0.047231767\n",
      "\n",
      "HandLandmark.THUMB_IP\n",
      "(197, 236)\n",
      "x: 0.37795222\n",
      "y: 0.48744592\n",
      "z: -0.060565848\n",
      "\n",
      "HandLandmark.THUMB_TIP\n",
      "(189, 198)\n",
      "x: 0.36302564\n",
      "y: 0.40810516\n",
      "z: -0.074828476\n",
      "\n",
      "HandLandmark.INDEX_FINGER_MCP\n",
      "(244, 244)\n",
      "x: 0.46884096\n",
      "y: 0.50274044\n",
      "z: -0.06571641\n",
      "\n",
      "HandLandmark.INDEX_FINGER_PIP\n",
      "(252, 172)\n",
      "x: 0.48392975\n",
      "y: 0.35505575\n",
      "z: -0.09757212\n",
      "\n",
      "HandLandmark.INDEX_FINGER_DIP\n",
      "(257, 129)\n",
      "x: 0.49358803\n",
      "y: 0.26584077\n",
      "z: -0.115134545\n",
      "\n",
      "HandLandmark.INDEX_FINGER_TIP\n",
      "(263, 94)\n",
      "x: 0.5043396\n",
      "y: 0.19518998\n",
      "z: -0.12465106\n",
      "\n",
      "HandLandmark.MIDDLE_FINGER_MCP\n",
      "(282, 248)\n",
      "x: 0.540559\n",
      "y: 0.51049995\n",
      "z: -0.06772473\n",
      "\n",
      "HandLandmark.MIDDLE_FINGER_PIP\n",
      "(297, 172)\n",
      "x: 0.56897676\n",
      "y: 0.3552118\n",
      "z: -0.09414373\n",
      "\n",
      "HandLandmark.MIDDLE_FINGER_DIP\n",
      "(306, 124)\n",
      "x: 0.586849\n",
      "y: 0.25612783\n",
      "z: -0.109221466\n",
      "\n",
      "HandLandmark.MIDDLE_FINGER_TIP\n",
      "(314, 88)\n",
      "x: 0.60299426\n",
      "y: 0.1812084\n",
      "z: -0.118815474\n",
      "\n",
      "HandLandmark.RING_FINGER_MCP\n",
      "(311, 261)\n",
      "x: 0.5970719\n",
      "y: 0.53798145\n",
      "z: -0.0699657\n",
      "\n",
      "HandLandmark.RING_FINGER_PIP\n",
      "(327, 193)\n",
      "x: 0.62823457\n",
      "y: 0.39790228\n",
      "z: -0.09451248\n",
      "\n",
      "HandLandmark.RING_FINGER_DIP\n",
      "(339, 149)\n",
      "x: 0.65123004\n",
      "y: 0.3083748\n",
      "z: -0.10968459\n",
      "\n",
      "HandLandmark.RING_FINGER_TIP\n",
      "(349, 117)\n",
      "x: 0.67021924\n",
      "y: 0.2416234\n",
      "z: -0.11869341\n",
      "\n",
      "HandLandmark.PINKY_MCP\n",
      "(334, 279)\n",
      "x: 0.640393\n",
      "y: 0.57581055\n",
      "z: -0.07297935\n",
      "\n",
      "HandLandmark.PINKY_PIP\n",
      "(349, 229)\n",
      "x: 0.67024696\n",
      "y: 0.47149092\n",
      "z: -0.093358606\n",
      "\n",
      "HandLandmark.PINKY_DIP\n",
      "(360, 198)\n",
      "x: 0.69007456\n",
      "y: 0.4078281\n",
      "z: -0.10051604\n",
      "\n",
      "HandLandmark.PINKY_TIP\n",
      "(370, 172)\n",
      "x: 0.70895386\n",
      "y: 0.35489234\n",
      "z: -0.1030075\n",
      "\n"
     ]
    },
    {
     "data": {
      "text/plain": [
       "-1"
      ]
     },
     "execution_count": 52,
     "metadata": {},
     "output_type": "execute_result"
    }
   ],
   "source": [
    "pointList = []\n",
    "\n",
    "mp_drawing = mp.solutions.drawing_utils\n",
    "mp_drawing_styles = mp.solutions.drawing_styles\n",
    "mp_hands = mp.solutions.hands\n",
    "\n",
    "for hand_landmarks in result.multi_hand_landmarks:\n",
    "    mp_drawing.draw_landmarks(\n",
    "        img, # image to draw\n",
    "        hand_landmarks, # model output\n",
    "        mp_hands.HAND_CONNECTIONS, # hand connections\n",
    "        mp_drawing_styles.get_default_hand_landmarks_style(),\n",
    "        mp_drawing_styles.get_default_hand_connections_style())\n",
    "    for point in mp_hands.HandLandmark:\n",
    "        normalizedLandmark = hand_landmarks.landmark[point]\n",
    "        pixelCoordinatesLandmark = mp_drawing._normalized_to_pixel_coordinates(normalizedLandmark.x, normalizedLandmark.y, image_width, image_height)\n",
    "\n",
    "        print(point)\n",
    "        print(pixelCoordinatesLandmark)\n",
    "        pointList.append(pixelCoordinatesLandmark)\n",
    "        print(normalizedLandmark)\n",
    "cv2.imshow(\"img\",img)\n",
    "cv2.waitKey(0)"
   ]
  },
  {
   "cell_type": "code",
   "execution_count": 53,
   "id": "35e26af4",
   "metadata": {
    "scrolled": true
   },
   "outputs": [
    {
     "data": {
      "text/plain": [
       "(486, 522, 3)"
      ]
     },
     "execution_count": 53,
     "metadata": {},
     "output_type": "execute_result"
    }
   ],
   "source": [
    "img.shape"
   ]
  },
  {
   "cell_type": "markdown",
   "id": "a4c5ecd8",
   "metadata": {},
   "source": [
    "## 이미지 자르기"
   ]
  },
  {
   "cell_type": "code",
   "execution_count": 54,
   "id": "57a24011",
   "metadata": {},
   "outputs": [],
   "source": [
    "x2 = pointList[7][0] + 40\n",
    "y2 = pointList[7][1]\n",
    "if pointList[8][1] < pointList[7][1]:\n",
    "    x1 = pointList[8][0] - 40\n",
    "    y1 = pointList[8][1] - 40\n",
    "else:\n",
    "    x1 = pointList[8][0] - 40\n",
    "    y1 = pointList[8][1] + 40"
   ]
  },
  {
   "cell_type": "code",
   "execution_count": 55,
   "id": "a795b23b",
   "metadata": {},
   "outputs": [
    {
     "data": {
      "text/plain": [
       "44.62"
      ]
     },
     "execution_count": 55,
     "metadata": {},
     "output_type": "execute_result"
    }
   ],
   "source": [
    "rad = calRad(x1,y1,x2,y2)\n",
    "angle = float(radTodeg(rad))\n",
    "angle"
   ]
  },
  {
   "cell_type": "code",
   "execution_count": 56,
   "id": "7c1b6470",
   "metadata": {
    "scrolled": true
   },
   "outputs": [
    {
     "data": {
      "text/plain": [
       "(486, 522, 3)"
      ]
     },
     "execution_count": 56,
     "metadata": {},
     "output_type": "execute_result"
    }
   ],
   "source": [
    "imgco.shape"
   ]
  },
  {
   "cell_type": "code",
   "execution_count": 57,
   "id": "fe98c793",
   "metadata": {},
   "outputs": [
    {
     "name": "stdout",
     "output_type": "stream",
     "text": [
      "223 54 297 129\n"
     ]
    }
   ],
   "source": [
    "print(x1,y1,x2,y2)"
   ]
  },
  {
   "cell_type": "code",
   "execution_count": 58,
   "id": "6b028cb2",
   "metadata": {},
   "outputs": [
    {
     "name": "stdout",
     "output_type": "stream",
     "text": [
      "잘려진 사진 크기 : (74, 75)\n"
     ]
    }
   ],
   "source": [
    "img3 = Image.fromarray(imgco)\n",
    "\n",
    "# 이미지 자르기 crop함수 이용 ex. crop(left,up, rigth, down)\n",
    "try:\n",
    "    croppedImage = img3.crop((x1,y1,x2,y2))\n",
    "\n",
    "    croppedImage.show()\n",
    "except:\n",
    "    croppedImage = img3.crop((x1,y2,x2,y1))\n",
    "\n",
    "    croppedImage.show()\n",
    " \n",
    "print(\"잘려진 사진 크기 :\",croppedImage.size)\n",
    " \n",
    "croppedImage.save('croppedImage.PNG')"
   ]
  },
  {
   "cell_type": "code",
   "execution_count": 59,
   "id": "2a41aec7",
   "metadata": {},
   "outputs": [
    {
     "data": {
      "image/png": "[encoded data removed]",
      "text/plain": [
       "<PIL.Image.Image image mode=RGB size=74x75 at 0x198384FAE20>"
      ]
     },
     "execution_count": 59,
     "metadata": {},
     "output_type": "execute_result"
    }
   ],
   "source": [
    "croppedImage"
   ]
  },
  {
   "cell_type": "code",
   "execution_count": 60,
   "id": "177214a3",
   "metadata": {},
   "outputs": [],
   "source": [
    "noImage = np.array(croppedImage)\n",
    "noImage = cv2.cvtColor(noImage, cv2.COLOR_RGB2BGR)\n",
    "imgcopy = noImage.copy()\n",
    "#imgcopy = cv2.cvtColor(imgcopy, cv2.COLOR_BGR2RGB)"
   ]
  },
  {
   "cell_type": "code",
   "execution_count": 61,
   "id": "3dcfeeed",
   "metadata": {},
   "outputs": [
    {
     "data": {
      "text/plain": [
       "(75, 74, 3)"
      ]
     },
     "execution_count": 61,
     "metadata": {},
     "output_type": "execute_result"
    }
   ],
   "source": [
    "imgcopy.shape"
   ]
  },
  {
   "cell_type": "markdown",
   "id": "07dce58d",
   "metadata": {},
   "source": [
    "## 이미지 에지 추출"
   ]
  },
  {
   "cell_type": "code",
   "execution_count": 4,
   "id": "c9a338ff",
   "metadata": {},
   "outputs": [
    {
     "ename": "NameError",
     "evalue": "name 'imgcopy' is not defined",
     "output_type": "error",
     "traceback": [
      "\u001b[1;31m---------------------------------------------------------------------------\u001b[0m",
      "\u001b[1;31mNameError\u001b[0m                                 Traceback (most recent call last)",
      "\u001b[1;32m~\\AppData\\Local\\Temp\\ipykernel_7748\\4052617516.py\u001b[0m in \u001b[0;36m<module>\u001b[1;34m\u001b[0m\n\u001b[1;32m----> 1\u001b[1;33m \u001b[0mimged\u001b[0m \u001b[1;33m=\u001b[0m \u001b[0mcv2\u001b[0m\u001b[1;33m.\u001b[0m\u001b[0mcvtColor\u001b[0m\u001b[1;33m(\u001b[0m\u001b[0mimgcopy\u001b[0m\u001b[1;33m,\u001b[0m \u001b[0mcv2\u001b[0m\u001b[1;33m.\u001b[0m\u001b[0mIMREAD_GRAYSCALE\u001b[0m\u001b[1;33m)\u001b[0m\u001b[1;33m\u001b[0m\u001b[1;33m\u001b[0m\u001b[0m\n\u001b[0m\u001b[0;32m      2\u001b[0m \u001b[1;33m\u001b[0m\u001b[0m\n\u001b[0;32m      3\u001b[0m \u001b[0medge\u001b[0m \u001b[1;33m=\u001b[0m \u001b[0mcv2\u001b[0m\u001b[1;33m.\u001b[0m\u001b[0mCanny\u001b[0m\u001b[1;33m(\u001b[0m\u001b[0mimged\u001b[0m\u001b[1;33m,\u001b[0m \u001b[1;36m50\u001b[0m\u001b[1;33m,\u001b[0m \u001b[1;36m150\u001b[0m\u001b[1;33m)\u001b[0m\u001b[1;33m\u001b[0m\u001b[1;33m\u001b[0m\u001b[0m\n\u001b[0;32m      4\u001b[0m \u001b[1;31m# 색상 반전\u001b[0m\u001b[1;33m\u001b[0m\u001b[1;33m\u001b[0m\u001b[1;33m\u001b[0m\u001b[0m\n\u001b[0;32m      5\u001b[0m \u001b[0medge2\u001b[0m \u001b[1;33m=\u001b[0m \u001b[0mcv2\u001b[0m\u001b[1;33m.\u001b[0m\u001b[0mbitwise_not\u001b[0m\u001b[1;33m(\u001b[0m\u001b[0medge\u001b[0m\u001b[1;33m)\u001b[0m\u001b[1;33m\u001b[0m\u001b[1;33m\u001b[0m\u001b[0m\n",
      "\u001b[1;31mNameError\u001b[0m: name 'imgcopy' is not defined"
     ]
    }
   ],
   "source": [
    "imged = cv2.cvtColor(imgcopy, cv2.IMREAD_GRAYSCALE)\n",
    "\n",
    "edge = cv2.Canny(imged, 50, 150)\n",
    "# 색상 반전\n",
    "edge2 = cv2.bitwise_not(edge)\n",
    "\n",
    "cv2.imshow(\"edge\", edge)\n",
    "\n",
    "k = cv2.waitKey(0)\n",
    "cv2.destroyAllWindows()"
   ]
  },
  {
   "cell_type": "markdown",
   "id": "1827d476",
   "metadata": {},
   "source": [
    "## 이미지 변환(명훈쌤)"
   ]
  },
  {
   "cell_type": "code",
   "execution_count": 36,
   "id": "39a7f302",
   "metadata": {},
   "outputs": [],
   "source": [
    "\n",
    "cv2.imshow(\"original\",imgcopy)\n",
    "\n",
    "img_yuv = cv2.cvtColor(imgcopy, cv2.COLOR_BGR2YUV)\n",
    "\n",
    "# 밝기 채널에 대해서 이퀄라이즈 적용\n",
    "img_eq = img_yuv.copy()\n",
    "img_eq[:,:,0] = cv2.equalizeHist(img_eq[:,:,0])\n",
    "img_eq = cv2.cvtColor(img_eq, cv2.COLOR_YUV2BGR)\n",
    "\n",
    "# 밝기 채널에 대해서 CLAHE 적용\n",
    "img_clahe = img_yuv.copy()\n",
    "clahe = cv2.createCLAHE(clipLimit=3.0, tileGridSize=(8,8)) #CLAHE 생성\n",
    "img_clahe[:,:,0] = clahe.apply(img_clahe[:,:,0])           #CLAHE 적용\n",
    "img_clahe = cv2.cvtColor(img_clahe, cv2.COLOR_YUV2BGR)\n",
    "\n",
    "# h : -180 ~ 180\n",
    "# s : 0 ~ 255\n",
    "# v : 0 ~ 255\n",
    "# 최소값\n",
    "lower = np.array([100, 0, 0])\n",
    "# # 최대값\n",
    "upper = np.array([180, 255, 255])\n",
    "# # 출력\n",
    "hsv = cv2.cvtColor(imgcopy, cv2.COLOR_BGR2HSV)\n",
    "# # 최소값과 최대값에 해당되는 범위를 마스크로 생성\n",
    "mask = cv2.inRange(hsv, lower, upper)\n",
    "# # 마스크에 포함된 이미지 픽셀값만을 (마스크와 이미지를 AND 연산) 이미지에 표시\n",
    "imgcopy = cv2.bitwise_and(imgcopy, imgcopy, mask=mask)\n",
    "\n",
    "imgcopy = cv2.cvtColor(imgcopy, cv2.COLOR_HSV2BGR)\n",
    "#img = cv2.cvtColor(img, cv2.COLOR_RGB2GRAY)\n",
    "\n",
    "\n",
    "cv2.imshow(\"clahe\", img_clahe)\n",
    "cv2.imshow(\"mask\", imgcopy)\n",
    "cv2.waitKey(0)\n",
    "cv2.destroyAllWindows()"
   ]
  },
  {
   "cell_type": "markdown",
   "id": "4ed95c5b",
   "metadata": {},
   "source": [
    "### 실험"
   ]
  },
  {
   "cell_type": "code",
   "execution_count": 27,
   "id": "1cc5e0f7",
   "metadata": {},
   "outputs": [],
   "source": [
    "# 정규화\n",
    "img_yuv = cv2.cvtColor(imgcopy, cv2.COLOR_BGR2GRAY)\n",
    "# 밝기 채널에 대해서 이퀄라이즈 적용\n",
    "img_eq = img_yuv.copy()\n",
    "\n",
    "img_eq = cv2.equalizeHist(img_eq)"
   ]
  },
  {
   "cell_type": "code",
   "execution_count": 21,
   "id": "4b1f67fb",
   "metadata": {},
   "outputs": [],
   "source": [
    "cv2.imshow(\"clahe\",img_eq)\n",
    "k = cv2.waitKey(0)\n",
    "cv2.destroyAllWindows()"
   ]
  },
  {
   "cell_type": "code",
   "execution_count": 22,
   "id": "91ed3f92",
   "metadata": {},
   "outputs": [],
   "source": [
    "# 정규화\n",
    "img_clahe = img_yuv.copy()\n",
    "clahe = cv2.createCLAHE(clipLimit=3.0, tileGridSize=(8,8))\n",
    "img_clahe = clahe.apply(img_clahe)       \n",
    "cv2.imshow(\"clahe\",img_clahe)\n",
    "k = cv2.waitKey(0)\n",
    "cv2.destroyAllWindows()"
   ]
  },
  {
   "cell_type": "code",
   "execution_count": null,
   "id": "de42ecfc",
   "metadata": {},
   "outputs": [],
   "source": []
  },
  {
   "cell_type": "markdown",
   "id": "6fe18d18",
   "metadata": {},
   "source": [
    "### RGB"
   ]
  },
  {
   "cell_type": "code",
   "execution_count": 2,
   "id": "30bd6a3f",
   "metadata": {},
   "outputs": [
    {
     "ename": "error",
     "evalue": "OpenCV(4.5.5) D:\\a\\opencv-python\\opencv-python\\opencv\\modules\\imgproc\\src\\clahe.cpp:353: error: (-215:Assertion failed) _src.type() == CV_8UC1 || _src.type() == CV_16UC1 in function '`anonymous-namespace'::CLAHE_Impl::apply'\n",
     "output_type": "error",
     "traceback": [
      "\u001b[1;31m---------------------------------------------------------------------------\u001b[0m",
      "\u001b[1;31merror\u001b[0m                                     Traceback (most recent call last)",
      "\u001b[1;32m~\\AppData\\Local\\Temp\\ipykernel_7748\\1492548877.py\u001b[0m in \u001b[0;36m<module>\u001b[1;34m\u001b[0m\n\u001b[0;32m      2\u001b[0m \u001b[0mimg_clahe\u001b[0m \u001b[1;33m=\u001b[0m \u001b[0mcv2\u001b[0m\u001b[1;33m.\u001b[0m\u001b[0mimread\u001b[0m\u001b[1;33m(\u001b[0m\u001b[1;34m\"./img/0.jpg\"\u001b[0m\u001b[1;33m)\u001b[0m\u001b[1;33m\u001b[0m\u001b[1;33m\u001b[0m\u001b[0m\n\u001b[0;32m      3\u001b[0m \u001b[0mclahe\u001b[0m \u001b[1;33m=\u001b[0m \u001b[0mcv2\u001b[0m\u001b[1;33m.\u001b[0m\u001b[0mcreateCLAHE\u001b[0m\u001b[1;33m(\u001b[0m\u001b[0mclipLimit\u001b[0m\u001b[1;33m=\u001b[0m\u001b[1;36m3.0\u001b[0m\u001b[1;33m,\u001b[0m \u001b[0mtileGridSize\u001b[0m\u001b[1;33m=\u001b[0m\u001b[1;33m(\u001b[0m\u001b[1;36m8\u001b[0m\u001b[1;33m,\u001b[0m\u001b[1;36m8\u001b[0m\u001b[1;33m)\u001b[0m\u001b[1;33m)\u001b[0m\u001b[1;33m\u001b[0m\u001b[1;33m\u001b[0m\u001b[0m\n\u001b[1;32m----> 4\u001b[1;33m \u001b[0mimg_clahe\u001b[0m \u001b[1;33m=\u001b[0m \u001b[0mclahe\u001b[0m\u001b[1;33m.\u001b[0m\u001b[0mapply\u001b[0m\u001b[1;33m(\u001b[0m\u001b[0mimg_clahe\u001b[0m\u001b[1;33m)\u001b[0m\u001b[1;33m\u001b[0m\u001b[1;33m\u001b[0m\u001b[0m\n\u001b[0m\u001b[0;32m      5\u001b[0m \u001b[0mcv2\u001b[0m\u001b[1;33m.\u001b[0m\u001b[0mimshow\u001b[0m\u001b[1;33m(\u001b[0m\u001b[1;34m\"clahe\"\u001b[0m\u001b[1;33m,\u001b[0m\u001b[0mimg_clahe\u001b[0m\u001b[1;33m)\u001b[0m\u001b[1;33m\u001b[0m\u001b[1;33m\u001b[0m\u001b[0m\n\u001b[0;32m      6\u001b[0m \u001b[0mk\u001b[0m \u001b[1;33m=\u001b[0m \u001b[0mcv2\u001b[0m\u001b[1;33m.\u001b[0m\u001b[0mwaitKey\u001b[0m\u001b[1;33m(\u001b[0m\u001b[1;36m0\u001b[0m\u001b[1;33m)\u001b[0m\u001b[1;33m\u001b[0m\u001b[1;33m\u001b[0m\u001b[0m\n",
      "\u001b[1;31merror\u001b[0m: OpenCV(4.5.5) D:\\a\\opencv-python\\opencv-python\\opencv\\modules\\imgproc\\src\\clahe.cpp:353: error: (-215:Assertion failed) _src.type() == CV_8UC1 || _src.type() == CV_16UC1 in function '`anonymous-namespace'::CLAHE_Impl::apply'\n"
     ]
    }
   ],
   "source": [
    "# 정규화\n",
    "img_clahe = cv2.imread(\"./img/0.jpg\")\n",
    "clahe = cv2.createCLAHE(clipLimit=3.0, tileGridSize=(8,8))\n",
    "img_clahe = clahe.apply(img_clahe)       \n",
    "cv2.imshow(\"clahe\",img_clahe)\n",
    "k = cv2.waitKey(0)\n",
    "cv2.destroyAllWindows()"
   ]
  },
  {
   "cell_type": "code",
   "execution_count": 3,
   "id": "1044ec29",
   "metadata": {},
   "outputs": [
    {
     "ename": "NameError",
     "evalue": "name 'plt' is not defined",
     "output_type": "error",
     "traceback": [
      "\u001b[1;31m---------------------------------------------------------------------------\u001b[0m",
      "\u001b[1;31mNameError\u001b[0m                                 Traceback (most recent call last)",
      "\u001b[1;32m~\\AppData\\Local\\Temp\\ipykernel_7748\\225550003.py\u001b[0m in \u001b[0;36m<module>\u001b[1;34m\u001b[0m\n\u001b[0;32m      9\u001b[0m \u001b[1;32mfor\u001b[0m \u001b[1;33m(\u001b[0m\u001b[0mch\u001b[0m\u001b[1;33m,\u001b[0m \u001b[0mcolor\u001b[0m\u001b[1;33m)\u001b[0m \u001b[1;32min\u001b[0m \u001b[0mzip\u001b[0m \u001b[1;33m(\u001b[0m\u001b[0mchannels\u001b[0m\u001b[1;33m,\u001b[0m \u001b[0mcolors\u001b[0m\u001b[1;33m)\u001b[0m\u001b[1;33m:\u001b[0m\u001b[1;33m\u001b[0m\u001b[1;33m\u001b[0m\u001b[0m\n\u001b[0;32m     10\u001b[0m     \u001b[0mhist\u001b[0m \u001b[1;33m=\u001b[0m \u001b[0mcv2\u001b[0m\u001b[1;33m.\u001b[0m\u001b[0mcalcHist\u001b[0m\u001b[1;33m(\u001b[0m\u001b[1;33m[\u001b[0m\u001b[0mch\u001b[0m\u001b[1;33m]\u001b[0m\u001b[1;33m,\u001b[0m \u001b[1;33m[\u001b[0m\u001b[1;36m0\u001b[0m\u001b[1;33m]\u001b[0m\u001b[1;33m,\u001b[0m \u001b[1;32mNone\u001b[0m\u001b[1;33m,\u001b[0m \u001b[1;33m[\u001b[0m\u001b[1;36m256\u001b[0m\u001b[1;33m]\u001b[0m\u001b[1;33m,\u001b[0m \u001b[1;33m[\u001b[0m\u001b[1;36m0\u001b[0m\u001b[1;33m,\u001b[0m \u001b[1;36m256\u001b[0m\u001b[1;33m]\u001b[0m\u001b[1;33m)\u001b[0m\u001b[1;33m\u001b[0m\u001b[1;33m\u001b[0m\u001b[0m\n\u001b[1;32m---> 11\u001b[1;33m     \u001b[0mplt\u001b[0m\u001b[1;33m.\u001b[0m\u001b[0mplot\u001b[0m\u001b[1;33m(\u001b[0m\u001b[0mhist\u001b[0m\u001b[1;33m,\u001b[0m \u001b[0mcolor\u001b[0m \u001b[1;33m=\u001b[0m \u001b[0mcolor\u001b[0m\u001b[1;33m)\u001b[0m\u001b[1;33m\u001b[0m\u001b[1;33m\u001b[0m\u001b[0m\n\u001b[0m\u001b[0;32m     12\u001b[0m \u001b[0mplt\u001b[0m\u001b[1;33m.\u001b[0m\u001b[0mshow\u001b[0m\u001b[1;33m(\u001b[0m\u001b[1;33m)\u001b[0m\u001b[1;33m\u001b[0m\u001b[1;33m\u001b[0m\u001b[0m\n",
      "\u001b[1;31mNameError\u001b[0m: name 'plt' is not defined"
     ]
    }
   ],
   "source": [
    "#img_yuv = cv2.cvtColor(imgcopy, cv2.COLOR_BGR2RGB)\n",
    "cv2.imshow('img', img_clahe)\n",
    "k = cv2.waitKey(0)\n",
    "cv2.destroyAllWindows()\n",
    "\n",
    "#--② 히스토그램 계산 및 그리기\n",
    "channels = cv2.split(img_clahe)\n",
    "colors = ('b', 'g', 'r')\n",
    "for (ch, color) in zip (channels, colors):\n",
    "    hist = cv2.calcHist([ch], [0], None, [256], [0, 256])\n",
    "    plt.plot(hist, color = color)\n",
    "plt.show()"
   ]
  },
  {
   "cell_type": "markdown",
   "id": "283d7792",
   "metadata": {},
   "source": [
    "### HSV"
   ]
  },
  {
   "cell_type": "code",
   "execution_count": 28,
   "id": "ba2ffdb0",
   "metadata": {},
   "outputs": [],
   "source": [
    "imgHsv = cv2.cvtColor(imgcopy, cv2.COLOR_BGR2HSV)\n",
    "h, s, v = cv2.split(imgHsv)\n",
    "cv2.imshow(\"imgHsv\",imgHsv)\n",
    "#cv2.imshow(\"h\",h)\n",
    "cv2.imshow(\"s\",s)\n",
    "cv2.imshow(\"v\",v)\n",
    "k = cv2.waitKey(0)\n",
    "cv2.destroyAllWindows()"
   ]
  },
  {
   "cell_type": "code",
   "execution_count": 29,
   "id": "fec3865b",
   "metadata": {},
   "outputs": [],
   "source": [
    "output1H = cv2.equalizeHist(h)\n",
    "output1S = cv2.equalizeHist(s)\n",
    "output1V = cv2.equalizeHist(v)\n",
    "\n",
    "equ = cv2.merge((output1H, output1S, output1V))\n",
    "\n",
    "\n",
    "#cv2.imshow(\"imgHsv\",equ)\n",
    "#k = cv2.waitKey(0)\n",
    "#cv2.destroyAllWindows()"
   ]
  },
  {
   "cell_type": "code",
   "execution_count": 237,
   "id": "ac3bba1b",
   "metadata": {},
   "outputs": [
    {
     "data": {
      "text/plain": [
       "True"
      ]
     },
     "execution_count": 237,
     "metadata": {},
     "output_type": "execute_result"
    }
   ],
   "source": [
    "cv2.imwrite(\"test4.jpg\", equ)"
   ]
  },
  {
   "cell_type": "code",
   "execution_count": 30,
   "id": "d4809486",
   "metadata": {},
   "outputs": [],
   "source": [
    "equ[equ[:,:,0]>=150] = 0\n",
    "equ[equ[:,:,1]>= 100] = 0\n",
    "equ[equ[:,:,2] < 190] =0\n",
    "cv2.imshow(\"equ\",equ)\n",
    "k = cv2.waitKey(0)\n",
    "cv2.destroyAllWindows()"
   ]
  },
  {
   "cell_type": "code",
   "execution_count": 135,
   "id": "f4828ce6",
   "metadata": {},
   "outputs": [
    {
     "data": {
      "text/plain": [
       "array([ 33, 103, 242], dtype=uint8)"
      ]
     },
     "execution_count": 135,
     "metadata": {},
     "output_type": "execute_result"
    }
   ],
   "source": [
    "equ[45][39]"
   ]
  },
  {
   "cell_type": "markdown",
   "id": "5931eb70",
   "metadata": {},
   "source": [
    "### YCbCr"
   ]
  },
  {
   "cell_type": "code",
   "execution_count": 65,
   "id": "4d5bf07e",
   "metadata": {},
   "outputs": [],
   "source": [
    "imgYcbcr = cv2.cvtColor(imgcopy, cv2.COLOR_BGR2YCR_CB)\n",
    "y, cr,cb = cv2.split(imgYcbcr)\n",
    "cv2.imshow(\"imgHsv\",imgYcbcr)\n",
    "cv2.imshow(\"y\",y)\n",
    "cv2.imshow(\"cr\",cr)\n",
    "cv2.imshow(\"cb\",cb)\n",
    "k = cv2.waitKey(0)\n",
    "cv2.destroyAllWindows()"
   ]
  },
  {
   "cell_type": "code",
   "execution_count": 67,
   "id": "e94890ab",
   "metadata": {},
   "outputs": [],
   "source": [
    "output1Y = cv2.equalizeHist(y)\n",
    "output1Cr = cv2.equalizeHist(cr)\n",
    "output1Cb = cv2.equalizeHist(cb)\n",
    "\n",
    "ycrcbequ = cv2.merge((output1Y, output1Cr, output1Cb))\n",
    "\n",
    "\n",
    "cv2.imshow(\"ycrcbequ\",ycrcbequ)\n",
    "k = cv2.waitKey(0)\n",
    "cv2.destroyAllWindows()"
   ]
  },
  {
   "cell_type": "code",
   "execution_count": 68,
   "id": "07de1998",
   "metadata": {},
   "outputs": [
    {
     "data": {
      "text/plain": [
       "True"
      ]
     },
     "execution_count": 68,
     "metadata": {},
     "output_type": "execute_result"
    }
   ],
   "source": [
    "cv2.imwrite(\"test3.jpg\", ycrcbequ)"
   ]
  },
  {
   "cell_type": "code",
   "execution_count": null,
   "id": "13093a89",
   "metadata": {},
   "outputs": [],
   "source": []
  },
  {
   "cell_type": "code",
   "execution_count": 95,
   "id": "112ab2f7",
   "metadata": {},
   "outputs": [],
   "source": [
    "img_clahe[img_clahe>=200]=0\n",
    "cv2.imshow(\"clahe\",img_clahe)\n",
    "k = cv2.waitKey(0) \n",
    "cv2.destroyAllWindows()"
   ]
  },
  {
   "cell_type": "code",
   "execution_count": 48,
   "id": "4ee520dd",
   "metadata": {},
   "outputs": [
    {
     "data": {
      "text/plain": [
       "True"
      ]
     },
     "execution_count": 48,
     "metadata": {},
     "output_type": "execute_result"
    }
   ],
   "source": [
    "cv2.imwrite('test1.jpg',img_clahe)"
   ]
  },
  {
   "cell_type": "code",
   "execution_count": 50,
   "id": "6d962070",
   "metadata": {},
   "outputs": [
    {
     "data": {
      "text/plain": [
       "array([ 0, 42, 50], dtype=uint8)"
      ]
     },
     "execution_count": 50,
     "metadata": {},
     "output_type": "execute_result"
    }
   ],
   "source": [
    "img_clahe[40,50]"
   ]
  },
  {
   "cell_type": "code",
   "execution_count": 57,
   "id": "bd5b6184",
   "metadata": {},
   "outputs": [],
   "source": [
    "# 밝기 채널에 대해서 CLAHE 적용\n",
    "\n",
    "img_clahe = img_yuv.copy()\n",
    "clahe = cv2.createCLAHE(clipLimit=3.0, tileGridSize=(8,8)) #CLAHE 생성\n",
    "img_clahe[:,:,0] = clahe.apply(img_clahe[:,:,0])           #CLAHE 적용\n",
    "img_clahe = cv2.cvtColor(img_clahe, cv2.COLOR_YUV2BGR)\n",
    "\n",
    "# h : -180 ~ 180\n",
    "# s : 0 ~ 255\n",
    "# v : 0 ~ 255\n",
    "# 최소값\n",
    "lower = np.array([100, 0, 0])\n",
    "# # 최대값\n",
    "upper = np.array([180, 255, 255])\n",
    "# # 출력\n",
    "hsv = cv2.cvtColor(imgcopy, cv2.COLOR_BGR2HSV)\n",
    "# # 최소값과 최대값에 해당되는 범위를 마스크로 생성\n",
    "mask = cv2.inRange(hsv, lower, upper)\n",
    "# # 마스크에 포함된 이미지 픽셀값만을 (마스크와 이미지를 AND 연산) 이미지에 표시\n",
    "imgcopy = cv2.bitwise_and(imgcopy, imgcopy, mask=mask)\n",
    "\n",
    "imgcopy = cv2.cvtColor(imgcopy, cv2.COLOR_HSV2BGR)\n",
    "#img = cv2.cvtColor(img, cv2.COLOR_RGB2GRAY)\n",
    "\n",
    "\n",
    "cv2.imshow(\"clahe\", img_clahe)\n",
    "cv2.imshow(\"mask\", imgcopy)\n",
    "cv2.waitKey(0)\n",
    "cv2.destroyAllWindows()"
   ]
  },
  {
   "cell_type": "code",
   "execution_count": 47,
   "id": "ea049605",
   "metadata": {
    "collapsed": true
   },
   "outputs": [
    {
     "data": {
      "text/plain": [
       "array([[[  0, 130,   0],\n",
       "        [  0, 130,   0],\n",
       "        [  0, 130,   0],\n",
       "        ...,\n",
       "        [  0,  66,   0],\n",
       "        [189, 255, 129],\n",
       "        [189, 255, 129]],\n",
       "\n",
       "       [[  0, 130,   0],\n",
       "        [  0, 130,   0],\n",
       "        [  0, 130,   0],\n",
       "        ...,\n",
       "        [194, 255, 127],\n",
       "        [189, 255, 129],\n",
       "        [207, 255, 128]],\n",
       "\n",
       "       [[  0, 130,   0],\n",
       "        [  0, 130,   0],\n",
       "        [  0, 130,   0],\n",
       "        ...,\n",
       "        [209, 255, 125],\n",
       "        [207, 255, 128],\n",
       "        [215, 255, 122]],\n",
       "\n",
       "       ...,\n",
       "\n",
       "       [[118, 255, 116],\n",
       "        [111, 255, 118],\n",
       "        [111, 255, 118],\n",
       "        ...,\n",
       "        [  0,  36,  46],\n",
       "        [  0,  31,  65],\n",
       "        [  0,  32,  84]],\n",
       "\n",
       "       [[105, 255, 120],\n",
       "        [107, 255, 119],\n",
       "        [107, 255, 119],\n",
       "        ...,\n",
       "        [  0,  34,  58],\n",
       "        [  0,  32,  66],\n",
       "        [  0,  29,  74]],\n",
       "\n",
       "       [[130, 255, 112],\n",
       "        [107, 255, 119],\n",
       "        [122, 255, 114],\n",
       "        ...,\n",
       "        [  0,  31,  57],\n",
       "        [  0,  32,  66],\n",
       "        [  0,  33,  77]]], dtype=uint8)"
      ]
     },
     "execution_count": 47,
     "metadata": {},
     "output_type": "execute_result"
    }
   ],
   "source": [
    "img_clahe"
   ]
  },
  {
   "cell_type": "code",
   "execution_count": null,
   "id": "543b9834",
   "metadata": {},
   "outputs": [],
   "source": []
  },
  {
   "cell_type": "code",
   "execution_count": 78,
   "id": "cf395feb",
   "metadata": {},
   "outputs": [],
   "source": [
    "#imged = cv2.cvtColor(imgcopy, cv2.IMREAD_GRAYSCALE)\n",
    "\n",
    "edge = cv2.Canny(imged, 50, 200)\n",
    "# 색상 반전\n",
    "edge2 = cv2.bitwise_not(edge)\n",
    "\n",
    "cv2.imshow(\"edge\", edge)\n",
    "\n",
    "k = cv2.waitKey(0)\n",
    "cv2.destroyAllWindows()"
   ]
  },
  {
   "cell_type": "code",
   "execution_count": null,
   "id": "758ce75a",
   "metadata": {},
   "outputs": [],
   "source": []
  },
  {
   "cell_type": "markdown",
   "id": "f649365f",
   "metadata": {},
   "source": [
    "## 이미지 딱 자르기"
   ]
  },
  {
   "cell_type": "code",
   "execution_count": 62,
   "id": "0116bd98",
   "metadata": {},
   "outputs": [],
   "source": [
    "import cv2, sys\n",
    "from matplotlib import pyplot as plt\n",
    "import numpy as np"
   ]
  },
  {
   "cell_type": "code",
   "execution_count": 63,
   "id": "29bd4d73",
   "metadata": {},
   "outputs": [
    {
     "name": "stdout",
     "output_type": "stream",
     "text": [
      "0\n",
      "73\n",
      "0\n",
      "74\n"
     ]
    },
    {
     "name": "stderr",
     "output_type": "stream",
     "text": [
      "C:\\Users\\smhrd\\AppData\\Local\\Temp/ipykernel_23976/3944562558.py:26: VisibleDeprecationWarning: Creating an ndarray from ragged nested sequences (which is a list-or-tuple of lists-or-tuples-or ndarrays with different lengths or shapes) is deprecated. If you meant to do this, you must specify 'dtype=object' when creating the ndarray.\n",
      "  contours_xy = np.array(contours)\n"
     ]
    }
   ],
   "source": [
    "# PIL로 잘려진 이미지 cv로 변환\n",
    "noImage = np.array(croppedImage)\n",
    "noImage = cv2.cvtColor(noImage, cv2.COLOR_RGB2BGR)\n",
    "imgcopy = noImage.copy()\n",
    "#imgcopy = cv2.cvtColor(imgcopy, cv2.COLOR_BGR2RGB)\n",
    "image_gray = cv2.cvtColor(imgcopy, cv2.IMREAD_GRAYSCALE)\n",
    "\n",
    "# 에지 검출\n",
    "edge = cv2.Canny(image_gray, 50, 129)\n",
    "# 색상 반전\n",
    "edge2 = cv2.bitwise_not(edge)\n",
    "\n",
    "cv2.imshow(\"edge\", edge)\n",
    "cv2.waitKey(0)\n",
    "cv2.destroyAllWindows()\n",
    "\n",
    "kernel = cv2.getStructuringElement(cv2.MORPH_RECT, (7,7))\n",
    "closed = cv2.morphologyEx(edge, cv2.MORPH_CLOSE, kernel)\n",
    "cv2.imshow('closed', closed)\n",
    "cv2.waitKey(0)\n",
    "cv2.destroyAllWindows()\n",
    "\n",
    "contours, _ = cv2.findContours(closed.copy(),cv2.RETR_EXTERNAL, cv2.CHAIN_APPROX_SIMPLE)\n",
    "total = 0\n",
    "\n",
    "contours_xy = np.array(contours)\n",
    "contours_xy.shape\n",
    "\n",
    "# x의 min과 max 찾기\n",
    "x_min, x_max = 0,0\n",
    "value = list()\n",
    "for i in range(len(contours_xy)):\n",
    "    for j in range(len(contours_xy[i])):\n",
    "        value.append(contours_xy[i][j][0][0]) #네번째 괄호가 0일때 x의 값\n",
    "        x_min = min(value)\n",
    "        x_max = max(value)\n",
    "print(x_min)\n",
    "print(x_max)\n",
    " \n",
    "# y의 min과 max 찾기\n",
    "y_min, y_max = 0,0\n",
    "value = list()\n",
    "for i in range(len(contours_xy)):\n",
    "    for j in range(len(contours_xy[i])):\n",
    "        value.append(contours_xy[i][j][0][1]) #네번째 괄호가 0일때 x의 값\n",
    "        y_min = min(value)\n",
    "        y_max = max(value)\n",
    "print(y_min)\n",
    "print(y_max)\n",
    "\n",
    "# image trim 하기\n",
    "x = x_min\n",
    "y = y_min\n",
    "w = x_max-x_min\n",
    "h = y_max-y_min"
   ]
  },
  {
   "cell_type": "markdown",
   "id": "3ad7db27",
   "metadata": {},
   "source": [
    "## 자른 이미지 보여주기"
   ]
  },
  {
   "cell_type": "code",
   "execution_count": 64,
   "id": "d7fa0f2e",
   "metadata": {},
   "outputs": [
    {
     "data": {
      "image/png": "[encoded data removed]",
      "text/plain": [
       "<Figure size 432x288 with 1 Axes>"
      ]
     },
     "metadata": {},
     "output_type": "display_data"
    }
   ],
   "source": [
    "# 이미지 자르기 crop함수 이용 ex. crop(left,up, rigth, down)\n",
    "finger_image = croppedImage.crop((x_min,y_min,x_max,y_max))\n",
    "finger_image.show()\n",
    "\n",
    "plt.imshow(finger_image)\n",
    "plt.xticks([])\n",
    "plt.yticks([])\n",
    "plt.show()"
   ]
  },
  {
   "cell_type": "code",
   "execution_count": null,
   "id": "f31d6052",
   "metadata": {},
   "outputs": [],
   "source": []
  },
  {
   "cell_type": "code",
   "execution_count": 101,
   "id": "eb2dc645",
   "metadata": {},
   "outputs": [],
   "source": [
    "finger_image = np.array(finger_image)\n",
    "\n",
    "hsv_img = cv2.cvtColor(finger_image, cv2.COLOR_BGR2HSV)  # BGR to HSV conversion\n",
    "hsv_img = cv2.resize(hsv_img, (250, 250))\n",
    "\n",
    "img_s = hsv_img[:, :, 1]  # Extracting Saturation channel on which we will work\n",
    "\n",
    "img_s_blur = cv2.GaussianBlur(img_s, (7, 7), 0)  # smoothing before applying  threshold\n",
    "\n",
    "img_s_binary = cv2.threshold(img_s_blur, 0, 255, cv2.THRESH_BINARY_INV + cv2.THRESH_OTSU)[1]  # Thresholding to generate binary image (ROI detection)\n",
    "kernel = cv2.getStructuringElement(cv2.MORPH_RECT, (5, 5))\n",
    "img_s_binary = cv2.morphologyEx(img_s_binary, cv2.MORPH_OPEN, kernel, iterations=3)  # reduce some noise\n",
    "\n",
    "img_croped = cv2.bitwise_and(img_s, img_s_binary) * 2  # ROI only image extraction & contrast enhancement, you can crop this region \n",
    "\n",
    "abs_grad_x = cv2.convertScaleAbs(cv2.Sobel(img_croped, cv2.CV_64F, 1, 0, ksize=3))\n",
    "abs_grad_y = cv2.convertScaleAbs(cv2.Sobel(img_croped, cv2.CV_64F, 0, 1, ksize=3))\n",
    "grad = cv2.addWeighted(abs_grad_x, .5, abs_grad_y, .5, 0)  # Gradient calculation\n",
    "grad = cv2.medianBlur(grad, 13)\n",
    "\n",
    "edges = cv2.threshold(grad, 0, 255, cv2.THRESH_BINARY + cv2.THRESH_OTSU)[1]\n",
    "\n",
    "cnts = cv2.findContours(edges, cv2.RETR_EXTERNAL, cv2.CHAIN_APPROX_SIMPLE)  # Contours Detection\n",
    "cnts = cnts[0] if len(cnts) == 2 else cnts[1]\n",
    "cnt = None\n",
    "max_area = 0\n",
    "for c in cnts:\n",
    "    area = cv2.contourArea(c)\n",
    "    if area > max_area:  # Filtering contour\n",
    "        max_area = area\n",
    "        cnt = c\n",
    "\n",
    "cv2.drawContours(hsv_img, [cnt], 0, (0, 255, 0), 3)\n",
    "\n",
    "cv2.imshow(\"img_s\", img_s)\n",
    "cv2.imshow(\"img_s_blur\", img_s_blur)\n",
    "cv2.imshow(\"img_croped\", img_croped)\n",
    "cv2.imshow(\"grad\", grad)\n",
    "cv2.imshow(\"Edges\",edges)\n",
    "#cv2.imshow(\"mask\",mask)\n",
    "cv2.waitKey(0)\n",
    "cv2.destroyAllWindows()"
   ]
  },
  {
   "cell_type": "code",
   "execution_count": null,
   "id": "bfd5c4d3",
   "metadata": {},
   "outputs": [],
   "source": []
  },
  {
   "cell_type": "code",
   "execution_count": null,
   "id": "bb30f903",
   "metadata": {},
   "outputs": [],
   "source": []
  },
  {
   "cell_type": "code",
   "execution_count": null,
   "id": "1168406f",
   "metadata": {},
   "outputs": [],
   "source": []
  },
  {
   "cell_type": "markdown",
   "id": "fd01e830",
   "metadata": {},
   "source": [
    "## 헤리스 표현인데 쓸지 안쓸지 모름"
   ]
  },
  {
   "cell_type": "code",
   "execution_count": 107,
   "id": "8860e234",
   "metadata": {},
   "outputs": [],
   "source": [
    "finger = np.array(finger_image)\n",
    "gray = cv2.cvtColor(finger, cv2.COLOR_BGR2GRAY)\n",
    "\n",
    "corner = cv2.cornerHarris(gray, 2, 3, 0.05)\n",
    "finger[corner > 0.01 * corner.max()] = [0,255,0]\n",
    "\n",
    "corner_norm = cv2.normalize(corner, None, 0, 255, cv2.NORM_MINMAX, cv2.CV_8U)\n",
    "\n",
    "cv2.imshow('Harris', imgcopy)\n",
    "cv2.imshow('corner', corner_norm)\n",
    "cv2.waitKey(0)\n",
    "cv2.destroyAllWindows()"
   ]
  },
  {
   "cell_type": "code",
   "execution_count": null,
   "id": "5a7df7c6",
   "metadata": {},
   "outputs": [],
   "source": []
  },
  {
   "cell_type": "code",
   "execution_count": null,
   "id": "6a6e939d",
   "metadata": {},
   "outputs": [],
   "source": []
  },
  {
   "cell_type": "code",
   "execution_count": null,
   "id": "239ba359",
   "metadata": {},
   "outputs": [],
   "source": []
  },
  {
   "cell_type": "code",
   "execution_count": 23,
   "id": "f37fc8b5",
   "metadata": {},
   "outputs": [],
   "source": [
    "def processImage(image_path, output_dir):\n",
    "    \"\"\" Process input image and save output image to given directory. \"\"\"\n",
    "    image = cv2.flip(cv2.imread(image_path), 1)\n",
    "    if image is None: return\n",
    "    # Convert the BGR image to RGB before processing.\n",
    "    results = hands.process(cv2.cvtColor(image, cv2.COLOR_BGR2RGB))\n",
    "\n",
    "    if not results.multi_hand_landmarks:\n",
    "        return # if there are no detections, we can skip the rest of the code in this function\n",
    "\n",
    "    for hand_landmarks in results.multi_hand_landmarks:\n",
    "        mp_drawing.draw_landmarks(\n",
    "            image,\n",
    "            hand_landmarks,\n",
    "            mp_hands.HAND_CONNECTIONS,\n",
    "            mp_drawing_styles.get_default_hand_landmarks_style(),\n",
    "            mp_drawing_styles.get_default_hand_connections_style())\n",
    "    # flip and write output image to disk\n",
    "    cv2.imwrite(f\"{output_dir}/{image_path.split('/')[-1]}\", cv2.flip(image, 1))"
   ]
  },
  {
   "cell_type": "code",
   "execution_count": 27,
   "id": "c1172002",
   "metadata": {},
   "outputs": [
    {
     "ename": "FileNotFoundError",
     "evalue": "[WinError 3] 지정된 경로를 찾을 수 없습니다: '0.jpg'",
     "output_type": "error",
     "traceback": [
      "\u001b[1;31m---------------------------------------------------------------------------\u001b[0m",
      "\u001b[1;31mFileNotFoundError\u001b[0m                         Traceback (most recent call last)",
      "\u001b[1;32m~\\AppData\\Local\\Temp/ipykernel_6632/3803258070.py\u001b[0m in \u001b[0;36m<module>\u001b[1;34m\u001b[0m\n\u001b[0;32m      1\u001b[0m \u001b[1;32mimport\u001b[0m \u001b[0mos\u001b[0m\u001b[1;33m\u001b[0m\u001b[1;33m\u001b[0m\u001b[0m\n\u001b[1;32m----> 2\u001b[1;33m \u001b[1;32mfor\u001b[0m \u001b[0mimage\u001b[0m \u001b[1;32min\u001b[0m \u001b[0mos\u001b[0m\u001b[1;33m.\u001b[0m\u001b[0mlistdir\u001b[0m\u001b[1;33m(\u001b[0m\u001b[1;34m\"0.jpg\"\u001b[0m\u001b[1;33m)\u001b[0m\u001b[1;33m:\u001b[0m\u001b[1;33m\u001b[0m\u001b[1;33m\u001b[0m\u001b[0m\n\u001b[0m\u001b[0;32m      3\u001b[0m     \u001b[0mprocessImage\u001b[0m\u001b[1;33m(\u001b[0m\u001b[1;34mf\"img/{image}\"\u001b[0m\u001b[1;33m,\u001b[0m \u001b[1;34m\"output\"\u001b[0m\u001b[1;33m)\u001b[0m\u001b[1;33m\u001b[0m\u001b[1;33m\u001b[0m\u001b[0m\n",
      "\u001b[1;31mFileNotFoundError\u001b[0m: [WinError 3] 지정된 경로를 찾을 수 없습니다: '0.jpg'"
     ]
    }
   ],
   "source": [
    "import os\n",
    "for image in os.listdir(\"0.jpg\"):\n",
    "    processImage(f\"img/{image}\", \"output\")"
   ]
  },
  {
   "cell_type": "code",
   "execution_count": null,
   "id": "c57ac844",
   "metadata": {},
   "outputs": [],
   "source": []
  }
 ],
 "metadata": {
  "kernelspec": {
   "display_name": "Python 3 (ipykernel)",
   "language": "python",
   "name": "python3"
  },
  "language_info": {
   "codemirror_mode": {
    "name": "ipython",
    "version": 3
   },
   "file_extension": ".py",
   "mimetype": "text/x-python",
   "name": "python",
   "nbconvert_exporter": "python",
   "pygments_lexer": "ipython3",
   "version": "3.7.13"
  },
  "toc": {
   "base_numbering": 1,
   "nav_menu": {},
   "number_sections": true,
   "sideBar": true,
   "skip_h1_title": false,
   "title_cell": "Table of Contents",
   "title_sidebar": "Contents",
   "toc_cell": false,
   "toc_position": {
    "height": "calc(100% - 180px)",
    "left": "10px",
    "top": "150px",
    "width": "216.391px"
   },
   "toc_section_display": true,
   "toc_window_display": true
  }
 },
 "nbformat": 4,
 "nbformat_minor": 5
}
