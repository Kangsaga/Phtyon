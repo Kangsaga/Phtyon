{
 "cells": [
  {
   "cell_type": "code",
   "execution_count": 2,
   "id": "48e3401c",
   "metadata": {},
   "outputs": [],
   "source": [
    "import numpy as np\n",
    "import cv2\n",
    "from sklearn.cluster import KMeans\n",
    "from collections import Counter\n",
    "import imutils\n",
    "import pprint\n",
    "from matplotlib import pyplot as plt\n",
    "from PIL import Image\n",
    "import os, sys"
   ]
  },
  {
   "cell_type": "markdown",
   "id": "b6b263bd",
   "metadata": {},
   "source": [
    "# img, mask 불러오기"
   ]
  },
  {
   "cell_type": "code",
   "execution_count": 3,
   "id": "90317823",
   "metadata": {},
   "outputs": [],
   "source": [
    "# 플라스크 서버 연동할 때 경로랑 손가락 구분하는거 다시 생각해보기\n",
    "def img_mask_read(save_source, design_nail_crops):\n",
    "    # 사용자 전체 손 사진\n",
    "    img = cv2.imread(save_source)\n",
    "    # 잘려진 손톱 사진\n",
    "    mask = cv2.imread(design_nail_crops)\n",
    "    return img, mask"
   ]
  },
  {
   "cell_type": "markdown",
   "id": "cf99a3a5",
   "metadata": {},
   "source": [
    "# img 영역 찾기"
   ]
  },
  {
   "cell_type": "code",
   "execution_count": 4,
   "id": "4711fb1e",
   "metadata": {},
   "outputs": [],
   "source": [
    "def find_img_finger_1(img):\n",
    "    dst = img[178:331, 247:354].copy()\n",
    "    height, width, channel = dst.shape\n",
    "    x = 247\n",
    "    y = 178\n",
    "    return dst, x, y, height, width\n",
    "\n",
    "def find_img_finger_2(img):\n",
    "    dst = img[226:381, 389:511].copy()\n",
    "    height, width, channel = dst.shape\n",
    "    x = 389\n",
    "    y = 226\n",
    "    return dst, x, y, height, width\n",
    "\n",
    "def find_img_finger_3(img):\n",
    "    dst = img[300:447, 542:669].copy()\n",
    "    height, width, channel = dst.shape\n",
    "    x = 542\n",
    "    y = 300\n",
    "    return dst, x, y, height, width\n",
    "\n",
    "def find_img_finger_4(img):\n",
    "    dst = img[386:503, 670:786].copy()\n",
    "    height, width, channel = dst.shape\n",
    "    x = 670\n",
    "    y = 386\n",
    "    return dst, x, y, height, width"
   ]
  },
  {
   "cell_type": "markdown",
   "id": "24a805e1",
   "metadata": {},
   "source": [
    "# 피부색으로 손톱 검출하기"
   ]
  },
  {
   "cell_type": "code",
   "execution_count": 5,
   "id": "84a77c47",
   "metadata": {},
   "outputs": [],
   "source": [
    "def prety_print_data(color_info):\n",
    "    for x in color_info:\n",
    "        print(pprint.pformat(x))\n",
    "        print()\n",
    "        \n",
    "\n",
    "        \n",
    "def plotColorBar(colorInformation):\n",
    "    # Create a 500x100 black image\n",
    "    color_bar = np.zeros((100, 500, 3), dtype=\"uint8\")\n",
    "\n",
    "    top_x = 0\n",
    "    for x in colorInformation:\n",
    "        bottom_x = top_x + (x[\"color_percentage\"] * color_bar.shape[1])\n",
    "\n",
    "        color = tuple(map(int, (x['color'])))\n",
    "\n",
    "        cv2.rectangle(color_bar, (int(top_x), 0),\n",
    "                      (int(bottom_x), color_bar.shape[0]), color, -1)\n",
    "        top_x = bottom_x\n",
    "    return color_bar\n",
    "\n",
    "\n",
    "def extractDominantColor(image, number_of_colors=5, hasThresholding=False):\n",
    "\n",
    "    # Quick Fix Increase cluster counter to neglect the black(Read Article)\n",
    "    if hasThresholding == True:\n",
    "        number_of_colors += 1\n",
    "\n",
    "    # Taking Copy of the image\n",
    "    img = image.copy()\n",
    "\n",
    "    # Convert Image into RGB Colours Space\n",
    "    img = cv2.cvtColor(img, cv2.COLOR_BGR2RGB)\n",
    "\n",
    "    # Reshape Image\n",
    "    img = img.reshape((img.shape[0]*img.shape[1]), 3)\n",
    "\n",
    "    # Initiate KMeans Object\n",
    "    estimator = KMeans(n_clusters=number_of_colors, random_state=0)\n",
    "\n",
    "    # Fit the image\n",
    "    estimator.fit(img)\n",
    "\n",
    "    # Get Colour Information\n",
    "    colorInformation = getColorInformation(\n",
    "        estimator.labels_, estimator.cluster_centers_, hasThresholding)\n",
    "    return colorInformation\n",
    "\n",
    "def getColorInformation(estimator_labels, estimator_cluster, hasThresholding=False):\n",
    "\n",
    "    # Variable to keep count of the occurance of each color predicted\n",
    "    occurance_counter = None\n",
    "\n",
    "    # Output list variable to return\n",
    "    colorInformation = []\n",
    "\n",
    "    # Check for Black\n",
    "    hasBlack = False\n",
    "\n",
    "    # If a mask has be applied, remove th black\n",
    "    if hasThresholding == True:\n",
    "\n",
    "        (occurance, cluster, black) = removeBlack(\n",
    "            estimator_labels, estimator_cluster)\n",
    "        occurance_counter = occurance\n",
    "        estimator_cluster = cluster\n",
    "        hasBlack = black\n",
    "\n",
    "    else:\n",
    "        occurance_counter = Counter(estimator_labels)\n",
    "\n",
    "    # Get the total sum of all the predicted occurances\n",
    "    totalOccurance = sum(occurance_counter.values())\n",
    "\n",
    "    # Loop through all the predicted colors\n",
    "    for x in occurance_counter.most_common(len(estimator_cluster)):\n",
    "\n",
    "        index = (int(x[0]))\n",
    "\n",
    "        # Quick fix for index out of bound when there is no threshold\n",
    "        index = (index-1) if ((hasThresholding & hasBlack)\n",
    "                              & (int(index) != 0)) else index\n",
    "\n",
    "        # Get the color number into a list\n",
    "        color = estimator_cluster[index].tolist()\n",
    "\n",
    "        # Get the percentage of each color\n",
    "        color_percentage = (x[1]/totalOccurance)\n",
    "\n",
    "        # make the dictionay of the information\n",
    "        colorInfo = {\"cluster_index\": index, \"color\": color,\n",
    "                     \"color_percentage\": color_percentage}\n",
    "\n",
    "        # Add the dictionary to the list\n",
    "        colorInformation.append(colorInfo)\n",
    "\n",
    "    return colorInformation\n",
    "\n",
    "def removeBlack(estimator_labels, estimator_cluster):\n",
    "\n",
    "    # Check for black\n",
    "    hasBlack = False\n",
    "\n",
    "    # Get the total number of occurance for each color\n",
    "    occurance_counter = Counter(estimator_labels)\n",
    "\n",
    "    # Quick lambda function to compare to lists\n",
    "    def compare(x, y): return Counter(x) == Counter(y)\n",
    "\n",
    "    # Loop through the most common occuring color\n",
    "    for x in occurance_counter.most_common(len(estimator_cluster)):\n",
    "\n",
    "        # Quick List comprehension to convert each of RBG Numbers to int\n",
    "        color = [int(i) for i in estimator_cluster[x[0]].tolist()]\n",
    "\n",
    "        # Check if the color is [0,0,0] that if it is black\n",
    "        if compare(color, [0, 0, 0]) == True:\n",
    "            # delete the occurance\n",
    "            del occurance_counter[x[0]]\n",
    "            # remove the cluster\n",
    "            hasBlack = True\n",
    "            estimator_cluster = np.delete(estimator_cluster, x[0], 0)\n",
    "            break\n",
    "\n",
    "    return (occurance_counter, estimator_cluster, hasBlack)\n",
    "\n",
    "def extractSkin(image):\n",
    "    # Taking a copy of the image\n",
    "    img = image.copy()\n",
    "    # Converting from BGR Colours Space to HSV\n",
    "    img = cv2.cvtColor(img, cv2.COLOR_BGR2HSV)\n",
    "\n",
    "    # Defining HSV Threadholds\n",
    "    lower_threshold = np.array([0, 48, 80], dtype=np.uint8)\n",
    "    upper_threshold = np.array([20, 255, 255], dtype=np.uint8)\n",
    "\n",
    "    # Single Channel mask,denoting presence of colours in the about threshold\n",
    "    skinMask = cv2.inRange(img, lower_threshold, upper_threshold)\n",
    "\n",
    "    # Cleaning up mask using Gaussian Filter\n",
    "    skinMask = cv2.GaussianBlur(skinMask, (3, 3), 0)\n",
    "\n",
    "    # Extracting skin from the threshold mask\n",
    "    skin = cv2.bitwise_and(img, img, mask=skinMask)\n",
    "\n",
    "    # Return the Skin image\n",
    "    return cv2.cvtColor(skin, cv2.COLOR_HSV2BGR)"
   ]
  },
  {
   "cell_type": "code",
   "execution_count": 6,
   "id": "7a4553d9",
   "metadata": {},
   "outputs": [],
   "source": [
    "# 손톱에서 피부 색만 제외한 부분 검은색으로 하기 \n",
    "def find_design_nail(mask):\n",
    "    nailBasic = imutils.resize(mask, width=250)\n",
    "    # 손톱에서 피부색만 추출\n",
    "    skin = extractSkin(nailBasic)\n",
    "    dominantColors2 = extractDominantColor(skin, hasThresholding=True)\n",
    "    prety_print_data(dominantColors2)\n",
    "    # 추출해낸 피부색을 담고 있는 막대기\n",
    "    colour_bar = plotColorBar(dominantColors2)\n",
    "    return skin, mask"
   ]
  },
  {
   "cell_type": "markdown",
   "id": "a4582dd7",
   "metadata": {},
   "source": [
    "# 검은색 손톱부분 흰색으로 반전시키기"
   ]
  },
  {
   "cell_type": "code",
   "execution_count": 7,
   "id": "2b79434b",
   "metadata": {},
   "outputs": [],
   "source": [
    "# skin 색상을 제외한 손톱의 검은 영역을 흰색으로 반전시키기 \n",
    "def black_2_white(skin):\n",
    "    # skin색상 부분만 그레이로 바꾼뒤 검은색 손톱 부분 제외하고 흰색으로 처리하기\n",
    "    nailGray2 = cv2.cvtColor(skin, cv2.COLOR_BGR2GRAY)\n",
    "    th2, mask2 = cv2.threshold(nailGray2, 0, 255, cv2.THRESH_BINARY | cv2.THRESH_OTSU)\n",
    "    \n",
    "    # 흰색부분이 마스크가 되기 위해서 검은색 손톱 부분을 흰색으로 반전\n",
    "    mask_b_inv = cv2.bitwise_not(mask2)\n",
    "    return mask_b_inv, mask2"
   ]
  },
  {
   "cell_type": "markdown",
   "id": "9a8b3009",
   "metadata": {},
   "source": [
    "# 흰색인 손톱 부분을 원래 디자인 사진에 적용시키기"
   ]
  },
  {
   "cell_type": "code",
   "execution_count": 8,
   "id": "655eed31",
   "metadata": {},
   "outputs": [],
   "source": [
    "def mask_extract(mask, mask_b_inv):\n",
    "    height, width, channel = mask.shape\n",
    "    mask_b_inv = cv2.resize(mask_b_inv, (width, height))\n",
    "    \n",
    "    #마스크에 해당하는 이미지만 추출하기\n",
    "    img_fg = cv2.bitwise_and(mask, mask, mask=mask_b_inv)\n",
    "    return img_fg"
   ]
  },
  {
   "cell_type": "markdown",
   "id": "c35704d1",
   "metadata": {},
   "source": [
    "# 사용자 손톱 각도에 맞춰 회전, resize 하기"
   ]
  },
  {
   "cell_type": "code",
   "execution_count": 9,
   "id": "55e01ba2",
   "metadata": {},
   "outputs": [],
   "source": [
    "def rotate_resize_1(img_fg, height, width):\n",
    "    # 회전하기\n",
    "    img_fg_copy = img_fg.copy()\n",
    "    h, w = img_fg_copy.shape[:2]\n",
    "    \n",
    "    nail = cv2.getRotationMatrix2D((w//2 , h//2 ), -20, 1)\n",
    "    img_fg_rotate = cv2.warpAffine(img_fg_copy, nail,(w, h))\n",
    "    cv2.imshow('nail', img_fg_rotate)\n",
    "    cv2.waitKey(0)\n",
    "    cv2.destroyAllWindows()\n",
    "    \n",
    "    # resize\n",
    "    img_fg_resize = cv2.resize(img_fg_rotate, (width+20, height+10))\n",
    "    return img_fg_resize"
   ]
  },
  {
   "cell_type": "markdown",
   "id": "5929e522",
   "metadata": {},
   "source": [
    "## 중지"
   ]
  },
  {
   "cell_type": "code",
   "execution_count": 10,
   "id": "072cf751",
   "metadata": {},
   "outputs": [],
   "source": [
    "def rotate_resize_2(img_fg, height, width):\n",
    "    # 회전하기\n",
    "    img_fg_copy = img_fg.copy()\n",
    "    h, w = img_fg_copy.shape[:2]\n",
    "    \n",
    "    nail = cv2.getRotationMatrix2D((w//2 , h//2 ), -20, 1)\n",
    "    img_fg_rotate = cv2.warpAffine(img_fg_copy, nail,(w, h))\n",
    "    cv2.imshow('nail', img_fg_rotate)\n",
    "    cv2.waitKey(0)\n",
    "    cv2.destroyAllWindows()\n",
    "    \n",
    "    # resize\n",
    "    img_fg_resize = cv2.resize(img_fg_rotate, (width+5, height+10))\n",
    "    return img_fg_resize"
   ]
  },
  {
   "cell_type": "markdown",
   "id": "83ab1959",
   "metadata": {},
   "source": [
    "## 약지"
   ]
  },
  {
   "cell_type": "code",
   "execution_count": 11,
   "id": "b3ade3a3",
   "metadata": {},
   "outputs": [],
   "source": [
    "def rotate_resize_3(img_fg, height, width):\n",
    "    # 회전하기\n",
    "    img_fg_copy = img_fg.copy()\n",
    "    h, w = img_fg_copy.shape[:2]\n",
    "    \n",
    "    nail = cv2.getRotationMatrix2D((w//2 , h//2 ), -10, 1)\n",
    "    img_fg_rotate = cv2.warpAffine(img_fg_copy, nail,(w, h))\n",
    "    cv2.imshow('nail', img_fg_rotate)\n",
    "    cv2.waitKey(0)\n",
    "    cv2.destroyAllWindows()\n",
    "    \n",
    "    # resize\n",
    "    img_fg_resize = cv2.resize(img_fg_rotate, (width+20, height+25))\n",
    "    return img_fg_resize"
   ]
  },
  {
   "cell_type": "markdown",
   "id": "e0532236",
   "metadata": {},
   "source": [
    "## 새끼"
   ]
  },
  {
   "cell_type": "code",
   "execution_count": 12,
   "id": "af304093",
   "metadata": {},
   "outputs": [],
   "source": [
    "def rotate_resize_4(img_fg, height, width):\n",
    "    # 회전하기\n",
    "    img_fg_copy = img_fg.copy()\n",
    "    h, w = img_fg_copy.shape[:2]\n",
    "    \n",
    "    nail = cv2.getRotationMatrix2D((w//2 , h//2 ), -25, 1)\n",
    "    img_fg_rotate = cv2.warpAffine(img_fg_copy, nail,(w, h))\n",
    "    cv2.imshow('nail', img_fg_rotate)\n",
    "    cv2.waitKey(0)\n",
    "    cv2.destroyAllWindows()\n",
    "    \n",
    "    # resize\n",
    "    img_fg_resize = cv2.resize(img_fg_rotate, (width-4, height+36))\n",
    "    return img_fg_resize"
   ]
  },
  {
   "cell_type": "markdown",
   "id": "9125235c",
   "metadata": {},
   "source": [
    "# 배경 부분 투명처리하고 합치기"
   ]
  },
  {
   "cell_type": "code",
   "execution_count": 13,
   "id": "4037a617",
   "metadata": {},
   "outputs": [],
   "source": [
    "def transparent(img_fg_resize, x, y):\n",
    "    color_coverted = cv2.cvtColor(img_fg_resize, cv2.COLOR_BGR2RGB)\n",
    "    pillow_mask = Image.fromarray(color_coverted)\n",
    "    pil_mask = pillow_mask.convert(\"RGBA\")\n",
    "    datas = pil_mask.getdata()\n",
    "    \n",
    "    newData = []\n",
    "    for item in datas:\n",
    "        if item[0] < 10 and item[1] < 10 and item[2] < 10:\n",
    "            newData.append((item[0], item[1], item[2], 0))\n",
    "        else:\n",
    "            newData.append(item)\n",
    "    \n",
    "    pil_mask.putdata(newData)\n",
    "    \n",
    "    # 여기는 플라스크 서버 연동하고 경로 변경해야함\n",
    "    pillow_img = Image.open(\"./img/19.png\")\n",
    "    pillow_img.paste(pil_mask, (x, y), pil_mask)\n",
    "    return pillow_img    "
   ]
  },
  {
   "cell_type": "code",
   "execution_count": 14,
   "id": "b4d66635",
   "metadata": {},
   "outputs": [],
   "source": [
    "def transparent2(img_fg_resize, x, y):\n",
    "    color_coverted = cv2.cvtColor(img_fg_resize, cv2.COLOR_BGR2RGB)\n",
    "    pillow_mask = Image.fromarray(color_coverted)\n",
    "    pil_mask = pillow_mask.convert(\"RGBA\")\n",
    "    datas = pil_mask.getdata()\n",
    "    \n",
    "    newData = []\n",
    "    for item in datas:\n",
    "        if item[0] < 10 and item[1] < 10 and item[2] < 10:\n",
    "            newData.append((item[0], item[1], item[2], 0))\n",
    "        else:\n",
    "            newData.append(item)\n",
    "    \n",
    "    pil_mask.putdata(newData)\n",
    "    \n",
    "    # 여기는 플라스크 서버 연동하고 경로 변경해야함\n",
    "    pillow_img = Image.open(\"./19.jpg\")\n",
    "    pillow_img.paste(pil_mask, (x, y), pil_mask)\n",
    "    return pillow_img    "
   ]
  },
  {
   "cell_type": "markdown",
   "id": "3bc84d8a",
   "metadata": {},
   "source": [
    "# 테스트"
   ]
  },
  {
   "cell_type": "code",
   "execution_count": 15,
   "id": "a61ef29c",
   "metadata": {},
   "outputs": [],
   "source": [
    "# 합성할 이미지\n",
    "img = cv2.imread(\"./img/19.png\") # 사용자 손 사진\n",
    "mask = cv2.imread(\"./img/3.jpg\") # 욜로 돌아간 뒤 잘라진 사진 "
   ]
  },
  {
   "cell_type": "code",
   "execution_count": 16,
   "id": "1eb9cf4a",
   "metadata": {},
   "outputs": [
    {
     "data": {
      "text/plain": [
       "(161, 122, 3)"
      ]
     },
     "execution_count": 16,
     "metadata": {},
     "output_type": "execute_result"
    }
   ],
   "source": [
    "mask.shape"
   ]
  },
  {
   "cell_type": "code",
   "execution_count": null,
   "id": "5e7ba95d",
   "metadata": {},
   "outputs": [],
   "source": []
  },
  {
   "cell_type": "code",
   "execution_count": 821,
   "id": "71530a79",
   "metadata": {},
   "outputs": [
    {
     "name": "stdout",
     "output_type": "stream",
     "text": [
      "389 226 155 122\n"
     ]
    }
   ],
   "source": [
    "dst, x, y, height, width = find_img_finger_2(img)\n",
    "print(x, y, height, width)\n",
    "\n",
    "cv2.imshow(\"dst\", dst)\n",
    "cv2.waitKey(0)\n",
    "cv2.destroyAllWindows()"
   ]
  },
  {
   "cell_type": "code",
   "execution_count": 822,
   "id": "32d5b1e6",
   "metadata": {},
   "outputs": [
    {
     "name": "stdout",
     "output_type": "stream",
     "text": [
      "{'cluster_index': 4,\n",
      " 'color': [165.63683818045945, 97.09563758389211, 81.95469798657912],\n",
      " 'color_percentage': 0.29975013881177126}\n",
      "\n",
      "{'cluster_index': 2,\n",
      " 'color': [144.2269639268952, 80.45383216916855, 69.35384173763347],\n",
      " 'color_percentage': 0.2878956135480289}\n",
      "\n",
      "{'cluster_index': 3,\n",
      " 'color': [177.90949302483887, 123.85539299081117, 108.12470227968785],\n",
      " 'color_percentage': 0.1641588006662965}\n",
      "\n",
      "{'cluster_index': 1,\n",
      " 'color': [116.11789562645224, 56.146207479400076, 47.651595182759394],\n",
      " 'color_percentage': 0.1308717379233759}\n",
      "\n",
      "{'cluster_index': 0,\n",
      " 'color': [144.03687943262412, 98.19078014184282, 92.8070921985824],\n",
      " 'color_percentage': 0.11732370905052748}\n",
      "\n"
     ]
    }
   ],
   "source": [
    "skin, mask = find_design_nail(mask)\n",
    "\n",
    "cv2.imshow('skin', skin)\n",
    "cv2.imshow('mask', mask)\n",
    "\n",
    "cv2.waitKey(0)\n",
    "cv2.destroyAllWindows()"
   ]
  },
  {
   "cell_type": "code",
   "execution_count": 823,
   "id": "2d4c61a9",
   "metadata": {},
   "outputs": [],
   "source": [
    "mask_b_inv, mask2 = black_2_white(skin)\n",
    "\n",
    "cv2.imshow('mask_b_inv', mask_b_inv)\n",
    "cv2.imshow('mask2', mask2)\n",
    "\n",
    "cv2.waitKey(0)\n",
    "cv2.destroyAllWindows()"
   ]
  },
  {
   "cell_type": "code",
   "execution_count": 824,
   "id": "4a4abe24",
   "metadata": {},
   "outputs": [
    {
     "data": {
      "text/plain": [
       "(329, 250)"
      ]
     },
     "execution_count": 824,
     "metadata": {},
     "output_type": "execute_result"
    }
   ],
   "source": [
    "mask2.shape"
   ]
  },
  {
   "cell_type": "code",
   "execution_count": 825,
   "id": "7412271e",
   "metadata": {},
   "outputs": [
    {
     "data": {
      "text/plain": [
       "(329, 250)"
      ]
     },
     "execution_count": 825,
     "metadata": {},
     "output_type": "execute_result"
    }
   ],
   "source": [
    "mask_b_inv.shape"
   ]
  },
  {
   "cell_type": "code",
   "execution_count": 826,
   "id": "a6ccb9be",
   "metadata": {},
   "outputs": [],
   "source": [
    "img_fg = mask_extract(mask, mask_b_inv)\n",
    "\n",
    "cv2.imshow('img_fg', img_fg)\n",
    "\n",
    "cv2.waitKey(0)\n",
    "cv2.destroyAllWindows()"
   ]
  },
  {
   "cell_type": "code",
   "execution_count": 691,
   "id": "f670cc64",
   "metadata": {},
   "outputs": [
    {
     "data": {
      "text/plain": [
       "(164, 114, 3)"
      ]
     },
     "execution_count": 691,
     "metadata": {},
     "output_type": "execute_result"
    }
   ],
   "source": [
    "img_fg.shape"
   ]
  },
  {
   "cell_type": "code",
   "execution_count": 692,
   "id": "9862ff3d",
   "metadata": {},
   "outputs": [],
   "source": [
    "img_fg_resize=rotate_resize_4(img_fg, height, width)\n",
    "\n",
    "cv2.imshow('img_fg_resize', img_fg_resize)\n",
    "\n",
    "cv2.waitKey(0)\n",
    "cv2.destroyAllWindows()"
   ]
  },
  {
   "cell_type": "code",
   "execution_count": 693,
   "id": "a166f03d",
   "metadata": {
    "scrolled": true
   },
   "outputs": [
    {
     "data": {
      "text/plain": [
       "(191, 118, 3)"
      ]
     },
     "execution_count": 693,
     "metadata": {},
     "output_type": "execute_result"
    }
   ],
   "source": [
    "img_fg_resize.shape"
   ]
  },
  {
   "cell_type": "code",
   "execution_count": 694,
   "id": "796fa81c",
   "metadata": {},
   "outputs": [
    {
     "name": "stdout",
     "output_type": "stream",
     "text": [
      "164 114\n"
     ]
    }
   ],
   "source": [
    "# 회전하기\n",
    "img_fg_copy = img_fg.copy()\n",
    "height , width = img_fg_copy.shape[:2]\n",
    "print(height, width)"
   ]
  },
  {
   "cell_type": "code",
   "execution_count": 695,
   "id": "f936c2c5",
   "metadata": {},
   "outputs": [
    {
     "data": {
      "text/plain": [
       "(164, 114, 3)"
      ]
     },
     "execution_count": 695,
     "metadata": {},
     "output_type": "execute_result"
    }
   ],
   "source": [
    "img_fg_copy.shape"
   ]
  },
  {
   "cell_type": "code",
   "execution_count": 700,
   "id": "0fc17f98",
   "metadata": {},
   "outputs": [],
   "source": [
    "img_fg_resize = rotate_resize_4(img_fg, height, width)"
   ]
  },
  {
   "cell_type": "code",
   "execution_count": 696,
   "id": "5bd492b5",
   "metadata": {},
   "outputs": [],
   "source": [
    "nail = cv2.getRotationMatrix2D((weight//2 , height//2 ), -20, 1)\n",
    "img_fg_rotate = cv2.warpAffine(img_fg_copy, nail,(weight, height))\n",
    "cv2.imshow('nail', img_fg_rotate)\n",
    "cv2.waitKey(0)\n",
    "cv2.destroyAllWindows()"
   ]
  },
  {
   "cell_type": "code",
   "execution_count": 697,
   "id": "6b160743",
   "metadata": {},
   "outputs": [],
   "source": [
    "# resize\n",
    "img_fg_resize = cv2.resize(img_fg_rotate, (117, 177))"
   ]
  },
  {
   "cell_type": "code",
   "execution_count": 701,
   "id": "931b1f5a",
   "metadata": {},
   "outputs": [
    {
     "data": {
      "text/plain": [
       "(200, 110, 3)"
      ]
     },
     "execution_count": 701,
     "metadata": {},
     "output_type": "execute_result"
    }
   ],
   "source": [
    "img_fg_resize.shape"
   ]
  },
  {
   "cell_type": "code",
   "execution_count": null,
   "id": "25114a51",
   "metadata": {},
   "outputs": [],
   "source": []
  },
  {
   "cell_type": "code",
   "execution_count": 702,
   "id": "caf1c0d2",
   "metadata": {},
   "outputs": [],
   "source": [
    "pillow_image = transparent(img_fg_resize, x, y)\n",
    "pillow_image.show()"
   ]
  },
  {
   "cell_type": "code",
   "execution_count": null,
   "id": "cc0fce3b",
   "metadata": {},
   "outputs": [],
   "source": []
  },
  {
   "cell_type": "markdown",
   "id": "00f612c6",
   "metadata": {},
   "source": [
    "# 테스트"
   ]
  },
  {
   "cell_type": "code",
   "execution_count": 18,
   "id": "95d08bac",
   "metadata": {},
   "outputs": [],
   "source": [
    "# 합성할 이미지\n",
    "img = cv2.imread(\"./img/19.png\") # 사용자 손 사진\n",
    "mask1 = cv2.imread(\"./img/3.jpg\") # 욜로 돌아간 뒤 잘라진 사진 \n",
    "mask2 = cv2.imread(\"./img/3-2.jpg\")\n",
    "mask3 = cv2.imread(\"./img/3-3.jpg\")\n",
    "mask4 = cv2.imread(\"./img/3-4.jpg\")"
   ]
  },
  {
   "cell_type": "code",
   "execution_count": 19,
   "id": "7ec285cf",
   "metadata": {},
   "outputs": [],
   "source": [
    "cv2.imshow(\"img\", img)\n",
    "cv2.waitKey(0)\n",
    "cv2.destroyAllWindows()\n",
    "\n",
    "cv2.imshow(\"mask1\", mask1)\n",
    "cv2.waitKey(0)\n",
    "cv2.destroyAllWindows()\n",
    "\n",
    "cv2.imshow(\"mask2\", mask2)\n",
    "cv2.waitKey(0)\n",
    "cv2.destroyAllWindows()\n",
    "\n",
    "cv2.imshow(\"mask3\", mask3)\n",
    "cv2.waitKey(0)\n",
    "cv2.destroyAllWindows()\n",
    "\n",
    "cv2.imshow(\"mask4\", mask4)\n",
    "cv2.waitKey(0)\n",
    "cv2.destroyAllWindows()"
   ]
  },
  {
   "cell_type": "code",
   "execution_count": 20,
   "id": "e3bb9c46",
   "metadata": {},
   "outputs": [
    {
     "name": "stdout",
     "output_type": "stream",
     "text": [
      "x1, y1, height1, width1 :  247 178 153 107\n"
     ]
    }
   ],
   "source": [
    "dst1, x1, y1, height1, width1 = find_img_finger_1(img)\n",
    "print(\"x1, y1, height1, width1 : \", x1, y1, height1, width1)"
   ]
  },
  {
   "cell_type": "code",
   "execution_count": 21,
   "id": "613d6c76",
   "metadata": {},
   "outputs": [
    {
     "name": "stdout",
     "output_type": "stream",
     "text": [
      "x, y, height, width :  389 226 155 122\n"
     ]
    }
   ],
   "source": [
    "dst2, x2, y2, height2, width2 = find_img_finger_2(img)\n",
    "print(\"x, y, height, width : \", x2, y2, height2, width2)"
   ]
  },
  {
   "cell_type": "code",
   "execution_count": 22,
   "id": "e23d5e7d",
   "metadata": {},
   "outputs": [
    {
     "name": "stdout",
     "output_type": "stream",
     "text": [
      "x, y, height, width :  542 300 147 127\n"
     ]
    }
   ],
   "source": [
    "dst3, x3, y3, height3, width3 = find_img_finger_3(img)\n",
    "print(\"x, y, height, width : \", x3, y3, height3, width3)"
   ]
  },
  {
   "cell_type": "code",
   "execution_count": 23,
   "id": "b92aac20",
   "metadata": {},
   "outputs": [
    {
     "name": "stdout",
     "output_type": "stream",
     "text": [
      "x, y, height, width :  670 386 117 116\n"
     ]
    }
   ],
   "source": [
    "dst4, x4, y4, height4, width4 = find_img_finger_4(img)\n",
    "print(\"x, y, height, width : \", x4, y4, height4, width4)"
   ]
  },
  {
   "cell_type": "code",
   "execution_count": 25,
   "id": "e85c3621",
   "metadata": {
    "scrolled": true
   },
   "outputs": [
    {
     "name": "stdout",
     "output_type": "stream",
     "text": [
      "{'cluster_index': 4,\n",
      " 'color': [165.63683818045945, 97.09563758389208, 81.9546979865791],\n",
      " 'color_percentage': 0.29975013881177126}\n",
      "\n",
      "{'cluster_index': 2,\n",
      " 'color': [144.2269639268952, 80.45383216916855, 69.35384173763347],\n",
      " 'color_percentage': 0.2878956135480289}\n",
      "\n",
      "{'cluster_index': 3,\n",
      " 'color': [177.90949302483887, 123.85539299081117, 108.12470227968785],\n",
      " 'color_percentage': 0.1641588006662965}\n",
      "\n",
      "{'cluster_index': 1,\n",
      " 'color': [116.11789562645222, 56.146207479400076, 47.651595182759394],\n",
      " 'color_percentage': 0.1308717379233759}\n",
      "\n",
      "{'cluster_index': 0,\n",
      " 'color': [144.03687943262412, 98.19078014184282, 92.8070921985824],\n",
      " 'color_percentage': 0.11732370905052748}\n",
      "\n",
      "mask_b_inv.shape :  (329, 250)\n",
      "mask2.shape :  (329, 250)\n",
      "{'cluster_index': 4,\n",
      " 'color': [146.3124124649865, 87.70658263305357, 78.51978291316425],\n",
      " 'color_percentage': 0.3239273834357558}\n",
      "\n",
      "{'cluster_index': 1,\n",
      " 'color': [128.67596251552726, 71.681043242635, 63.49655639607015],\n",
      " 'color_percentage': 0.24840728420815245}\n",
      "\n",
      "{'cluster_index': 2,\n",
      " 'color': [149.6631386861307, 106.8709854014587, 101.75200729926908],\n",
      " 'color_percentage': 0.15453571629926144}\n",
      "\n",
      "{'cluster_index': 3,\n",
      " 'color': [117.66792004749917, 49.88125865822188, 42.0271126063717],\n",
      " 'color_percentage': 0.14190674860461183}\n",
      "\n",
      "{'cluster_index': 0,\n",
      " 'color': [99.82596566523635, 32.887768240343384, 23.69420600858388],\n",
      " 'color_percentage': 0.13122286745221853}\n",
      "\n",
      "mask_b_inv.shape :  (359, 250)\n",
      "mask2.shape :  (359, 250)\n",
      "{'cluster_index': 0,\n",
      " 'color': [88.80073690499836, 27.540131447918807, 21.27673770165312],\n",
      " 'color_percentage': 0.25131152890383796}\n",
      "\n",
      "{'cluster_index': 3,\n",
      " 'color': [102.70135699373448, 37.43757828809989, 29.050730688935452],\n",
      " 'color_percentage': 0.24086949973643917}\n",
      "\n",
      "{'cluster_index': 4,\n",
      " 'color': [139.34641046170492, 81.8893781692, 74.78996530557399],\n",
      " 'color_percentage': 0.18815733326639725}\n",
      "\n",
      "{'cluster_index': 1,\n",
      " 'color': [153.39140588509878, 99.55394675385298, 93.5293476568571],\n",
      " 'color_percentage': 0.16092271392354227}\n",
      "\n",
      "{'cluster_index': 2,\n",
      " 'color': [118.89793650793676, 57.64873015872981, 50.239365079365314],\n",
      " 'color_percentage': 0.15873892416978339}\n",
      "\n",
      "mask_b_inv.shape :  (360, 250)\n",
      "mask2.shape :  (360, 250)\n",
      "{'cluster_index': 0,\n",
      " 'color': [150.26549831607707, 92.53149557190854, 84.31370836971537],\n",
      " 'color_percentage': 0.3580892921307941}\n",
      "\n",
      "{'cluster_index': 3,\n",
      " 'color': [161.7206949046286, 111.72929166293565, 103.59290767439819],\n",
      " 'color_percentage': 0.2518415379087316}\n",
      "\n",
      "{'cluster_index': 1,\n",
      " 'color': [99.64802547770635, 31.82267515923587, 23.76050955413982],\n",
      " 'color_percentage': 0.17633848365073662}\n",
      "\n",
      "{'cluster_index': 2,\n",
      " 'color': [180.67020612117324, 141.96939412866863, 130.07203830939193],\n",
      " 'color_percentage': 0.10849353215954007}\n",
      "\n",
      "{'cluster_index': 4,\n",
      " 'color': [126.95421480530618, 67.28048780487823, 59.778348309798886],\n",
      " 'color_percentage': 0.10523715415019763}\n",
      "\n",
      "mask_b_inv.shape :  (362, 250)\n",
      "mask2.shape :  (362, 250)\n"
     ]
    }
   ],
   "source": [
    "skin1, mask1 = find_design_nail(mask1)\n",
    "mask_b_inv1, mask1_1 = black_2_white(skin1)\n",
    "print(\"mask_b_inv.shape : \", mask_b_inv1.shape)\n",
    "print(\"mask2.shape : \", mask1_1.shape)\n",
    "\n",
    "skin2, mask2 = find_design_nail(mask2)\n",
    "mask_b_inv2, mask2_1 = black_2_white(skin2)\n",
    "print(\"mask_b_inv.shape : \", mask_b_inv2.shape)\n",
    "print(\"mask2.shape : \", mask2_1.shape)\n",
    "\n",
    "skin3, mask3 = find_design_nail(mask3)\n",
    "mask_b_inv3, mask3_1 = black_2_white(skin3)\n",
    "print(\"mask_b_inv.shape : \", mask_b_inv3.shape)\n",
    "print(\"mask2.shape : \", mask3_1.shape)\n",
    "\n",
    "skin4, mask4 = find_design_nail(mask4)\n",
    "mask_b_inv4, mask4_1 = black_2_white(skin4)\n",
    "print(\"mask_b_inv.shape : \", mask_b_inv4.shape)\n",
    "print(\"mask2.shape : \", mask4_1.shape)\n",
    "        "
   ]
  },
  {
   "cell_type": "code",
   "execution_count": 31,
   "id": "2db3c80b",
   "metadata": {},
   "outputs": [],
   "source": [
    "cv2.imshow(\"img_fg1\", img_fg1)\n",
    "cv2.waitKey(0)\n",
    "cv2.destroyAllWindows()\n",
    "\n",
    "cv2.imshow(\"img_fg2\", img_fg2)\n",
    "cv2.waitKey(0)\n",
    "cv2.destroyAllWindows()\n",
    "\n",
    "cv2.imshow(\"img_fg3\", img_fg3)\n",
    "cv2.waitKey(0)\n",
    "cv2.destroyAllWindows()\n",
    "\n",
    "cv2.imshow(\"img_fg4\", img_fg4)\n",
    "cv2.waitKey(0)\n",
    "cv2.destroyAllWindows()"
   ]
  },
  {
   "cell_type": "code",
   "execution_count": 28,
   "id": "47b43e0b",
   "metadata": {},
   "outputs": [],
   "source": [
    "\n",
    "\n",
    "cv2.imshow(\"mask4_1\", mask4_1)\n",
    "cv2.waitKey(0)\n",
    "cv2.destroyAllWindows()"
   ]
  },
  {
   "cell_type": "code",
   "execution_count": 26,
   "id": "6e94295a",
   "metadata": {},
   "outputs": [
    {
     "name": "stdout",
     "output_type": "stream",
     "text": [
      "img_fg.shape :  (161, 122, 3)\n",
      "height, width :  153 107\n",
      "img_fg.shape :  (164, 114, 3)\n",
      "height, width :  155 122\n",
      "img_fg.shape :  (153, 106, 3)\n",
      "height, width :  147 127\n",
      "img_fg.shape :  (129, 89, 3)\n",
      "height, width :  117 116\n"
     ]
    }
   ],
   "source": [
    "img_fg1 = mask_extract(mask1, mask_b_inv1)\n",
    "print(\"img_fg.shape : \", img_fg1.shape)\n",
    "print(\"height, width : \", height1, width1)\n",
    "cv2.imshow(\"img_fg1\", img_fg1)\n",
    "cv2.waitKey(0)\n",
    "cv2.destroyAllWindows()\n",
    "\n",
    "img_fg2 = mask_extract(mask2, mask_b_inv2)\n",
    "print(\"img_fg.shape : \", img_fg2.shape)\n",
    "print(\"height, width : \", height2, width2)\n",
    "cv2.imshow(\"img_fg2\", img_fg2)\n",
    "cv2.waitKey(0)\n",
    "cv2.destroyAllWindows()\n",
    "\n",
    "img_fg3 = mask_extract(mask3, mask_b_inv3)\n",
    "print(\"img_fg.shape : \", img_fg3.shape)\n",
    "print(\"height, width : \", height3, width3)\n",
    "cv2.imshow(\"img_fg3\", img_fg3)\n",
    "cv2.waitKey(0)\n",
    "cv2.destroyAllWindows()\n",
    "\n",
    "img_fg4 = mask_extract(mask4, mask_b_inv4)\n",
    "print(\"img_fg.shape : \", img_fg4.shape)\n",
    "print(\"height, width : \", height4, width4)\n",
    "cv2.imshow(\"img_fg4\", img_fg4)\n",
    "cv2.waitKey(0)\n",
    "cv2.destroyAllWindows()"
   ]
  },
  {
   "cell_type": "code",
   "execution_count": 32,
   "id": "0daf68b3",
   "metadata": {},
   "outputs": [
    {
     "name": "stdout",
     "output_type": "stream",
     "text": [
      "img_fg_resize.shape :  (163, 127, 3)\n",
      "img_fg_resize.shape :  (165, 127, 3)\n",
      "img_fg_resize.shape :  (172, 147, 3)\n",
      "img_fg_resize.shape :  (153, 112, 3)\n"
     ]
    }
   ],
   "source": [
    "img_fg_resize1 = rotate_resize_1(img_fg1, height1, width1)\n",
    "print(\"img_fg_resize.shape : \", img_fg_resize1.shape)\n",
    "cv2.imshow(\"img_fg1\", img_fg1)\n",
    "cv2.waitKey(0)\n",
    "cv2.destroyAllWindows()\n",
    "\n",
    "img_fg_resize2 = rotate_resize_2(img_fg2, height2, width2)\n",
    "print(\"img_fg_resize.shape : \", img_fg_resize2.shape)\n",
    "\n",
    "img_fg_resize3 = rotate_resize_3(img_fg3, height3, width3)\n",
    "print(\"img_fg_resize.shape : \", img_fg_resize3.shape)\n",
    "\n",
    "img_fg_resize4 = rotate_resize_4(img_fg4, height4, width4)\n",
    "print(\"img_fg_resize.shape : \", img_fg_resize4.shape)"
   ]
  },
  {
   "cell_type": "code",
   "execution_count": 33,
   "id": "d8dd3b01",
   "metadata": {},
   "outputs": [],
   "source": [
    "pillow_image = transparent(img_fg_resize1, x1, y1)\n",
    "pillow_image = pillow_image.convert(\"RGB\")\n",
    "pillow_image.show()\n",
    "# pillow_image.save(\"19.jpg\")\n",
    "pillow_image = transparent2(img_fg_resize2, x2, y2)\n",
    "pillow_image = pillow_image.convert(\"RGB\")\n",
    "pillow_image.show()\n",
    "# pillow_image.save(\"19.jpg\")\n",
    "pillow_image = transparent2(img_fg_resize3, x3, y3)\n",
    "pillow_image = pillow_image.convert(\"RGB\")\n",
    "pillow_image.show()\n",
    "# pillow_image.save(\"19.jpg\")\n",
    "pillow_image = transparent2(img_fg_resize4, x4, y4)\n",
    "pillow_image = pillow_image.convert(\"RGB\")\n",
    "# pillow_image.save(\"19.jpg\")\n",
    "pillow_image.show()\n",
    "#pillow_image.save(result_source)"
   ]
  },
  {
   "cell_type": "code",
   "execution_count": null,
   "id": "d9639125",
   "metadata": {},
   "outputs": [],
   "source": []
  },
  {
   "cell_type": "code",
   "execution_count": null,
   "id": "e0df36b7",
   "metadata": {},
   "outputs": [],
   "source": []
  }
 ],
 "metadata": {
  "kernelspec": {
   "display_name": "Python 3 (ipykernel)",
   "language": "python",
   "name": "python3"
  },
  "language_info": {
   "codemirror_mode": {
    "name": "ipython",
    "version": 3
   },
   "file_extension": ".py",
   "mimetype": "text/x-python",
   "name": "python",
   "nbconvert_exporter": "python",
   "pygments_lexer": "ipython3",
   "version": "3.9.7"
  },
  "toc": {
   "base_numbering": 1,
   "nav_menu": {},
   "number_sections": true,
   "sideBar": true,
   "skip_h1_title": false,
   "title_cell": "Table of Contents",
   "title_sidebar": "Contents",
   "toc_cell": false,
   "toc_position": {
    "height": "calc(100% - 180px)",
    "left": "10px",
    "top": "150px",
    "width": "184.797px"
   },
   "toc_section_display": true,
   "toc_window_display": true
  }
 },
 "nbformat": 4,
 "nbformat_minor": 5
}
