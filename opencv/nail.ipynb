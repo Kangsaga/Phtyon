{
 "cells": [
  {
   "cell_type": "code",
   "execution_count": 3,
   "id": "d7c53efa",
   "metadata": {},
   "outputs": [
    {
     "name": "stdout",
     "output_type": "stream",
     "text": [
      "Collecting opencv-python\n",
      "  Using cached opencv_python-4.5.5.64-cp36-abi3-win_amd64.whl (35.4 MB)\n",
      "Requirement already satisfied: numpy>=1.14.5 in c:\\users\\smhrd\\anaconda3\\envs\\test\\lib\\site-packages (from opencv-python) (1.22.3)\n",
      "Installing collected packages: opencv-python\n",
      "Successfully installed opencv-python-4.5.5.64\n"
     ]
    }
   ],
   "source": [
    "!pip install opencv-python"
   ]
  },
  {
   "cell_type": "markdown",
   "id": "46274986",
   "metadata": {},
   "source": [
    "# OpenCV(Computer Vision)\n",
    "- 다양한 이미지 영상/동영상 처리에 사용되는 오픈소스 라이브러리"
   ]
  },
  {
   "cell_type": "code",
   "execution_count": 2,
   "id": "ddf95a98",
   "metadata": {},
   "outputs": [],
   "source": [
    "import cv2\n",
    "import numpy as np"
   ]
  },
  {
   "cell_type": "markdown",
   "id": "c23dfe48",
   "metadata": {},
   "source": [
    "## 이미지 출력"
   ]
  },
  {
   "cell_type": "code",
   "execution_count": 3,
   "id": "fb7e8fd4",
   "metadata": {},
   "outputs": [],
   "source": [
    "img = cv2.imread(\"img/0.jpg\") # 해당경로의 파일 읽어오기\n",
    "#cv2.imshow('img', img) # img라는 이름의 창에 img를 표시\n",
    "#cv2.waitKey(0) # 지정된 시간 동안 사용자 키 입력 대기\n",
    "#cv2.destroyAllWindows() # 모든창 닫기"
   ]
  },
  {
   "cell_type": "code",
   "execution_count": 4,
   "id": "7d7c3f19",
   "metadata": {},
   "outputs": [
    {
     "name": "stdout",
     "output_type": "stream",
     "text": [
      "(128, 126, 3)\n",
      "48384\n",
      "uint8\n"
     ]
    }
   ],
   "source": [
    "print(img.shape)\n",
    "print(img.size)\n",
    "print(img.dtype)"
   ]
  },
  {
   "cell_type": "markdown",
   "id": "fc4e80c4",
   "metadata": {},
   "source": [
    "# 색상 나누기"
   ]
  },
  {
   "cell_type": "code",
   "execution_count": 7,
   "id": "89df8bf3",
   "metadata": {},
   "outputs": [],
   "source": [
    "\n",
    "b = img[:, :, 0]\n",
    "g = img[:, :, 1]\n",
    "r = img[:, :, 2]\n",
    "\n",
    "cv2.imshow(\"blue channel\", b)\n",
    "cv2.imshow(\"green channel\", g)\n",
    "cv2.imshow(\"red channel\", r)\n",
    "\n",
    "cv2.waitKey(0)\n",
    "cv2.destroyAllWindows()"
   ]
  },
  {
   "cell_type": "markdown",
   "id": "95447f53",
   "metadata": {},
   "source": [
    "# 색상 추적"
   ]
  },
  {
   "cell_type": "code",
   "execution_count": 4,
   "id": "182360bf",
   "metadata": {},
   "outputs": [],
   "source": [
    "import cv2\n",
    "import numpy as np\n",
    "\n",
    "img = cv2.imread(\"img/1.jpg\")\n",
    "cv2.imshow('Original', img)\n",
    "\n",
    "hsv = cv2.cvtColor(img, cv2.COLOR_RGB2HSV)\n",
    "\n",
    "lower = np.array([-10, 100, 100])\n",
    "upper = np.array([150, 118, 137])\n",
    "\n",
    "mask = cv2.inRange(hsv, lower, upper)\n",
    "img2 = cv2.bitwise_and(img, img, mask=mask)\n",
    "\n",
    "cv2.imshow('Extract Color', img2)\n",
    "\n",
    "k = cv2.waitKey(0)\n",
    "cv2.destroyAllWindows()"
   ]
  },
  {
   "cell_type": "markdown",
   "id": "0a8ffa3d",
   "metadata": {},
   "source": [
    "# 에지 추출"
   ]
  },
  {
   "cell_type": "code",
   "execution_count": 5,
   "id": "14caca11",
   "metadata": {},
   "outputs": [],
   "source": [
    "import cv2\n",
    "\n",
    "img = cv2.imread(\"img/0.jpg\", cv2.IMREAD_GRAYSCALE)\n",
    "\n",
    "edge = cv2.Canny(img, 50, 200)\n",
    "# 색상 반전\n",
    "edge2 = cv2.bitwise_not(edge)\n",
    "\n",
    "cv2.imshow(\"edge\", edge)\n",
    "\n",
    "k = cv2.waitKey(0)\n",
    "cv2.destroyAllWindows()"
   ]
  },
  {
   "cell_type": "markdown",
   "id": "ae15d336",
   "metadata": {},
   "source": [
    "# 히스토그램"
   ]
  },
  {
   "cell_type": "code",
   "execution_count": 19,
   "id": "647104c7",
   "metadata": {},
   "outputs": [
    {
     "data": {
      "image/png": "[encoded data removed]",
      "text/plain": [
       "<Figure size 432x288 with 1 Axes>"
      ]
     },
     "metadata": {
      "needs_background": "light"
     },
     "output_type": "display_data"
    }
   ],
   "source": [
    "import cv2\n",
    "import matplotlib.pyplot as plt\n",
    "\n",
    "img = cv2.imread(\"img/na.png\", cv2.IMREAD_GRAYSCALE)\n",
    "cv2.imshow(\"original\", img)\n",
    "\n",
    "hist = cv2.calcHist([img], [0], None, [256], [0, 256])\n",
    "\n",
    "plt.plot(hist)\n",
    "plt.xlim([0, 255])\n",
    "plt.show()\n",
    "\n",
    "k = cv2.waitKey(0)\n",
    "cv2.destroyAllWindows()"
   ]
  },
  {
   "cell_type": "markdown",
   "id": "ed075b50",
   "metadata": {},
   "source": [
    "## 히스토그램 균일화"
   ]
  },
  {
   "cell_type": "code",
   "execution_count": 20,
   "id": "2a61615b",
   "metadata": {},
   "outputs": [
    {
     "data": {
      "image/png": "[encoded data removed]",
      "text/plain": [
       "<Figure size 432x288 with 1 Axes>"
      ]
     },
     "metadata": {
      "needs_background": "light"
     },
     "output_type": "display_data"
    }
   ],
   "source": [
    "img = cv2.equalizeHist(img)\n",
    "cv2.imshow(\"equalize\", img)\n",
    "\n",
    "hist = cv2.calcHist([img], [0], None, [256], [0, 256])\n",
    "\n",
    "plt.plot(hist)\n",
    "plt.xlim([0, 255])\n",
    "plt.show()\n",
    "\n",
    "k = cv2.waitKey(0)\n",
    "cv2.destroyAllWindows()"
   ]
  },
  {
   "cell_type": "markdown",
   "id": "ef25bbbb",
   "metadata": {},
   "source": [
    "## 히스토그램 균일화 적용된 이미지 에지 추출"
   ]
  },
  {
   "cell_type": "code",
   "execution_count": 16,
   "id": "c9f26502",
   "metadata": {},
   "outputs": [],
   "source": [
    "edge = cv2.Canny(img, 50, 200)\n",
    "# 색상 반전\n",
    "edge2 = cv2.bitwise_not(edge)\n",
    "\n",
    "cv2.imshow(\"edge\", edge)\n",
    "\n",
    "k = cv2.waitKey(0)\n",
    "cv2.destroyAllWindows()"
   ]
  },
  {
   "cell_type": "markdown",
   "id": "c84a9f33",
   "metadata": {},
   "source": [
    "### clahe() 함수 적용"
   ]
  },
  {
   "cell_type": "code",
   "execution_count": 12,
   "id": "cacb697c",
   "metadata": {},
   "outputs": [],
   "source": [
    "def clahe(img):\n",
    "    clahe = cv2.createCLAHE(clipLimit = 2.0, tileGridSize = (8, 8))\n",
    "    img2 = clahe.apply(img)\n",
    "    \n",
    "    res = np.hstack((img, img2))\n",
    "    \n",
    "    cv2.imshow('clahe' , res)\n",
    "    cv2.waitKey(0)\n",
    "    cv2.destroyAllWindows()\n",
    "    \n",
    "clahe(img)"
   ]
  },
  {
   "cell_type": "markdown",
   "id": "0abe8612",
   "metadata": {},
   "source": [
    "### 적용된 이미지 에지추출"
   ]
  },
  {
   "cell_type": "code",
   "execution_count": 13,
   "id": "88a7b70b",
   "metadata": {},
   "outputs": [
    {
     "ename": "NameError",
     "evalue": "name 'img2' is not defined",
     "output_type": "error",
     "traceback": [
      "\u001b[1;31m---------------------------------------------------------------------------\u001b[0m",
      "\u001b[1;31mNameError\u001b[0m                                 Traceback (most recent call last)",
      "\u001b[1;32m~\\AppData\\Local\\Temp/ipykernel_17920/900287900.py\u001b[0m in \u001b[0;36m<module>\u001b[1;34m\u001b[0m\n\u001b[1;32m----> 1\u001b[1;33m \u001b[0medge\u001b[0m \u001b[1;33m=\u001b[0m \u001b[0mcv2\u001b[0m\u001b[1;33m.\u001b[0m\u001b[0mCanny\u001b[0m\u001b[1;33m(\u001b[0m\u001b[0mimg2\u001b[0m\u001b[1;33m,\u001b[0m \u001b[1;36m50\u001b[0m\u001b[1;33m,\u001b[0m \u001b[1;36m200\u001b[0m\u001b[1;33m)\u001b[0m\u001b[1;33m\u001b[0m\u001b[1;33m\u001b[0m\u001b[0m\n\u001b[0m\u001b[0;32m      2\u001b[0m \u001b[1;31m# 색상 반전\u001b[0m\u001b[1;33m\u001b[0m\u001b[1;33m\u001b[0m\u001b[0m\n\u001b[0;32m      3\u001b[0m \u001b[0medge2\u001b[0m \u001b[1;33m=\u001b[0m \u001b[0mcv2\u001b[0m\u001b[1;33m.\u001b[0m\u001b[0mbitwise_not\u001b[0m\u001b[1;33m(\u001b[0m\u001b[0medge\u001b[0m\u001b[1;33m)\u001b[0m\u001b[1;33m\u001b[0m\u001b[1;33m\u001b[0m\u001b[0m\n\u001b[0;32m      4\u001b[0m \u001b[1;33m\u001b[0m\u001b[0m\n\u001b[0;32m      5\u001b[0m \u001b[0mcv2\u001b[0m\u001b[1;33m.\u001b[0m\u001b[0mimshow\u001b[0m\u001b[1;33m(\u001b[0m\u001b[1;34m\"edge\"\u001b[0m\u001b[1;33m,\u001b[0m \u001b[0medge\u001b[0m\u001b[1;33m)\u001b[0m\u001b[1;33m\u001b[0m\u001b[1;33m\u001b[0m\u001b[0m\n",
      "\u001b[1;31mNameError\u001b[0m: name 'img2' is not defined"
     ]
    }
   ],
   "source": [
    "edge = cv2.Canny(img2, 50, 200)\n",
    "# 색상 반전\n",
    "edge2 = cv2.bitwise_not(edge)\n",
    "\n",
    "cv2.imshow(\"edge\", edge)\n",
    "\n",
    "k = cv2.waitKey(0)\n",
    "cv2.destroyAllWindows()"
   ]
  },
  {
   "cell_type": "markdown",
   "id": "14745691",
   "metadata": {},
   "source": [
    "# 명훈쌤"
   ]
  },
  {
   "cell_type": "code",
   "execution_count": 6,
   "id": "aa500a5a",
   "metadata": {},
   "outputs": [],
   "source": [
    "import cv2\n",
    "import numpy as np\n",
    "img = cv2.imread(\"./img/0.jpg\")\n",
    "\n",
    "cv2.imshow(\"original\",img)\n",
    "\n",
    "img_yuv = cv2.cvtColor(img, cv2.COLOR_BGR2YUV)\n",
    "\n",
    "# 밝기 채널에 대해서 이퀄라이즈 적용\n",
    "img_eq = img_yuv.copy()\n",
    "img_eq[:,:,0] = cv2.equalizeHist(img_eq[:,:,0])\n",
    "img_eq = cv2.cvtColor(img_eq, cv2.COLOR_YUV2BGR)\n",
    "\n",
    "# 밝기 채널에 대해서 CLAHE 적용\n",
    "img_clahe = img_yuv.copy()\n",
    "clahe = cv2.createCLAHE(clipLimit=3.0, tileGridSize=(8,8)) #CLAHE 생성\n",
    "img_clahe[:,:,0] = clahe.apply(img_clahe[:,:,0])           #CLAHE 적용\n",
    "img_clahe = cv2.cvtColor(img_clahe, cv2.COLOR_YUV2BGR)\n",
    "\n",
    "# h : -180 ~ 180\n",
    "# s : 0 ~ 255\n",
    "# v : 0 ~ 255\n",
    "# 최소값\n",
    "lower = np.array([100, 0, 0])\n",
    "# # 최대값\n",
    "upper = np.array([180, 255, 255])\n",
    "# # 출력\n",
    "hsv = cv2.cvtColor(img, cv2.COLOR_BGR2HSV)\n",
    "# # 최소값과 최대값에 해당되는 범위를 마스크로 생성\n",
    "mask = cv2.inRange(hsv, lower, upper)\n",
    "# # 마스크에 포함된 이미지 픽셀값만을 (마스크와 이미지를 AND 연산) 이미지에 표시\n",
    "img = cv2.bitwise_and(img, img, mask=mask)\n",
    "\n",
    "img = cv2.cvtColor(img, cv2.COLOR_HSV2BGR)\n",
    "#img = cv2.cvtColor(img, cv2.COLOR_RGB2GRAY)\n",
    "\n",
    "\n",
    "cv2.imshow(\"clahe\", img_clahe)\n",
    "cv2.imshow(\"mask\", img)\n",
    "cv2.waitKey(0)\n",
    "cv2.destroyAllWindows()"
   ]
  },
  {
   "cell_type": "code",
   "execution_count": null,
   "id": "581ca86b",
   "metadata": {},
   "outputs": [],
   "source": []
  }
 ],
 "metadata": {
  "kernelspec": {
   "display_name": "Python 3 (ipykernel)",
   "language": "python",
   "name": "python3"
  },
  "language_info": {
   "codemirror_mode": {
    "name": "ipython",
    "version": 3
   },
   "file_extension": ".py",
   "mimetype": "text/x-python",
   "name": "python",
   "nbconvert_exporter": "python",
   "pygments_lexer": "ipython3",
   "version": "3.7.13"
  },
  "toc": {
   "base_numbering": 1,
   "nav_menu": {},
   "number_sections": true,
   "sideBar": true,
   "skip_h1_title": false,
   "title_cell": "Table of Contents",
   "title_sidebar": "Contents",
   "toc_cell": false,
   "toc_position": {},
   "toc_section_display": true,
   "toc_window_display": false
  }
 },
 "nbformat": 4,
 "nbformat_minor": 5
}
