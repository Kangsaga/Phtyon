{
 "cells": [
  {
   "cell_type": "code",
   "execution_count": 1,
   "id": "7b1bdc7b",
   "metadata": {},
   "outputs": [
    {
     "name": "stdout",
     "output_type": "stream",
     "text": [
      "Ring finger tip coordinates: ( 202.8627645969391, 55.463450253009796)\n"
     ]
    },
    {
     "data": {
      "text/plain": [
       "-1"
      ]
     },
     "execution_count": 1,
     "metadata": {},
     "output_type": "execute_result"
    }
   ],
   "source": [
    "import cv2\n",
    "import mediapipe as mp\n",
    "mp_drawing = mp.solutions.drawing_utils\n",
    "mp_drawing_styles = mp.solutions.drawing_styles\n",
    "mp_hands = mp.solutions.hands\n",
    "\n",
    "# For static images:\n",
    "mp_model = mp_hands.Hands(\n",
    "    static_image_mode=True, # only static images\n",
    "    max_num_hands=2, # max 2 hands detection\n",
    "    min_detection_confidence=0.5) # detection confidence\n",
    "\n",
    "# we are not using tracking confidence as static_image_mode is true.\n",
    "image = cv2.imread(\"img/15.jpg\")\n",
    "# now we flip image and convert to rgb image and input to model\n",
    "image = cv2.flip(image, 1)\n",
    "\n",
    "results = mp_model.process(cv2.cvtColor(image, cv2.COLOR_BGR2RGB))\n",
    "image_height, image_width, c = image.shape # get image shape\n",
    "# iterate on all detected hand landmarks\n",
    "for hand_landmarks in results.multi_hand_landmarks:\n",
    "      # we can get points using mp_hands\n",
    "      print(f'Ring finger tip coordinates: (',\n",
    "          f'{hand_landmarks.landmark[mp_hands.HandLandmark.RING_FINGER_TIP].x * image_width}, '\n",
    "          f'{hand_landmarks.landmark[mp_hands.HandLandmark.RING_FINGER_TIP].y * image_height})'\n",
    "      )\n",
    "for hand_landmarks in results.multi_hand_landmarks:\n",
    "    mp_drawing.draw_landmarks(\n",
    "        image, # image to draw\n",
    "        hand_landmarks, # model output\n",
    "        mp_hands.HAND_CONNECTIONS, # hand connections\n",
    "        mp_drawing_styles.get_default_hand_landmarks_style(),\n",
    "        mp_drawing_styles.get_default_hand_connections_style())\n",
    "    for point in mp_hands.HandLandmark:\n",
    "        normalizedLandmark = hand_landmarks.landmark[point]\n",
    "        pixelCoordinatesLandmark = mp_drawing._normalized_to_pixel_coordinates(normalizedLandmark.x, normalizedLandmark.y, image_width, image_height)\n",
    "\n",
    "        print(point)\n",
    "        print(pixelCoordinatesLandmark)\n",
    "        pointList.append(pixelCoordinatesLandmark)\n",
    "        print(normalizedLandmark)\n",
    "\n",
    "import math\n",
    "\n",
    "def calRad(x1,y1,x2,y2):\n",
    "    rad = math.atan2(abs(x2-x1), abs(y2-y1))\n",
    "    return rad\n",
    "\n",
    "def radTodeg(rad):\n",
    "    # math에서 파이값 가져오기\n",
    "    PI = math.pi\n",
    "    # 라디안에 180도 곱하고 파이로 나누면 나옴\n",
    "    deg = (rad * 180) / PI\n",
    "    # 자리수 맞추기 위해 format 형식으로 출력\n",
    "    # 중괄호 안에는  0번 인덱스를 출력할거고 소수두번째 자리까지 출력 하며 float함수\n",
    "    return \"{0:0.2f}\".format(deg)\n",
    "\n",
    "angelList = []\n",
    "\n",
    "for i in range(4,21,4):\n",
    "    x2 = pointList[i-1][0] + 10\n",
    "    y2 = pointList[i-1][1] + 10\n",
    "    x1 = int(pointList[i][0] - abs(pointList[i][0] - pointList[i-1][0]) / 2)\n",
    "    y1 = int(pointList[i][1] - abs(pointList[i][1] - pointList[i-1][1]))\n",
    "    rad = calRad(x1,y1,x2,y2)\n",
    "    angle = float(radTodeg(rad))\n",
    "    angleList.append(angle)\n",
    "\n",
    "\n",
    "\n",
    "\n"
   ]
  },
  {
   "cell_type": "code",
   "execution_count": null,
   "id": "ce0b599c",
   "metadata": {},
   "outputs": [],
   "source": []
  }
 ],
 "metadata": {
  "kernelspec": {
   "display_name": "Python 3 (ipykernel)",
   "language": "python",
   "name": "python3"
  },
  "language_info": {
   "codemirror_mode": {
    "name": "ipython",
    "version": 3
   },
   "file_extension": ".py",
   "mimetype": "text/x-python",
   "name": "python",
   "nbconvert_exporter": "python",
   "pygments_lexer": "ipython3",
   "version": "3.9.7"
  },
  "toc": {
   "base_numbering": 1,
   "nav_menu": {},
   "number_sections": true,
   "sideBar": true,
   "skip_h1_title": false,
   "title_cell": "Table of Contents",
   "title_sidebar": "Contents",
   "toc_cell": false,
   "toc_position": {},
   "toc_section_display": true,
   "toc_window_display": false
  }
 },
 "nbformat": 4,
 "nbformat_minor": 5
}
