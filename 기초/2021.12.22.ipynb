{
 "cells": [
  {
   "cell_type": "markdown",
   "id": "428d04bc",
   "metadata": {},
   "source": [
    "# 삼항연산자\n",
    "## a if 조건식 else \n",
    "### true 면 a else b"
   ]
  },
  {
   "cell_type": "code",
   "execution_count": 4,
   "id": "d09b8716",
   "metadata": {},
   "outputs": [
    {
     "data": {
      "text/plain": [
       "'합격'"
      ]
     },
     "execution_count": 4,
     "metadata": {},
     "output_type": "execute_result"
    }
   ],
   "source": [
    "score = 80\n",
    "\"합격\" if score >=60 else \"불합격\""
   ]
  },
  {
   "cell_type": "code",
   "execution_count": 11,
   "id": "6bb8975c",
   "metadata": {},
   "outputs": [
    {
     "name": "stdout",
     "output_type": "stream",
     "text": [
      "정수입력15\n",
      "정수입력15\n",
      "15\n"
     ]
    }
   ],
   "source": [
    "a = int(input(\"정수입력\"))\n",
    "b = int(input(\"정수입력\"))\n",
    "print(a if a > b else b)"
   ]
  },
  {
   "cell_type": "code",
   "execution_count": 29,
   "id": "e8fa2bd6",
   "metadata": {},
   "outputs": [
    {
     "name": "stdout",
     "output_type": "stream",
     "text": [
      "첫번째 정수입력115\n",
      "두번째 정수입력20\n",
      "a-b:95\n"
     ]
    }
   ],
   "source": [
    "a = int(input(\"첫번째 정수입력\"))\n",
    "b = int(input(\"두번째 정수입력\"))\n",
    "print(f'a-b:{a-b}')if a > b else print(f'b-a:{b - a}')\n"
   ]
  },
  {
   "cell_type": "code",
   "execution_count": 28,
   "id": "b190e87e",
   "metadata": {},
   "outputs": [
    {
     "name": "stdout",
     "output_type": "stream",
     "text": [
      "정수입력15\n",
      "15은 홀수입니다\n"
     ]
    }
   ],
   "source": [
    "num1 = int(input('정수입력'))\n",
    "print(f'{num1}은 짝수입니다')if num1 % 2 ==0 else print(f'{num1}은 홀수입니다')"
   ]
  },
  {
   "cell_type": "markdown",
   "id": "40d3faad",
   "metadata": {},
   "source": [
    "# 조건문\n",
    "## if, elif, else"
   ]
  },
  {
   "cell_type": "code",
   "execution_count": 31,
   "id": "be38fb1f",
   "metadata": {},
   "outputs": [
    {
     "name": "stdout",
     "output_type": "stream",
     "text": [
      "실행문장 실행\n",
      "if문 밖에 있는 문장 실행\n"
     ]
    }
   ],
   "source": [
    "if True:\n",
    "    print('실행문장 실행')\n",
    "print('if문 밖에 있는 문장 실행')"
   ]
  },
  {
   "cell_type": "code",
   "execution_count": 32,
   "id": "7fbfe4b2",
   "metadata": {},
   "outputs": [
    {
     "name": "stdout",
     "output_type": "stream",
     "text": [
      "if문 밖에 있는 문장 실행\n"
     ]
    }
   ],
   "source": [
    "if False:\n",
    "    print('실행문장 실행')\n",
    "print('if문 밖에 있는 문장 실행')"
   ]
  },
  {
   "cell_type": "code",
   "execution_count": 38,
   "id": "0fb191b3",
   "metadata": {},
   "outputs": [
    {
     "name": "stdout",
     "output_type": "stream",
     "text": [
      "실행문장1\n"
     ]
    }
   ],
   "source": [
    "if True:\n",
    "    print('실행문장1')\n",
    "else :\n",
    "    print('실행문장2')"
   ]
  },
  {
   "cell_type": "code",
   "execution_count": 39,
   "id": "ba86fa45",
   "metadata": {},
   "outputs": [
    {
     "name": "stdout",
     "output_type": "stream",
     "text": [
      "실행문장2\n"
     ]
    }
   ],
   "source": [
    "if False:\n",
    "    print('실행문장1')\n",
    "else :\n",
    "    print('실행문장2')"
   ]
  },
  {
   "cell_type": "code",
   "execution_count": 36,
   "id": "d71c8063",
   "metadata": {},
   "outputs": [
    {
     "name": "stdout",
     "output_type": "stream",
     "text": [
      "얼마 있습니까? 9000\n",
      "버스를 탄다\n"
     ]
    }
   ],
   "source": [
    "money = int(input('얼마 있습니까? '))\n",
    "if money >=10000:\n",
    "    print('택시를 탄다')\n",
    "else :\n",
    "    print('버스를 탄다')"
   ]
  },
  {
   "cell_type": "code",
   "execution_count": 42,
   "id": "c0e0365a",
   "metadata": {},
   "outputs": [
    {
     "name": "stdout",
     "output_type": "stream",
     "text": [
      "정수 입력 >> 15\n",
      "15은 3과 5의 배수입니다\n"
     ]
    }
   ],
   "source": [
    "num = int(input('정수 입력 >> '))\n",
    "if num % 3 == 0 and num % 5 == 0:\n",
    "    print(f'{num}은 3과 5의 배수입니다')\n",
    "else :\n",
    "    print(f'{num}은 3과 5의 배수가 아닙니다')"
   ]
  },
  {
   "cell_type": "code",
   "execution_count": 44,
   "id": "d2ebc06c",
   "metadata": {},
   "outputs": [
    {
     "name": "stdout",
     "output_type": "stream",
     "text": [
      "첫 번째 정수 입력 >> 15\n",
      "두 번째 정수 입력 >> 15\n",
      "두 수가 같다\n"
     ]
    }
   ],
   "source": [
    "num1 = int(input('첫 번째 정수 입력 >> '))\n",
    "num2 = int(input('두 번째 정수 입력 >> '))\n",
    "if num1 > num2:\n",
    "    print(f'{num1}이 크다')\n",
    "elif num2 > num1:\n",
    "    print(f'{num2}이 크다')\n",
    "else:\n",
    "    print('두 수가 같다')"
   ]
  },
  {
   "cell_type": "code",
   "execution_count": 47,
   "id": "681711b8",
   "metadata": {},
   "outputs": [
    {
     "name": "stdout",
     "output_type": "stream",
     "text": [
      "점수 입력 >> 70\n",
      "70점은 C학점입니다\n"
     ]
    }
   ],
   "source": [
    "score = int(input('점수 입력 >> '))\n",
    "if score <=100 and score >=90 :\n",
    "    print(f'{score}점은 A학점입니다')\n",
    "elif score <90 and score >=80 :\n",
    "    print(f'{score}점은 B학점입니다')\n",
    "elif score <80 and score >=70 :\n",
    "    print(f'{score}점은 C학점입니다')\n",
    "elif score <70 and score >=60 :\n",
    "    print(f'{score}점은 D학점입니다')\n",
    "else :\n",
    "    print(f'{score}점은 F학점입니다')     "
   ]
  },
  {
   "cell_type": "code",
   "execution_count": 57,
   "id": "c701b693",
   "metadata": {},
   "outputs": [
    {
     "name": "stdout",
     "output_type": "stream",
     "text": [
      "\n",
      "================================================\n",
      "================---- 자판기 ----================\n",
      "================================================\n",
      "== 1.콜라 == 2.사이다 ==  3.물  =======insert===\n",
      "==--------==----------==--------=======------===\n",
      "==  600원 ==    800원 == 1000원 ======= O00원===\n",
      "=======================================------===\n",
      "================================================\n",
      "==++++++++++++++++++++++++++++++++++++++++++++==\n",
      "==++++++++++++++++++++++++++++++++++++++++++++==\n",
      "==++++++++++++++++++++++++++++++++++++++++++++==\n",
      "==+++++++++++++++              +++++++++++++++==\n",
      "==+++++++++++++++     SMHRD    +++++++++++++++==\n",
      "==+++++++++++++++              +++++++++++++++==\n",
      "==++++++++++++++++++++++++++++++++++++++++++++==\n",
      "==++++++++++++++++++++++++++++++++++++++++++++==\n",
      "================================================\n",
      "================================================\n",
      "  ===                                      ===\n",
      "  ===                                      ===\n",
      "\n",
      "insert coin >> 500\n",
      "\n",
      "================================================\n",
      "================---- 자판기 ----================\n",
      "================================================\n",
      "== 1.콜라 == 2.사이다 ==  3.물  =======insert===\n",
      "==--------==----------==--------=======------===\n",
      "==  600원 ==    800원 == 1000원 ======= 500원===\n",
      "=======================================------===\n",
      "================================================\n",
      "==++++++++++++++++++++++++++++++++++++++++++++==\n",
      "==++++++++++++++++++++++++++++++++++++++++++++==\n",
      "==++++++++++++++++++++++++++++++++++++++++++++==\n",
      "==+++++++++++++++              +++++++++++++++==\n",
      "==+++++++++++++++     SMHRD    +++++++++++++++==\n",
      "==+++++++++++++++              +++++++++++++++==\n",
      "==++++++++++++++++++++++++++++++++++++++++++++==\n",
      "==++++++++++++++++++++++++++++++++++++++++++++==\n",
      "================================================\n",
      "================================================\n",
      "  ===                                      ===\n",
      "  ===                                      ===\n",
      "\n",
      "메뉴 선택 >> 3\n",
      "잔액부족\n"
     ]
    }
   ],
   "source": [
    "print('''\n",
    "================================================\n",
    "================---- 자판기 ----================\n",
    "================================================\n",
    "== 1.콜라 == 2.사이다 ==  3.물  =======insert===\n",
    "==--------==----------==--------=======------===\n",
    "==  600원 ==    800원 == 1000원 ======= O00원===\n",
    "=======================================------===\n",
    "================================================\n",
    "==++++++++++++++++++++++++++++++++++++++++++++==\n",
    "==++++++++++++++++++++++++++++++++++++++++++++==\n",
    "==++++++++++++++++++++++++++++++++++++++++++++==\n",
    "==+++++++++++++++              +++++++++++++++==\n",
    "==+++++++++++++++     SMHRD    +++++++++++++++==\n",
    "==+++++++++++++++              +++++++++++++++==\n",
    "==++++++++++++++++++++++++++++++++++++++++++++==\n",
    "==++++++++++++++++++++++++++++++++++++++++++++==\n",
    "================================================\n",
    "================================================\n",
    "  ===                                      ===\n",
    "  ===                                      ===\n",
    "''')\n",
    "money = int(input(\"insert coin >> \"))\n",
    "print(f'''\n",
    "================================================\n",
    "================---- 자판기 ----================\n",
    "================================================\n",
    "== 1.콜라 == 2.사이다 ==  3.물  =======insert===\n",
    "==--------==----------==--------=======------===\n",
    "==  600원 ==    800원 == 1000원 ======= {money}원===\n",
    "=======================================------===\n",
    "================================================\n",
    "==++++++++++++++++++++++++++++++++++++++++++++==\n",
    "==++++++++++++++++++++++++++++++++++++++++++++==\n",
    "==++++++++++++++++++++++++++++++++++++++++++++==\n",
    "==+++++++++++++++              +++++++++++++++==\n",
    "==+++++++++++++++     SMHRD    +++++++++++++++==\n",
    "==+++++++++++++++              +++++++++++++++==\n",
    "==++++++++++++++++++++++++++++++++++++++++++++==\n",
    "==++++++++++++++++++++++++++++++++++++++++++++==\n",
    "================================================\n",
    "================================================\n",
    "  ===                                      ===\n",
    "  ===                                      ===\n",
    "''')\n",
    "\n",
    "\n",
    "\n",
    "\n",
    "\n",
    "\n",
    "choice = int(input(\"메뉴 선택 >> \"))\n",
    "if choice == 1:\n",
    "    money = money - 600\n",
    "elif choice == 2:\n",
    "    money = money - 800\n",
    "elif choice == 3:\n",
    "    money = money - 1000\n",
    "if money >=0:\n",
    "    print(f\"잔돈 >> 1000원 {(money) // 1000}개, 500원 {(money) % 1000 // 500}개, 100원 {(money) % 1000 % 500 //100}개\")\n",
    "else :\n",
    "    print('잔액부족')"
   ]
  },
  {
   "cell_type": "markdown",
   "id": "2dafe75b",
   "metadata": {},
   "source": [
    "# 리스트\n",
    "- 파이썬의 자료구조 형태 중 하나\n",
    "- 순서가 있는 수정이 가능한 객체의 집합\n",
    "- 추가, 수정, 삭제 가능!!"
   ]
  },
  {
   "cell_type": "code",
   "execution_count": 58,
   "id": "9313dbf3",
   "metadata": {},
   "outputs": [
    {
     "name": "stdout",
     "output_type": "stream",
     "text": [
      "[1, 2, ['my', 'name']]\n"
     ]
    }
   ],
   "source": [
    "a = []\n",
    "b = [1,2,3]\n",
    "c = ['my', 'name']\n",
    "d = [1,2,'my','name']\n",
    "e = [1,2,['my','name']]\n",
    "print(e)"
   ]
  },
  {
   "cell_type": "code",
   "execution_count": 63,
   "id": "0c44d824",
   "metadata": {},
   "outputs": [
    {
     "name": "stdout",
     "output_type": "stream",
     "text": [
      "2\n",
      "7\n",
      "17\n"
     ]
    }
   ],
   "source": [
    "list1 = [2,5,7,9,10]\n",
    "print(list1[0])\n",
    "print(list1[2])\n",
    "print(list1[2] + list1[4])"
   ]
  },
  {
   "cell_type": "code",
   "execution_count": 64,
   "id": "b6d20653",
   "metadata": {},
   "outputs": [
    {
     "data": {
      "text/plain": [
       "[1, 2, 3, ['a', 'b', 'c']]"
      ]
     },
     "execution_count": 64,
     "metadata": {},
     "output_type": "execute_result"
    }
   ],
   "source": [
    "list2 = [1,2,3,['a','b','c']]\n",
    "list2"
   ]
  },
  {
   "cell_type": "code",
   "execution_count": 65,
   "id": "db682b48",
   "metadata": {},
   "outputs": [
    {
     "data": {
      "text/plain": [
       "['a', 'b', 'c']"
      ]
     },
     "execution_count": 65,
     "metadata": {},
     "output_type": "execute_result"
    }
   ],
   "source": [
    "temp = list2[3]\n",
    "temp"
   ]
  },
  {
   "cell_type": "code",
   "execution_count": 68,
   "id": "92867731",
   "metadata": {},
   "outputs": [
    {
     "name": "stdout",
     "output_type": "stream",
     "text": [
      "b\n",
      "b\n"
     ]
    }
   ],
   "source": [
    "# b를 출력하세요\n",
    "print(temp[1])\n",
    "print(list2[3][1])"
   ]
  },
  {
   "cell_type": "code",
   "execution_count": 72,
   "id": "9d1fe493",
   "metadata": {},
   "outputs": [
    {
     "name": "stdout",
     "output_type": "stream",
     "text": [
      "[1, 2]\n",
      "[0, 1]\n",
      "[3]\n"
     ]
    }
   ],
   "source": [
    "list3 = [0, 1, 2, 3, 4]\n",
    "print(list3[1:3])\n",
    "print(list3[:2])\n",
    "print(list3[3:4])"
   ]
  },
  {
   "cell_type": "code",
   "execution_count": 73,
   "id": "a5d95b2c",
   "metadata": {},
   "outputs": [
    {
     "data": {
      "text/plain": [
       "[1, 2, 3, 3, 4, 5, 6]"
      ]
     },
     "execution_count": 73,
     "metadata": {},
     "output_type": "execute_result"
    }
   ],
   "source": [
    "list4 = [1, 2, 3]\n",
    "list5 = [3, 4, 5, 6]\n",
    "list4 +list5\n"
   ]
  },
  {
   "cell_type": "code",
   "execution_count": 75,
   "id": "95228247",
   "metadata": {},
   "outputs": [
    {
     "data": {
      "text/plain": [
       "[0, 1, 2, 3, 4, 5]"
      ]
     },
     "execution_count": 75,
     "metadata": {},
     "output_type": "execute_result"
    }
   ],
   "source": [
    "# append함수를 활용한 값 추가(맨 뒤에 값이 추가된다)\n",
    "list6 = [0, 1, 2, 3, 4]\n",
    "list6.append(5)\n",
    "list6"
   ]
  },
  {
   "cell_type": "code",
   "execution_count": 80,
   "id": "48977751",
   "metadata": {},
   "outputs": [
    {
     "data": {
      "text/plain": [
       "['사과', '오렌지', '수박']"
      ]
     },
     "execution_count": 80,
     "metadata": {},
     "output_type": "execute_result"
    }
   ],
   "source": [
    "list7 = ['사과', '포도', ['수박','멜론'],'복숭아','딸기','오렌지']\n",
    "apple = list7[0]\n",
    "watermelon = list7[2][0]\n",
    "orange = list7[5]\n",
    "\n",
    "choice_list = []\n",
    "choice_list.append(apple)\n",
    "choice_list.append(orange)\n",
    "choice_list.append(watermelon)\n",
    "\n",
    "choice_list"
   ]
  },
  {
   "cell_type": "code",
   "execution_count": 81,
   "id": "3946fee9",
   "metadata": {},
   "outputs": [],
   "source": [
    "#insert()함수 사용!"
   ]
  },
  {
   "cell_type": "code",
   "execution_count": 84,
   "id": "1f296b95",
   "metadata": {},
   "outputs": [
    {
     "name": "stdout",
     "output_type": "stream",
     "text": [
      "[0, 5, 1, 2, 3, 6, 4]\n"
     ]
    }
   ],
   "source": [
    "list5 = [0, 1, 2, 3, 4]\n",
    "list5.insert(1,5)\n",
    "list5.insert(5,6)\n",
    "print(list5)"
   ]
  },
  {
   "cell_type": "code",
   "execution_count": 99,
   "id": "09758078",
   "metadata": {
    "scrolled": false
   },
   "outputs": [
    {
     "name": "stdout",
     "output_type": "stream",
     "text": [
      "인덱스 위치 >> 1\n",
      "노래제목 입력 >> ㄹㄴㅇ\n",
      "가수입력 >> ㄹㄴㅇ\n",
      "[['gew', 'hr', '헤픈우연', '헤이즈']]\n"
     ]
    }
   ],
   "source": [
    "loc = int(input('인덱스 위치 >> '))\n",
    "song = input('노래제목 입력 >> ')\n",
    "singer = input('가수입력 >> ')\n",
    "\n",
    "\n",
    "\n",
    "\n",
    "\n",
    "\n",
    "music_list = []\n",
    "music_list.insert(loc, music)\n",
    "\n",
    "print(music_list)"
   ]
  },
  {
   "cell_type": "code",
   "execution_count": 100,
   "id": "68238126",
   "metadata": {},
   "outputs": [
    {
     "name": "stdout",
     "output_type": "stream",
     "text": [
      "인덱스 위치 >> 1\n",
      "노래제목 입력 >> ㄻㄴ\n",
      "가수입력 >> ㄻㄴ\n",
      "[['gew', 'hr', '헤픈우연', '헤이즈'], ['ㄻㄴ', 'ㄻㄴ']]\n"
     ]
    }
   ],
   "source": [
    "loc = int(input('인덱스 위치 >> '))\n",
    "song = input('노래제목 입력 >> ')\n",
    "singer = input('가수입력 >> ')\n",
    "\n",
    "\n",
    "\n",
    "music_list.insert(loc, [song, singer])\n",
    "\n",
    "print(music_list)"
   ]
  },
  {
   "cell_type": "code",
   "execution_count": 97,
   "id": "b1736d9c",
   "metadata": {},
   "outputs": [
    {
     "data": {
      "text/plain": [
       "[0, 1, 2, 3, 4, 5, 6]"
      ]
     },
     "execution_count": 97,
     "metadata": {},
     "output_type": "execute_result"
    }
   ],
   "source": [
    "list6 = [0,1,2,3,4,5,6]\n",
    "list6"
   ]
  },
  {
   "cell_type": "code",
   "execution_count": 98,
   "id": "d42557b6",
   "metadata": {},
   "outputs": [
    {
     "name": "stdout",
     "output_type": "stream",
     "text": [
      "수정전 : [0, 1, 2, 3, 4, 5, 6]\n",
      "수정후 : [0, 7, 2, 3, 4, 5, 6]\n"
     ]
    }
   ],
   "source": [
    "print('수정전 :',list6)\n",
    "list6[1] = 7\n",
    "print('수정후 :',list6)"
   ]
  },
  {
   "cell_type": "code",
   "execution_count": 102,
   "id": "14d5f273",
   "metadata": {},
   "outputs": [
    {
     "data": {
      "text/plain": [
       "[0, 7, 2, 7, 5, 6]"
      ]
     },
     "execution_count": 102,
     "metadata": {},
     "output_type": "execute_result"
    }
   ],
   "source": [
    "list6[3:5] = [7]\n",
    "list6"
   ]
  },
  {
   "cell_type": "code",
   "execution_count": 119,
   "id": "bfbd18f7",
   "metadata": {},
   "outputs": [],
   "source": [
    "array = [1, 2, 3, 4, 5]\n"
   ]
  },
  {
   "cell_type": "code",
   "execution_count": 120,
   "id": "d3b64204",
   "metadata": {},
   "outputs": [
    {
     "data": {
      "text/plain": [
       "[1, 2, 3, 4, 7]"
      ]
     },
     "execution_count": 120,
     "metadata": {},
     "output_type": "execute_result"
    }
   ],
   "source": [
    "array[4] = 7\n",
    "array"
   ]
  },
  {
   "cell_type": "code",
   "execution_count": 121,
   "id": "efc753af",
   "metadata": {},
   "outputs": [
    {
     "data": {
      "text/plain": [
       "[1, ['a', 'b', 'c'], 3, 4, 7]"
      ]
     },
     "execution_count": 121,
     "metadata": {},
     "output_type": "execute_result"
    }
   ],
   "source": [
    "array[1] =['a', 'b', 'c']\n",
    "array"
   ]
  },
  {
   "cell_type": "code",
   "execution_count": 122,
   "id": "2333b52a",
   "metadata": {},
   "outputs": [
    {
     "data": {
      "text/plain": [
       "[1, ['a', 'b', 'c'], 3, 'd', 'e', 'f', 'g']"
      ]
     },
     "execution_count": 122,
     "metadata": {},
     "output_type": "execute_result"
    }
   ],
   "source": [
    "array[-2:] = ['d', 'e', 'f', 'g']\n",
    "array\n"
   ]
  },
  {
   "cell_type": "code",
   "execution_count": 123,
   "id": "924237bf",
   "metadata": {},
   "outputs": [
    {
     "data": {
      "text/plain": [
       "['h', 'i', 'j', ['a', 'b', 'c'], 3, 'd', 'e', 'f', 'g']"
      ]
     },
     "execution_count": 123,
     "metadata": {},
     "output_type": "execute_result"
    }
   ],
   "source": [
    "array[0:1] = ['h','i','j']\n",
    "array"
   ]
  },
  {
   "cell_type": "code",
   "execution_count": 124,
   "id": "4f6f1a8e",
   "metadata": {},
   "outputs": [
    {
     "name": "stdout",
     "output_type": "stream",
     "text": [
      "[0, 2, 3, 4, 5]\n"
     ]
    }
   ],
   "source": [
    "list7 = [0, 1, 2, 3, 4, 5]\n",
    "# del 키워드\n",
    "del list7[1]\n",
    "print(list7)"
   ]
  },
  {
   "cell_type": "code",
   "execution_count": 125,
   "id": "d1db4ad2",
   "metadata": {},
   "outputs": [
    {
     "name": "stdout",
     "output_type": "stream",
     "text": [
      "[0, 5]\n"
     ]
    }
   ],
   "source": [
    "del list7[1:4]\n",
    "print(list7)"
   ]
  },
  {
   "cell_type": "code",
   "execution_count": 132,
   "id": "1706693b",
   "metadata": {},
   "outputs": [
    {
     "data": {
      "text/plain": [
       "['a', 'c', 'd', 'e']"
      ]
     },
     "execution_count": 132,
     "metadata": {},
     "output_type": "execute_result"
    }
   ],
   "source": [
    "# remove() 함수 이용해서 값 삭제\n",
    "list7 = ['a', 'b', 'c', 'd', 'e', 'b']\n",
    "list7.remove('b')\n",
    "list7\n",
    "list7.remove('b')\n",
    "list7"
   ]
  },
  {
   "cell_type": "code",
   "execution_count": 133,
   "id": "f527f1db",
   "metadata": {},
   "outputs": [
    {
     "data": {
      "text/plain": [
       "[0, 77, 13, 51, 100, 3]"
      ]
     },
     "execution_count": 133,
     "metadata": {},
     "output_type": "execute_result"
    }
   ],
   "source": [
    "# sort() 리스트에 있는 값을 오름차순으로 정렬\n",
    "list8 = [0, 77, 13, 51, 100, 3]\n",
    "list8"
   ]
  },
  {
   "cell_type": "code",
   "execution_count": 134,
   "id": "c5950096",
   "metadata": {},
   "outputs": [
    {
     "data": {
      "text/plain": [
       "[0, 3, 13, 51, 77, 100]"
      ]
     },
     "execution_count": 134,
     "metadata": {},
     "output_type": "execute_result"
    }
   ],
   "source": [
    "list8.sort()\n",
    "list8"
   ]
  },
  {
   "cell_type": "code",
   "execution_count": 5,
   "id": "c8ca4965",
   "metadata": {},
   "outputs": [
    {
     "data": {
      "text/plain": [
       "[9, 77, 13, 51, 100, 3]"
      ]
     },
     "execution_count": 5,
     "metadata": {},
     "output_type": "execute_result"
    }
   ],
   "source": [
    "# reverse() 리스트에 있는 값을 역순으로 정렬\n",
    "# 원래 True값이 역순이기 때문에 False값으로 넣으면 정방향으로 사용가능\n",
    "list9 = [9, 77, 13, 51, 100, 3]\n",
    "list9"
   ]
  },
  {
   "cell_type": "code",
   "execution_count": 137,
   "id": "2bcd1f26",
   "metadata": {},
   "outputs": [
    {
     "data": {
      "text/plain": [
       "[3, 100, 51, 13, 77, 9]"
      ]
     },
     "execution_count": 137,
     "metadata": {},
     "output_type": "execute_result"
    }
   ],
   "source": [
    "list9.reverse()\n",
    "list9"
   ]
  },
  {
   "cell_type": "code",
   "execution_count": 138,
   "id": "44170dde",
   "metadata": {},
   "outputs": [
    {
     "data": {
      "text/plain": [
       "[100, 77, 51, 13, 9, 3]"
      ]
     },
     "execution_count": 138,
     "metadata": {},
     "output_type": "execute_result"
    }
   ],
   "source": [
    "list9.sort()\n",
    "list9.reverse()\n",
    "list9"
   ]
  },
  {
   "cell_type": "code",
   "execution_count": 9,
   "id": "900ee66d",
   "metadata": {},
   "outputs": [
    {
     "name": "stdout",
     "output_type": "stream",
     "text": [
      "[100, 77, 51, 13, 9, 3]\n"
     ]
    }
   ],
   "source": [
    "list9\n",
    "list9.sort(reverse = True)\n",
    "print(list9)"
   ]
  },
  {
   "cell_type": "code",
   "execution_count": 147,
   "id": "c0b84fc4",
   "metadata": {},
   "outputs": [
    {
     "data": {
      "text/plain": [
       "2"
      ]
     },
     "execution_count": 147,
     "metadata": {},
     "output_type": "execute_result"
    }
   ],
   "source": [
    "# index() - 찾고자하는 값의 위치를 반환\n",
    "list11 = ['a','b','c','d','e','c','c']\n",
    "list11.index('c')"
   ]
  },
  {
   "cell_type": "code",
   "execution_count": 148,
   "id": "347b6cc7",
   "metadata": {},
   "outputs": [
    {
     "data": {
      "text/plain": [
       "3"
      ]
     },
     "execution_count": 148,
     "metadata": {},
     "output_type": "execute_result"
    }
   ],
   "source": [
    "#count( - 찾고자 하는 값이 몇번 들어있는지 반환\n",
    "list11.count('c')"
   ]
  },
  {
   "cell_type": "code",
   "execution_count": 149,
   "id": "778a7439",
   "metadata": {},
   "outputs": [
    {
     "data": {
      "text/plain": [
       "'c'"
      ]
     },
     "execution_count": 149,
     "metadata": {},
     "output_type": "execute_result"
    }
   ],
   "source": [
    "#pop() - 마지막 값을 반환 후 삭제\n",
    "list11.pop()"
   ]
  },
  {
   "cell_type": "code",
   "execution_count": 150,
   "id": "0cdc7541",
   "metadata": {},
   "outputs": [
    {
     "data": {
      "text/plain": [
       "['a', 'b', 'c', 'd', 'e', 'c']"
      ]
     },
     "execution_count": 150,
     "metadata": {},
     "output_type": "execute_result"
    }
   ],
   "source": [
    "list11"
   ]
  },
  {
   "cell_type": "code",
   "execution_count": 154,
   "id": "76553f00",
   "metadata": {},
   "outputs": [
    {
     "data": {
      "text/plain": [
       "6"
      ]
     },
     "execution_count": 154,
     "metadata": {},
     "output_type": "execute_result"
    }
   ],
   "source": [
    "#len(리스트) - 리스트 값 개수 반환\n",
    "list12 = [0,1,2]\n",
    "len(list12)\n",
    "len(list11)"
   ]
  },
  {
   "cell_type": "code",
   "execution_count": null,
   "id": "e782aef1",
   "metadata": {},
   "outputs": [],
   "source": []
  }
 ],
 "metadata": {
  "kernelspec": {
   "display_name": "Python 3 (ipykernel)",
   "language": "python",
   "name": "python3"
  },
  "language_info": {
   "codemirror_mode": {
    "name": "ipython",
    "version": 3
   },
   "file_extension": ".py",
   "mimetype": "text/x-python",
   "name": "python",
   "nbconvert_exporter": "python",
   "pygments_lexer": "ipython3",
   "version": "3.9.7"
  }
 },
 "nbformat": 4,
 "nbformat_minor": 5
}
