{
 "cells": [
  {
   "cell_type": "markdown",
   "id": "9ace2889",
   "metadata": {},
   "source": [
    "### 튜플(tuple)\n",
    "- 파이썬의 자료구조 형태중 하나\n",
    "- 순서가 있는 집합(인덱스)\n",
    "- 소괄호()로 작성되어지며, 콤마(,)로 구분된다\n",
    "- 추가,수정,삭제 불가능하다\n",
    "- 처리속도 향상 및 메모리 공간 절약\n",
    "- 값이 변하면 안되는 경우 사용한다\n",
    "- 구문을 더 간단하데 사용하는 경우"
   ]
  },
  {
   "cell_type": "code",
   "execution_count": 9,
   "id": "58bae473",
   "metadata": {},
   "outputs": [
    {
     "name": "stdout",
     "output_type": "stream",
     "text": [
      "(1, 2, ('My', 'Name'))\n"
     ]
    }
   ],
   "source": [
    "a = ()\n",
    "b = (1,2,3)\n",
    "c = ('My', 'Name')\n",
    "d = (1, 2, 'My', 'Name')\n",
    "e = (1,2, ('My', 'Name'))\n",
    "\n",
    "print(e)"
   ]
  },
  {
   "cell_type": "code",
   "execution_count": 10,
   "id": "126878b2",
   "metadata": {},
   "outputs": [],
   "source": [
    "tuple1 = (0,1,2,3,('a','b','c'),5)"
   ]
  },
  {
   "cell_type": "code",
   "execution_count": 13,
   "id": "106f2225",
   "metadata": {},
   "outputs": [
    {
     "data": {
      "text/plain": [
       "('a', 'b', 'c')"
      ]
     },
     "execution_count": 13,
     "metadata": {},
     "output_type": "execute_result"
    }
   ],
   "source": [
    "tuple1[4]"
   ]
  },
  {
   "cell_type": "code",
   "execution_count": 14,
   "id": "46b03a09",
   "metadata": {},
   "outputs": [
    {
     "data": {
      "text/plain": [
       "(1, 2)"
      ]
     },
     "execution_count": 14,
     "metadata": {},
     "output_type": "execute_result"
    }
   ],
   "source": [
    "tuple1[1:3]"
   ]
  },
  {
   "cell_type": "code",
   "execution_count": 15,
   "id": "1b8f4cca",
   "metadata": {},
   "outputs": [
    {
     "data": {
      "text/plain": [
       "(3, ('a', 'b', 'c'), 5)"
      ]
     },
     "execution_count": 15,
     "metadata": {},
     "output_type": "execute_result"
    }
   ],
   "source": [
    "tuple1[3:]"
   ]
  },
  {
   "cell_type": "code",
   "execution_count": 16,
   "id": "1886aa6d",
   "metadata": {},
   "outputs": [
    {
     "data": {
      "text/plain": [
       "6"
      ]
     },
     "execution_count": 16,
     "metadata": {},
     "output_type": "execute_result"
    }
   ],
   "source": [
    "len(tuple1)"
   ]
  },
  {
   "cell_type": "markdown",
   "id": "bb378a21",
   "metadata": {},
   "source": [
    "### 데이터의 포함여부 확인\n",
    "-in, not in"
   ]
  },
  {
   "cell_type": "code",
   "execution_count": 19,
   "id": "b9f360f6",
   "metadata": {},
   "outputs": [],
   "source": [
    "str1 = '파이썬 최고'"
   ]
  },
  {
   "cell_type": "code",
   "execution_count": 23,
   "id": "59bedb4e",
   "metadata": {},
   "outputs": [
    {
     "data": {
      "text/plain": [
       "True"
      ]
     },
     "execution_count": 23,
     "metadata": {},
     "output_type": "execute_result"
    }
   ],
   "source": [
    "'파이썬 최' in str1"
   ]
  },
  {
   "cell_type": "code",
   "execution_count": 24,
   "id": "3f06a4b9",
   "metadata": {},
   "outputs": [
    {
     "data": {
      "text/plain": [
       "False"
      ]
     },
     "execution_count": 24,
     "metadata": {},
     "output_type": "execute_result"
    }
   ],
   "source": [
    "'파이썬' not in str1"
   ]
  },
  {
   "cell_type": "code",
   "execution_count": 25,
   "id": "702f1d8c",
   "metadata": {},
   "outputs": [],
   "source": [
    "list1 = [77, 38, 10]"
   ]
  },
  {
   "cell_type": "code",
   "execution_count": 26,
   "id": "5c897a24",
   "metadata": {},
   "outputs": [
    {
     "data": {
      "text/plain": [
       "False"
      ]
     },
     "execution_count": 26,
     "metadata": {},
     "output_type": "execute_result"
    }
   ],
   "source": [
    "33 in list1"
   ]
  },
  {
   "cell_type": "code",
   "execution_count": 27,
   "id": "f9ba649d",
   "metadata": {},
   "outputs": [
    {
     "data": {
      "text/plain": [
       "True"
      ]
     },
     "execution_count": 27,
     "metadata": {},
     "output_type": "execute_result"
    }
   ],
   "source": [
    "33 not in list1"
   ]
  },
  {
   "cell_type": "code",
   "execution_count": 31,
   "id": "ef05de5e",
   "metadata": {},
   "outputs": [],
   "source": [
    "list_fruit = ['딸기', '바나나', '수박', '체리', '포도']"
   ]
  },
  {
   "cell_type": "code",
   "execution_count": 35,
   "id": "dac6a6ec",
   "metadata": {},
   "outputs": [
    {
     "name": "stdout",
     "output_type": "stream",
     "text": [
      "*********************************************\n",
      "검색할 문자를 입력하세요 >> tnqkr\n",
      "tnqkr는 리스트에 들어가 있지 않습니다\n",
      "*********************************************\n"
     ]
    }
   ],
   "source": [
    "print('*'*45)\n",
    "\n",
    "fruit = input('검색할 문자를 입력하세요 >> ')\n",
    "if fruit in list_fruit:\n",
    "    loc = list_fruit.index(fruit)\n",
    "    print(f'{fruit}는 리스트에 {loc}번째 인덱스에 들어가 있습니다')\n",
    "else:\n",
    "    print(f'{fruit}는 리스트에 들어가 있지 않습니다')\n",
    "\n",
    "print('*'*45)"
   ]
  },
  {
   "cell_type": "code",
   "execution_count": 39,
   "id": "5e000657",
   "metadata": {},
   "outputs": [
    {
     "name": "stdout",
     "output_type": "stream",
     "text": [
      "*********************************************\n",
      "검색할 문자를 입력해주세요 >>hi\n",
      "hi는 문자열에 들어있지 않습니다\n",
      "*********************************************\n"
     ]
    }
   ],
   "source": [
    "s = 'Hi, My name is beoumsu'\n",
    "\n",
    "print('*'*45)\n",
    "\n",
    "text = input('검색할 문자를 입력해주세요 >>')\n",
    "\n",
    "if text in s:\n",
    "    print(f'{text}는 {s.count(text)}번 들어있습니다')\n",
    "else :\n",
    "    print(f'{text}는 문자열에 들어있지 않습니다')\n",
    "    \n",
    "print('*'*45)"
   ]
  },
  {
   "cell_type": "markdown",
   "id": "4623cc49",
   "metadata": {},
   "source": [
    "# 반복문 \n",
    "- while문 : 반복 횟수가 명확하지 않을때 사용\n",
    "- for문 : 반복횟수가 명확할때 사용"
   ]
  },
  {
   "cell_type": "code",
   "execution_count": null,
   "id": "bfb6a5a8",
   "metadata": {},
   "outputs": [],
   "source": [
    "while 조건문:\n",
    "    실행문장"
   ]
  },
  {
   "cell_type": "code",
   "execution_count": 42,
   "id": "670d046a",
   "metadata": {},
   "outputs": [
    {
     "name": "stdout",
     "output_type": "stream",
     "text": [
      "1 파이썬 최고\n",
      "2 파이썬 최고\n",
      "3 파이썬 최고\n",
      "4 파이썬 최고\n",
      "5 파이썬 최고\n",
      "6 파이썬 최고\n",
      "7 파이썬 최고\n",
      "8 파이썬 최고\n",
      "9 파이썬 최고\n",
      "10 파이썬 최고\n",
      "11 파이썬 최고\n",
      "12 파이썬 최고\n",
      "13 파이썬 최고\n"
     ]
    }
   ],
   "source": [
    "num = 0\n",
    "while num < 13:\n",
    "    num += 1\n",
    "    print(f'{num} 파이썬 최고')"
   ]
  },
  {
   "cell_type": "code",
   "execution_count": 43,
   "id": "aa087cc7",
   "metadata": {},
   "outputs": [
    {
     "name": "stdout",
     "output_type": "stream",
     "text": [
      "무한루프\n"
     ]
    }
   ],
   "source": [
    "while True:\n",
    "    print('무한루프')\n",
    "    break"
   ]
  },
  {
   "cell_type": "code",
   "execution_count": 44,
   "id": "1152fef9",
   "metadata": {},
   "outputs": [
    {
     "name": "stdout",
     "output_type": "stream",
     "text": [
      "1\n",
      "2\n",
      "3\n"
     ]
    }
   ],
   "source": [
    "number = 1\n",
    "while True:\n",
    "    print(number)\n",
    "    number+=1\n",
    "    if number >3:\n",
    "        break"
   ]
  },
  {
   "cell_type": "code",
   "execution_count": 48,
   "id": "dcb67727",
   "metadata": {},
   "outputs": [
    {
     "name": "stdout",
     "output_type": "stream",
     "text": [
      "첫 번째 정수 입력 >>1\n",
      "두 번째 정수 입력 >>5\n",
      "두 정수의 합 : 6\n",
      "첫 번째 정수 입력 >>35\n",
      "두 번째 정수 입력 >>5\n",
      "두 정수의 합 : 40\n",
      "첫 번째 정수 입력 >>0\n",
      "두 번째 정수 입력 >>5\n",
      "두 정수의 합 : 5\n",
      "첫 번째 정수 입력 >>0\n",
      "두 번째 정수 입력 >>0\n",
      "프로그램이 종료 되었습니다\n"
     ]
    }
   ],
   "source": [
    "while True:\n",
    "    num1 = int(input('첫 번째 정수 입력 >>'))\n",
    "    num2 = int(input('두 번째 정수 입력 >>'))\n",
    "    if num1 == 0 and num2 == 0:\n",
    "        print('프로그램이 종료 되었습니다')\n",
    "        break\n",
    "    else:\n",
    "         print('두 정수의 합 : %d'%(num1+num2))"
   ]
  },
  {
   "cell_type": "code",
   "execution_count": 51,
   "id": "420698f1",
   "metadata": {},
   "outputs": [
    {
     "name": "stdout",
     "output_type": "stream",
     "text": [
      "현재 몸무게 :80\n",
      "목표 몸무게 :70\n",
      "1주차 감량 몸무게 : 2\n",
      "2주차 감량 몸무게 : 3\n",
      "3주차 감량 몸무게 : 4\n",
      "4주차 감량 몸무게 : 5\n",
      "66kg 달성!! 축하합니다\n"
     ]
    }
   ],
   "source": [
    "w1 = int(input('현재 몸무게 :'))\n",
    "w2 = int(input('목표 몸무게 :'))\n",
    "num = 1\n",
    "\n",
    "while True:\n",
    "    num2 = int(input(f'{num}주차 감량 몸무게 : '))\n",
    "    num +=1\n",
    "    w1 = w1-num2\n",
    "    if w1 < w2:\n",
    "        print(f'{w1}kg 달성!! 축하합니다')\n",
    "        break"
   ]
  },
  {
   "cell_type": "code",
   "execution_count": 52,
   "id": "8cc8fc49",
   "metadata": {},
   "outputs": [
    {
     "name": "stdout",
     "output_type": "stream",
     "text": [
      "안\n",
      "녕\n",
      "하\n",
      "세\n",
      "요\n"
     ]
    }
   ],
   "source": [
    "s = '안녕하세요'\n",
    "for say in s:\n",
    "    print(say)"
   ]
  },
  {
   "cell_type": "code",
   "execution_count": 53,
   "id": "17f7a0b3",
   "metadata": {},
   "outputs": [
    {
     "name": "stdout",
     "output_type": "stream",
     "text": [
      "햄버거\n",
      "치킨\n",
      "피자\n"
     ]
    }
   ],
   "source": [
    "tuple_food = ('햄버거', '치킨', '피자')\n",
    "for food in tuple_food:\n",
    "    print(food)"
   ]
  },
  {
   "cell_type": "code",
   "execution_count": null,
   "id": "54da5d10",
   "metadata": {},
   "outputs": [],
   "source": []
  }
 ],
 "metadata": {
  "kernelspec": {
   "display_name": "Python 3 (ipykernel)",
   "language": "python",
   "name": "python3"
  },
  "language_info": {
   "codemirror_mode": {
    "name": "ipython",
    "version": 3
   },
   "file_extension": ".py",
   "mimetype": "text/x-python",
   "name": "python",
   "nbconvert_exporter": "python",
   "pygments_lexer": "ipython3",
   "version": "3.9.7"
  }
 },
 "nbformat": 4,
 "nbformat_minor": 5
}
