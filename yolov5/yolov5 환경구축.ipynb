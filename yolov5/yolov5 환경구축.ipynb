{
 "cells": [
  {
   "cell_type": "code",
   "execution_count": 2,
   "id": "d78ccdc7",
   "metadata": {},
   "outputs": [
    {
     "name": "stderr",
     "output_type": "stream",
     "text": [
      "Cloning into 'yolov5'...\n"
     ]
    }
   ],
   "source": [
    "#!git clone https://github.com/ultralytics/yolov5.git"
   ]
  },
  {
   "cell_type": "code",
   "execution_count": 4,
   "id": "db1c088e",
   "metadata": {
    "collapsed": true
   },
   "outputs": [
    {
     "name": "stdout",
     "output_type": "stream",
     "text": [
      "Collecting matplotlib>=3.2.2"
     ]
    },
    {
     "name": "stderr",
     "output_type": "stream",
     "text": [
      "WARNING: Ignore distutils configs in setup.cfg due to encoding errors.\n",
      "  WARNING: Ignore distutils configs in setup.cfg due to encoding errors.\n",
      "  WARNING: Ignore distutils configs in setup.cfg due to encoding errors.\n",
      "  WARNING: Ignore distutils configs in setup.cfg due to encoding errors.\n",
      "  WARNING: Ignore distutils configs in setup.cfg due to encoding errors.\n",
      "  WARNING: Ignore distutils configs in setup.cfg due to encoding errors.\n",
      "  WARNING: Ignore distutils configs in setup.cfg due to encoding errors.\n",
      "  WARNING: Ignore distutils configs in setup.cfg due to encoding errors.\n",
      "  WARNING: Ignore distutils configs in setup.cfg due to encoding errors.\n",
      "  WARNING: Ignore distutils configs in setup.cfg due to encoding errors.\n",
      "  WARNING: Ignore distutils configs in setup.cfg due to encoding errors.\n",
      "  WARNING: Ignore distutils configs in setup.cfg due to encoding errors.\n",
      "  WARNING: Ignore distutils configs in setup.cfg due to encoding errors.\n",
      "  WARNING: Ignore distutils configs in setup.cfg due to encoding errors.\n",
      "  WARNING: Ignore distutils configs in setup.cfg due to encoding errors.\n",
      "  WARNING: Ignore distutils configs in setup.cfg due to encoding errors.\n",
      "  WARNING: Ignore distutils configs in setup.cfg due to encoding errors.\n",
      "  WARNING: Ignore distutils configs in setup.cfg due to encoding errors.\n",
      "  WARNING: Ignore distutils configs in setup.cfg due to encoding errors.\n",
      "  WARNING: Ignore distutils configs in setup.cfg due to encoding errors.\n",
      "  WARNING: Ignore distutils configs in setup.cfg due to encoding errors.\n",
      "  WARNING: Ignore distutils configs in setup.cfg due to encoding errors.\n",
      "  WARNING: Ignore distutils configs in setup.cfg due to encoding errors.\n",
      "  WARNING: Ignore distutils configs in setup.cfg due to encoding errors.\n",
      "  WARNING: Ignore distutils configs in setup.cfg due to encoding errors.\n",
      "  WARNING: Ignore distutils configs in setup.cfg due to encoding errors.\n",
      "  WARNING: Ignore distutils configs in setup.cfg due to encoding errors.\n",
      "  WARNING: Ignore distutils configs in setup.cfg due to encoding errors.\n",
      "  WARNING: Ignore distutils configs in setup.cfg due to encoding errors.\n",
      "WARNING: Ignore distutils configs in setup.cfg due to encoding errors.\n"
     ]
    },
    {
     "name": "stdout",
     "output_type": "stream",
     "text": [
      "\n",
      "  Downloading matplotlib-3.5.1-cp37-cp37m-win_amd64.whl (7.2 MB)\n",
      "Requirement already satisfied: numpy>=1.18.5 in c:\\users\\smhrd\\anaconda3\\envs\\somenail\\lib\\site-packages (from -r requirements.txt (line 5)) (1.21.5)\n",
      "Collecting opencv-python>=4.1.2\n",
      "  Using cached opencv_python-4.5.5.64-cp36-abi3-win_amd64.whl (35.4 MB)\n",
      "Requirement already satisfied: Pillow>=7.1.2 in c:\\users\\smhrd\\anaconda3\\envs\\somenail\\lib\\site-packages (from -r requirements.txt (line 7)) (9.0.1)\n",
      "Collecting PyYAML>=5.3.1\n",
      "  Downloading PyYAML-6.0-cp37-cp37m-win_amd64.whl (153 kB)\n",
      "Requirement already satisfied: requests>=2.23.0 in c:\\users\\smhrd\\anaconda3\\envs\\somenail\\lib\\site-packages (from -r requirements.txt (line 9)) (2.27.1)\n",
      "Collecting scipy>=1.4.1\n",
      "  Downloading scipy-1.7.3-cp37-cp37m-win_amd64.whl (34.1 MB)\n",
      "Requirement already satisfied: torch>=1.7.0 in c:\\users\\smhrd\\anaconda3\\envs\\somenail\\lib\\site-packages (from -r requirements.txt (line 11)) (1.11.0)\n",
      "Requirement already satisfied: torchvision>=0.8.1 in c:\\users\\smhrd\\anaconda3\\envs\\somenail\\lib\\site-packages (from -r requirements.txt (line 12)) (0.12.0)\n",
      "Collecting tqdm>=4.41.0\n",
      "  Using cached tqdm-4.64.0-py2.py3-none-any.whl (78 kB)\n",
      "Collecting tensorboard>=2.4.1\n",
      "  Using cached tensorboard-2.8.0-py3-none-any.whl (5.8 MB)\n",
      "Collecting pandas>=1.1.4\n",
      "  Downloading pandas-1.3.5-cp37-cp37m-win_amd64.whl (10.0 MB)\n",
      "Collecting seaborn>=0.11.0\n",
      "  Downloading seaborn-0.11.2-py3-none-any.whl (292 kB)\n",
      "Collecting thop\n",
      "  Downloading thop-0.0.31.post2005241907-py3-none-any.whl (8.7 kB)\n",
      "Requirement already satisfied: packaging>=20.0 in c:\\users\\smhrd\\anaconda3\\envs\\somenail\\lib\\site-packages (from matplotlib>=3.2.2->-r requirements.txt (line 4)) (21.3)\n",
      "Collecting fonttools>=4.22.0\n",
      "  Downloading fonttools-4.32.0-py3-none-any.whl (900 kB)\n",
      "Collecting kiwisolver>=1.0.1\n",
      "  Downloading kiwisolver-1.4.2-cp37-cp37m-win_amd64.whl (54 kB)\n",
      "Requirement already satisfied: pyparsing>=2.2.1 in c:\\users\\smhrd\\anaconda3\\envs\\somenail\\lib\\site-packages (from matplotlib>=3.2.2->-r requirements.txt (line 4)) (3.0.4)\n",
      "Requirement already satisfied: python-dateutil>=2.7 in c:\\users\\smhrd\\anaconda3\\envs\\somenail\\lib\\site-packages (from matplotlib>=3.2.2->-r requirements.txt (line 4)) (2.8.2)\n",
      "Collecting cycler>=0.10\n",
      "  Downloading cycler-0.11.0-py3-none-any.whl (6.4 kB)\n",
      "Requirement already satisfied: urllib3<1.27,>=1.21.1 in c:\\users\\smhrd\\anaconda3\\envs\\somenail\\lib\\site-packages (from requests>=2.23.0->-r requirements.txt (line 9)) (1.26.8)\n",
      "Requirement already satisfied: idna<4,>=2.5 in c:\\users\\smhrd\\anaconda3\\envs\\somenail\\lib\\site-packages (from requests>=2.23.0->-r requirements.txt (line 9)) (3.3)\n",
      "Requirement already satisfied: charset-normalizer~=2.0.0 in c:\\users\\smhrd\\anaconda3\\envs\\somenail\\lib\\site-packages (from requests>=2.23.0->-r requirements.txt (line 9)) (2.0.4)\n",
      "Requirement already satisfied: certifi>=2017.4.17 in c:\\users\\smhrd\\anaconda3\\envs\\somenail\\lib\\site-packages (from requests>=2.23.0->-r requirements.txt (line 9)) (2021.10.8)\n",
      "Requirement already satisfied: typing_extensions in c:\\users\\smhrd\\anaconda3\\envs\\somenail\\lib\\site-packages (from torch>=1.7.0->-r requirements.txt (line 11)) (4.1.1)\n",
      "Requirement already satisfied: colorama in c:\\users\\smhrd\\anaconda3\\envs\\somenail\\lib\\site-packages (from tqdm>=4.41.0->-r requirements.txt (line 13)) (0.4.4)\n",
      "Collecting grpcio>=1.24.3\n",
      "  Downloading grpcio-1.44.0-cp37-cp37m-win_amd64.whl (3.4 MB)\n",
      "Collecting tensorboard-plugin-wit>=1.6.0\n",
      "  Using cached tensorboard_plugin_wit-1.8.1-py3-none-any.whl (781 kB)\n",
      "Collecting werkzeug>=0.11.15\n",
      "  Downloading Werkzeug-2.1.1-py3-none-any.whl (224 kB)\n",
      "Collecting google-auth<3,>=1.6.3\n",
      "  Downloading google_auth-2.6.3-py2.py3-none-any.whl (156 kB)\n",
      "Collecting protobuf>=3.6.0\n",
      "  Downloading protobuf-3.20.0-cp37-cp37m-win_amd64.whl (905 kB)\n",
      "Collecting google-auth-oauthlib<0.5,>=0.4.1\n",
      "  Using cached google_auth_oauthlib-0.4.6-py2.py3-none-any.whl (18 kB)\n",
      "Collecting absl-py>=0.4\n",
      "  Using cached absl_py-1.0.0-py3-none-any.whl (126 kB)\n",
      "Requirement already satisfied: setuptools>=41.0.0 in c:\\users\\smhrd\\anaconda3\\envs\\somenail\\lib\\site-packages (from tensorboard>=2.4.1->-r requirements.txt (line 16)) (58.0.4)\n",
      "Requirement already satisfied: wheel>=0.26 in c:\\users\\smhrd\\anaconda3\\envs\\somenail\\lib\\site-packages (from tensorboard>=2.4.1->-r requirements.txt (line 16)) (0.37.1)\n",
      "Collecting markdown>=2.6.8\n",
      "  Using cached Markdown-3.3.6-py3-none-any.whl (97 kB)\n",
      "Collecting tensorboard-data-server<0.7.0,>=0.6.0\n",
      "  Using cached tensorboard_data_server-0.6.1-py3-none-any.whl (2.4 kB)\n",
      "Collecting pytz>=2017.3\n",
      "  Using cached pytz-2022.1-py2.py3-none-any.whl (503 kB)\n",
      "Requirement already satisfied: six in c:\\users\\smhrd\\anaconda3\\envs\\somenail\\lib\\site-packages (from absl-py>=0.4->tensorboard>=2.4.1->-r requirements.txt (line 16)) (1.16.0)\n",
      "Collecting cachetools<6.0,>=2.0.0\n",
      "  Using cached cachetools-5.0.0-py3-none-any.whl (9.1 kB)\n",
      "Collecting rsa<5,>=3.1.4\n",
      "  Using cached rsa-4.8-py3-none-any.whl (39 kB)\n",
      "Collecting pyasn1-modules>=0.2.1\n",
      "  Using cached pyasn1_modules-0.2.8-py2.py3-none-any.whl (155 kB)\n",
      "Collecting requests-oauthlib>=0.7.0\n",
      "  Using cached requests_oauthlib-1.3.1-py2.py3-none-any.whl (23 kB)\n",
      "Requirement already satisfied: importlib-metadata>=4.4 in c:\\users\\smhrd\\anaconda3\\envs\\somenail\\lib\\site-packages (from markdown>=2.6.8->tensorboard>=2.4.1->-r requirements.txt (line 16)) (4.11.3)\n",
      "Requirement already satisfied: zipp>=0.5 in c:\\users\\smhrd\\anaconda3\\envs\\somenail\\lib\\site-packages (from importlib-metadata>=4.4->markdown>=2.6.8->tensorboard>=2.4.1->-r requirements.txt (line 16)) (3.7.0)\n",
      "Collecting pyasn1<0.5.0,>=0.4.6\n",
      "  Using cached pyasn1-0.4.8-py2.py3-none-any.whl (77 kB)\n",
      "Collecting oauthlib>=3.0.0\n",
      "  Using cached oauthlib-3.2.0-py3-none-any.whl (151 kB)\n",
      "Installing collected packages: pyasn1, rsa, pyasn1-modules, oauthlib, cachetools, requests-oauthlib, pytz, kiwisolver, google-auth, fonttools, cycler, werkzeug, tensorboard-plugin-wit, tensorboard-data-server, scipy, protobuf, pandas, matplotlib, markdown, grpcio, google-auth-oauthlib, absl-py, tqdm, thop, tensorboard, seaborn, PyYAML, opencv-python\n",
      "Successfully installed PyYAML-6.0 absl-py-1.0.0 cachetools-5.0.0 cycler-0.11.0 fonttools-4.32.0 google-auth-2.6.3 google-auth-oauthlib-0.4.6 grpcio-1.44.0 kiwisolver-1.4.2 markdown-3.3.6 matplotlib-3.5.1 oauthlib-3.2.0 opencv-python-4.5.5.64 pandas-1.3.5 protobuf-3.20.0 pyasn1-0.4.8 pyasn1-modules-0.2.8 pytz-2022.1 requests-oauthlib-1.3.1 rsa-4.8 scipy-1.7.3 seaborn-0.11.2 tensorboard-2.8.0 tensorboard-data-server-0.6.1 tensorboard-plugin-wit-1.8.1 thop-0.0.31.post2005241907 tqdm-4.64.0 werkzeug-2.1.1\n"
     ]
    }
   ],
   "source": [
    "#!pip install -r requirements.txt"
   ]
  },
  {
   "cell_type": "markdown",
   "id": "85140a6a",
   "metadata": {},
   "source": [
    "# 디렉토리 이동"
   ]
  },
  {
   "cell_type": "code",
   "execution_count": 2,
   "id": "f0326f47",
   "metadata": {},
   "outputs": [
    {
     "name": "stdout",
     "output_type": "stream",
     "text": [
      "C:\\Users\\smhrd\\yolov5\\yolov5\n"
     ]
    }
   ],
   "source": [
    "cd yolov5"
   ]
  },
  {
   "cell_type": "code",
   "execution_count": 3,
   "id": "7d457bae",
   "metadata": {},
   "outputs": [
    {
     "name": "stderr",
     "output_type": "stream",
     "text": [
      "\u001b[34m\u001b[1mdetect: \u001b[0mweights=['C:\\\\Users\\\\smhrd\\\\yolov5\\\\yolov5\\\\runs\\\\train\\\\test200\\\\weights\\\\best.pt'], source=./det/, data=data\\coco128.yaml, imgsz=[640, 640], conf_thres=0.25, iou_thres=0.45, max_det=1000, device=, view_img=False, save_txt=True, save_conf=False, save_crop=False, nosave=False, classes=None, agnostic_nms=False, augment=False, visualize=False, update=False, project=runs\\detect, name=text_test, exist_ok=False, line_thickness=3, hide_labels=False, hide_conf=False, half=False, dnn=False\n",
      "YOLOv5  v6.1-124-g8c420c4 torch 1.11.0 CUDA:0 (NVIDIA GeForce RTX 2070, 8192MiB)\n",
      "\n",
      "Fusing layers... \n",
      "YOLOv5x summary: 444 layers, 86200330 parameters, 0 gradients, 204.1 GFLOPs\n",
      "image 1/12 C:\\Users\\smhrd\\yolov5\\yolov5\\det\\190.jpg: 640x640 2 0s, 3 1s, 5 2s, 2 3s, Done. (0.059s)\n",
      "image 2/12 C:\\Users\\smhrd\\yolov5\\yolov5\\det\\191.jpg: 640x640 2 0s, 2 1s, 6 2s, 1 3, Done. (0.053s)\n",
      "image 3/12 C:\\Users\\smhrd\\yolov5\\yolov5\\det\\192.jpg: 640x512 3 0s, 5 1s, 2 2s, 4 3s, 4 4s, Done. (0.040s)\n",
      "image 4/12 C:\\Users\\smhrd\\yolov5\\yolov5\\det\\193.jpg: 640x640 2 0s, 2 1s, 2 2s, 5 3s, 5 4s, Done. (0.054s)\n",
      "image 5/12 C:\\Users\\smhrd\\yolov5\\yolov5\\det\\194.jpg: 512x640 2 0s, 2 1s, 2 2s, 3 3s, 2 4s, Done. (0.040s)\n",
      "image 6/12 C:\\Users\\smhrd\\yolov5\\yolov5\\det\\195.jpg: 640x640 1 0, 3 1s, 2 2s, 4 3s, 4 4s, Done. (0.052s)\n",
      "image 7/12 C:\\Users\\smhrd\\yolov5\\yolov5\\det\\196.jpg: 512x640 2 0s, 4 1s, 6 2s, 4 3s, 2 4s, Done. (0.040s)\n",
      "image 8/12 C:\\Users\\smhrd\\yolov5\\yolov5\\det\\197.jpg: 640x512 4 1s, 4 2s, 4 3s, 1 4, Done. (0.039s)\n",
      "image 9/12 C:\\Users\\smhrd\\yolov5\\yolov5\\det\\198.jpg: 544x640 2 0s, 4 1s, 4 2s, 7 3s, 2 4s, Done. (0.042s)\n",
      "image 10/12 C:\\Users\\smhrd\\yolov5\\yolov5\\det\\199.jpg: 640x640 1 0, 4 1s, 3 2s, 2 3s, 1 4, Done. (0.053s)\n",
      "image 11/12 C:\\Users\\smhrd\\yolov5\\yolov5\\det\\200.jpg: 448x640 3 0s, 4 1s, 4 2s, 6 3s, 2 4s, Done. (0.037s)\n",
      "image 12/12 C:\\Users\\smhrd\\yolov5\\yolov5\\det\\201.jpg: 640x640 1 0, 2 1s, 3 2s, 4 3s, 4 4s, Done. (0.051s)\n",
      "Speed: 0.7ms pre-process, 46.5ms inference, 1.7ms NMS per image at shape (1, 3, 640, 640)\n",
      "Results saved to \u001b[1mruns\\detect\\text_test\u001b[0m\n",
      "12 labels saved to runs\\detect\\text_test\\labels\n"
     ]
    }
   ],
   "source": [
    "!python detect.py --source ./det/ --weights C:\\Users\\smhrd\\yolov5\\yolov5\\runs\\train\\test200\\weights\\best.pt --name text_test --save-txt "
   ]
  },
  {
   "cell_type": "code",
   "execution_count": 4,
   "id": "468f0afd",
   "metadata": {
    "collapsed": true
   },
   "outputs": [
    {
     "name": "stderr",
     "output_type": "stream",
     "text": [
      "\u001b[34m\u001b[1mdetect: \u001b[0mweights=['C:\\\\Users\\\\smhrd\\\\yolov5\\\\yolov5\\\\runs\\\\train\\\\test200\\\\weights\\\\best.pt'], source=./det/, data=data\\coco128.yaml, imgsz=[640, 640], conf_thres=0.25, iou_thres=0.45, max_det=1000, device=, view_img=True, save_txt=True, save_conf=False, save_crop=False, nosave=False, classes=None, agnostic_nms=False, augment=False, visualize=False, update=False, project=runs\\detect, name=text_test, exist_ok=False, line_thickness=3, hide_labels=False, hide_conf=False, half=False, dnn=False\n",
      "YOLOv5  v6.1-124-g8c420c4 torch 1.11.0 CUDA:0 (NVIDIA GeForce RTX 2070, 8192MiB)\n",
      "\n",
      "Fusing layers... \n",
      "YOLOv5x summary: 444 layers, 86200330 parameters, 0 gradients, 204.1 GFLOPs\n",
      "image 1/12 C:\\Users\\smhrd\\yolov5\\yolov5\\det\\190.jpg: 640x640 2 0s, 3 1s, 5 2s, 2 3s, Done. (0.062s)\n",
      "image 2/12 C:\\Users\\smhrd\\yolov5\\yolov5\\det\\191.jpg: 640x640 2 0s, 2 1s, 6 2s, 1 3, Done. (0.053s)\n",
      "image 3/12 C:\\Users\\smhrd\\yolov5\\yolov5\\det\\192.jpg: 640x512 3 0s, 5 1s, 2 2s, 4 3s, 4 4s, Done. (0.040s)\n",
      "image 4/12 C:\\Users\\smhrd\\yolov5\\yolov5\\det\\193.jpg: 640x640 2 0s, 2 1s, 2 2s, 5 3s, 5 4s, Done. (0.053s)\n",
      "image 5/12 C:\\Users\\smhrd\\yolov5\\yolov5\\det\\194.jpg: 512x640 2 0s, 2 1s, 2 2s, 3 3s, 2 4s, Done. (0.041s)\n",
      "image 6/12 C:\\Users\\smhrd\\yolov5\\yolov5\\det\\195.jpg: 640x640 1 0, 3 1s, 2 2s, 4 3s, 4 4s, Done. (0.053s)\n",
      "image 7/12 C:\\Users\\smhrd\\yolov5\\yolov5\\det\\196.jpg: 512x640 2 0s, 4 1s, 6 2s, 4 3s, 2 4s, Done. (0.041s)\n",
      "image 8/12 C:\\Users\\smhrd\\yolov5\\yolov5\\det\\197.jpg: 640x512 4 1s, 4 2s, 4 3s, 1 4, Done. (0.041s)\n",
      "image 9/12 C:\\Users\\smhrd\\yolov5\\yolov5\\det\\198.jpg: 544x640 2 0s, 4 1s, 4 2s, 7 3s, 2 4s, Done. (0.042s)\n",
      "image 10/12 C:\\Users\\smhrd\\yolov5\\yolov5\\det\\199.jpg: 640x640 1 0, 4 1s, 3 2s, 2 3s, 1 4, Done. (0.052s)\n",
      "image 11/12 C:\\Users\\smhrd\\yolov5\\yolov5\\det\\200.jpg: 448x640 3 0s, 4 1s, 4 2s, 6 3s, 2 4s, Done. (0.039s)\n",
      "image 12/12 C:\\Users\\smhrd\\yolov5\\yolov5\\det\\201.jpg: 640x640 1 0, 2 1s, 3 2s, 4 3s, 4 4s, Done. (0.054s)\n",
      "Speed: 0.7ms pre-process, 47.5ms inference, 1.6ms NMS per image at shape (1, 3, 640, 640)\n",
      "Results saved to \u001b[1mruns\\detect\\text_test2\u001b[0m\n",
      "12 labels saved to runs\\detect\\text_test2\\labels\n"
     ]
    }
   ],
   "source": [
    "!python detect.py --source ./det/ --weights C:\\Users\\smhrd\\yolov5\\yolov5\\runs\\train\\test200\\weights\\best.pt --name text_test --save-txt  --view-img"
   ]
  },
  {
   "cell_type": "code",
   "execution_count": 5,
   "id": "72061741",
   "metadata": {},
   "outputs": [
    {
     "name": "stderr",
     "output_type": "stream",
     "text": [
      "\u001b[34m\u001b[1mdetect: \u001b[0mweights=['C:\\\\Users\\\\smhrd\\\\yolov5\\\\yolov5\\\\runs\\\\train\\\\test200\\\\weights\\\\best.pt'], source=./det/, data=data\\coco128.yaml, imgsz=[640, 640], conf_thres=0.25, iou_thres=0.45, max_det=1000, device=, view_img=False, save_txt=True, save_conf=False, save_crop=True, nosave=False, classes=None, agnostic_nms=False, augment=False, visualize=False, update=False, project=runs\\detect, name=text_test, exist_ok=False, line_thickness=3, hide_labels=False, hide_conf=False, half=False, dnn=False\n",
      "YOLOv5  v6.1-124-g8c420c4 torch 1.11.0 CUDA:0 (NVIDIA GeForce RTX 2070, 8192MiB)\n",
      "\n",
      "Fusing layers... \n",
      "YOLOv5x summary: 444 layers, 86200330 parameters, 0 gradients, 204.1 GFLOPs\n",
      "image 1/12 C:\\Users\\smhrd\\yolov5\\yolov5\\det\\190.jpg: 640x640 2 0s, 3 1s, 5 2s, 2 3s, Done. (0.058s)\n",
      "image 2/12 C:\\Users\\smhrd\\yolov5\\yolov5\\det\\191.jpg: 640x640 2 0s, 2 1s, 6 2s, 1 3, Done. (0.051s)\n",
      "image 3/12 C:\\Users\\smhrd\\yolov5\\yolov5\\det\\192.jpg: 640x512 3 0s, 5 1s, 2 2s, 4 3s, 4 4s, Done. (0.041s)\n",
      "image 4/12 C:\\Users\\smhrd\\yolov5\\yolov5\\det\\193.jpg: 640x640 2 0s, 2 1s, 2 2s, 5 3s, 5 4s, Done. (0.053s)\n",
      "image 5/12 C:\\Users\\smhrd\\yolov5\\yolov5\\det\\194.jpg: 512x640 2 0s, 2 1s, 2 2s, 3 3s, 2 4s, Done. (0.040s)\n",
      "image 6/12 C:\\Users\\smhrd\\yolov5\\yolov5\\det\\195.jpg: 640x640 1 0, 3 1s, 2 2s, 4 3s, 4 4s, Done. (0.053s)\n",
      "image 7/12 C:\\Users\\smhrd\\yolov5\\yolov5\\det\\196.jpg: 512x640 2 0s, 4 1s, 6 2s, 4 3s, 2 4s, Done. (0.040s)\n",
      "image 8/12 C:\\Users\\smhrd\\yolov5\\yolov5\\det\\197.jpg: 640x512 4 1s, 4 2s, 4 3s, 1 4, Done. (0.039s)\n",
      "image 9/12 C:\\Users\\smhrd\\yolov5\\yolov5\\det\\198.jpg: 544x640 2 0s, 4 1s, 4 2s, 7 3s, 2 4s, Done. (0.041s)\n",
      "image 10/12 C:\\Users\\smhrd\\yolov5\\yolov5\\det\\199.jpg: 640x640 1 0, 4 1s, 3 2s, 2 3s, 1 4, Done. (0.052s)\n",
      "image 11/12 C:\\Users\\smhrd\\yolov5\\yolov5\\det\\200.jpg: 448x640 3 0s, 4 1s, 4 2s, 6 3s, 2 4s, Done. (0.037s)\n",
      "image 12/12 C:\\Users\\smhrd\\yolov5\\yolov5\\det\\201.jpg: 640x640 1 0, 2 1s, 3 2s, 4 3s, 4 4s, Done. (0.053s)\n",
      "Speed: 0.9ms pre-process, 46.4ms inference, 1.4ms NMS per image at shape (1, 3, 640, 640)\n",
      "Results saved to \u001b[1mruns\\detect\\text_test3\u001b[0m\n",
      "12 labels saved to runs\\detect\\text_test3\\labels\n"
     ]
    }
   ],
   "source": [
    "!python detect.py --source ./det/ --weights C:\\Users\\smhrd\\yolov5\\yolov5\\runs\\train\\test200\\weights\\best.pt --name text_test --save-txt --save-crop"
   ]
  }
 ],
 "metadata": {
  "kernelspec": {
   "display_name": "Python 3 (ipykernel)",
   "language": "python",
   "name": "python3"
  },
  "language_info": {
   "codemirror_mode": {
    "name": "ipython",
    "version": 3
   },
   "file_extension": ".py",
   "mimetype": "text/x-python",
   "name": "python",
   "nbconvert_exporter": "python",
   "pygments_lexer": "ipython3",
   "version": "3.7.13"
  },
  "toc": {
   "base_numbering": 1,
   "nav_menu": {},
   "number_sections": true,
   "sideBar": true,
   "skip_h1_title": false,
   "title_cell": "Table of Contents",
   "title_sidebar": "Contents",
   "toc_cell": false,
   "toc_position": {},
   "toc_section_display": true,
   "toc_window_display": false
  }
 },
 "nbformat": 4,
 "nbformat_minor": 5
}
