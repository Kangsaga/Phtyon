{
 "cells": [
  {
   "cell_type": "code",
   "execution_count": 1,
   "id": "db635c89",
   "metadata": {},
   "outputs": [],
   "source": [
    "from selenium import webdriver as wb\n",
    "from selenium.webdriver.common.keys import Keys \n",
    "import time\n",
    "import pandas as pd\n",
    "import requests as req\n",
    "from bs4 import BeautifulSoup as bs\n",
    "import datetime"
   ]
  },
  {
   "cell_type": "code",
   "execution_count": 2,
   "id": "53b57170",
   "metadata": {},
   "outputs": [],
   "source": [
    "driver = wb.Chrome()"
   ]
  },
  {
   "cell_type": "code",
   "execution_count": 3,
   "id": "2b6e7d43",
   "metadata": {},
   "outputs": [],
   "source": [
    "driver.get(\"https://www.youtube.com/results?search_query=%EC%9E%90%EB%B0%94&sp=CAMSAhAB\")"
   ]
  },
  {
   "cell_type": "code",
   "execution_count": 11,
   "id": "fb291208",
   "metadata": {},
   "outputs": [
    {
     "data": {
      "text/plain": [
       "'https://i.ytimg.com/vi/u8xynn2l4II/hq720.jpg?sqp=-oaymwEcCOgCEMoBSFXyq4qpAw4IARUAAIhCGAFwAcABBg==&rs=AOn4CLAUs1KH-ECYFTx_cwlKsEC-uvRDeA'"
      ]
     },
     "execution_count": 11,
     "metadata": {},
     "output_type": "execute_result"
    }
   ],
   "source": [
    "soup = bs(driver.page_source,\"lxml\")\n",
    "soup.select(\"img#img\")[2][\"src\"]"
   ]
  },
  {
   "cell_type": "code",
   "execution_count": 301,
   "id": "b7320d76",
   "metadata": {},
   "outputs": [
    {
     "data": {
      "text/plain": [
       "'가위'"
      ]
     },
     "execution_count": 301,
     "metadata": {},
     "output_type": "execute_result"
    }
   ],
   "source": [
    "soup.select(\"#text > a\")[2-2].text"
   ]
  },
  {
   "cell_type": "code",
   "execution_count": 222,
   "id": "5e8be088",
   "metadata": {},
   "outputs": [
    {
     "name": "stderr",
     "output_type": "stream",
     "text": [
      "C:\\Users\\smhrd\\AppData\\Local\\Temp/ipykernel_1904/2457300260.py:1: DeprecationWarning: find_elements_by_* commands are deprecated. Please use find_elements() instead\n",
      "  img = driver.find_elements_by_css_selector(\"img#img\")[4]\n"
     ]
    }
   ],
   "source": [
    "img = driver.find_elements_by_css_selector(\"img#img\")[4]"
   ]
  },
  {
   "cell_type": "code",
   "execution_count": 223,
   "id": "050a1fa7",
   "metadata": {},
   "outputs": [],
   "source": [
    "img.click()"
   ]
  },
  {
   "cell_type": "code",
   "execution_count": 241,
   "id": "e733b2b9",
   "metadata": {},
   "outputs": [
    {
     "name": "stderr",
     "output_type": "stream",
     "text": [
      "C:\\Users\\smhrd\\AppData\\Local\\Temp/ipykernel_1904/239548113.py:1: DeprecationWarning: find_element_by_* commands are deprecated. Please use find_element() instead\n",
      "  driver.find_element_by_css_selector(\"h1.title.style-scope.ytd-video-primary-info-renderer\").text\n"
     ]
    },
    {
     "data": {
      "text/plain": [
       "'컴공과 오지 마세요'"
      ]
     },
     "execution_count": 241,
     "metadata": {},
     "output_type": "execute_result"
    }
   ],
   "source": [
    "driver.find_element_by_css_selector(\"h1.title.style-scope.ytd-video-primary-info-renderer\").text"
   ]
  },
  {
   "cell_type": "code",
   "execution_count": 87,
   "id": "dba3b071",
   "metadata": {},
   "outputs": [
    {
     "data": {
      "text/plain": [
       "'https://www.youtube.com/watch?v=K4Di2rvigVk'"
      ]
     },
     "execution_count": 87,
     "metadata": {},
     "output_type": "execute_result"
    }
   ],
   "source": [
    "driver.current_url"
   ]
  },
  {
   "cell_type": "code",
   "execution_count": 240,
   "id": "a092430a",
   "metadata": {},
   "outputs": [
    {
     "name": "stderr",
     "output_type": "stream",
     "text": [
      "C:\\Users\\smhrd\\AppData\\Local\\Temp/ipykernel_1904/591194453.py:1: DeprecationWarning: find_element_by_* commands are deprecated. Please use find_element() instead\n",
      "  driver.find_element_by_css_selector(\"yt-formatted-string#text > a\").text\n"
     ]
    },
    {
     "data": {
      "text/plain": [
       "'가위'"
      ]
     },
     "execution_count": 240,
     "metadata": {},
     "output_type": "execute_result"
    }
   ],
   "source": [
    "driver.find_element_by_css_selector(\"yt-formatted-string#text > a\").text"
   ]
  },
  {
   "cell_type": "code",
   "execution_count": 237,
   "id": "8ee1c5d1",
   "metadata": {},
   "outputs": [
    {
     "data": {
      "text/plain": [
       "'가위'"
      ]
     },
     "execution_count": 237,
     "metadata": {},
     "output_type": "execute_result"
    }
   ],
   "source": [
    "soup = bs(driver.page_source,\"lxml\")\n",
    "soup.select_one(\"#text > a\").text"
   ]
  },
  {
   "cell_type": "code",
   "execution_count": 255,
   "id": "12ba9996",
   "metadata": {},
   "outputs": [
    {
     "data": {
      "text/plain": [
       "'2019. 6. 19.'"
      ]
     },
     "execution_count": 255,
     "metadata": {},
     "output_type": "execute_result"
    }
   ],
   "source": [
    "soup.select_one(\"#info-strings > yt-formatted-string\").text"
   ]
  },
  {
   "cell_type": "code",
   "execution_count": 239,
   "id": "35283cb8",
   "metadata": {},
   "outputs": [
    {
     "data": {
      "text/plain": [
       "'1,306,102'"
      ]
     },
     "execution_count": 239,
     "metadata": {},
     "output_type": "execute_result"
    }
   ],
   "source": [
    "view = soup.select_one(\"span.view-count.style-scope.ytd-video-view-count-renderer\").text\n",
    "view[4:-1]"
   ]
  },
  {
   "cell_type": "code",
   "execution_count": 334,
   "id": "95dc620a",
   "metadata": {},
   "outputs": [],
   "source": [
    "time1 = soup.select_one(\"span.ytp-time-duration\").text"
   ]
  },
  {
   "cell_type": "code",
   "execution_count": 335,
   "id": "9da480f6",
   "metadata": {},
   "outputs": [
    {
     "ename": "ValueError",
     "evalue": "time data '0:16' does not match format '%H:%M:%S'",
     "output_type": "error",
     "traceback": [
      "\u001b[1;31m---------------------------------------------------------------------------\u001b[0m",
      "\u001b[1;31mValueError\u001b[0m                                Traceback (most recent call last)",
      "\u001b[1;32m~\\AppData\\Local\\Temp/ipykernel_1904/2717841102.py\u001b[0m in \u001b[0;36m<module>\u001b[1;34m\u001b[0m\n\u001b[0;32m      1\u001b[0m \u001b[0mformat\u001b[0m \u001b[1;33m=\u001b[0m \u001b[1;34m'%H:%M:%S'\u001b[0m\u001b[1;33m\u001b[0m\u001b[1;33m\u001b[0m\u001b[0m\n\u001b[1;32m----> 2\u001b[1;33m \u001b[0ma\u001b[0m \u001b[1;33m=\u001b[0m \u001b[0mdatetime\u001b[0m\u001b[1;33m.\u001b[0m\u001b[0mdatetime\u001b[0m\u001b[1;33m.\u001b[0m\u001b[0mstrptime\u001b[0m\u001b[1;33m(\u001b[0m\u001b[0mtime1\u001b[0m\u001b[1;33m,\u001b[0m\u001b[0mformat\u001b[0m\u001b[1;33m)\u001b[0m\u001b[1;33m\u001b[0m\u001b[1;33m\u001b[0m\u001b[0m\n\u001b[0m",
      "\u001b[1;32m~\\anaconda3\\lib\\_strptime.py\u001b[0m in \u001b[0;36m_strptime_datetime\u001b[1;34m(cls, data_string, format)\u001b[0m\n\u001b[0;32m    566\u001b[0m     \"\"\"Return a class cls instance based on the input string and the\n\u001b[0;32m    567\u001b[0m     format string.\"\"\"\n\u001b[1;32m--> 568\u001b[1;33m     \u001b[0mtt\u001b[0m\u001b[1;33m,\u001b[0m \u001b[0mfraction\u001b[0m\u001b[1;33m,\u001b[0m \u001b[0mgmtoff_fraction\u001b[0m \u001b[1;33m=\u001b[0m \u001b[0m_strptime\u001b[0m\u001b[1;33m(\u001b[0m\u001b[0mdata_string\u001b[0m\u001b[1;33m,\u001b[0m \u001b[0mformat\u001b[0m\u001b[1;33m)\u001b[0m\u001b[1;33m\u001b[0m\u001b[1;33m\u001b[0m\u001b[0m\n\u001b[0m\u001b[0;32m    569\u001b[0m     \u001b[0mtzname\u001b[0m\u001b[1;33m,\u001b[0m \u001b[0mgmtoff\u001b[0m \u001b[1;33m=\u001b[0m \u001b[0mtt\u001b[0m\u001b[1;33m[\u001b[0m\u001b[1;33m-\u001b[0m\u001b[1;36m2\u001b[0m\u001b[1;33m:\u001b[0m\u001b[1;33m]\u001b[0m\u001b[1;33m\u001b[0m\u001b[1;33m\u001b[0m\u001b[0m\n\u001b[0;32m    570\u001b[0m     \u001b[0margs\u001b[0m \u001b[1;33m=\u001b[0m \u001b[0mtt\u001b[0m\u001b[1;33m[\u001b[0m\u001b[1;33m:\u001b[0m\u001b[1;36m6\u001b[0m\u001b[1;33m]\u001b[0m \u001b[1;33m+\u001b[0m \u001b[1;33m(\u001b[0m\u001b[0mfraction\u001b[0m\u001b[1;33m,\u001b[0m\u001b[1;33m)\u001b[0m\u001b[1;33m\u001b[0m\u001b[1;33m\u001b[0m\u001b[0m\n",
      "\u001b[1;32m~\\anaconda3\\lib\\_strptime.py\u001b[0m in \u001b[0;36m_strptime\u001b[1;34m(data_string, format)\u001b[0m\n\u001b[0;32m    347\u001b[0m     \u001b[0mfound\u001b[0m \u001b[1;33m=\u001b[0m \u001b[0mformat_regex\u001b[0m\u001b[1;33m.\u001b[0m\u001b[0mmatch\u001b[0m\u001b[1;33m(\u001b[0m\u001b[0mdata_string\u001b[0m\u001b[1;33m)\u001b[0m\u001b[1;33m\u001b[0m\u001b[1;33m\u001b[0m\u001b[0m\n\u001b[0;32m    348\u001b[0m     \u001b[1;32mif\u001b[0m \u001b[1;32mnot\u001b[0m \u001b[0mfound\u001b[0m\u001b[1;33m:\u001b[0m\u001b[1;33m\u001b[0m\u001b[1;33m\u001b[0m\u001b[0m\n\u001b[1;32m--> 349\u001b[1;33m         raise ValueError(\"time data %r does not match format %r\" %\n\u001b[0m\u001b[0;32m    350\u001b[0m                          (data_string, format))\n\u001b[0;32m    351\u001b[0m     \u001b[1;32mif\u001b[0m \u001b[0mlen\u001b[0m\u001b[1;33m(\u001b[0m\u001b[0mdata_string\u001b[0m\u001b[1;33m)\u001b[0m \u001b[1;33m!=\u001b[0m \u001b[0mfound\u001b[0m\u001b[1;33m.\u001b[0m\u001b[0mend\u001b[0m\u001b[1;33m(\u001b[0m\u001b[1;33m)\u001b[0m\u001b[1;33m:\u001b[0m\u001b[1;33m\u001b[0m\u001b[1;33m\u001b[0m\u001b[0m\n",
      "\u001b[1;31mValueError\u001b[0m: time data '0:16' does not match format '%H:%M:%S'"
     ]
    }
   ],
   "source": [
    "format = '%H:%M:%S'\n",
    "a = datetime.datetime.strptime(time1,format)"
   ]
  },
  {
   "cell_type": "code",
   "execution_count": 331,
   "id": "b2ef844a",
   "metadata": {},
   "outputs": [],
   "source": [
    "a1 = a.strftime(\"%H시 %M분 %S초\")"
   ]
  },
  {
   "cell_type": "code",
   "execution_count": 332,
   "id": "58951632",
   "metadata": {},
   "outputs": [
    {
     "data": {
      "text/plain": [
       "'01시 27분 22초'"
      ]
     },
     "execution_count": 332,
     "metadata": {},
     "output_type": "execute_result"
    }
   ],
   "source": [
    "a1"
   ]
  },
  {
   "cell_type": "code",
   "execution_count": null,
   "id": "a11c9898",
   "metadata": {},
   "outputs": [],
   "source": []
  },
  {
   "cell_type": "code",
   "execution_count": 74,
   "id": "4642b1c8",
   "metadata": {
    "scrolled": true
   },
   "outputs": [
    {
     "name": "stderr",
     "output_type": "stream",
     "text": [
      "C:\\Users\\smhrd\\AppData\\Local\\Temp/ipykernel_6584/2714452724.py:14: DeprecationWarning: find_element_by_* commands are deprecated. Please use find_element() instead\n",
      "  driver.find_element_by_tag_name('body').send_keys(Keys.PAGE_DOWN)\n",
      "C:\\Users\\smhrd\\AppData\\Local\\Temp/ipykernel_6584/2714452724.py:18: DeprecationWarning: find_elements_by_* commands are deprecated. Please use find_elements() instead\n",
      "  img = driver.find_elements_by_css_selector(\"img#img\")[i]\n",
      "C:\\Users\\smhrd\\AppData\\Local\\Temp/ipykernel_6584/2714452724.py:22: DeprecationWarning: find_element_by_* commands are deprecated. Please use find_element() instead\n",
      "  title = driver.find_element_by_css_selector(\"h1.title.style-scope.ytd-video-primary-info-renderer\").text\n"
     ]
    },
    {
     "data": {
      "text/html": [
       "<div>\n",
       "<style scoped>\n",
       "    .dataframe tbody tr th:only-of-type {\n",
       "        vertical-align: middle;\n",
       "    }\n",
       "\n",
       "    .dataframe tbody tr th {\n",
       "        vertical-align: top;\n",
       "    }\n",
       "\n",
       "    .dataframe thead th {\n",
       "        text-align: right;\n",
       "    }\n",
       "</style>\n",
       "<table border=\"1\" class=\"dataframe\">\n",
       "  <thead>\n",
       "    <tr style=\"text-align: right;\">\n",
       "      <th></th>\n",
       "      <th>제목</th>\n",
       "      <th>업로드날짜</th>\n",
       "      <th>영상표지</th>\n",
       "      <th>주소</th>\n",
       "      <th>채널명</th>\n",
       "      <th>조회수</th>\n",
       "      <th>영상길이</th>\n",
       "      <th>대분류</th>\n",
       "      <th>중분류</th>\n",
       "    </tr>\n",
       "  </thead>\n",
       "  <tbody>\n",
       "    <tr>\n",
       "      <th>0</th>\n",
       "      <td>맥OS 장단점 분석 : 도대체 맥(Mac)은 왜 써요? | 맥, 맥북, 맥북프로, ...</td>\n",
       "      <td>2020. 1. 18.</td>\n",
       "      <td>https://i.ytimg.com/vi/HA_pVn-Ck9Y/hq720.jpg?s...</td>\n",
       "      <td>https://www.youtube.com/watch?v=HA_pVn-Ck9Y</td>\n",
       "      <td>정보박사컴퓨터자격증</td>\n",
       "      <td>58,201</td>\n",
       "      <td>06분 36초</td>\n",
       "      <td>P105</td>\n",
       "      <td>P213</td>\n",
       "    </tr>\n",
       "    <tr>\n",
       "      <th>1</th>\n",
       "      <td>History of macOS</td>\n",
       "      <td>2020. 10. 22.</td>\n",
       "      <td>https://i.ytimg.com/vi/_K5e8dJtMgE/hq720.jpg?s...</td>\n",
       "      <td>https://www.youtube.com/watch?v=_K5e8dJtMgE</td>\n",
       "      <td>BSK 비에스케이</td>\n",
       "      <td>519,498</td>\n",
       "      <td>19분 16초</td>\n",
       "      <td>P105</td>\n",
       "      <td>P213</td>\n",
       "    </tr>\n",
       "    <tr>\n",
       "      <th>2</th>\n",
       "      <td>윈도우 컴퓨터에 mac OS 설치하기</td>\n",
       "      <td>최초 공개: 2021. 3. 7.</td>\n",
       "      <td>https://i.ytimg.com/vi/6E0ju5QaCpo/hq720.jpg?s...</td>\n",
       "      <td>https://www.youtube.com/watch?v=6E0ju5QaCpo</td>\n",
       "      <td>Apple Explained</td>\n",
       "      <td>11,936</td>\n",
       "      <td>07분 40초</td>\n",
       "      <td>P105</td>\n",
       "      <td>P213</td>\n",
       "    </tr>\n",
       "    <tr>\n",
       "      <th>3</th>\n",
       "      <td>MacOS 강좌 11강 맥알못탈출 맥os 재설치 macOS 설치 맥os 다운그레이드</td>\n",
       "      <td>2020. 2. 20.</td>\n",
       "      <td>https://i.ytimg.com/vi/k9AdTuUC3mE/hq720.jpg?s...</td>\n",
       "      <td>https://www.youtube.com/watch?v=k9AdTuUC3mE</td>\n",
       "      <td>취미생활 연구소 Hobby Lab</td>\n",
       "      <td>37,515</td>\n",
       "      <td>08분 30초</td>\n",
       "      <td>P105</td>\n",
       "      <td>P213</td>\n",
       "    </tr>\n",
       "    <tr>\n",
       "      <th>4</th>\n",
       "      <td>MacOS 강좌 #1 맥알못탈출 맥북세팅하기</td>\n",
       "      <td>2019. 1. 21.</td>\n",
       "      <td>https://i.ytimg.com/vi/z9PiqELiZ7o/hqdefault.j...</td>\n",
       "      <td>https://www.youtube.com/watch?v=z9PiqELiZ7o</td>\n",
       "      <td>YeYePaPa 예예파파</td>\n",
       "      <td>163,560</td>\n",
       "      <td>07분 55초</td>\n",
       "      <td>P105</td>\n",
       "      <td>P213</td>\n",
       "    </tr>\n",
       "    <tr>\n",
       "      <th>5</th>\n",
       "      <td>Make Windows 11 Look Like macOS</td>\n",
       "      <td>2021. 11. 7.</td>\n",
       "      <td>https://i.ytimg.com/vi/eIOAtcuK8bU/hq720.jpg?s...</td>\n",
       "      <td>https://www.youtube.com/watch?v=eIOAtcuK8bU</td>\n",
       "      <td>YeYePaPa 예예파파</td>\n",
       "      <td>1,039,896</td>\n",
       "      <td>20분 39초</td>\n",
       "      <td>P105</td>\n",
       "      <td>P213</td>\n",
       "    </tr>\n",
       "    <tr>\n",
       "      <th>6</th>\n",
       "      <td>🔒맥OS 설치USB 맹글기! 누구나 쉽게배우는 맥생활!🔒 보면 돈되는 #디테크 🔔#...</td>\n",
       "      <td>2020. 7. 15.</td>\n",
       "      <td>https://i.ytimg.com/vi/fIR9iyiCvOE/hq720.jpg?s...</td>\n",
       "      <td>https://www.youtube.com/watch?v=fIR9iyiCvOE</td>\n",
       "      <td>Tech Rifle</td>\n",
       "      <td>12,553</td>\n",
       "      <td>05분 33초</td>\n",
       "      <td>P105</td>\n",
       "      <td>P213</td>\n",
       "    </tr>\n",
       "    <tr>\n",
       "      <th>7</th>\n",
       "      <td>Mac OS Evolution</td>\n",
       "      <td>2017. 8. 10.</td>\n",
       "      <td>https://i.ytimg.com/vi/EAjoPow15V8/hq720.jpg?s...</td>\n",
       "      <td>https://www.youtube.com/watch?v=EAjoPow15V8</td>\n",
       "      <td>디테크</td>\n",
       "      <td>2,635,667</td>\n",
       "      <td>01분 40초</td>\n",
       "      <td>P105</td>\n",
       "      <td>P213</td>\n",
       "    </tr>\n",
       "    <tr>\n",
       "      <th>8</th>\n",
       "      <td>macOS Monterey 12.2 Released - What's New?</td>\n",
       "      <td>2022. 1. 28.</td>\n",
       "      <td>https://i.ytimg.com/vi/fQKbZECcvac/hq720.jpg?s...</td>\n",
       "      <td>https://www.youtube.com/watch?v=fQKbZECcvac</td>\n",
       "      <td>4096</td>\n",
       "      <td>52,309</td>\n",
       "      <td>09분 09초</td>\n",
       "      <td>P105</td>\n",
       "      <td>P213</td>\n",
       "    </tr>\n",
       "    <tr>\n",
       "      <th>9</th>\n",
       "      <td>Я научу тебя пользоваться macOS за 25 минут! М...</td>\n",
       "      <td>2021. 12. 22.</td>\n",
       "      <td>https://i.ytimg.com/vi/TDVnk9RhYOU/hq720.jpg?s...</td>\n",
       "      <td>https://www.youtube.com/watch?v=TDVnk9RhYOU</td>\n",
       "      <td>Brandon Butch</td>\n",
       "      <td>132,249</td>\n",
       "      <td>26분 07초</td>\n",
       "      <td>P105</td>\n",
       "      <td>P213</td>\n",
       "    </tr>\n",
       "    <tr>\n",
       "      <th>10</th>\n",
       "      <td>macOS Monterey: Top New Features</td>\n",
       "      <td>2021. 6. 15.</td>\n",
       "      <td>https://i.ytimg.com/vi/tBnV3RoYdTg/hq720.jpg?s...</td>\n",
       "      <td>https://www.youtube.com/watch?v=tBnV3RoYdTg</td>\n",
       "      <td>ProTech</td>\n",
       "      <td>574,674</td>\n",
       "      <td>04분 25초</td>\n",
       "      <td>P105</td>\n",
       "      <td>P213</td>\n",
       "    </tr>\n",
       "    <tr>\n",
       "      <th>11</th>\n",
       "      <td>매버릭스에서 모하비까지 맥OS 발전과정 한 눈에 정리하기 History of Mac...</td>\n",
       "      <td>2019. 2. 25.</td>\n",
       "      <td>https://i.ytimg.com/vi/qS1dZjMXSmk/hq720.jpg?s...</td>\n",
       "      <td>https://www.youtube.com/watch?v=qS1dZjMXSmk</td>\n",
       "      <td>Apple Explained</td>\n",
       "      <td>3,218</td>\n",
       "      <td>06분 31초</td>\n",
       "      <td>P105</td>\n",
       "      <td>P213</td>\n",
       "    </tr>\n",
       "  </tbody>\n",
       "</table>\n",
       "</div>"
      ],
      "text/plain": [
       "                                                   제목               업로드날짜  \\\n",
       "0   맥OS 장단점 분석 : 도대체 맥(Mac)은 왜 써요? | 맥, 맥북, 맥북프로, ...        2020. 1. 18.   \n",
       "1                                    History of macOS       2020. 10. 22.   \n",
       "2                                윈도우 컴퓨터에 mac OS 설치하기  최초 공개: 2021. 3. 7.   \n",
       "3      MacOS 강좌 11강 맥알못탈출 맥os 재설치 macOS 설치 맥os 다운그레이드        2020. 2. 20.   \n",
       "4                            MacOS 강좌 #1 맥알못탈출 맥북세팅하기        2019. 1. 21.   \n",
       "5                     Make Windows 11 Look Like macOS        2021. 11. 7.   \n",
       "6   🔒맥OS 설치USB 맹글기! 누구나 쉽게배우는 맥생활!🔒 보면 돈되는 #디테크 🔔#...        2020. 7. 15.   \n",
       "7                                    Mac OS Evolution        2017. 8. 10.   \n",
       "8          macOS Monterey 12.2 Released - What's New?        2022. 1. 28.   \n",
       "9   Я научу тебя пользоваться macOS за 25 минут! М...       2021. 12. 22.   \n",
       "10                   macOS Monterey: Top New Features        2021. 6. 15.   \n",
       "11  매버릭스에서 모하비까지 맥OS 발전과정 한 눈에 정리하기 History of Mac...        2019. 2. 25.   \n",
       "\n",
       "                                                 영상표지  \\\n",
       "0   https://i.ytimg.com/vi/HA_pVn-Ck9Y/hq720.jpg?s...   \n",
       "1   https://i.ytimg.com/vi/_K5e8dJtMgE/hq720.jpg?s...   \n",
       "2   https://i.ytimg.com/vi/6E0ju5QaCpo/hq720.jpg?s...   \n",
       "3   https://i.ytimg.com/vi/k9AdTuUC3mE/hq720.jpg?s...   \n",
       "4   https://i.ytimg.com/vi/z9PiqELiZ7o/hqdefault.j...   \n",
       "5   https://i.ytimg.com/vi/eIOAtcuK8bU/hq720.jpg?s...   \n",
       "6   https://i.ytimg.com/vi/fIR9iyiCvOE/hq720.jpg?s...   \n",
       "7   https://i.ytimg.com/vi/EAjoPow15V8/hq720.jpg?s...   \n",
       "8   https://i.ytimg.com/vi/fQKbZECcvac/hq720.jpg?s...   \n",
       "9   https://i.ytimg.com/vi/TDVnk9RhYOU/hq720.jpg?s...   \n",
       "10  https://i.ytimg.com/vi/tBnV3RoYdTg/hq720.jpg?s...   \n",
       "11  https://i.ytimg.com/vi/qS1dZjMXSmk/hq720.jpg?s...   \n",
       "\n",
       "                                             주소                 채널명  \\\n",
       "0   https://www.youtube.com/watch?v=HA_pVn-Ck9Y          정보박사컴퓨터자격증   \n",
       "1   https://www.youtube.com/watch?v=_K5e8dJtMgE           BSK 비에스케이   \n",
       "2   https://www.youtube.com/watch?v=6E0ju5QaCpo     Apple Explained   \n",
       "3   https://www.youtube.com/watch?v=k9AdTuUC3mE  취미생활 연구소 Hobby Lab   \n",
       "4   https://www.youtube.com/watch?v=z9PiqELiZ7o       YeYePaPa 예예파파   \n",
       "5   https://www.youtube.com/watch?v=eIOAtcuK8bU       YeYePaPa 예예파파   \n",
       "6   https://www.youtube.com/watch?v=fIR9iyiCvOE          Tech Rifle   \n",
       "7   https://www.youtube.com/watch?v=EAjoPow15V8                 디테크   \n",
       "8   https://www.youtube.com/watch?v=fQKbZECcvac                4096   \n",
       "9   https://www.youtube.com/watch?v=TDVnk9RhYOU       Brandon Butch   \n",
       "10  https://www.youtube.com/watch?v=tBnV3RoYdTg             ProTech   \n",
       "11  https://www.youtube.com/watch?v=qS1dZjMXSmk     Apple Explained   \n",
       "\n",
       "          조회수     영상길이   대분류   중분류  \n",
       "0      58,201  06분 36초  P105  P213  \n",
       "1     519,498  19분 16초  P105  P213  \n",
       "2      11,936  07분 40초  P105  P213  \n",
       "3      37,515  08분 30초  P105  P213  \n",
       "4     163,560  07분 55초  P105  P213  \n",
       "5   1,039,896  20분 39초  P105  P213  \n",
       "6      12,553  05분 33초  P105  P213  \n",
       "7   2,635,667  01분 40초  P105  P213  \n",
       "8      52,309  09분 09초  P105  P213  \n",
       "9     132,249  26분 07초  P105  P213  \n",
       "10    574,674  04분 25초  P105  P213  \n",
       "11      3,218  06분 31초  P105  P213  "
      ]
     },
     "execution_count": 74,
     "metadata": {},
     "output_type": "execute_result"
    }
   ],
   "source": [
    "titleList = []\n",
    "dateList = []\n",
    "thumbnailList = []\n",
    "urlList = []\n",
    "channelList = []\n",
    "viewList = []\n",
    "timeList = []\n",
    "cnt = -1\n",
    "\n",
    "\n",
    "for i in range (1,25,2):\n",
    "    cnt += 1\n",
    "    if cnt % 2 == 0:\n",
    "        driver.find_element_by_tag_name('body').send_keys(Keys.PAGE_DOWN)\n",
    "    soup = bs(driver.page_source,\"lxml\")\n",
    "    channel = soup.select(\"#text > a\")[i-2].text\n",
    "    thumbnail = soup.select(\"img#img\")[i][\"src\"]\n",
    "    img = driver.find_elements_by_css_selector(\"img#img\")[i]\n",
    "    img.click()\n",
    "    time.sleep(2)\n",
    "    \n",
    "    title = driver.find_element_by_css_selector(\"h1.title.style-scope.ytd-video-primary-info-renderer\").text\n",
    "    url = driver.current_url\n",
    "    \n",
    "    time.sleep(35)\n",
    "    soup = bs(driver.page_source,\"lxml\")\n",
    "    date = soup.select_one(\"#info-strings > yt-formatted-string\").text\n",
    "    view = soup.select_one(\"span.view-count.style-scope.ytd-video-view-count-renderer\").text\n",
    "    view1 = view[4:-1]\n",
    "    time1 = soup.select_one(\"span.ytp-time-duration\").text\n",
    "    try :\n",
    "        format = '%M:%S'\n",
    "        a = datetime.datetime.strptime(time1,format)\n",
    "        a1 = a.strftime(\"%M분 %S초\")\n",
    "    except:\n",
    "        format = '%H:%M:%S'\n",
    "        a = datetime.datetime.strptime(time1,format)\n",
    "        a1 = a.strftime(\"%H시 %M분 %S초\")\n",
    "    titleList.append(title)\n",
    "    dateList.append(date)\n",
    "    thumbnailList.append(thumbnail)\n",
    "    urlList.append(url)\n",
    "    channelList.append(channel)\n",
    "    viewList.append(view1)\n",
    "    timeList.append(a1)\n",
    "    \n",
    "    driver.back()\n",
    "    time.sleep(2)\n",
    "    \n",
    "df = {\"제목\":titleList, \"업로드날짜\":dateList,\"영상표지\":thumbnailList,\"주소\":urlList,\n",
    "        \"채널명\":channelList,\"조회수\":viewList, \"영상길이\":timeList,\n",
    "        \"대분류\":\"P105\",\"중분류\":\"P213\"}\n",
    "data = pd.DataFrame(df)\n",
    "data"
   ]
  },
  {
   "cell_type": "code",
   "execution_count": 75,
   "id": "a3a682e9",
   "metadata": {},
   "outputs": [],
   "source": [
    "data.to_csv(\"유튜브OS_macos.csv\",encoding=\"utf-8-sig\")"
   ]
  },
  {
   "cell_type": "code",
   "execution_count": 23,
   "id": "7a7ec4ba",
   "metadata": {},
   "outputs": [
    {
     "data": {
      "text/plain": [
       "'https://i.ytimg.com/vi/vV-OXTrfXeE/hq720.jpg?sqp=-oaymwEcCOgCEMoBSFXyq4qpAw4IARUAAIhCGAFwAcABBg==&rs=AOn4CLB4LzpnOIopFePUTd-HIBqiWF2J1A'"
      ]
     },
     "execution_count": 23,
     "metadata": {},
     "output_type": "execute_result"
    }
   ],
   "source": [
    "soup = bs(driver.page_source,\"lxml\")\n",
    "soup.select(\"img#img\")[2][\"src\"]"
   ]
  },
  {
   "cell_type": "code",
   "execution_count": 276,
   "id": "860e1334",
   "metadata": {},
   "outputs": [],
   "source": [
    "def doScrollDown(whileSeconds):\n",
    "    start = datetime.datetime.now()\n",
    "    end = start + datetime.timedelta(seconds=whileSeconds)\n",
    "    while True:\n",
    "        driver.execute_script('window.scrollTo(0, document.body.scrollHeight);')\n",
    "        time.sleep(1)\n",
    "        if datetime.datetime.now() > end:\n",
    "            break"
   ]
  },
  {
   "cell_type": "code",
   "execution_count": 279,
   "id": "05ac817e",
   "metadata": {},
   "outputs": [],
   "source": [
    "doScrollDown(10)"
   ]
  },
  {
   "cell_type": "code",
   "execution_count": null,
   "id": "5312597c",
   "metadata": {},
   "outputs": [],
   "source": []
  }
 ],
 "metadata": {
  "kernelspec": {
   "display_name": "Python 3 (ipykernel)",
   "language": "python",
   "name": "python3"
  },
  "language_info": {
   "codemirror_mode": {
    "name": "ipython",
    "version": 3
   },
   "file_extension": ".py",
   "mimetype": "text/x-python",
   "name": "python",
   "nbconvert_exporter": "python",
   "pygments_lexer": "ipython3",
   "version": "3.9.7"
  }
 },
 "nbformat": 4,
 "nbformat_minor": 5
}
