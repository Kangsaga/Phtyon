{
 "cells": [
  {
   "cell_type": "code",
   "execution_count": 2,
   "id": "8d56e3f7",
   "metadata": {
    "collapsed": true
   },
   "outputs": [
    {
     "name": "stdout",
     "output_type": "stream",
     "text": [
      "Collecting selenium\n",
      "  Downloading selenium-4.1.0-py3-none-any.whl (958 kB)\n",
      "Requirement already satisfied: urllib3[secure]~=1.26 in c:\\users\\mr.kang\\anaconda3\\lib\\site-packages (from selenium) (1.26.7)\n",
      "Collecting trio-websocket~=0.9\n",
      "  Downloading trio_websocket-0.9.2-py3-none-any.whl (16 kB)\n",
      "Collecting trio~=0.17\n",
      "  Downloading trio-0.19.0-py3-none-any.whl (356 kB)\n",
      "Requirement already satisfied: sortedcontainers in c:\\users\\mr.kang\\anaconda3\\lib\\site-packages (from trio~=0.17->selenium) (2.4.0)\n",
      "Requirement already satisfied: async-generator>=1.9 in c:\\users\\mr.kang\\anaconda3\\lib\\site-packages (from trio~=0.17->selenium) (1.10)\n",
      "Requirement already satisfied: attrs>=19.2.0 in c:\\users\\mr.kang\\anaconda3\\lib\\site-packages (from trio~=0.17->selenium) (21.2.0)\n",
      "Requirement already satisfied: cffi>=1.14 in c:\\users\\mr.kang\\anaconda3\\lib\\site-packages (from trio~=0.17->selenium) (1.14.6)\n",
      "Requirement already satisfied: sniffio in c:\\users\\mr.kang\\anaconda3\\lib\\site-packages (from trio~=0.17->selenium) (1.2.0)\n",
      "Requirement already satisfied: idna in c:\\users\\mr.kang\\anaconda3\\lib\\site-packages (from trio~=0.17->selenium) (3.2)\n",
      "Collecting outcome\n",
      "  Downloading outcome-1.1.0-py2.py3-none-any.whl (9.7 kB)\n",
      "Requirement already satisfied: pycparser in c:\\users\\mr.kang\\anaconda3\\lib\\site-packages (from cffi>=1.14->trio~=0.17->selenium) (2.20)\n",
      "Collecting wsproto>=0.14\n",
      "  Downloading wsproto-1.0.0-py3-none-any.whl (24 kB)\n",
      "Requirement already satisfied: pyOpenSSL>=0.14 in c:\\users\\mr.kang\\anaconda3\\lib\\site-packages (from urllib3[secure]~=1.26->selenium) (21.0.0)\n",
      "Requirement already satisfied: cryptography>=1.3.4 in c:\\users\\mr.kang\\anaconda3\\lib\\site-packages (from urllib3[secure]~=1.26->selenium) (3.4.8)\n",
      "Requirement already satisfied: certifi in c:\\users\\mr.kang\\anaconda3\\lib\\site-packages (from urllib3[secure]~=1.26->selenium) (2021.10.8)\n",
      "Requirement already satisfied: six>=1.5.2 in c:\\users\\mr.kang\\anaconda3\\lib\\site-packages (from pyOpenSSL>=0.14->urllib3[secure]~=1.26->selenium) (1.16.0)\n",
      "Collecting h11<1,>=0.9.0\n",
      "  Downloading h11-0.13.0-py3-none-any.whl (58 kB)\n",
      "Installing collected packages: outcome, h11, wsproto, trio, trio-websocket, selenium\n",
      "Successfully installed h11-0.13.0 outcome-1.1.0 selenium-4.1.0 trio-0.19.0 trio-websocket-0.9.2 wsproto-1.0.0\n",
      "Note: you may need to restart the kernel to use updated packages.\n"
     ]
    }
   ],
   "source": [
    "pip install selenium"
   ]
  },
  {
   "cell_type": "code",
   "execution_count": 2,
   "id": "8a84860e",
   "metadata": {},
   "outputs": [],
   "source": [
    "from selenium import webdriver as wb\n",
    "from selenium.webdriver.common.keys import Keys \n",
    "import time\n",
    "import pandas as pd\n",
    "import requests as req\n",
    "from bs4 import BeautifulSoup as bs"
   ]
  },
  {
   "cell_type": "code",
   "execution_count": 3,
   "id": "a7d269d6",
   "metadata": {},
   "outputs": [],
   "source": [
    "driver = wb.Chrome()"
   ]
  },
  {
   "cell_type": "code",
   "execution_count": 4,
   "id": "baeb55ad",
   "metadata": {},
   "outputs": [],
   "source": [
    "driver.get(\"http://www.kyobobook.co.kr/categoryRenewal/categoryMain.laf?pageNumber=1&perPage=20&mallGb=KOR&linkClass=330101&ejkGb=&sortColumn=&menuCode=002\")"
   ]
  },
  {
   "cell_type": "code",
   "execution_count": 39,
   "id": "7aa4b766",
   "metadata": {},
   "outputs": [
    {
     "name": "stderr",
     "output_type": "stream",
     "text": [
      "C:\\Users\\MR322F~1.KAN\\AppData\\Local\\Temp/ipykernel_10580/1972747531.py:2: DeprecationWarning: find_elements_by_* commands are deprecated. Please use find_elements() instead\n",
      "  driver.find_elements_by_css_selector(\"div.title > a > strong\")[4].text\n"
     ]
    },
    {
     "data": {
      "text/plain": [
       "'컴퓨터 비전(Computer Vision)(IT CookBook 168)'"
      ]
     },
     "execution_count": 39,
     "metadata": {},
     "output_type": "execute_result"
    }
   ],
   "source": [
    "## 이름 가격 표지 저자 출판사 소개 페이지수 연도 코드\n",
    "driver.find_elements_by_css_selector(\"div.title > a > strong\")[4].text"
   ]
  },
  {
   "cell_type": "code",
   "execution_count": 36,
   "id": "5596cea0",
   "metadata": {},
   "outputs": [
    {
     "ename": "ElementNotInteractableException",
     "evalue": "Message: element not interactable\n  (Session info: chrome=97.0.4692.99)\nStacktrace:\nBacktrace:\n\tOrdinal0 [0x007DFDC3+2555331]\n\tOrdinal0 [0x007777F1+2127857]\n\tOrdinal0 [0x00672CD0+1060048]\n\tOrdinal0 [0x0069F3AE+1242030]\n\tOrdinal0 [0x00694FB3+1200051]\n\tOrdinal0 [0x006B7B0C+1342220]\n\tOrdinal0 [0x00694984+1198468]\n\tOrdinal0 [0x006B7C14+1342484]\n\tOrdinal0 [0x006C75FA+1406458]\n\tOrdinal0 [0x006B7976+1341814]\n\tOrdinal0 [0x006936B6+1193654]\n\tOrdinal0 [0x00694546+1197382]\n\tGetHandleVerifier [0x00979622+1619522]\n\tGetHandleVerifier [0x00A2882C+2336844]\n\tGetHandleVerifier [0x008723E1+541697]\n\tGetHandleVerifier [0x00871443+537699]\n\tOrdinal0 [0x0077D18E+2150798]\n\tOrdinal0 [0x00781518+2168088]\n\tOrdinal0 [0x00781660+2168416]\n\tOrdinal0 [0x0078B330+2208560]\n\tBaseThreadInitThunk [0x76ECFA29+25]\n\tRtlGetAppContainerNamedObjectPath [0x77017A9E+286]\n\tRtlGetAppContainerNamedObjectPath [0x77017A6E+238]\n",
     "output_type": "error",
     "traceback": [
      "\u001b[1;31m---------------------------------------------------------------------------\u001b[0m",
      "\u001b[1;31mElementNotInteractableException\u001b[0m           Traceback (most recent call last)",
      "\u001b[1;32mC:\\Users\\MR322F~1.KAN\\AppData\\Local\\Temp/ipykernel_10580/2857844248.py\u001b[0m in \u001b[0;36m<module>\u001b[1;34m\u001b[0m\n\u001b[1;32m----> 1\u001b[1;33m \u001b[0mimg\u001b[0m\u001b[1;33m.\u001b[0m\u001b[0mclick\u001b[0m\u001b[1;33m(\u001b[0m\u001b[1;33m)\u001b[0m\u001b[1;33m\u001b[0m\u001b[1;33m\u001b[0m\u001b[0m\n\u001b[0m",
      "\u001b[1;32m~\\anaconda3\\lib\\site-packages\\selenium\\webdriver\\remote\\webelement.py\u001b[0m in \u001b[0;36mclick\u001b[1;34m(self)\u001b[0m\n\u001b[0;32m     79\u001b[0m     \u001b[1;32mdef\u001b[0m \u001b[0mclick\u001b[0m\u001b[1;33m(\u001b[0m\u001b[0mself\u001b[0m\u001b[1;33m)\u001b[0m \u001b[1;33m->\u001b[0m \u001b[1;32mNone\u001b[0m\u001b[1;33m:\u001b[0m\u001b[1;33m\u001b[0m\u001b[1;33m\u001b[0m\u001b[0m\n\u001b[0;32m     80\u001b[0m         \u001b[1;34m\"\"\"Clicks the element.\"\"\"\u001b[0m\u001b[1;33m\u001b[0m\u001b[1;33m\u001b[0m\u001b[0m\n\u001b[1;32m---> 81\u001b[1;33m         \u001b[0mself\u001b[0m\u001b[1;33m.\u001b[0m\u001b[0m_execute\u001b[0m\u001b[1;33m(\u001b[0m\u001b[0mCommand\u001b[0m\u001b[1;33m.\u001b[0m\u001b[0mCLICK_ELEMENT\u001b[0m\u001b[1;33m)\u001b[0m\u001b[1;33m\u001b[0m\u001b[1;33m\u001b[0m\u001b[0m\n\u001b[0m\u001b[0;32m     82\u001b[0m \u001b[1;33m\u001b[0m\u001b[0m\n\u001b[0;32m     83\u001b[0m     \u001b[1;32mdef\u001b[0m \u001b[0msubmit\u001b[0m\u001b[1;33m(\u001b[0m\u001b[0mself\u001b[0m\u001b[1;33m)\u001b[0m\u001b[1;33m:\u001b[0m\u001b[1;33m\u001b[0m\u001b[1;33m\u001b[0m\u001b[0m\n",
      "\u001b[1;32m~\\anaconda3\\lib\\site-packages\\selenium\\webdriver\\remote\\webelement.py\u001b[0m in \u001b[0;36m_execute\u001b[1;34m(self, command, params)\u001b[0m\n\u001b[0;32m    708\u001b[0m             \u001b[0mparams\u001b[0m \u001b[1;33m=\u001b[0m \u001b[1;33m{\u001b[0m\u001b[1;33m}\u001b[0m\u001b[1;33m\u001b[0m\u001b[1;33m\u001b[0m\u001b[0m\n\u001b[0;32m    709\u001b[0m         \u001b[0mparams\u001b[0m\u001b[1;33m[\u001b[0m\u001b[1;34m'id'\u001b[0m\u001b[1;33m]\u001b[0m \u001b[1;33m=\u001b[0m \u001b[0mself\u001b[0m\u001b[1;33m.\u001b[0m\u001b[0m_id\u001b[0m\u001b[1;33m\u001b[0m\u001b[1;33m\u001b[0m\u001b[0m\n\u001b[1;32m--> 710\u001b[1;33m         \u001b[1;32mreturn\u001b[0m \u001b[0mself\u001b[0m\u001b[1;33m.\u001b[0m\u001b[0m_parent\u001b[0m\u001b[1;33m.\u001b[0m\u001b[0mexecute\u001b[0m\u001b[1;33m(\u001b[0m\u001b[0mcommand\u001b[0m\u001b[1;33m,\u001b[0m \u001b[0mparams\u001b[0m\u001b[1;33m)\u001b[0m\u001b[1;33m\u001b[0m\u001b[1;33m\u001b[0m\u001b[0m\n\u001b[0m\u001b[0;32m    711\u001b[0m \u001b[1;33m\u001b[0m\u001b[0m\n\u001b[0;32m    712\u001b[0m     \u001b[1;32mdef\u001b[0m \u001b[0mfind_element\u001b[0m\u001b[1;33m(\u001b[0m\u001b[0mself\u001b[0m\u001b[1;33m,\u001b[0m \u001b[0mby\u001b[0m\u001b[1;33m=\u001b[0m\u001b[0mBy\u001b[0m\u001b[1;33m.\u001b[0m\u001b[0mID\u001b[0m\u001b[1;33m,\u001b[0m \u001b[0mvalue\u001b[0m\u001b[1;33m=\u001b[0m\u001b[1;32mNone\u001b[0m\u001b[1;33m)\u001b[0m\u001b[1;33m:\u001b[0m\u001b[1;33m\u001b[0m\u001b[1;33m\u001b[0m\u001b[0m\n",
      "\u001b[1;32m~\\anaconda3\\lib\\site-packages\\selenium\\webdriver\\remote\\webdriver.py\u001b[0m in \u001b[0;36mexecute\u001b[1;34m(self, driver_command, params)\u001b[0m\n\u001b[0;32m    422\u001b[0m         \u001b[0mresponse\u001b[0m \u001b[1;33m=\u001b[0m \u001b[0mself\u001b[0m\u001b[1;33m.\u001b[0m\u001b[0mcommand_executor\u001b[0m\u001b[1;33m.\u001b[0m\u001b[0mexecute\u001b[0m\u001b[1;33m(\u001b[0m\u001b[0mdriver_command\u001b[0m\u001b[1;33m,\u001b[0m \u001b[0mparams\u001b[0m\u001b[1;33m)\u001b[0m\u001b[1;33m\u001b[0m\u001b[1;33m\u001b[0m\u001b[0m\n\u001b[0;32m    423\u001b[0m         \u001b[1;32mif\u001b[0m \u001b[0mresponse\u001b[0m\u001b[1;33m:\u001b[0m\u001b[1;33m\u001b[0m\u001b[1;33m\u001b[0m\u001b[0m\n\u001b[1;32m--> 424\u001b[1;33m             \u001b[0mself\u001b[0m\u001b[1;33m.\u001b[0m\u001b[0merror_handler\u001b[0m\u001b[1;33m.\u001b[0m\u001b[0mcheck_response\u001b[0m\u001b[1;33m(\u001b[0m\u001b[0mresponse\u001b[0m\u001b[1;33m)\u001b[0m\u001b[1;33m\u001b[0m\u001b[1;33m\u001b[0m\u001b[0m\n\u001b[0m\u001b[0;32m    425\u001b[0m             response['value'] = self._unwrap_value(\n\u001b[0;32m    426\u001b[0m                 response.get('value', None))\n",
      "\u001b[1;32m~\\anaconda3\\lib\\site-packages\\selenium\\webdriver\\remote\\errorhandler.py\u001b[0m in \u001b[0;36mcheck_response\u001b[1;34m(self, response)\u001b[0m\n\u001b[0;32m    245\u001b[0m                 \u001b[0malert_text\u001b[0m \u001b[1;33m=\u001b[0m \u001b[0mvalue\u001b[0m\u001b[1;33m[\u001b[0m\u001b[1;34m'alert'\u001b[0m\u001b[1;33m]\u001b[0m\u001b[1;33m.\u001b[0m\u001b[0mget\u001b[0m\u001b[1;33m(\u001b[0m\u001b[1;34m'text'\u001b[0m\u001b[1;33m)\u001b[0m\u001b[1;33m\u001b[0m\u001b[1;33m\u001b[0m\u001b[0m\n\u001b[0;32m    246\u001b[0m             \u001b[1;32mraise\u001b[0m \u001b[0mexception_class\u001b[0m\u001b[1;33m(\u001b[0m\u001b[0mmessage\u001b[0m\u001b[1;33m,\u001b[0m \u001b[0mscreen\u001b[0m\u001b[1;33m,\u001b[0m \u001b[0mstacktrace\u001b[0m\u001b[1;33m,\u001b[0m \u001b[0malert_text\u001b[0m\u001b[1;33m)\u001b[0m  \u001b[1;31m# type: ignore[call-arg]  # mypy is not smart enough here\u001b[0m\u001b[1;33m\u001b[0m\u001b[1;33m\u001b[0m\u001b[0m\n\u001b[1;32m--> 247\u001b[1;33m         \u001b[1;32mraise\u001b[0m \u001b[0mexception_class\u001b[0m\u001b[1;33m(\u001b[0m\u001b[0mmessage\u001b[0m\u001b[1;33m,\u001b[0m \u001b[0mscreen\u001b[0m\u001b[1;33m,\u001b[0m \u001b[0mstacktrace\u001b[0m\u001b[1;33m)\u001b[0m\u001b[1;33m\u001b[0m\u001b[1;33m\u001b[0m\u001b[0m\n\u001b[0m\u001b[0;32m    248\u001b[0m \u001b[1;33m\u001b[0m\u001b[0m\n\u001b[0;32m    249\u001b[0m     \u001b[1;32mdef\u001b[0m \u001b[0m_value_or_default\u001b[0m\u001b[1;33m(\u001b[0m\u001b[0mself\u001b[0m\u001b[1;33m,\u001b[0m \u001b[0mobj\u001b[0m\u001b[1;33m:\u001b[0m \u001b[0mMapping\u001b[0m\u001b[1;33m[\u001b[0m\u001b[0m_KT\u001b[0m\u001b[1;33m,\u001b[0m \u001b[0m_VT\u001b[0m\u001b[1;33m]\u001b[0m\u001b[1;33m,\u001b[0m \u001b[0mkey\u001b[0m\u001b[1;33m:\u001b[0m \u001b[0m_KT\u001b[0m\u001b[1;33m,\u001b[0m \u001b[0mdefault\u001b[0m\u001b[1;33m:\u001b[0m \u001b[0m_VT\u001b[0m\u001b[1;33m)\u001b[0m \u001b[1;33m->\u001b[0m \u001b[0m_VT\u001b[0m\u001b[1;33m:\u001b[0m\u001b[1;33m\u001b[0m\u001b[1;33m\u001b[0m\u001b[0m\n",
      "\u001b[1;31mElementNotInteractableException\u001b[0m: Message: element not interactable\n  (Session info: chrome=97.0.4692.99)\nStacktrace:\nBacktrace:\n\tOrdinal0 [0x007DFDC3+2555331]\n\tOrdinal0 [0x007777F1+2127857]\n\tOrdinal0 [0x00672CD0+1060048]\n\tOrdinal0 [0x0069F3AE+1242030]\n\tOrdinal0 [0x00694FB3+1200051]\n\tOrdinal0 [0x006B7B0C+1342220]\n\tOrdinal0 [0x00694984+1198468]\n\tOrdinal0 [0x006B7C14+1342484]\n\tOrdinal0 [0x006C75FA+1406458]\n\tOrdinal0 [0x006B7976+1341814]\n\tOrdinal0 [0x006936B6+1193654]\n\tOrdinal0 [0x00694546+1197382]\n\tGetHandleVerifier [0x00979622+1619522]\n\tGetHandleVerifier [0x00A2882C+2336844]\n\tGetHandleVerifier [0x008723E1+541697]\n\tGetHandleVerifier [0x00871443+537699]\n\tOrdinal0 [0x0077D18E+2150798]\n\tOrdinal0 [0x00781518+2168088]\n\tOrdinal0 [0x00781660+2168416]\n\tOrdinal0 [0x0078B330+2208560]\n\tBaseThreadInitThunk [0x76ECFA29+25]\n\tRtlGetAppContainerNamedObjectPath [0x77017A9E+286]\n\tRtlGetAppContainerNamedObjectPath [0x77017A6E+238]\n"
     ]
    }
   ],
   "source": [
    "img.click()"
   ]
  },
  {
   "cell_type": "code",
   "execution_count": 6,
   "id": "4dc02541",
   "metadata": {},
   "outputs": [
    {
     "name": "stderr",
     "output_type": "stream",
     "text": [
      "C:\\Users\\MR322F~1.KAN\\AppData\\Local\\Temp/ipykernel_10580/1739094265.py:1: DeprecationWarning: find_element_by_* commands are deprecated. Please use find_element() instead\n",
      "  driver.find_element_by_css_selector(\"h1.title > strong\").text\n"
     ]
    },
    {
     "data": {
      "text/plain": [
       "'리버싱 핵심 원리'"
      ]
     },
     "execution_count": 6,
     "metadata": {},
     "output_type": "execute_result"
    }
   ],
   "source": [
    "driver.find_element_by_css_selector(\"h1.title > strong\").text"
   ]
  },
  {
   "cell_type": "code",
   "execution_count": 7,
   "id": "8b4c60fb",
   "metadata": {},
   "outputs": [
    {
     "name": "stderr",
     "output_type": "stream",
     "text": [
      "C:\\Users\\MR322F~1.KAN\\AppData\\Local\\Temp/ipykernel_10580/1954860784.py:1: DeprecationWarning: find_element_by_* commands are deprecated. Please use find_element() instead\n",
      "  driver.find_element_by_css_selector(\"span.sell_price > strong\").text\n"
     ]
    },
    {
     "data": {
      "text/plain": [
       "'43,200'"
      ]
     },
     "execution_count": 7,
     "metadata": {},
     "output_type": "execute_result"
    }
   ],
   "source": [
    "driver.find_element_by_css_selector(\"span.sell_price > strong\").text"
   ]
  },
  {
   "cell_type": "code",
   "execution_count": 8,
   "id": "69e80945",
   "metadata": {},
   "outputs": [
    {
     "name": "stderr",
     "output_type": "stream",
     "text": [
      "C:\\Users\\MR322F~1.KAN\\AppData\\Local\\Temp/ipykernel_10580/3049477923.py:1: DeprecationWarning: find_element_by_* commands are deprecated. Please use find_element() instead\n",
      "  driver.find_element_by_css_selector(\"span.name > a\").text\n"
     ]
    },
    {
     "data": {
      "text/plain": [
       "'이승원'"
      ]
     },
     "execution_count": 8,
     "metadata": {},
     "output_type": "execute_result"
    }
   ],
   "source": [
    "driver.find_element_by_css_selector(\"span.name > a\").text"
   ]
  },
  {
   "cell_type": "code",
   "execution_count": 28,
   "id": "457f6f13",
   "metadata": {},
   "outputs": [
    {
     "name": "stderr",
     "output_type": "stream",
     "text": [
      "C:\\Users\\MR322F~1.KAN\\AppData\\Local\\Temp/ipykernel_10580/3720895848.py:1: DeprecationWarning: find_elements_by_* commands are deprecated. Please use find_elements() instead\n",
      "  driver.find_elements_by_css_selector(\"div.author > .name > a\")[1].text\n"
     ]
    },
    {
     "data": {
      "text/plain": [
       "'인사이트'"
      ]
     },
     "execution_count": 28,
     "metadata": {},
     "output_type": "execute_result"
    }
   ],
   "source": [
    "driver.find_elements_by_css_selector(\"div.author > .name > a\")[1].text"
   ]
  },
  {
   "cell_type": "code",
   "execution_count": 11,
   "id": "74e1c703",
   "metadata": {},
   "outputs": [
    {
     "name": "stderr",
     "output_type": "stream",
     "text": [
      "C:\\Users\\MR322F~1.KAN\\AppData\\Local\\Temp/ipykernel_10580/4022177976.py:1: DeprecationWarning: find_element_by_* commands are deprecated. Please use find_element() instead\n",
      "  driver.find_element_by_css_selector(\"div.box_detail_article\").text\n"
     ]
    },
    {
     "data": {
      "text/plain": [
       "'악성 코드 분석가의 리버싱 이야기『리버싱 핵심 원리』. 프로그램의 내부를 깊이 들여다보고 조작할 수 있는 기법인 ‘리버싱’에 필요한 핵심 원리를 50여개 장을 통해 꼼꼼하게 설명한 책이다. 리버싱 기술의 단순한 소개에 그치지 않고, 각 기술의 핵심적인 원리를 깨닫게 하는 데 목표를 두고 있다. 무엇보다 저자 이승원이 안철수 연구소에서의 오랜 경험을 토대로 직접 작성한 다양한 코드는 물론 리버서라면 꼭 알아야 할 다양한 리버싱 기법을 상세하게 소개하여 리버서를 꿈꾸는 개발자는 물론 실무를 경험해본 모두에게 도움을 준다. 이를 통해 기본기를 튼튼하게 다지는 것은 물론, 시간이 흘러도 가치가 변하지 않는 기술의 진수를 얻을 수 있다.'"
      ]
     },
     "execution_count": 11,
     "metadata": {},
     "output_type": "execute_result"
    }
   ],
   "source": [
    "driver.find_element_by_css_selector(\"div.box_detail_article\").text"
   ]
  },
  {
   "cell_type": "code",
   "execution_count": 160,
   "id": "575a2d80",
   "metadata": {},
   "outputs": [
    {
     "name": "stderr",
     "output_type": "stream",
     "text": [
      "C:\\Users\\smhrd\\AppData\\Local\\Temp/ipykernel_8032/167464347.py:1: DeprecationWarning: find_elements_by_* commands are deprecated. Please use find_elements() instead\n",
      "  page = driver.find_elements_by_css_selector(\"table > tbody > tr:nth-child(2) > td\")[0].text\n"
     ]
    },
    {
     "data": {
      "text/plain": [
       "'488'"
      ]
     },
     "execution_count": 160,
     "metadata": {},
     "output_type": "execute_result"
    }
   ],
   "source": [
    "page = driver.find_elements_by_css_selector(\"table > tbody > tr:nth-child(2) > td\")[0].text\n",
    "page[:-1]"
   ]
  },
  {
   "cell_type": "code",
   "execution_count": 13,
   "id": "6bf13db8",
   "metadata": {},
   "outputs": [
    {
     "name": "stderr",
     "output_type": "stream",
     "text": [
      "C:\\Users\\MR322F~1.KAN\\AppData\\Local\\Temp/ipykernel_10580/1399043567.py:1: DeprecationWarning: find_element_by_* commands are deprecated. Please use find_element() instead\n",
      "  date = driver.find_element_by_css_selector(\"span.date\").text\n"
     ]
    }
   ],
   "source": [
    "date = driver.find_element_by_css_selector(\"span.date\").text"
   ]
  },
  {
   "cell_type": "code",
   "execution_count": 164,
   "id": "986124c7",
   "metadata": {},
   "outputs": [
    {
     "name": "stderr",
     "output_type": "stream",
     "text": [
      "C:\\Users\\smhrd\\AppData\\Local\\Temp/ipykernel_8032/2416517942.py:1: DeprecationWarning: find_elements_by_* commands are deprecated. Please use find_elements() instead\n",
      "  driver.find_elements_by_css_selector(\"table > tbody > tr:nth-child(1) > td\")[3].text\n"
     ]
    },
    {
     "ename": "IndexError",
     "evalue": "list index out of range",
     "output_type": "error",
     "traceback": [
      "\u001b[1;31m---------------------------------------------------------------------------\u001b[0m",
      "\u001b[1;31mIndexError\u001b[0m                                Traceback (most recent call last)",
      "\u001b[1;32m~\\AppData\\Local\\Temp/ipykernel_8032/2416517942.py\u001b[0m in \u001b[0;36m<module>\u001b[1;34m\u001b[0m\n\u001b[1;32m----> 1\u001b[1;33m \u001b[0mdriver\u001b[0m\u001b[1;33m.\u001b[0m\u001b[0mfind_elements_by_css_selector\u001b[0m\u001b[1;33m(\u001b[0m\u001b[1;34m\"table > tbody > tr:nth-child(1) > td\"\u001b[0m\u001b[1;33m)\u001b[0m\u001b[1;33m[\u001b[0m\u001b[1;36m3\u001b[0m\u001b[1;33m]\u001b[0m\u001b[1;33m.\u001b[0m\u001b[0mtext\u001b[0m\u001b[1;33m\u001b[0m\u001b[1;33m\u001b[0m\u001b[0m\n\u001b[0m",
      "\u001b[1;31mIndexError\u001b[0m: list index out of range"
     ]
    }
   ],
   "source": [
    "driver.find_elements_by_css_selector(\"table > tbody > tr:nth-child(1) > td\")[3].text"
   ]
  },
  {
   "cell_type": "code",
   "execution_count": 15,
   "id": "11c0925d",
   "metadata": {},
   "outputs": [
    {
     "data": {
      "text/plain": [
       "'20120930'"
      ]
     },
     "execution_count": 15,
     "metadata": {},
     "output_type": "execute_result"
    }
   ],
   "source": [
    "date1 = date[:4]+date[6:8]+date[10:12]\n",
    "date1"
   ]
  },
  {
   "cell_type": "code",
   "execution_count": 3,
   "id": "7c93e5cd",
   "metadata": {},
   "outputs": [],
   "source": [
    "driver = wb.Chrome()\n",
    "driver.get(\"http://www.kyobobook.co.kr/categoryRenewal/categoryMain.laf?pageNumber=1&perPage=20&mallGb=KOR&linkClass=330309&ejkGb=&sortColumn=&menuCode=002\")"
   ]
  },
  {
   "cell_type": "code",
   "execution_count": 53,
   "id": "98e23972",
   "metadata": {},
   "outputs": [],
   "source": [
    "soup = bs(driver.page_source,\"lxml\")\n",
    "imgList = []\n",
    "\n",
    "for i in range(0,23,2):\n",
    "    img = soup.select(\"div.cover > a > span > img\")[i][\"src\"]\n",
    "    imgList.append(img)"
   ]
  },
  {
   "cell_type": "code",
   "execution_count": 54,
   "id": "f3d1f409",
   "metadata": {},
   "outputs": [
    {
     "name": "stderr",
     "output_type": "stream",
     "text": [
      "C:\\Users\\smhrd\\AppData\\Local\\Temp/ipykernel_5052/509773504.py:13: DeprecationWarning: find_elements_by_* commands are deprecated. Please use find_elements() instead\n",
      "  publisher = driver.find_elements_by_css_selector(\"div.pub_info > span:nth-child(2)\")[i].text\n",
      "C:\\Users\\smhrd\\AppData\\Local\\Temp/ipykernel_5052/509773504.py:14: DeprecationWarning: find_elements_by_* commands are deprecated. Please use find_elements() instead\n",
      "  img = driver.find_elements_by_css_selector(\"div.title > a > strong\")[i]\n",
      "C:\\Users\\smhrd\\AppData\\Local\\Temp/ipykernel_5052/509773504.py:18: DeprecationWarning: find_element_by_* commands are deprecated. Please use find_element() instead\n",
      "  title = driver.find_element_by_css_selector(\"h1.title > strong\").text\n",
      "C:\\Users\\smhrd\\AppData\\Local\\Temp/ipykernel_5052/509773504.py:19: DeprecationWarning: find_element_by_* commands are deprecated. Please use find_element() instead\n",
      "  price = driver.find_element_by_css_selector(\"span.sell_price > strong\").text\n",
      "C:\\Users\\smhrd\\AppData\\Local\\Temp/ipykernel_5052/509773504.py:20: DeprecationWarning: find_element_by_* commands are deprecated. Please use find_element() instead\n",
      "  author = driver.find_element_by_css_selector(\"span.name > a\").text\n",
      "C:\\Users\\smhrd\\AppData\\Local\\Temp/ipykernel_5052/509773504.py:21: DeprecationWarning: find_element_by_* commands are deprecated. Please use find_element() instead\n",
      "  description = driver.find_element_by_css_selector(\"div.box_detail_article\").text\n",
      "C:\\Users\\smhrd\\AppData\\Local\\Temp/ipykernel_5052/509773504.py:23: DeprecationWarning: find_elements_by_* commands are deprecated. Please use find_elements() instead\n",
      "  page = driver.find_elements_by_css_selector(\"table > tbody > tr:nth-child(2) > td\")[2].text\n",
      "C:\\Users\\smhrd\\AppData\\Local\\Temp/ipykernel_5052/509773504.py:27: DeprecationWarning: find_element_by_* commands are deprecated. Please use find_element() instead\n",
      "  date = driver.find_element_by_css_selector(\"span.date\").text\n",
      "C:\\Users\\smhrd\\AppData\\Local\\Temp/ipykernel_5052/509773504.py:30: DeprecationWarning: find_elements_by_* commands are deprecated. Please use find_elements() instead\n",
      "  isbn = driver.find_elements_by_css_selector(\"table > tbody > tr:nth-child(1) > td\")[3].text\n"
     ]
    },
    {
     "data": {
      "text/html": [
       "<div>\n",
       "<style scoped>\n",
       "    .dataframe tbody tr th:only-of-type {\n",
       "        vertical-align: middle;\n",
       "    }\n",
       "\n",
       "    .dataframe tbody tr th {\n",
       "        vertical-align: top;\n",
       "    }\n",
       "\n",
       "    .dataframe thead th {\n",
       "        text-align: right;\n",
       "    }\n",
       "</style>\n",
       "<table border=\"1\" class=\"dataframe\">\n",
       "  <thead>\n",
       "    <tr style=\"text-align: right;\">\n",
       "      <th></th>\n",
       "      <th>제목</th>\n",
       "      <th>가격</th>\n",
       "      <th>표지</th>\n",
       "      <th>저자</th>\n",
       "      <th>출판사</th>\n",
       "      <th>소개</th>\n",
       "      <th>페이지 수</th>\n",
       "      <th>출판연도</th>\n",
       "      <th>책코드</th>\n",
       "      <th>대분류</th>\n",
       "      <th>중분류</th>\n",
       "      <th>소분류</th>\n",
       "    </tr>\n",
       "  </thead>\n",
       "  <tbody>\n",
       "    <tr>\n",
       "      <th>0</th>\n",
       "      <td>2022 빅데이터분석기사 필기 한권으로 끝내기</td>\n",
       "      <td>31,500</td>\n",
       "      <td>http://image.kyobobook.co.kr/images/book/large...</td>\n",
       "      <td>정혜정</td>\n",
       "      <td>시대고시기획</td>\n",
       "      <td>도서 특징\\n■ 한국데이터산업진흥원 출제기준 100% 반영!\\n■ 2021년 제2회...</td>\n",
       "      <td>946</td>\n",
       "      <td>20220304</td>\n",
       "      <td>9791138313209(1138313203)</td>\n",
       "      <td>P116</td>\n",
       "      <td>P262</td>\n",
       "      <td>P326</td>\n",
       "    </tr>\n",
       "    <tr>\n",
       "      <th>1</th>\n",
       "      <td>2022 빅데이터분석기사 필기 한권완성</td>\n",
       "      <td>27,000</td>\n",
       "      <td>http://image.kyobobook.co.kr/images/book/large...</td>\n",
       "      <td>최기선</td>\n",
       "      <td>예문사</td>\n",
       "      <td>빅데이터분석기사 필기시험 초단기 합격을 위한 최고의 실전 대비서\\n빅데이터분석기사 ...</td>\n",
       "      <td>544</td>\n",
       "      <td>20220225</td>\n",
       "      <td>9788927441649(8927441648)</td>\n",
       "      <td>P116</td>\n",
       "      <td>P262</td>\n",
       "      <td>P326</td>\n",
       "    </tr>\n",
       "    <tr>\n",
       "      <th>2</th>\n",
       "      <td>2022 3D프린터운용기능사 필기실기</td>\n",
       "      <td>24,300</td>\n",
       "      <td>http://image.kyobobook.co.kr/images/book/large...</td>\n",
       "      <td>임충식</td>\n",
       "      <td>구민사</td>\n",
       "      <td>본 교재는 각 산업분야에서 3D프린팅 전문가를 필요로 하는 분위기가 조성되고 있으며...</td>\n",
       "      <td>509</td>\n",
       "      <td>20220210</td>\n",
       "      <td>9791168750128(1168750121)</td>\n",
       "      <td>P116</td>\n",
       "      <td>P262</td>\n",
       "      <td>P326</td>\n",
       "    </tr>\n",
       "    <tr>\n",
       "      <th>3</th>\n",
       "      <td>2022 정쌤의 3D프린터운용기능사 필기 NCS 기반</td>\n",
       "      <td>27,000</td>\n",
       "      <td>http://image.kyobobook.co.kr/images/book/large...</td>\n",
       "      <td>정종현</td>\n",
       "      <td>북스케치</td>\n",
       "      <td>4년 연속 판매량 &amp; 필기 적중률 1위3D프린터운용기능사 필기 대비 최고의 스테디셀...</td>\n",
       "      <td>492</td>\n",
       "      <td>20220130</td>\n",
       "      <td>9791191870077(1191870073)</td>\n",
       "      <td>P116</td>\n",
       "      <td>P262</td>\n",
       "      <td>P326</td>\n",
       "    </tr>\n",
       "    <tr>\n",
       "      <th>4</th>\n",
       "      <td>AWS 공인 솔루션스 아키텍트 스터디 가이드: 어소시에이트</td>\n",
       "      <td>31,500</td>\n",
       "      <td>http://image.kyobobook.co.kr/images/book/large...</td>\n",
       "      <td>벤 파이퍼</td>\n",
       "      <td>에이콘출판</td>\n",
       "      <td>AWS 공인 솔루션스 아키텍트 - 어소시에이트 시험은 솔루션 아키텍트로서 업무를 수...</td>\n",
       "      <td>588</td>\n",
       "      <td>20220128</td>\n",
       "      <td>9791161756103(1161756108)</td>\n",
       "      <td>P116</td>\n",
       "      <td>P262</td>\n",
       "      <td>P326</td>\n",
       "    </tr>\n",
       "    <tr>\n",
       "      <th>5</th>\n",
       "      <td>2022 ADsP 데이터 분석 준전문가</td>\n",
       "      <td>25,200</td>\n",
       "      <td>http://image.kyobobook.co.kr/images/book/large...</td>\n",
       "      <td>윤종식</td>\n",
       "      <td>데이터에듀</td>\n",
       "      <td>본 도서는 한국데이터베이스진흥원에서 실시하고 있는 『데이터 분석 전문가(ADP)』 ...</td>\n",
       "      <td>639</td>\n",
       "      <td>20220128</td>\n",
       "      <td>9791196943660(1196943664)</td>\n",
       "      <td>P116</td>\n",
       "      <td>P262</td>\n",
       "      <td>P326</td>\n",
       "    </tr>\n",
       "    <tr>\n",
       "      <th>6</th>\n",
       "      <td>2022 이기적 ADsP 데이터분석 준전문가</td>\n",
       "      <td>25,200</td>\n",
       "      <td>http://image.kyobobook.co.kr/images/book/large...</td>\n",
       "      <td>임호진</td>\n",
       "      <td>영진닷컴</td>\n",
       "      <td>본 도서는 최신 출제기준을 적용한 도서로, ADsP 데이터분석 준전문가 시험 경향을...</td>\n",
       "      <td>464</td>\n",
       "      <td>20220125</td>\n",
       "      <td>9788931464863(893146486X)</td>\n",
       "      <td>P116</td>\n",
       "      <td>P262</td>\n",
       "      <td>P326</td>\n",
       "    </tr>\n",
       "    <tr>\n",
       "      <th>7</th>\n",
       "      <td>2022 이지패스 ADsP 데이터분석 준전문가</td>\n",
       "      <td>25,200</td>\n",
       "      <td>http://image.kyobobook.co.kr/images/book/large...</td>\n",
       "      <td>전용문</td>\n",
       "      <td>위키북스</td>\n",
       "      <td>◎ 빠르고 효율적인 공부를 위한 ADsP 수험서\\n방대한 데이터 분석 콘텐츠를 AD...</td>\n",
       "      <td>520</td>\n",
       "      <td>20220114</td>\n",
       "      <td>9791158393069(1158393067)</td>\n",
       "      <td>P116</td>\n",
       "      <td>P262</td>\n",
       "      <td>P326</td>\n",
       "    </tr>\n",
       "    <tr>\n",
       "      <th>8</th>\n",
       "      <td>2022 빅데이터분석기사 필기</td>\n",
       "      <td>27,000</td>\n",
       "      <td>http://image.kyobobook.co.kr/images/book/large...</td>\n",
       "      <td>김계철</td>\n",
       "      <td>이패스코리아</td>\n",
       "      <td>국가 경쟁력을 위하여 심도있는 데이터과학자나 분석가의 양성도 필요하지만 일반인의 데...</td>\n",
       "      <td>622</td>\n",
       "      <td>20220112</td>\n",
       "      <td>9788966389537(8966389538)</td>\n",
       "      <td>P116</td>\n",
       "      <td>P262</td>\n",
       "      <td>P326</td>\n",
       "    </tr>\n",
       "    <tr>\n",
       "      <th>9</th>\n",
       "      <td>2022 ADsP 한 권으로 끝내기 이론편 + 요약, 문제 세트</td>\n",
       "      <td>25,200</td>\n",
       "      <td>http://image.kyobobook.co.kr/images/book/large...</td>\n",
       "      <td>김계철</td>\n",
       "      <td>황소걸음 아카데미</td>\n",
       "      <td>한국데이터베이스진흥원에서 실시하고 있는『데이터 분석 준전문가(ADsP)』자격증을 준...</td>\n",
       "      <td>550</td>\n",
       "      <td>20220110</td>\n",
       "      <td>9791186821664(1186821663)</td>\n",
       "      <td>P116</td>\n",
       "      <td>P262</td>\n",
       "      <td>P326</td>\n",
       "    </tr>\n",
       "    <tr>\n",
       "      <th>10</th>\n",
       "      <td>2022 빅데이터 분석기사 필기 핵심요약+적중문제</td>\n",
       "      <td>13,500</td>\n",
       "      <td>http://image.kyobobook.co.kr/images/book/large...</td>\n",
       "      <td>유준수</td>\n",
       "      <td>시스컴</td>\n",
       "      <td>2021년 제2회 기출복원문제 수록\\n- 한국데이터산업진흥원 출제기준 반영\\n- 과...</td>\n",
       "      <td>344</td>\n",
       "      <td>20220105</td>\n",
       "      <td>9791162158869(1162158867)</td>\n",
       "      <td>P116</td>\n",
       "      <td>P262</td>\n",
       "      <td>P326</td>\n",
       "    </tr>\n",
       "    <tr>\n",
       "      <th>11</th>\n",
       "      <td>2022 Win-Q 3D프린터운용기능사 필기 단기완성</td>\n",
       "      <td>18,900</td>\n",
       "      <td>http://image.kyobobook.co.kr/images/book/large...</td>\n",
       "      <td>김철희</td>\n",
       "      <td>시대고시기획</td>\n",
       "      <td>Win-Q 3D프린터운용기능사는 다음과 같이 구성되었습니다!\\n\\nPART 01은 ...</td>\n",
       "      <td>318</td>\n",
       "      <td>20220103</td>\n",
       "      <td>9791138308656(113830865X)</td>\n",
       "      <td>P116</td>\n",
       "      <td>P262</td>\n",
       "      <td>P326</td>\n",
       "    </tr>\n",
       "  </tbody>\n",
       "</table>\n",
       "</div>"
      ],
      "text/plain": [
       "                                     제목      가격  \\\n",
       "0             2022 빅데이터분석기사 필기 한권으로 끝내기  31,500   \n",
       "1                 2022 빅데이터분석기사 필기 한권완성  27,000   \n",
       "2                  2022 3D프린터운용기능사 필기실기  24,300   \n",
       "3         2022 정쌤의 3D프린터운용기능사 필기 NCS 기반  27,000   \n",
       "4      AWS 공인 솔루션스 아키텍트 스터디 가이드: 어소시에이트  31,500   \n",
       "5                 2022 ADsP 데이터 분석 준전문가  25,200   \n",
       "6              2022 이기적 ADsP 데이터분석 준전문가  25,200   \n",
       "7             2022 이지패스 ADsP 데이터분석 준전문가  25,200   \n",
       "8                      2022 빅데이터분석기사 필기  27,000   \n",
       "9   2022 ADsP 한 권으로 끝내기 이론편 + 요약, 문제 세트  25,200   \n",
       "10          2022 빅데이터 분석기사 필기 핵심요약+적중문제  13,500   \n",
       "11        2022 Win-Q 3D프린터운용기능사 필기 단기완성  18,900   \n",
       "\n",
       "                                                   표지     저자        출판사  \\\n",
       "0   http://image.kyobobook.co.kr/images/book/large...    정혜정     시대고시기획   \n",
       "1   http://image.kyobobook.co.kr/images/book/large...    최기선        예문사   \n",
       "2   http://image.kyobobook.co.kr/images/book/large...    임충식        구민사   \n",
       "3   http://image.kyobobook.co.kr/images/book/large...    정종현       북스케치   \n",
       "4   http://image.kyobobook.co.kr/images/book/large...  벤 파이퍼      에이콘출판   \n",
       "5   http://image.kyobobook.co.kr/images/book/large...    윤종식      데이터에듀   \n",
       "6   http://image.kyobobook.co.kr/images/book/large...    임호진       영진닷컴   \n",
       "7   http://image.kyobobook.co.kr/images/book/large...    전용문       위키북스   \n",
       "8   http://image.kyobobook.co.kr/images/book/large...    김계철     이패스코리아   \n",
       "9   http://image.kyobobook.co.kr/images/book/large...    김계철  황소걸음 아카데미   \n",
       "10  http://image.kyobobook.co.kr/images/book/large...    유준수        시스컴   \n",
       "11  http://image.kyobobook.co.kr/images/book/large...    김철희     시대고시기획   \n",
       "\n",
       "                                                   소개 페이지 수      출판연도  \\\n",
       "0   도서 특징\\n■ 한국데이터산업진흥원 출제기준 100% 반영!\\n■ 2021년 제2회...   946  20220304   \n",
       "1   빅데이터분석기사 필기시험 초단기 합격을 위한 최고의 실전 대비서\\n빅데이터분석기사 ...   544  20220225   \n",
       "2   본 교재는 각 산업분야에서 3D프린팅 전문가를 필요로 하는 분위기가 조성되고 있으며...   509  20220210   \n",
       "3   4년 연속 판매량 & 필기 적중률 1위3D프린터운용기능사 필기 대비 최고의 스테디셀...   492  20220130   \n",
       "4   AWS 공인 솔루션스 아키텍트 - 어소시에이트 시험은 솔루션 아키텍트로서 업무를 수...   588  20220128   \n",
       "5   본 도서는 한국데이터베이스진흥원에서 실시하고 있는 『데이터 분석 전문가(ADP)』 ...   639  20220128   \n",
       "6   본 도서는 최신 출제기준을 적용한 도서로, ADsP 데이터분석 준전문가 시험 경향을...   464  20220125   \n",
       "7   ◎ 빠르고 효율적인 공부를 위한 ADsP 수험서\\n방대한 데이터 분석 콘텐츠를 AD...   520  20220114   \n",
       "8   국가 경쟁력을 위하여 심도있는 데이터과학자나 분석가의 양성도 필요하지만 일반인의 데...   622  20220112   \n",
       "9   한국데이터베이스진흥원에서 실시하고 있는『데이터 분석 준전문가(ADsP)』자격증을 준...   550  20220110   \n",
       "10  2021년 제2회 기출복원문제 수록\\n- 한국데이터산업진흥원 출제기준 반영\\n- 과...   344  20220105   \n",
       "11  Win-Q 3D프린터운용기능사는 다음과 같이 구성되었습니다!\\n\\nPART 01은 ...   318  20220103   \n",
       "\n",
       "                          책코드   대분류   중분류   소분류  \n",
       "0   9791138313209(1138313203)  P116  P262  P326  \n",
       "1   9788927441649(8927441648)  P116  P262  P326  \n",
       "2   9791168750128(1168750121)  P116  P262  P326  \n",
       "3   9791191870077(1191870073)  P116  P262  P326  \n",
       "4   9791161756103(1161756108)  P116  P262  P326  \n",
       "5   9791196943660(1196943664)  P116  P262  P326  \n",
       "6   9788931464863(893146486X)  P116  P262  P326  \n",
       "7   9791158393069(1158393067)  P116  P262  P326  \n",
       "8   9788966389537(8966389538)  P116  P262  P326  \n",
       "9   9791186821664(1186821663)  P116  P262  P326  \n",
       "10  9791162158869(1162158867)  P116  P262  P326  \n",
       "11  9791138308656(113830865X)  P116  P262  P326  "
      ]
     },
     "execution_count": 54,
     "metadata": {},
     "output_type": "execute_result"
    }
   ],
   "source": [
    "titleList = []\n",
    "priceList = []\n",
    "authorList = []\n",
    "publisherList = []\n",
    "decriptionList = []\n",
    "pageList = []\n",
    "dateList = []\n",
    "isbnList = []\n",
    "\n",
    "\n",
    "\n",
    "for i in range(0,23,2):\n",
    "    publisher = driver.find_elements_by_css_selector(\"div.pub_info > span:nth-child(2)\")[i].text\n",
    "    img = driver.find_elements_by_css_selector(\"div.title > a > strong\")[i]\n",
    "    img.click()\n",
    "    time.sleep(2)\n",
    "    \n",
    "    title = driver.find_element_by_css_selector(\"h1.title > strong\").text\n",
    "    price = driver.find_element_by_css_selector(\"span.sell_price > strong\").text\n",
    "    author = driver.find_element_by_css_selector(\"span.name > a\").text\n",
    "    description = driver.find_element_by_css_selector(\"div.box_detail_article\").text\n",
    "    try :\n",
    "        page = driver.find_elements_by_css_selector(\"table > tbody > tr:nth-child(2) > td\")[2].text\n",
    "    except :\n",
    "        page = driver.find_elements_by_css_selector(\"table > tbody > tr:nth-child(2) > td\")[0].text\n",
    "    page1 = page[:-1]\n",
    "    date = driver.find_element_by_css_selector(\"span.date\").text\n",
    "    date1 = date[:4]+date[6:8]+date[10:12]\n",
    "    try :\n",
    "        isbn = driver.find_elements_by_css_selector(\"table > tbody > tr:nth-child(1) > td\")[3].text\n",
    "    except :\n",
    "        driver.find_elements_by_css_selector(\"table > tbody > tr:nth-child(1) > td\")[0].text\n",
    "    \n",
    "    titleList.append(title)\n",
    "    priceList.append(price)\n",
    "    authorList.append(author)\n",
    "    publisherList.append(publisher)\n",
    "    decriptionList.append(description)\n",
    "    pageList.append(page1)\n",
    "    dateList.append(date1)\n",
    "    isbnList.append(isbn)\n",
    "    \n",
    "    driver.back()\n",
    "    time.sleep(2)\n",
    "\n",
    "dic = {\"제목\":titleList, \"가격\":priceList, \"표지\":imgList, \"저자\":authorList, \"출판사\":publisherList, \n",
    "       \"소개\":decriptionList, \"페이지 수\":pageList, \"출판연도\":dateList,\n",
    "       \"책코드\":isbnList, \"대분류\":\"P116\",\"중분류\":\"P262\",\"소분류\":\"P326\"}\n",
    "data = pd.DataFrame(dic)\n",
    "data\n"
   ]
  },
  {
   "cell_type": "code",
   "execution_count": 55,
   "id": "ecce1f99",
   "metadata": {},
   "outputs": [],
   "source": [
    "data.to_csv(\"자격증_수험서_기타자격증_컴퓨터자격증일반.csv\",encoding=\"euc-kr\")"
   ]
  },
  {
   "cell_type": "code",
   "execution_count": 51,
   "id": "9b45fdf1",
   "metadata": {
    "scrolled": true
   },
   "outputs": [
    {
     "name": "stderr",
     "output_type": "stream",
     "text": [
      "C:\\Users\\MR322F~1.KAN\\AppData\\Local\\Temp/ipykernel_10580/3129306322.py:1: DeprecationWarning: find_elements_by_* commands are deprecated. Please use find_elements() instead\n",
      "  driver.find_elements_by_css_selector(\"span.publication\")[6].text\n"
     ]
    },
    {
     "data": {
      "text/plain": [
       "'한빛아카데미'"
      ]
     },
     "execution_count": 51,
     "metadata": {},
     "output_type": "execute_result"
    }
   ],
   "source": [
    "driver.find_elements_by_css_selector(\"span.publication\")[6].text"
   ]
  },
  {
   "cell_type": "code",
   "execution_count": 55,
   "id": "54cde894",
   "metadata": {},
   "outputs": [
    {
     "name": "stderr",
     "output_type": "stream",
     "text": [
      "C:\\Users\\MR322F~1.KAN\\AppData\\Local\\Temp/ipykernel_10580/379474095.py:1: DeprecationWarning: find_elements_by_* commands are deprecated. Please use find_elements() instead\n",
      "  driver.find_elements_by_css_selector(\"div.pub_info > span:nth-child(2)\")[4].text\n"
     ]
    },
    {
     "data": {
      "text/plain": [
       "'한빛아카데미'"
      ]
     },
     "execution_count": 55,
     "metadata": {},
     "output_type": "execute_result"
    }
   ],
   "source": [
    "driver.find_elements_by_css_selector(\"div.pub_info > span:nth-child(2)\")[4].text"
   ]
  },
  {
   "cell_type": "code",
   "execution_count": 28,
   "id": "12d4a773",
   "metadata": {},
   "outputs": [],
   "source": [
    "data.to_csv(\"컴퓨터공학_컴퓨터공학_과학개론.csv\",encoding=\"euc-kr\")"
   ]
  },
  {
   "cell_type": "code",
   "execution_count": 5,
   "id": "c889a04e",
   "metadata": {},
   "outputs": [],
   "source": [
    "soup = bs(driver.page_source,\"lxml\")"
   ]
  },
  {
   "cell_type": "code",
   "execution_count": 19,
   "id": "9f7edf97",
   "metadata": {},
   "outputs": [],
   "source": [
    "img = soup.select(\"div.cover > a > span > img\")[4][\"src\"]"
   ]
  },
  {
   "cell_type": "code",
   "execution_count": 23,
   "id": "4105d638",
   "metadata": {},
   "outputs": [],
   "source": [
    "imgList = []\n",
    "for i in range(0,23,2):\n",
    "    img = soup.select(\"div.cover > a > span > img\")[i][\"src\"]\n",
    "    imgList.append(img)"
   ]
  },
  {
   "cell_type": "code",
   "execution_count": 24,
   "id": "4f37836d",
   "metadata": {},
   "outputs": [
    {
     "data": {
      "text/plain": [
       "['http://image.kyobobook.co.kr/images/book/large/522/l9788966260522.jpg',\n",
       " 'http://image.kyobobook.co.kr/images/book/large/142/l9788979149142.jpg',\n",
       " 'http://image.kyobobook.co.kr/images/book/large/451/l9791161754451.jpg',\n",
       " 'http://image.kyobobook.co.kr/images/book/large/219/l9791185475219.jpg',\n",
       " 'http://image.kyobobook.co.kr/images/book/large/785/l9788931465785.jpg',\n",
       " 'http://image.kyobobook.co.kr/images/book/large/216/l9791156641216.jpg',\n",
       " 'http://image.kyobobook.co.kr/images/book/large/019/l9791189989019.jpg',\n",
       " 'http://image.kyobobook.co.kr/images/book/large/384/l9791190665384.jpg',\n",
       " 'http://image.kyobobook.co.kr/images/book/large/834/l9788926817834.jpg',\n",
       " 'http://image.kyobobook.co.kr/images/book/large/199/l9788966262199.jpg',\n",
       " 'http://image.kyobobook.co.kr/images/book/large/665/l9788970508665.jpg',\n",
       " 'http://image.kyobobook.co.kr/images/book/large/558/l9788998338558.jpg']"
      ]
     },
     "execution_count": 24,
     "metadata": {},
     "output_type": "execute_result"
    }
   ],
   "source": [
    "imgList"
   ]
  },
  {
   "cell_type": "code",
   "execution_count": null,
   "id": "949759e7",
   "metadata": {},
   "outputs": [],
   "source": []
  }
 ],
 "metadata": {
  "kernelspec": {
   "display_name": "Python 3 (ipykernel)",
   "language": "python",
   "name": "python3"
  },
  "language_info": {
   "codemirror_mode": {
    "name": "ipython",
    "version": 3
   },
   "file_extension": ".py",
   "mimetype": "text/x-python",
   "name": "python",
   "nbconvert_exporter": "python",
   "pygments_lexer": "ipython3",
   "version": "3.9.7"
  }
 },
 "nbformat": 4,
 "nbformat_minor": 5
}
