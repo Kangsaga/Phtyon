{
 "cells": [
  {
   "cell_type": "code",
   "execution_count": 2,
   "id": "20f4e6a8",
   "metadata": {},
   "outputs": [],
   "source": [
    "from selenium import webdriver as wb\n",
    "from selenium.webdriver.common.keys import Keys\n",
    "import time\n",
    "from bs4 import BeautifulSoup as bs\n",
    "import os #파일 시스템을 위한 라이브러리 ex)파일 ,폴더 생성\n",
    "from urllib.request import urlretrieve # 이미지의 경로를 파일로 저장시켜주는 라이브러리"
   ]
  },
  {
   "cell_type": "code",
   "execution_count": 3,
   "id": "527e3e96",
   "metadata": {},
   "outputs": [],
   "source": [
    "# 폴더를 생성\n",
    "# 바탕화면에 이미지라는 폴더가 없다면 폴더를 생성해줘!\n",
    "if not os.path.isdir(\"C:/Users/smhrd/Desktop/이미지\"):\n",
    "    os.mkdir(\"C:/Users/smhrd/Desktop/이미지\")"
   ]
  },
  {
   "cell_type": "code",
   "execution_count": 4,
   "id": "00c8d8c3",
   "metadata": {},
   "outputs": [],
   "source": [
    "driver = wb.Chrome()\n",
    "driver.get(\"https://search.naver.com/search.naver?sm=tab_hty.top&where=image&query=%EB%A9%8B%EC%9E%88%EB%8A%94+%EA%B7%B8%EB%A6%BC&oquery=%EA%BD%83%ED%94%BC%EB%A9%B4+%EB%8B%AC+%EC%83%9D%EA%B0%81%ED%95%98%EA%B3%A0&tqi=hOIudwprvh8ssfGbwAhsssssswK-194224\")"
   ]
  },
  {
   "cell_type": "code",
   "execution_count": 6,
   "id": "74619b13",
   "metadata": {},
   "outputs": [],
   "source": [
    "soup = bs(driver.page_source,\"lxml\")"
   ]
  },
  {
   "cell_type": "code",
   "execution_count": 8,
   "id": "823507a6",
   "metadata": {
    "scrolled": false
   },
   "outputs": [],
   "source": [
    "img = soup.select(\"img._image._listImage\")"
   ]
  },
  {
   "cell_type": "code",
   "execution_count": 11,
   "id": "ba6a71a1",
   "metadata": {},
   "outputs": [],
   "source": [
    "imgSrc = []\n",
    "for i in img:\n",
    "    imgSrc.append(i[\"src\"])"
   ]
  },
  {
   "cell_type": "code",
   "execution_count": 12,
   "id": "28f0c9a8",
   "metadata": {
    "collapsed": true
   },
   "outputs": [
    {
     "data": {
      "text/plain": [
       "['https://search.pstatic.net/common/?src=http%3A%2F%2Fblogfiles.naver.net%2FMjAxNzAxMjNfODEg%2FMDAxNDg1MTQ2OTY5Nzcz.tjzzPD0L0UlwJkJxungr7x1dqT4jcpA2pWcdZ-aDYSIg.IJoTjZFKkL5kcqvXKbLlQ1iBi4j1cgWIsq4u3UbgEwwg.JPEG.snyouth_mony%2F4.jpg&type=a340',\n",
       " 'https://search.pstatic.net/common/?src=http%3A%2F%2Fblogfiles.naver.net%2FMjAyMDA2MTRfMTkw%2FMDAxNTkyMTAyOTUxODU3.4W9v0iJ1uepXTEeODYR0hp2dtsPrtX8ETrAfMj1ErcAg.veaILhxND1zA5QEcLOuzq1s_OwBWZ6kwoXkMyO8Mp6Ag.JPEG.jy_hr%2FKakaoTalk_Photo_2020-06-14-11-00-43.jpeg&type=a340',\n",
       " 'https://search.pstatic.net/common/?src=http%3A%2F%2Fblogfiles.naver.net%2FMjAxOTA5MDRfNzIg%2FMDAxNTY3NTc0MTQ0NjM1.feBShqqTHF5MDAttkmC_eexq2hFnV2tv357UWrTlDKwg.rgb5QHo4MzChr34hRGjjtigpkZIIhXYe-Tf51uiXci4g.JPEG.picturebookdiary%2F20190904_141412.jpg&type=a340',\n",
       " 'https://search.pstatic.net/common/?src=http%3A%2F%2Fimage.nmv.naver.net%2Fblog_2020_01_31_2966%2Fcea9f8cf-4411-11ea-adca-28b4484d608c_01.jpg&type=a340',\n",
       " 'data:image/gif;base64,R0lGODlhAQABAIAAAAAAAP///yH5BAEAAAAALAAAAAABAAEAAAIBRAA7',\n",
       " 'https://search.pstatic.net/common/?src=http%3A%2F%2Fblogfiles.naver.net%2F20130526_243%2Frose2334_13695666048702vvCf_JPEG%2F20130525_1749264.jpg&type=a340',\n",
       " 'https://search.pstatic.net/common/?src=http%3A%2F%2Fcafefiles.naver.net%2Fdata34%2F2008%2F8%2F7%2F2%2Fzxdse4-0_40084008_ljh89719.jpg&type=a340',\n",
       " 'https://search.pstatic.net/common/?src=http%3A%2F%2Fblogfiles.naver.net%2FMjAxNjEyMjlfMTM4%2FMDAxNDgyOTg4NjkzNDc5.ZhPiqgd3XTBVJVtCbh3S86341Q5DpgveRG-Iur7X_Ngg.gp8Rtv0G2VcbW_jRqF8ttSneQSlYfBeau40gYRJRsEcg.JPEG.pang_click%2FP20161207_140422465_9084ECEA-BCF9-43B5-84C1-BE1B0991063E.jpg&type=a340',\n",
       " 'https://search.pstatic.net/common/?src=http%3A%2F%2Fshop1.phinf.naver.net%2F20211025_54%2F1635126468252hpMmQ_JPEG%2F36262303070152672_27133285.jpg&type=a340',\n",
       " 'data:image/gif;base64,R0lGODlhAQABAIAAAAAAAP///yH5BAEAAAAALAAAAAABAAEAAAIBRAA7',\n",
       " 'data:image/gif;base64,R0lGODlhAQABAIAAAAAAAP///yH5BAEAAAAALAAAAAABAAEAAAIBRAA7',\n",
       " 'https://search.pstatic.net/common/?src=http%3A%2F%2Fblogfiles.naver.net%2FMjAxNjEyMjdfMTU0%2FMDAxNDgyODEzNDMzODcz.DaiDHelWvjzUh0eSux5s5N8uTPNLWFcwDp7zgP58lacg.YXP9xOX5pCZCEZ6ZlluURckOKADnLh-Nif0S_SOq-pAg.JPEG.luk520%2F%25C6%25C4%25BD%25BA%25C5%25DA%25B5%25E5%25B7%25CE%25C0%25D7_%25BF%25B9%25BC%25F6.JPG&type=a340',\n",
       " 'https://search.pstatic.net/common/?src=http%3A%2F%2Fblogfiles.naver.net%2F20130222_157%2Fwldsbzla_1361467993615N1ES4_JPEG%2FBM%25B0%25FA%25C1%25A41.jpg&type=a340',\n",
       " 'https://search.pstatic.net/common/?src=http%3A%2F%2Fblogfiles.naver.net%2F20160626_285%2Ftaixiumei_1466871504514QWkyb_JPEG%2F20160626_010601.jpg&type=a340',\n",
       " 'data:image/gif;base64,R0lGODlhAQABAIAAAAAAAP///yH5BAEAAAAALAAAAAABAAEAAAIBRAA7',\n",
       " 'data:image/gif;base64,R0lGODlhAQABAIAAAAAAAP///yH5BAEAAAAALAAAAAABAAEAAAIBRAA7',\n",
       " 'data:image/gif;base64,R0lGODlhAQABAIAAAAAAAP///yH5BAEAAAAALAAAAAABAAEAAAIBRAA7',\n",
       " 'data:image/gif;base64,R0lGODlhAQABAIAAAAAAAP///yH5BAEAAAAALAAAAAABAAEAAAIBRAA7',\n",
       " 'data:image/gif;base64,R0lGODlhAQABAIAAAAAAAP///yH5BAEAAAAALAAAAAABAAEAAAIBRAA7',\n",
       " 'data:image/gif;base64,R0lGODlhAQABAIAAAAAAAP///yH5BAEAAAAALAAAAAABAAEAAAIBRAA7',\n",
       " 'data:image/gif;base64,R0lGODlhAQABAIAAAAAAAP///yH5BAEAAAAALAAAAAABAAEAAAIBRAA7',\n",
       " 'data:image/gif;base64,R0lGODlhAQABAIAAAAAAAP///yH5BAEAAAAALAAAAAABAAEAAAIBRAA7',\n",
       " 'data:image/gif;base64,R0lGODlhAQABAIAAAAAAAP///yH5BAEAAAAALAAAAAABAAEAAAIBRAA7',\n",
       " 'data:image/gif;base64,R0lGODlhAQABAIAAAAAAAP///yH5BAEAAAAALAAAAAABAAEAAAIBRAA7',\n",
       " 'data:image/gif;base64,R0lGODlhAQABAIAAAAAAAP///yH5BAEAAAAALAAAAAABAAEAAAIBRAA7',\n",
       " 'data:image/gif;base64,R0lGODlhAQABAIAAAAAAAP///yH5BAEAAAAALAAAAAABAAEAAAIBRAA7',\n",
       " 'data:image/gif;base64,R0lGODlhAQABAIAAAAAAAP///yH5BAEAAAAALAAAAAABAAEAAAIBRAA7',\n",
       " 'data:image/gif;base64,R0lGODlhAQABAIAAAAAAAP///yH5BAEAAAAALAAAAAABAAEAAAIBRAA7',\n",
       " 'data:image/gif;base64,R0lGODlhAQABAIAAAAAAAP///yH5BAEAAAAALAAAAAABAAEAAAIBRAA7',\n",
       " 'data:image/gif;base64,R0lGODlhAQABAIAAAAAAAP///yH5BAEAAAAALAAAAAABAAEAAAIBRAA7',\n",
       " 'data:image/gif;base64,R0lGODlhAQABAIAAAAAAAP///yH5BAEAAAAALAAAAAABAAEAAAIBRAA7',\n",
       " 'data:image/gif;base64,R0lGODlhAQABAIAAAAAAAP///yH5BAEAAAAALAAAAAABAAEAAAIBRAA7',\n",
       " 'data:image/gif;base64,R0lGODlhAQABAIAAAAAAAP///yH5BAEAAAAALAAAAAABAAEAAAIBRAA7',\n",
       " 'data:image/gif;base64,R0lGODlhAQABAIAAAAAAAP///yH5BAEAAAAALAAAAAABAAEAAAIBRAA7',\n",
       " 'data:image/gif;base64,R0lGODlhAQABAIAAAAAAAP///yH5BAEAAAAALAAAAAABAAEAAAIBRAA7',\n",
       " 'data:image/gif;base64,R0lGODlhAQABAIAAAAAAAP///yH5BAEAAAAALAAAAAABAAEAAAIBRAA7',\n",
       " 'data:image/gif;base64,R0lGODlhAQABAIAAAAAAAP///yH5BAEAAAAALAAAAAABAAEAAAIBRAA7',\n",
       " 'data:image/gif;base64,R0lGODlhAQABAIAAAAAAAP///yH5BAEAAAAALAAAAAABAAEAAAIBRAA7',\n",
       " 'data:image/gif;base64,R0lGODlhAQABAIAAAAAAAP///yH5BAEAAAAALAAAAAABAAEAAAIBRAA7',\n",
       " 'data:image/gif;base64,R0lGODlhAQABAIAAAAAAAP///yH5BAEAAAAALAAAAAABAAEAAAIBRAA7',\n",
       " 'data:image/gif;base64,R0lGODlhAQABAIAAAAAAAP///yH5BAEAAAAALAAAAAABAAEAAAIBRAA7',\n",
       " 'data:image/gif;base64,R0lGODlhAQABAIAAAAAAAP///yH5BAEAAAAALAAAAAABAAEAAAIBRAA7',\n",
       " 'data:image/gif;base64,R0lGODlhAQABAIAAAAAAAP///yH5BAEAAAAALAAAAAABAAEAAAIBRAA7',\n",
       " 'data:image/gif;base64,R0lGODlhAQABAIAAAAAAAP///yH5BAEAAAAALAAAAAABAAEAAAIBRAA7',\n",
       " 'data:image/gif;base64,R0lGODlhAQABAIAAAAAAAP///yH5BAEAAAAALAAAAAABAAEAAAIBRAA7',\n",
       " 'data:image/gif;base64,R0lGODlhAQABAIAAAAAAAP///yH5BAEAAAAALAAAAAABAAEAAAIBRAA7',\n",
       " 'data:image/gif;base64,R0lGODlhAQABAIAAAAAAAP///yH5BAEAAAAALAAAAAABAAEAAAIBRAA7',\n",
       " 'data:image/gif;base64,R0lGODlhAQABAIAAAAAAAP///yH5BAEAAAAALAAAAAABAAEAAAIBRAA7']"
      ]
     },
     "execution_count": 12,
     "metadata": {},
     "output_type": "execute_result"
    }
   ],
   "source": [
    "imgSrc"
   ]
  },
  {
   "cell_type": "code",
   "execution_count": 14,
   "id": "b37d4e14",
   "metadata": {},
   "outputs": [],
   "source": [
    "for i in range(len(imgSrc)):\n",
    "    urlretrieve(imgSrc[i],\"C:/Users/smhrd/Desktop/이미지/\"+str(i)+\".jpg\")\n",
    "    time.sleep(1)"
   ]
  },
  {
   "cell_type": "code",
   "execution_count": null,
   "id": "926a55e1",
   "metadata": {},
   "outputs": [],
   "source": []
  }
 ],
 "metadata": {
  "kernelspec": {
   "display_name": "Python 3 (ipykernel)",
   "language": "python",
   "name": "python3"
  },
  "language_info": {
   "codemirror_mode": {
    "name": "ipython",
    "version": 3
   },
   "file_extension": ".py",
   "mimetype": "text/x-python",
   "name": "python",
   "nbconvert_exporter": "python",
   "pygments_lexer": "ipython3",
   "version": "3.9.7"
  }
 },
 "nbformat": 4,
 "nbformat_minor": 5
}
