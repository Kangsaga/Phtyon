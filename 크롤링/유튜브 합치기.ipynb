{
 "cells": [
  {
   "cell_type": "code",
   "execution_count": 1,
   "id": "92bb4051",
   "metadata": {},
   "outputs": [],
   "source": [
    "import pandas as pd"
   ]
  },
  {
   "cell_type": "code",
   "execution_count": 6,
   "id": "62b09abd",
   "metadata": {},
   "outputs": [],
   "source": [
    "video1 = pd.read_csv('유튜브_컴퓨터공학.csv', encoding='utf-8-sig',index_col = '제목')\n",
    "video2 = pd.read_csv('유튜브_컴퓨터공학_과학개론.csv', encoding='utf-8-sig',index_col = '제목')\n",
    "video3 = pd.read_csv('유튜브_컴퓨터공학_소프트웨어공학.csv', encoding='utf-8-sig',index_col = '제목')\n",
    "video4 = pd.read_csv('컴퓨터공학_마이크로프로세서.csv', encoding='utf-8-sig',index_col = '제목')\n",
    "video5 = pd.read_csv('컴퓨터공학_자료구조_알고리즘.csv', encoding='utf-8-sig',index_col = '제목')\n",
    "video6 = pd.read_csv('컴퓨터공학_인공지능.csv', encoding='utf-8-sig',index_col = '제목')\n",
    "video7 = pd.read_csv('컴퓨터공학_인공지능_인공지능일반.csv', encoding='utf-8-sig',index_col = '제목')\n",
    "video8 = pd.read_csv('컴퓨터공학_인공지능_딥러닝_머신러닝.csv', encoding='utf-8-sig',index_col = '제목')"
   ]
  },
  {
   "cell_type": "code",
   "execution_count": 7,
   "id": "3d28c0dc",
   "metadata": {},
   "outputs": [],
   "source": [
    "result = pd.concat([video1,video2,video3,video4,video5,video6,video7,video8])"
   ]
  },
  {
   "cell_type": "code",
   "execution_count": 8,
   "id": "1fb8b3b9",
   "metadata": {},
   "outputs": [],
   "source": [
    "video1 = pd.read_csv('IT일반.csv', encoding='utf-8-sig',index_col = '제목')\n",
    "video2 = pd.read_csv('유튜브IT일반_IT일반서.csv', encoding='utf-8-sig',index_col = '제목')"
   ]
  },
  {
   "cell_type": "code",
   "execution_count": 9,
   "id": "424910ba",
   "metadata": {},
   "outputs": [],
   "source": [
    "result1 = pd.concat([video1,video2])"
   ]
  },
  {
   "cell_type": "code",
   "execution_count": 10,
   "id": "e0bb9d17",
   "metadata": {},
   "outputs": [],
   "source": [
    "video1 = pd.read_csv('유튜브컴퓨터입문_활용.csv', encoding='utf-8-sig',index_col = '제목')\n",
    "video2 = pd.read_csv('유튜브컴퓨터입문_활용_컴퓨터입문_활용.csv', encoding='utf-8-sig',index_col = '제목')\n",
    "video3 = pd.read_csv('유튜브컴퓨터입문_활용_인터넷입문_활용.csv', encoding='utf-8-sig',index_col = '제목')\n",
    "video4 = pd.read_csv('유튜브컴퓨터입문_활용_컴퓨터교육.csv', encoding='utf-8-sig',index_col = '제목')"
   ]
  },
  {
   "cell_type": "code",
   "execution_count": 11,
   "id": "43bab20a",
   "metadata": {},
   "outputs": [],
   "source": [
    "result2 = pd.concat([video1,video2,video3,video4])"
   ]
  },
  {
   "cell_type": "code",
   "execution_count": 12,
   "id": "6da69959",
   "metadata": {},
   "outputs": [],
   "source": [
    "video1 = pd.read_csv('유튜브전산통계_해석.csv', encoding='utf-8-sig',index_col = '제목')\n",
    "video2 = pd.read_csv('유튜브전산통계_해석_전산통계_수치해석.csv', encoding='utf-8-sig',index_col = '제목')\n",
    "video3 = pd.read_csv('유튜브전산통계_해석_전산통계_빅데이터.csv', encoding='utf-8-sig',index_col = '제목')"
   ]
  },
  {
   "cell_type": "code",
   "execution_count": 13,
   "id": "c07a0777",
   "metadata": {},
   "outputs": [],
   "source": [
    "result3 = pd.concat([video1,video2,video3])"
   ]
  },
  {
   "cell_type": "code",
   "execution_count": 18,
   "id": "eb62cd43",
   "metadata": {},
   "outputs": [],
   "source": [
    "video1 = pd.read_csv('유튜브OS.csv', encoding='utf-8-sig',index_col = '제목')\n",
    "video2 = pd.read_csv('유튜브OS_window.csv', encoding='utf-8-sig',index_col = '제목')\n",
    "video3 = pd.read_csv('유튜브OS_macos.csv', encoding='utf-8-sig',index_col = '제목')\n",
    "video4 = pd.read_csv('유튜브OS_임베디드.csv', encoding='utf-8-sig',index_col = '제목')\n",
    "video5 = pd.read_csv('유튜브OS_arm.csv', encoding='utf-8-sig',index_col = '제목')\n",
    "video6 = pd.read_csv('유튜브OS_유닉스.csv', encoding='utf-8-sig',index_col = '제목')\n",
    "video7 = pd.read_csv('유튜브OS_리눅스.csv', encoding='utf-8-sig',index_col = '제목')"
   ]
  },
  {
   "cell_type": "code",
   "execution_count": 19,
   "id": "37e7800d",
   "metadata": {},
   "outputs": [],
   "source": [
    "result4 = pd.concat([video1,video2,video3,video4,video5,video6,video7])"
   ]
  },
  {
   "cell_type": "code",
   "execution_count": 20,
   "id": "e0b725a2",
   "metadata": {},
   "outputs": [],
   "source": [
    "video1 = pd.read_csv('유튜브네트워크.csv', encoding='utf-8-sig',index_col = '제목')\n",
    "video2 = pd.read_csv('유튜브네트워크_네트워크일반.csv', encoding='utf-8-sig',index_col = '제목')\n",
    "video3 = pd.read_csv('유튜브네트워크_네트워크일반_네트워크일반.csv', encoding='utf-8-sig',index_col = '제목')\n",
    "video4 = pd.read_csv('유튜브네트워크_네트워크일반_server.csv', encoding='utf-8-sig',index_col = '제목')\n",
    "video5 = pd.read_csv('유튜브네트워크_네트워크일반_지리정보.csv', encoding='utf-8-sig',index_col = '제목')\n",
    "video6 = pd.read_csv('유튜브네트워크_tcp_ip.csv', encoding='utf-8-sig',index_col = '제목')"
   ]
  },
  {
   "cell_type": "code",
   "execution_count": 21,
   "id": "46d5812b",
   "metadata": {},
   "outputs": [],
   "source": [
    "result5 = pd.concat([video1,video2,video3,video4,video5,video6])"
   ]
  },
  {
   "cell_type": "code",
   "execution_count": 22,
   "id": "c87c7f19",
   "metadata": {},
   "outputs": [],
   "source": [
    "video1 = pd.read_csv('유튜브보안_해킹.csv', encoding='utf-8-sig',index_col = '제목')"
   ]
  },
  {
   "cell_type": "code",
   "execution_count": 23,
   "id": "4b988588",
   "metadata": {},
   "outputs": [],
   "source": [
    "result6 = pd.concat([video1])"
   ]
  },
  {
   "cell_type": "code",
   "execution_count": 24,
   "id": "20a022fe",
   "metadata": {},
   "outputs": [],
   "source": [
    "video1 = pd.read_csv('유튜브데이터베이스.csv', encoding='utf-8-sig',index_col = '제목')\n",
    "video2 = pd.read_csv('유튜브데이터베이스_데이터베이스일반.csv', encoding='utf-8-sig',index_col = '제목')\n",
    "video3 = pd.read_csv('유튜브데이터베이스_oracle.csv', encoding='utf-8-sig',index_col = '제목')\n",
    "video4 = pd.read_csv('유튜브데이터베이스_sql.csv', encoding='utf-8-sig',index_col = '제목')"
   ]
  },
  {
   "cell_type": "code",
   "execution_count": 25,
   "id": "a845c4b2",
   "metadata": {},
   "outputs": [],
   "source": [
    "result7 = pd.concat([video1,video2,video3,video4])"
   ]
  },
  {
   "cell_type": "code",
   "execution_count": 26,
   "id": "147768cd",
   "metadata": {},
   "outputs": [],
   "source": [
    "video1 = pd.read_csv('유튜브게임.csv', encoding='utf-8-sig',index_col = '제목')\n",
    "video2 = pd.read_csv('유튜브게임_게임기획.csv', encoding='utf-8-sig',index_col = '제목')\n",
    "video3 = pd.read_csv('유튜브게임_모바일게임.csv', encoding='utf-8-sig',index_col = '제목')\n",
    "video4 = pd.read_csv('유튜브게임_게임개발.csv', encoding='utf-8-sig',index_col = '제목')\n",
    "video5 = pd.read_csv('유튜브게임_게임개발_유니티.csv', encoding='utf-8-sig',index_col = '제목')\n",
    "video6 = pd.read_csv('유튜브게임_게임개발_인리얼.csv', encoding='utf-8-sig',index_col = '제목')\n",
    "video7 = pd.read_csv('유튜브게임_게임개발_게임개발일반.csv', encoding='utf-8-sig',index_col = '제목')"
   ]
  },
  {
   "cell_type": "code",
   "execution_count": 27,
   "id": "74222480",
   "metadata": {},
   "outputs": [],
   "source": [
    "result8 = pd.concat([video1,video2,video3,video4,video5,video6,video7])"
   ]
  },
  {
   "cell_type": "code",
   "execution_count": 28,
   "id": "195025aa",
   "metadata": {},
   "outputs": [],
   "source": [
    "video1 = pd.read_csv('유튜브웹프로그래밍.csv', encoding='utf-8-sig',index_col = '제목')\n",
    "video2 = pd.read_csv('유튜브웹프로그래밍_웹프로그래밍일반.csv', encoding='utf-8-sig',index_col = '제목')\n",
    "video3 = pd.read_csv('유튜브웹프로그래밍_html_css.csv', encoding='utf-8-sig',index_col = '제목')\n",
    "video4 = pd.read_csv('유튜브웹프로그래밍_javascript.csv', encoding='utf-8-sig',index_col = '제목')\n",
    "video5 = pd.read_csv('유튜브웹프로그래밍_jquery.csv', encoding='utf-8-sig',index_col = '제목')\n",
    "video6 = pd.read_csv('유튜브웹프로그래밍_xml.csv', encoding='utf-8-sig',index_col = '제목')\n",
    "video7 = pd.read_csv('유튜브웹프로그래밍_asp.csv', encoding='utf-8-sig',index_col = '제목')\n",
    "video8 = pd.read_csv('유튜브웹프로그래밍_jsp.csv', encoding='utf-8-sig',index_col = '제목')\n",
    "video9 = pd.read_csv('유튜브웹프로그래밍_php.csv', encoding='utf-8-sig',index_col = '제목')\n",
    "video10 = pd.read_csv('유튜브웹프로그래밍_ajax.csv', encoding='utf-8-sig',index_col = '제목')\n",
    "video11 = pd.read_csv('유튜브웹프로그래밍_flex.csv', encoding='utf-8-sig',index_col = '제목')"
   ]
  },
  {
   "cell_type": "code",
   "execution_count": 29,
   "id": "1cf67948",
   "metadata": {},
   "outputs": [],
   "source": [
    "result9 = pd.concat([video1,video2,video3,video4,video5,video6,video7,video8,video9,video10,video11])"
   ]
  },
  {
   "cell_type": "code",
   "execution_count": 32,
   "id": "e66ba92e",
   "metadata": {},
   "outputs": [],
   "source": [
    "video1 = pd.read_csv('유튜브프로그래밍언어.csv', encoding='utf-8-sig',index_col = '제목')\n",
    "video2 = pd.read_csv('유튜브프로그래밍언어_프로그래밍일반.csv', encoding='utf-8-sig',index_col = '제목')\n",
    "video3 = pd.read_csv('유튜브프로그래밍언어_파이썬.csv', encoding='utf-8-sig',index_col = '제목')\n",
    "video4 = pd.read_csv('유튜브프로그래밍언어_c.csv', encoding='utf-8-sig',index_col = '제목')\n",
    "video5 = pd.read_csv('유튜브프로그래밍언어_c플플.csv', encoding='utf-8-sig',index_col = '제목')\n",
    "video6 = pd.read_csv('유튜브프로그래밍언어_c샵.csv', encoding='utf-8-sig',index_col = '제목')\n",
    "video7 = pd.read_csv('유튜브프로그래밍언어_visualbasic.csv', encoding='utf-8-sig',index_col = '제목')\n",
    "video8 = pd.read_csv('유튜브프로그래밍언어_java.csv', encoding='utf-8-sig',index_col = '제목')\n",
    "video9 = pd.read_csv('유튜브프로그래밍언어_net.csv', encoding='utf-8-sig',index_col = '제목')\n",
    "video10 = pd.read_csv('유튜브프로그래밍언어_net_net일반.csv', encoding='utf-8-sig',index_col = '제목')\n",
    "video11 = pd.read_csv('유튜브프로그래밍언어_net_visual플플_샵.csv', encoding='utf-8-sig',index_col = '제목')\n",
    "video12 = pd.read_csv('유튜브프로그래밍언어_net_aspnet.csv', encoding='utf-8-sig',index_col = '제목')"
   ]
  },
  {
   "cell_type": "code",
   "execution_count": 33,
   "id": "a865b0f7",
   "metadata": {},
   "outputs": [],
   "source": [
    "result10 = pd.concat([video1,video2,video3,video4,video5,video6,video7,video8,video9,video10,video11,video12])"
   ]
  },
  {
   "cell_type": "code",
   "execution_count": 35,
   "id": "60876abf",
   "metadata": {},
   "outputs": [],
   "source": [
    "video1 = pd.read_csv('유튜브모바일프로그래밍.csv', encoding='utf-8-sig',index_col = '제목')\n",
    "video2 = pd.read_csv('유튜브모바일프로그래밍_모바일프로그래밍일반.csv', encoding='utf-8-sig',index_col = '제목')\n",
    "video3 = pd.read_csv('유튜브모바일프로그래밍_아이폰_아이패드.csv', encoding='utf-8-sig',index_col = '제목')\n",
    "video4 = pd.read_csv('유튜브모바일프로그래밍_안드로이드.csv', encoding='utf-8-sig',index_col = '제목')\n",
    "video5 = pd.read_csv('유튜브모바일프로그래밍_모바일게임.csv', encoding='utf-8-sig',index_col = '제목')"
   ]
  },
  {
   "cell_type": "code",
   "execution_count": 36,
   "id": "125be408",
   "metadata": {},
   "outputs": [],
   "source": [
    "result11 = pd.concat([video1,video2,video3,video4,video5])"
   ]
  },
  {
   "cell_type": "code",
   "execution_count": 37,
   "id": "cebe9fbc",
   "metadata": {},
   "outputs": [],
   "source": [
    "video1 = pd.read_csv('유튜브oa사무자동화.csv', encoding='utf-8-sig',index_col = '제목')\n",
    "video2 = pd.read_csv('유튜브oa사무자동화_엑셀.csv', encoding='utf-8-sig',index_col = '제목')\n",
    "video3 = pd.read_csv('유튜브oa사무자동화_파워포인트.csv', encoding='utf-8-sig',index_col = '제목')"
   ]
  },
  {
   "cell_type": "code",
   "execution_count": 38,
   "id": "f5a2db1d",
   "metadata": {},
   "outputs": [],
   "source": [
    "result12 = pd.concat([video1,video2,video3])"
   ]
  },
  {
   "cell_type": "code",
   "execution_count": 39,
   "id": "9c0fbe6e",
   "metadata": {},
   "outputs": [],
   "source": [
    "video1 = pd.read_csv('유튜브웹사이트.csv', encoding='utf-8-sig',index_col = '제목')\n",
    "video2 = pd.read_csv('유튜브웹사이트_웹사이트기획.csv', encoding='utf-8-sig',index_col = '제목')\n",
    "video3 = pd.read_csv('유튜브웹사이트_ux_ui.csv', encoding='utf-8-sig',index_col = '제목')\n",
    "video4 = pd.read_csv('유튜브웹사이트_웹디자인.csv', encoding='utf-8-sig',index_col = '제목')\n",
    "video5 = pd.read_csv('유튜브웹사이트_웹서비스.csv', encoding='utf-8-sig',index_col = '제목')\n",
    "video6 = pd.read_csv('유튜브웹사이트_sns_트위터_페이스북.csv', encoding='utf-8-sig',index_col = '제목')\n",
    "video7 = pd.read_csv('유튜브웹사이트_쇼핑몰_전자상거래.csv', encoding='utf-8-sig',index_col = '제목')\n",
    "video8 = pd.read_csv('유튜브웹사이트_블로그_홈페이지.csv', encoding='utf-8-sig',index_col = '제목')\n",
    "video9 = pd.read_csv('유튜브웹사이트_웹제작도구.csv', encoding='utf-8-sig',index_col = '제목')"
   ]
  },
  {
   "cell_type": "code",
   "execution_count": 40,
   "id": "c8b9e4d0",
   "metadata": {},
   "outputs": [],
   "source": [
    "result13 = pd.concat([video1,video2,video3,video4,video5,video6,video7,video8,video9])"
   ]
  },
  {
   "cell_type": "code",
   "execution_count": 41,
   "id": "7db73fcd",
   "metadata": {},
   "outputs": [],
   "source": [
    "video1 = pd.read_csv('유튜브자격증_수험서.csv', encoding='utf-8-sig',index_col = '제목')\n",
    "video2 = pd.read_csv('유튜브자격증_수험서_사무자동화.csv', encoding='utf-8-sig',index_col = '제목')\n",
    "video3 = pd.read_csv('유튜브자격증_수험서_사무자동화_워드프로세서.csv', encoding='utf-8-sig',index_col = '제목')\n",
    "video4 = pd.read_csv('유튜브자격증_수험서_사무자동화_컴퓨터활용능력.csv', encoding='utf-8-sig',index_col = '제목')\n",
    "video5 = pd.read_csv('유튜브자격증_수험서_사무자동화_사무자동화산업기사.csv', encoding='utf-8-sig',index_col = '제목')\n",
    "video6 = pd.read_csv('유튜브자격증_수험서_사무자동화_itq.csv', encoding='utf-8-sig',index_col = '제목')\n",
    "video7 = pd.read_csv('유튜브자격증_수험서_사무자동화_diat.csv', encoding='utf-8-sig',index_col = '제목')\n",
    "video8 = pd.read_csv('유튜브자격증_수험서_사무자동화_mos.csv', encoding='utf-8-sig',index_col = '제목')\n",
    "video9 = pd.read_csv('유튜브자격증_수험서_정보네트워크보안.csv', encoding='utf-8-sig',index_col = '제목')\n",
    "video10 = pd.read_csv('유튜브자격증_수험서_정보네트워크보안_정보처리기사.csv', encoding='utf-8-sig',index_col = '제목')\n",
    "video11 = pd.read_csv('유튜브자격증_수험서_정보네트워크보안_정보보안기사.csv', encoding='utf-8-sig',index_col = '제목')\n",
    "video12 = pd.read_csv('유튜브자격증_수험서_정보네트워크보안_정보기기운용기능사.csv', encoding='utf-8-sig',index_col = '제목')\n",
    "video13 = pd.read_csv('유튜브자격증_수험서_그래픽_디자인.csv', encoding='utf-8-sig',index_col = '제목')\n",
    "video14 = pd.read_csv('유튜브자격증_수험서_그래픽_디자인_컴퓨터그래픽스운용기능사.csv', encoding='utf-8-sig',index_col = '제목')\n",
    "video15 = pd.read_csv('유튜브자격증_수험서_그래픽_디자인_gto웹디자인기능사.csv', encoding='utf-8-sig',index_col = '제목')\n",
    "video16 = pd.read_csv('유튜브자격증_수험서_기타자격증.csv', encoding='utf-8-sig',index_col = '제목')\n",
    "video17 = pd.read_csv('유튜브자격증_수험서_기타자격증_전자상거래관리사.csv', encoding='utf-8-sig',index_col = '제목')\n",
    "video18 = pd.read_csv('유튜브자격증_수험서_기타자격증_etest.csv', encoding='utf-8-sig',index_col = '제목')\n",
    "video19 = pd.read_csv('유튜브자격증_수험서_기타자격증_코딩.csv', encoding='utf-8-sig',index_col = '제목')\n",
    "video20 = pd.read_csv('유튜브자격증_수험서_기타자격증_컴퓨터자격증일반.csv', encoding='utf-8-sig',index_col = '제목')"
   ]
  },
  {
   "cell_type": "code",
   "execution_count": 42,
   "id": "e4d06f00",
   "metadata": {},
   "outputs": [],
   "source": [
    "result14 = pd.concat([video1,video2,video3,video4,video5,video6,video7,video8,video9,video10,video11,\n",
    "                      video12,video13,video14,video15,video16,video17,video18,video19,video20])"
   ]
  },
  {
   "cell_type": "code",
   "execution_count": 43,
   "id": "4a5fc805",
   "metadata": {},
   "outputs": [],
   "source": [
    "video = pd.concat([result,result1,result2,result3,result4,result5,result6,result7,result8,result9,\n",
    "                      result10,result11,result12,result13,result14])"
   ]
  },
  {
   "cell_type": "code",
   "execution_count": 45,
   "id": "4d2dd53e",
   "metadata": {},
   "outputs": [],
   "source": [
    "video1 = video.drop_duplicates(['주소','대분류'],keep=\"last\")"
   ]
  },
  {
   "cell_type": "code",
   "execution_count": 47,
   "id": "8225e9b0",
   "metadata": {},
   "outputs": [],
   "source": [
    "video1.to_csv('video.csv', encoding='utf-8-sig')"
   ]
  },
  {
   "cell_type": "code",
   "execution_count": 57,
   "id": "60e23ca0",
   "metadata": {},
   "outputs": [],
   "source": [
    "video3 = pd.read_csv('video.csv',encoding='utf-8-sig')"
   ]
  },
  {
   "cell_type": "code",
   "execution_count": 62,
   "id": "bb2f5293",
   "metadata": {},
   "outputs": [
    {
     "name": "stderr",
     "output_type": "stream",
     "text": [
      "C:\\Users\\smhrd\\AppData\\Local\\Temp/ipykernel_9004/2121364288.py:2: SettingWithCopyWarning: \n",
      "A value is trying to be set on a copy of a slice from a DataFrame\n",
      "\n",
      "See the caveats in the documentation: https://pandas.pydata.org/pandas-docs/stable/user_guide/indexing.html#returning-a-view-versus-a-copy\n",
      "  video3['번호'][i] = i\n"
     ]
    }
   ],
   "source": [
    "for i in range(0,len(video3)):\n",
    "    video3['번호'][i] = i"
   ]
  },
  {
   "cell_type": "code",
   "execution_count": 65,
   "id": "48c8f92f",
   "metadata": {},
   "outputs": [],
   "source": [
    "video3.to_csv('video.csv', encoding='utf-8-sig')"
   ]
  },
  {
   "cell_type": "code",
   "execution_count": null,
   "id": "27f5d562",
   "metadata": {},
   "outputs": [],
   "source": []
  }
 ],
 "metadata": {
  "kernelspec": {
   "display_name": "Python 3 (ipykernel)",
   "language": "python",
   "name": "python3"
  },
  "language_info": {
   "codemirror_mode": {
    "name": "ipython",
    "version": 3
   },
   "file_extension": ".py",
   "mimetype": "text/x-python",
   "name": "python",
   "nbconvert_exporter": "python",
   "pygments_lexer": "ipython3",
   "version": "3.9.7"
  }
 },
 "nbformat": 4,
 "nbformat_minor": 5
}
