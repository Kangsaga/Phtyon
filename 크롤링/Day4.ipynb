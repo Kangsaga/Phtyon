{
 "cells": [
  {
   "cell_type": "markdown",
   "id": "846d8e5e",
   "metadata": {},
   "source": [
    "# 유튜브 영상제목 , 조회수 클로링"
   ]
  },
  {
   "cell_type": "code",
   "execution_count": 2,
   "id": "41d8eeb8",
   "metadata": {},
   "outputs": [],
   "source": [
    "from selenium import webdriver as wb\n",
    "from selenium.webdriver.common.keys import Keys\n",
    "import time"
   ]
  },
  {
   "cell_type": "code",
   "execution_count": 31,
   "id": "f7408c3f",
   "metadata": {},
   "outputs": [
    {
     "name": "stderr",
     "output_type": "stream",
     "text": [
      "C:\\Users\\smhrd\\AppData\\Local\\Temp/ipykernel_6232/533801361.py:7: DeprecationWarning: find_element_by_* commands are deprecated. Please use find_element() instead\n",
      "  body = driver.find_element_by_css_selector(\"body\")\n",
      "C:\\Users\\smhrd\\AppData\\Local\\Temp/ipykernel_6232/533801361.py:16: DeprecationWarning: find_elements_by_* commands are deprecated. Please use find_elements() instead\n",
      "  title = driver.find_elements_by_id(\"video-title\")\n",
      "C:\\Users\\smhrd\\AppData\\Local\\Temp/ipykernel_6232/533801361.py:17: DeprecationWarning: find_elements_by_* commands are deprecated. Please use find_elements() instead\n",
      "  cnt = driver.find_elements_by_css_selector(\"span.style-scope.ytd-grid-video-renderer:nth-child(1)\")\n"
     ]
    },
    {
     "name": "stdout",
     "output_type": "stream",
     "text": [
      "동영상이 없습니다\n",
      "오늘 운동 부스터는 '기부'스터..\n",
      "GYM밥 김선생의 라면 파티\n",
      "크리스마스 선물은 '근육통'..\n",
      "도핑 테스트 결과...그리고 법적 절차 진행 상황..\n",
      "짐종국의 짐(GYM)편한 세상...\n",
      "피치(Peach)못할 데드리프트... (Feat. 카이)\n",
      "GYM종국 비긴즈...\n",
      "주먹보다 법(法)이 우선이다\n",
      "HRT? TRT?? 호르몬 대치 요법이요? 제발 운동 먼저 해보세요\n",
      "운동할 시간이 없다는 사람에게 보여주세요... 제발\n",
      "노래말고 운동으로 울리는 한 남자 (feat. 전소미)\n",
      "[MV] 걷고 싶다 (Live ver.) - 김종국\n",
      "내 동생 광고 뺏기... (feat. 후라이드 참 잘하는 집)\n",
      "짐종국님께서 경로를 이탈하셨습니다..\n",
      "먹방 전쟁 : 사랑스러War (feat. 401 정육식당)\n",
      "한국인의 매운맛..\n",
      "짐종국과 골드버튼 : 실버맨들의 습격\n",
      "추억의 물건들이 '제자리 걸음'... (Feat. 추석 선물)\n",
      "집’요한’ 상체 트레이닝... (ft. 영화 보이스)\n",
      "저는 '하체'식주의자 입니다..\n",
      "맛있게 먹겠습니다..\n",
      "부위로그 아니고 Vlog..\n",
      "구독자 200만.. 정말 감사합니다!\n",
      "가수인 듯 선수 아닌 선수 같은 짐종국 (Feat. IFBB 내추럴 챔피언)\n",
      "의자.. 다들 보이시죠?\n",
      "피티(PT)기는 운동\n",
      "회원님, PT 끝나셨으면 집에 가셔야 지효... (feat. 마녀식당으로 오세요)\n",
      "무엇이든 물어보시 지효.. (feat. 마녀식당으로 오세요)\n",
      "어깨 운동만 '한' 남자\n",
      "저.. '등신' 인가요..?\n",
      "조회수 48만회\n",
      "조회수 248만회\n",
      "조회수 144만회\n",
      "조회수 418만회\n",
      "조회수 95만회\n",
      "조회수 106만회\n",
      "조회수 78만회\n",
      "조회수 156만회\n",
      "조회수 243만회\n",
      "조회수 194만회\n",
      "조회수 320만회\n",
      "조회수 83만회\n",
      "조회수 159만회\n",
      "조회수 64만회\n",
      "조회수 156만회\n",
      "조회수 256만회\n",
      "조회수 455만회\n",
      "조회수 266만회\n",
      "조회수 209만회\n",
      "조회수 132만회\n",
      "조회수 163만회\n",
      "조회수 247만회\n",
      "조회수 295만회\n",
      "조회수 224만회\n",
      "조회수 140만회\n",
      "조회수 349만회\n",
      "조회수 1287만회\n",
      "조회수 1531만회\n",
      "조회수 391만회\n",
      "조회수 657만회\n"
     ]
    }
   ],
   "source": [
    "driver = wb.Chrome()\n",
    "time.sleep(0.5)\n",
    "\n",
    "driver.get(\"https://www.youtube.com/c/GYMJONGKOOK/videos\")\n",
    "time.sleep(1)\n",
    "\n",
    "body = driver.find_element_by_css_selector(\"body\")\n",
    "\n",
    "try:\n",
    "    for i in range(10):\n",
    "        body.dend_keys(Keys.END)\n",
    "        time.sleep(1)\n",
    "except:\n",
    "    print(\"동영상이 없습니다\")\n",
    "\n",
    "title = driver.find_elements_by_id(\"video-title\")\n",
    "cnt = driver.find_elements_by_css_selector(\"span.style-scope.ytd-grid-video-renderer:nth-child(1)\")\n",
    "\n",
    "for i in title:\n",
    "    print(i.text)\n",
    "for i in cnt:\n",
    "    print(i.text)"
   ]
  },
  {
   "cell_type": "code",
   "execution_count": 3,
   "id": "12cc4e96",
   "metadata": {},
   "outputs": [],
   "source": [
    "driver = wb.Chrome()\n",
    "driver.get(\"https://www.youtube.com/c/GYMJONGKOOK/videos\")"
   ]
  },
  {
   "cell_type": "code",
   "execution_count": 24,
   "id": "5e95ca11",
   "metadata": {},
   "outputs": [
    {
     "name": "stderr",
     "output_type": "stream",
     "text": [
      "C:\\Users\\smhrd\\AppData\\Local\\Temp/ipykernel_6232/2887971732.py:1: DeprecationWarning: find_elements_by_* commands are deprecated. Please use find_elements() instead\n",
      "  title = driver.find_elements_by_id(\"video-title\")\n"
     ]
    }
   ],
   "source": [
    "title = driver.find_elements_by_id(\"video-title\")"
   ]
  },
  {
   "cell_type": "code",
   "execution_count": 25,
   "id": "f0c739e1",
   "metadata": {},
   "outputs": [
    {
     "name": "stdout",
     "output_type": "stream",
     "text": [
      "오늘 운동 부스터는 '기부'스터..\n",
      "GYM밥 김선생의 라면 파티\n",
      "크리스마스 선물은 '근육통'..\n",
      "도핑 테스트 결과...그리고 법적 절차 진행 상황..\n",
      "짐종국의 짐(GYM)편한 세상...\n",
      "피치(Peach)못할 데드리프트... (Feat. 카이)\n",
      "GYM종국 비긴즈...\n",
      "주먹보다 법(法)이 우선이다\n",
      "HRT? TRT?? 호르몬 대치 요법이요? 제발 운동 먼저 해보세요\n",
      "운동할 시간이 없다는 사람에게 보여주세요... 제발\n",
      "노래말고 운동으로 울리는 한 남자 (feat. 전소미)\n",
      "[MV] 걷고 싶다 (Live ver.) - 김종국\n",
      "내 동생 광고 뺏기... (feat. 후라이드 참 잘하는 집)\n",
      "짐종국님께서 경로를 이탈하셨습니다..\n",
      "먹방 전쟁 : 사랑스러War (feat. 401 정육식당)\n",
      "한국인의 매운맛..\n",
      "짐종국과 골드버튼 : 실버맨들의 습격\n",
      "추억의 물건들이 '제자리 걸음'... (Feat. 추석 선물)\n",
      "집’요한’ 상체 트레이닝... (ft. 영화 보이스)\n",
      "저는 '하체'식주의자 입니다..\n",
      "맛있게 먹겠습니다..\n",
      "부위로그 아니고 Vlog..\n",
      "구독자 200만.. 정말 감사합니다!\n",
      "가수인 듯 선수 아닌 선수 같은 짐종국 (Feat. IFBB 내추럴 챔피언)\n",
      "의자.. 다들 보이시죠?\n",
      "피티(PT)기는 운동\n",
      "회원님, PT 끝나셨으면 집에 가셔야 지효... (feat. 마녀식당으로 오세요)\n",
      "무엇이든 물어보시 지효.. (feat. 마녀식당으로 오세요)\n",
      "어깨 운동만 '한' 남자\n",
      "저.. '등신' 인가요..?\n",
      "제가.. 유튜브를... 시작합니다\n"
     ]
    }
   ],
   "source": [
    "for i in title:\n",
    "    print(i.text)"
   ]
  },
  {
   "cell_type": "code",
   "execution_count": 16,
   "id": "cde5408f",
   "metadata": {},
   "outputs": [
    {
     "name": "stderr",
     "output_type": "stream",
     "text": [
      "C:\\Users\\smhrd\\AppData\\Local\\Temp/ipykernel_6232/3075582340.py:1: DeprecationWarning: find_elements_by_* commands are deprecated. Please use find_elements() instead\n",
      "  cnt = driver.find_elements_by_css_selector(\"span.style-scope.ytd-grid-video-renderer:nth-child(1)\")\n"
     ]
    }
   ],
   "source": [
    "cnt = driver.find_elements_by_css_selector(\"span.style-scope.ytd-grid-video-renderer:nth-child(1)\")"
   ]
  },
  {
   "cell_type": "code",
   "execution_count": 17,
   "id": "68e6c45f",
   "metadata": {},
   "outputs": [
    {
     "name": "stdout",
     "output_type": "stream",
     "text": [
      "조회수 48만회\n",
      "조회수 248만회\n",
      "조회수 144만회\n",
      "조회수 418만회\n",
      "조회수 95만회\n",
      "조회수 106만회\n",
      "조회수 78만회\n",
      "조회수 156만회\n",
      "조회수 243만회\n",
      "조회수 194만회\n",
      "조회수 320만회\n",
      "조회수 83만회\n",
      "조회수 159만회\n",
      "조회수 64만회\n",
      "조회수 156만회\n",
      "조회수 256만회\n",
      "조회수 455만회\n",
      "조회수 266만회\n",
      "조회수 209만회\n",
      "조회수 132만회\n",
      "조회수 163만회\n",
      "조회수 247만회\n",
      "조회수 295만회\n",
      "조회수 224만회\n",
      "조회수 140만회\n",
      "조회수 349만회\n",
      "조회수 1287만회\n",
      "조회수 1531만회\n",
      "조회수 391만회\n",
      "조회수 657만회\n"
     ]
    }
   ],
   "source": [
    "for i in cnt:\n",
    "    print(i.text)"
   ]
  },
  {
   "cell_type": "code",
   "execution_count": 26,
   "id": "9d91d861",
   "metadata": {},
   "outputs": [
    {
     "data": {
      "text/plain": [
       "31"
      ]
     },
     "execution_count": 26,
     "metadata": {},
     "output_type": "execute_result"
    }
   ],
   "source": [
    "len(title)"
   ]
  },
  {
   "cell_type": "code",
   "execution_count": null,
   "id": "69b32d35",
   "metadata": {},
   "outputs": [],
   "source": [
    "# 스크롤하는 방법"
   ]
  },
  {
   "cell_type": "code",
   "execution_count": 28,
   "id": "69f5d328",
   "metadata": {},
   "outputs": [
    {
     "name": "stderr",
     "output_type": "stream",
     "text": [
      "C:\\Users\\smhrd\\AppData\\Local\\Temp/ipykernel_6232/365464818.py:1: DeprecationWarning: find_element_by_* commands are deprecated. Please use find_element() instead\n",
      "  body = driver.find_element_by_css_selector(\"body\")\n"
     ]
    }
   ],
   "source": [
    "body = driver.find_element_by_css_selector(\"body\")"
   ]
  },
  {
   "cell_type": "code",
   "execution_count": 29,
   "id": "63687609",
   "metadata": {},
   "outputs": [
    {
     "ename": "AttributeError",
     "evalue": "'WebElement' object has no attribute 'dend_keys'",
     "output_type": "error",
     "traceback": [
      "\u001b[1;31m---------------------------------------------------------------------------\u001b[0m",
      "\u001b[1;31mAttributeError\u001b[0m                            Traceback (most recent call last)",
      "\u001b[1;32m~\\AppData\\Local\\Temp/ipykernel_6232/1895431525.py\u001b[0m in \u001b[0;36m<module>\u001b[1;34m\u001b[0m\n\u001b[1;32m----> 1\u001b[1;33m \u001b[0mbody\u001b[0m\u001b[1;33m.\u001b[0m\u001b[0mdend_keys\u001b[0m\u001b[1;33m(\u001b[0m\u001b[0mKeys\u001b[0m\u001b[1;33m.\u001b[0m\u001b[0mEND\u001b[0m\u001b[1;33m)\u001b[0m\u001b[1;33m\u001b[0m\u001b[1;33m\u001b[0m\u001b[0m\n\u001b[0m",
      "\u001b[1;31mAttributeError\u001b[0m: 'WebElement' object has no attribute 'dend_keys'"
     ]
    }
   ],
   "source": [
    "body.dend_keys(Keys.END)"
   ]
  },
  {
   "cell_type": "markdown",
   "id": "d09175d7",
   "metadata": {},
   "source": [
    "# Gmarket 베스트 수집 *"
   ]
  },
  {
   "cell_type": "code",
   "execution_count": 35,
   "id": "06a18b63",
   "metadata": {},
   "outputs": [],
   "source": [
    "driver = wb.Chrome()\n",
    "driver.get(\"http://corners.gmarket.co.kr/Bestsellers\")"
   ]
  },
  {
   "cell_type": "code",
   "execution_count": 59,
   "id": "adfde39e",
   "metadata": {},
   "outputs": [],
   "source": [
    "options = wb.ChromeOptions()\n",
    "options.add_argument('headless')\n",
    "options.add_argument('window-size=1920x1080')\n",
    "options.add_argument(\"disable-gpu\")"
   ]
  },
  {
   "cell_type": "code",
   "execution_count": 65,
   "id": "3d23d225",
   "metadata": {},
   "outputs": [
    {
     "name": "stderr",
     "output_type": "stream",
     "text": [
      "C:\\Users\\smhrd\\AppData\\Local\\Temp/ipykernel_6232/3823832011.py:1: DeprecationWarning: executable_path has been deprecated, please pass in a Service object\n",
      "  driver = wb.Chrome(\"C:/Users/smhrd/크롤링/chromedriver.exe\",options = options)\n",
      "C:\\Users\\smhrd\\AppData\\Local\\Temp/ipykernel_6232/3823832011.py:10: DeprecationWarning: find_elements_by_* commands are deprecated. Please use find_elements() instead\n",
      "  img = driver.find_elements_by_css_selector(\"img.lazy\")\n",
      "C:\\Users\\smhrd\\AppData\\Local\\Temp/ipykernel_6232/3823832011.py:15: DeprecationWarning: find_element_by_* commands are deprecated. Please use find_element() instead\n",
      "  title.append(driver.find_element_by_class_name(\"itemtit\").text)\n",
      "C:\\Users\\smhrd\\AppData\\Local\\Temp/ipykernel_6232/3823832011.py:16: DeprecationWarning: find_element_by_* commands are deprecated. Please use find_element() instead\n",
      "  price.append(driver.find_element_by_css_selector(\".price_real\").text)\n"
     ]
    },
    {
     "data": {
      "text/html": [
       "<div>\n",
       "<style scoped>\n",
       "    .dataframe tbody tr th:only-of-type {\n",
       "        vertical-align: middle;\n",
       "    }\n",
       "\n",
       "    .dataframe tbody tr th {\n",
       "        vertical-align: top;\n",
       "    }\n",
       "\n",
       "    .dataframe thead th {\n",
       "        text-align: right;\n",
       "    }\n",
       "</style>\n",
       "<table border=\"1\" class=\"dataframe\">\n",
       "  <thead>\n",
       "    <tr style=\"text-align: right;\">\n",
       "      <th></th>\n",
       "      <th>제품명</th>\n",
       "      <th>가격</th>\n",
       "    </tr>\n",
       "  </thead>\n",
       "  <tbody>\n",
       "    <tr>\n",
       "      <th>0</th>\n",
       "      <td>(21년산/삼광/특) 아산맑은쌀 삼광 10KG 쿠폰32850원</td>\n",
       "      <td>37,130원</td>\n",
       "    </tr>\n",
       "    <tr>\n",
       "      <th>1</th>\n",
       "      <td>탐라 제주 흙감자 감자 5kg(중) / 22년 첫수확 햇감자</td>\n",
       "      <td>11,000원</td>\n",
       "    </tr>\n",
       "    <tr>\n",
       "      <th>2</th>\n",
       "      <td>세제 1.5(리)4개+800(세or유)2팩+세제50ml+샤세2종Q222</td>\n",
       "      <td>15,400원</td>\n",
       "    </tr>\n",
       "  </tbody>\n",
       "</table>\n",
       "</div>"
      ],
      "text/plain": [
       "                                       제품명       가격\n",
       "0       (21년산/삼광/특) 아산맑은쌀 삼광 10KG 쿠폰32850원  37,130원\n",
       "1        탐라 제주 흙감자 감자 5kg(중) / 22년 첫수확 햇감자  11,000원\n",
       "2  세제 1.5(리)4개+800(세or유)2팩+세제50ml+샤세2종Q222  15,400원"
      ]
     },
     "execution_count": 65,
     "metadata": {},
     "output_type": "execute_result"
    }
   ],
   "source": [
    "driver = wb.Chrome(\"C:/Users/smhrd/크롤링/chromedriver.exe\",options = options)\n",
    "time.sleep(0.5)\n",
    "driver.get(\"http://corners.gmarket.co.kr/Bestsellers\")\n",
    "time.sleep(0.5)\n",
    "\n",
    "title = []\n",
    "price = []\n",
    "\n",
    "for i in range (3):\n",
    "    img = driver.find_elements_by_css_selector(\"img.lazy\")\n",
    "    \n",
    "    img[i].click()\n",
    "    time.sleep(2)\n",
    "    \n",
    "    title.append(driver.find_element_by_class_name(\"itemtit\").text)\n",
    "    price.append(driver.find_element_by_css_selector(\".price_real\").text)\n",
    "    \n",
    "    driver.back()\n",
    "    time.sleep(2)\n",
    "dic = {'제품명':title , '가격':price}\n",
    "data = pd.DataFrame(dic)\n",
    "data"
   ]
  },
  {
   "cell_type": "code",
   "execution_count": 36,
   "id": "3d5913a9",
   "metadata": {
    "collapsed": true
   },
   "outputs": [
    {
     "name": "stderr",
     "output_type": "stream",
     "text": [
      "C:\\Users\\smhrd\\AppData\\Local\\Temp/ipykernel_6232/4281224733.py:1: DeprecationWarning: find_elements_by_* commands are deprecated. Please use find_elements() instead\n",
      "  img = driver.find_elements_by_css_selector(\"img.lazy\")\n"
     ]
    }
   ],
   "source": [
    "img = driver.find_elements_by_css_selector(\"img.lazy\")"
   ]
  },
  {
   "cell_type": "code",
   "execution_count": 37,
   "id": "3ba55df5",
   "metadata": {},
   "outputs": [],
   "source": [
    "img[0].click()"
   ]
  },
  {
   "cell_type": "code",
   "execution_count": 41,
   "id": "e52b8aa6",
   "metadata": {
    "collapsed": true
   },
   "outputs": [
    {
     "name": "stderr",
     "output_type": "stream",
     "text": [
      "C:\\Users\\smhrd\\AppData\\Local\\Temp/ipykernel_6232/1317765324.py:1: DeprecationWarning: find_element_by_* commands are deprecated. Please use find_element() instead\n",
      "  name = driver.find_element_by_class_name(\"itemtit\").text\n"
     ]
    }
   ],
   "source": [
    "name = driver.find_element_by_class_name(\"itemtit\").text"
   ]
  },
  {
   "cell_type": "code",
   "execution_count": 46,
   "id": "0bf47da2",
   "metadata": {
    "collapsed": true
   },
   "outputs": [
    {
     "name": "stderr",
     "output_type": "stream",
     "text": [
      "C:\\Users\\smhrd\\AppData\\Local\\Temp/ipykernel_6232/2268809851.py:1: DeprecationWarning: find_element_by_* commands are deprecated. Please use find_element() instead\n",
      "  price = driver.find_element_by_css_selector(\".price_real\").text\n"
     ]
    }
   ],
   "source": [
    "price = driver.find_element_by_css_selector(\".price_real\").text"
   ]
  },
  {
   "cell_type": "code",
   "execution_count": 47,
   "id": "f10881a3",
   "metadata": {
    "collapsed": true
   },
   "outputs": [
    {
     "name": "stdout",
     "output_type": "stream",
     "text": [
      "(21년산/삼광/특) 아산맑은쌀 삼광 10KG 쿠폰32850원\n",
      "37,130원\n"
     ]
    }
   ],
   "source": [
    "print(name)\n",
    "print(price)"
   ]
  },
  {
   "cell_type": "code",
   "execution_count": 48,
   "id": "5e69ff30",
   "metadata": {},
   "outputs": [],
   "source": [
    "driver.back()"
   ]
  },
  {
   "cell_type": "code",
   "execution_count": 52,
   "id": "bd1c846b",
   "metadata": {},
   "outputs": [],
   "source": [
    "import pandas as pd"
   ]
  },
  {
   "cell_type": "code",
   "execution_count": 53,
   "id": "977b4f53",
   "metadata": {},
   "outputs": [],
   "source": [
    "dic = {'제품명':title , '가격':price}"
   ]
  },
  {
   "cell_type": "code",
   "execution_count": 55,
   "id": "e35b4106",
   "metadata": {},
   "outputs": [],
   "source": [
    "data = pd.DataFrame(dic)"
   ]
  },
  {
   "cell_type": "code",
   "execution_count": 56,
   "id": "b33bd78a",
   "metadata": {
    "collapsed": true
   },
   "outputs": [
    {
     "data": {
      "text/html": [
       "<div>\n",
       "<style scoped>\n",
       "    .dataframe tbody tr th:only-of-type {\n",
       "        vertical-align: middle;\n",
       "    }\n",
       "\n",
       "    .dataframe tbody tr th {\n",
       "        vertical-align: top;\n",
       "    }\n",
       "\n",
       "    .dataframe thead th {\n",
       "        text-align: right;\n",
       "    }\n",
       "</style>\n",
       "<table border=\"1\" class=\"dataframe\">\n",
       "  <thead>\n",
       "    <tr style=\"text-align: right;\">\n",
       "      <th></th>\n",
       "      <th>제품명</th>\n",
       "      <th>가격</th>\n",
       "    </tr>\n",
       "  </thead>\n",
       "  <tbody>\n",
       "    <tr>\n",
       "      <th>0</th>\n",
       "      <td>(21년산/삼광/특) 아산맑은쌀 삼광 10KG 쿠폰32850원</td>\n",
       "      <td>37,130원</td>\n",
       "    </tr>\n",
       "    <tr>\n",
       "      <th>1</th>\n",
       "      <td>탐라 제주 흙감자 감자 5kg(중) / 22년 첫수확 햇감자</td>\n",
       "      <td>11,000원</td>\n",
       "    </tr>\n",
       "    <tr>\n",
       "      <th>2</th>\n",
       "      <td>세제 1.5(리)4개+800(세or유)2팩+세제50ml+샤세2종Q222</td>\n",
       "      <td>15,400원</td>\n",
       "    </tr>\n",
       "    <tr>\n",
       "      <th>3</th>\n",
       "      <td>해피바스 로즈 에센스바디워시 900G x4개</td>\n",
       "      <td>16,900원</td>\n",
       "    </tr>\n",
       "    <tr>\n",
       "      <th>4</th>\n",
       "      <td>한라봉 2kg 중과엄선 8-10과(2개구매시 4.5kg발송)</td>\n",
       "      <td>15,900원</td>\n",
       "    </tr>\n",
       "    <tr>\n",
       "      <th>5</th>\n",
       "      <td>지리산흑돼지 찹쌀 탕수육 눈꽃까망 1kg+1kg</td>\n",
       "      <td>14,500원</td>\n",
       "    </tr>\n",
       "    <tr>\n",
       "      <th>6</th>\n",
       "      <td>시매쓰 빨라지고 강해지는 이것이 연산이다 A~F단계 세트 선택구매</td>\n",
       "      <td>26,120원</td>\n",
       "    </tr>\n",
       "    <tr>\n",
       "      <th>7</th>\n",
       "      <td>BYO 식물성유산균 100억 30포 x3개</td>\n",
       "      <td>22,320원</td>\n",
       "    </tr>\n",
       "    <tr>\n",
       "      <th>8</th>\n",
       "      <td>진라면 매운맛 40봉</td>\n",
       "      <td>20,900원</td>\n",
       "    </tr>\n",
       "    <tr>\n",
       "      <th>9</th>\n",
       "      <td>손질 없이 간편한 해물모듬 600gx4봉 /18810원 쿠폰가</td>\n",
       "      <td>20,900원</td>\n",
       "    </tr>\n",
       "  </tbody>\n",
       "</table>\n",
       "</div>"
      ],
      "text/plain": [
       "                                       제품명       가격\n",
       "0       (21년산/삼광/특) 아산맑은쌀 삼광 10KG 쿠폰32850원  37,130원\n",
       "1        탐라 제주 흙감자 감자 5kg(중) / 22년 첫수확 햇감자  11,000원\n",
       "2  세제 1.5(리)4개+800(세or유)2팩+세제50ml+샤세2종Q222  15,400원\n",
       "3                 해피바스 로즈 에센스바디워시 900G x4개  16,900원\n",
       "4        한라봉 2kg 중과엄선 8-10과(2개구매시 4.5kg발송)  15,900원\n",
       "5               지리산흑돼지 찹쌀 탕수육 눈꽃까망 1kg+1kg  14,500원\n",
       "6     시매쓰 빨라지고 강해지는 이것이 연산이다 A~F단계 세트 선택구매  26,120원\n",
       "7                  BYO 식물성유산균 100억 30포 x3개  22,320원\n",
       "8                              진라면 매운맛 40봉  20,900원\n",
       "9       손질 없이 간편한 해물모듬 600gx4봉 /18810원 쿠폰가  20,900원"
      ]
     },
     "execution_count": 56,
     "metadata": {},
     "output_type": "execute_result"
    }
   ],
   "source": [
    "data"
   ]
  },
  {
   "cell_type": "code",
   "execution_count": 58,
   "id": "28a203db",
   "metadata": {},
   "outputs": [],
   "source": [
    "data.to_csv(\"쿠팡 베스트 10.csv\",encoding=\"euc-kr\")"
   ]
  },
  {
   "cell_type": "code",
   "execution_count": 67,
   "id": "14490136",
   "metadata": {},
   "outputs": [],
   "source": [
    "driver = wb.Chrome()\n",
    "driver.get(\"https://www.monsterzym.com/supplements/page-1\")"
   ]
  },
  {
   "cell_type": "code",
   "execution_count": 72,
   "id": "1ca29490",
   "metadata": {
    "collapsed": true
   },
   "outputs": [
    {
     "name": "stderr",
     "output_type": "stream",
     "text": [
      "C:\\Users\\smhrd\\AppData\\Local\\Temp/ipykernel_6232/1118013815.py:1: DeprecationWarning: find_element_by_* commands are deprecated. Please use find_element() instead\n",
      "  title = driver.find_element_by_css_selector(\"a.product-title.ga-product-click\")\n"
     ]
    }
   ],
   "source": [
    "title = driver.find_element_by_css_selector(\"a.product-title.ga-product-click\")"
   ]
  },
  {
   "cell_type": "code",
   "execution_count": 73,
   "id": "f3436b52",
   "metadata": {
    "collapsed": true
   },
   "outputs": [
    {
     "name": "stderr",
     "output_type": "stream",
     "text": [
      "C:\\Users\\smhrd\\AppData\\Local\\Temp/ipykernel_6232/3973871291.py:1: DeprecationWarning: find_element_by_* commands are deprecated. Please use find_element() instead\n",
      "  price = driver.find_element_by_css_selector(\"span.ty-price-num.jq_sec_price_item:nth-child(1)\")\n"
     ]
    }
   ],
   "source": [
    "price = driver.find_element_by_css_selector(\"span.ty-price-num.jq_sec_price_item:nth-child(1)\")"
   ]
  },
  {
   "cell_type": "code",
   "execution_count": null,
   "id": "b1577ca7",
   "metadata": {},
   "outputs": [],
   "source": [
    "driver.find_element_by_css_selector(\".out-of-stock\")"
   ]
  },
  {
   "cell_type": "code",
   "execution_count": 75,
   "id": "da579fcd",
   "metadata": {
    "collapsed": true
   },
   "outputs": [
    {
     "name": "stdout",
     "output_type": "stream",
     "text": [
      "품절 \n",
      "몬스터 밀크 5.3파운드\n",
      "58,084\n"
     ]
    }
   ],
   "source": [
    "print(title.text)\n",
    "print(price.text)"
   ]
  },
  {
   "cell_type": "code",
   "execution_count": null,
   "id": "cd6063f1",
   "metadata": {},
   "outputs": [],
   "source": [
    "driver.find_elements_by_css_selector(\"div.ty-column3\")"
   ]
  },
  {
   "cell_type": "code",
   "execution_count": 80,
   "id": "7c1c6b0d",
   "metadata": {
    "collapsed": true
   },
   "outputs": [
    {
     "name": "stderr",
     "output_type": "stream",
     "text": [
      "C:\\Users\\smhrd\\AppData\\Local\\Temp/ipykernel_6232/515474407.py:1: DeprecationWarning: find_element_by_* commands are deprecated. Please use find_element() instead\n",
      "  txt = driver.find_element_by_xpath('//*[@id=\"pagination_contents\"]/div[3]/div/div/div[2]/a/span')\n"
     ]
    }
   ],
   "source": [
    "driver.find_element_by_xpath('//*[@id=\"pagination_contents\"]/div[3]/div/div/div[2]/a/span[not(contains(@class, \"out-of-stock\")]')"
   ]
  },
  {
   "cell_type": "code",
   "execution_count": 94,
   "id": "140dc757",
   "metadata": {},
   "outputs": [],
   "source": [
    "for i in txt:\n",
    "    print(i.text)"
   ]
  },
  {
   "cell_type": "code",
   "execution_count": 93,
   "id": "5c71ce45",
   "metadata": {},
   "outputs": [
    {
     "data": {
      "text/plain": [
       "0"
      ]
     },
     "execution_count": 93,
     "metadata": {},
     "output_type": "execute_result"
    }
   ],
   "source": [
    "len(txt)"
   ]
  },
  {
   "cell_type": "code",
   "execution_count": 92,
   "id": "f5e44d40",
   "metadata": {},
   "outputs": [
    {
     "name": "stderr",
     "output_type": "stream",
     "text": [
      "C:\\Users\\smhrd\\AppData\\Local\\Temp/ipykernel_6232/4140095244.py:1: DeprecationWarning: find_elements_by_* commands are deprecated. Please use find_elements() instead\n",
      "  txt = driver.find_elements_by_xpath('//*[@id=\"pagination_contents\"]/div[3]/div/div/div[2]/span[not(contains(text(), \"품절\"))]')\n"
     ]
    }
   ],
   "source": [
    "txt = driver.find_elements_by_xpath('//*[@id=\"pagination_contents\"]/div[3]/div/div/div[2]/span[not(contains(text(), \"품절\"))]')"
   ]
  },
  {
   "cell_type": "code",
   "execution_count": null,
   "id": "0e71f24e",
   "metadata": {},
   "outputs": [],
   "source": []
  }
 ],
 "metadata": {
  "kernelspec": {
   "display_name": "Python 3 (ipykernel)",
   "language": "python",
   "name": "python3"
  },
  "language_info": {
   "codemirror_mode": {
    "name": "ipython",
    "version": 3
   },
   "file_extension": ".py",
   "mimetype": "text/x-python",
   "name": "python",
   "nbconvert_exporter": "python",
   "pygments_lexer": "ipython3",
   "version": "3.9.7"
  }
 },
 "nbformat": 4,
 "nbformat_minor": 5
}
