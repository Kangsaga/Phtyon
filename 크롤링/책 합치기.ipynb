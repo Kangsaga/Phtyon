{
 "cells": [
  {
   "cell_type": "code",
   "execution_count": 4,
   "id": "73312894",
   "metadata": {},
   "outputs": [],
   "source": [
    "import pandas as pd"
   ]
  },
  {
   "cell_type": "code",
   "execution_count": 2,
   "id": "75193e42",
   "metadata": {},
   "outputs": [],
   "source": [
    "book1 = pd.read_csv('컴퓨터공학.csv', encoding='euc-kr',index_col = '제목')"
   ]
  },
  {
   "cell_type": "code",
   "execution_count": 3,
   "id": "8260499b",
   "metadata": {},
   "outputs": [],
   "source": [
    "book2 = pd.read_csv('컴퓨터공학_컴퓨터공학_과학개론.csv', encoding='euc-kr',index_col = '제목')"
   ]
  },
  {
   "cell_type": "code",
   "execution_count": 4,
   "id": "b135a0c9",
   "metadata": {},
   "outputs": [],
   "source": [
    "book3 = pd.read_csv('컴퓨터공학_소프트웨어공학.csv', encoding='euc-kr',index_col = '제목')\n",
    "book4 = pd.read_csv('컴퓨터공학_마이크로프로세서.csv', encoding='euc-kr',index_col = '제목')\n",
    "book5 = pd.read_csv('컴퓨터공학_자료구조_알고리즘.csv', encoding='euc-kr',index_col = '제목')\n",
    "book6 = pd.read_csv('컴퓨터공학_인공지능.csv', encoding='euc-kr',index_col = '제목')\n",
    "book7 = pd.read_csv('컴퓨터공학_인공지능_인공지능일반.csv', encoding='euc-kr',index_col = '제목')\n",
    "book8 = pd.read_csv('컴퓨터공학_인공지능_딥러닝_머신러닝.csv', encoding='euc-kr',index_col = '제목')"
   ]
  },
  {
   "cell_type": "code",
   "execution_count": 5,
   "id": "3b1f7fdd",
   "metadata": {},
   "outputs": [],
   "source": [
    "result = pd.concat([book1,book2,book3,book4,book5,book6,book7,book8])"
   ]
  },
  {
   "cell_type": "code",
   "execution_count": 6,
   "id": "3a7fa4c9",
   "metadata": {},
   "outputs": [],
   "source": [
    "book1 = pd.read_csv('IT일반.csv', encoding='euc-kr',index_col = '제목')\n",
    "book2 = pd.read_csv('IT일반_IT일반서.csv', encoding='euc-kr',index_col = '제목')"
   ]
  },
  {
   "cell_type": "code",
   "execution_count": 7,
   "id": "c95bc894",
   "metadata": {},
   "outputs": [],
   "source": [
    "result1 = pd.concat([book1,book2])"
   ]
  },
  {
   "cell_type": "code",
   "execution_count": 8,
   "id": "cbd55204",
   "metadata": {},
   "outputs": [],
   "source": [
    "book1 = pd.read_csv('컴퓨터입문_활용.csv', encoding='euc-kr',index_col = '제목')\n",
    "book2 = pd.read_csv('컴퓨터입문_활용_컴퓨터입문_활용.csv', encoding='euc-kr',index_col = '제목')\n",
    "book3 = pd.read_csv('컴퓨터입문_활용_인터넷입문_활용.csv', encoding='euc-kr',index_col = '제목')\n",
    "book4 = pd.read_csv('컴퓨터입문_활용_컴퓨터교육.csv', encoding='euc-kr',index_col = '제목')"
   ]
  },
  {
   "cell_type": "code",
   "execution_count": 9,
   "id": "6844964d",
   "metadata": {},
   "outputs": [],
   "source": [
    "result2 = pd.concat([book1,book2,book3,book4])"
   ]
  },
  {
   "cell_type": "code",
   "execution_count": 10,
   "id": "64f934ed",
   "metadata": {},
   "outputs": [],
   "source": [
    "book1 = pd.read_csv('전산통계_해석.csv', encoding='euc-kr',index_col = '제목')\n",
    "book2 = pd.read_csv('전산통계_해석_전산통계_수치해석.csv', encoding='euc-kr',index_col = '제목')\n",
    "book3 = pd.read_csv('전산통계_해석_전산통계_빅데이터.csv', encoding='euc-kr',index_col = '제목')"
   ]
  },
  {
   "cell_type": "code",
   "execution_count": 11,
   "id": "f59d21da",
   "metadata": {},
   "outputs": [],
   "source": [
    "result3 = pd.concat([book1,book2,book3])"
   ]
  },
  {
   "cell_type": "code",
   "execution_count": 12,
   "id": "a6e9e797",
   "metadata": {},
   "outputs": [],
   "source": [
    "book1 = pd.read_csv('OS.csv', encoding='euc-kr',index_col = '제목')\n",
    "book2 = pd.read_csv('OS_widows.csv', encoding='euc-kr',index_col = '제목')\n",
    "book3 = pd.read_csv('OS_macos.csv', encoding='euc-kr',index_col = '제목')\n",
    "book4 = pd.read_csv('OS_임베디드.csv', encoding='euc-kr',index_col = '제목')\n",
    "book5 = pd.read_csv('OS_arm.csv', encoding='euc-kr',index_col = '제목')\n",
    "book6 = pd.read_csv('OS_유닉스.csv', encoding='euc-kr',index_col = '제목')\n",
    "book7 = pd.read_csv('OS_리눅스.csv', encoding='euc-kr',index_col = '제목')"
   ]
  },
  {
   "cell_type": "code",
   "execution_count": 13,
   "id": "d38a98d7",
   "metadata": {},
   "outputs": [],
   "source": [
    "result4 = pd.concat([book1,book2,book3,book4,book5,book6,book7])"
   ]
  },
  {
   "cell_type": "code",
   "execution_count": 14,
   "id": "ecccae57",
   "metadata": {},
   "outputs": [],
   "source": [
    "book1 = pd.read_csv('네트워크.csv', encoding='euc-kr',index_col = '제목')\n",
    "book2 = pd.read_csv('네트워크_네트워크일반.csv', encoding='euc-kr',index_col = '제목')\n",
    "book3 = pd.read_csv('네트워크_네트워크일반_네트워크일반.csv', encoding='euc-kr',index_col = '제목')\n",
    "book4 = pd.read_csv('네트워크_네트워크일반_server.csv', encoding='euc-kr',index_col = '제목')\n",
    "book5 = pd.read_csv('네트워크_네트워크일반_지리정보.csv', encoding='euc-kr',index_col = '제목')\n",
    "book6 = pd.read_csv('네트워크_tcp_ip.csv', encoding='euc-kr',index_col = '제목')"
   ]
  },
  {
   "cell_type": "code",
   "execution_count": 15,
   "id": "cc245d13",
   "metadata": {},
   "outputs": [],
   "source": [
    "result5 = pd.concat([book1,book2,book3,book4,book5,book6])"
   ]
  },
  {
   "cell_type": "code",
   "execution_count": 16,
   "id": "9841b8a2",
   "metadata": {},
   "outputs": [],
   "source": [
    "book1 = pd.read_csv('보안_해킹.csv', encoding='euc-kr',index_col = '제목')"
   ]
  },
  {
   "cell_type": "code",
   "execution_count": 17,
   "id": "e750cb27",
   "metadata": {},
   "outputs": [],
   "source": [
    "result6 = pd.concat([book1])"
   ]
  },
  {
   "cell_type": "code",
   "execution_count": 18,
   "id": "4ccbd5e7",
   "metadata": {},
   "outputs": [],
   "source": [
    "book1 = pd.read_csv('데이터베이스.csv', encoding='euc-kr',index_col = '제목')\n",
    "book2 = pd.read_csv('데이터베이스_데이터베이스일반.csv', encoding='euc-kr',index_col = '제목')\n",
    "book3 = pd.read_csv('데이터베이스_oracle.csv', encoding='euc-kr',index_col = '제목')\n",
    "book4 = pd.read_csv('데이터베이스_sql.csv', encoding='euc-kr',index_col = '제목')"
   ]
  },
  {
   "cell_type": "code",
   "execution_count": 19,
   "id": "cced9d74",
   "metadata": {},
   "outputs": [],
   "source": [
    "result7 = pd.concat([book1,book2,book3,book4])"
   ]
  },
  {
   "cell_type": "code",
   "execution_count": 20,
   "id": "df33f4f9",
   "metadata": {},
   "outputs": [],
   "source": [
    "book1 = pd.read_csv('게임.csv', encoding='euc-kr',index_col = '제목')\n",
    "book2 = pd.read_csv('게임_게임기획.csv', encoding='euc-kr',index_col = '제목')\n",
    "book3 = pd.read_csv('게임_모바일게임.csv', encoding='euc-kr',index_col = '제목')\n",
    "book4 = pd.read_csv('게임_게임개발.csv', encoding='euc-kr',index_col = '제목')\n",
    "book5 = pd.read_csv('게임_게임개발_유니티.csv', encoding='euc-kr',index_col = '제목')\n",
    "book6 = pd.read_csv('게임_게임개발_인리얼.csv', encoding='euc-kr',index_col = '제목')\n",
    "book7 = pd.read_csv('게임_게임개발_게임개발일반.csv', encoding='euc-kr',index_col = '제목')"
   ]
  },
  {
   "cell_type": "code",
   "execution_count": 21,
   "id": "57d37825",
   "metadata": {},
   "outputs": [],
   "source": [
    "result8 = pd.concat([book1,book2,book3,book4,book5,book6,book7])"
   ]
  },
  {
   "cell_type": "code",
   "execution_count": 22,
   "id": "22799d16",
   "metadata": {},
   "outputs": [],
   "source": [
    "book1 = pd.read_csv('웹프로그래밍.csv', encoding='euc-kr',index_col = '제목')\n",
    "book2 = pd.read_csv('웹프로그래밍_웹프로그래밍일반.csv', encoding='euc-kr',index_col = '제목')\n",
    "book3 = pd.read_csv('웹프로그래밍_html_css.csv', encoding='euc-kr',index_col = '제목')\n",
    "book4 = pd.read_csv('웹프로그래밍_javascript.csv', encoding='euc-kr',index_col = '제목')\n",
    "book5 = pd.read_csv('웹프로그래밍_jquery.csv', encoding='euc-kr',index_col = '제목')\n",
    "book6 = pd.read_csv('웹프로그래밍_xml.csv', encoding='euc-kr',index_col = '제목')\n",
    "book7 = pd.read_csv('웹프로그래밍_asp.csv', encoding='euc-kr',index_col = '제목')\n",
    "book8 = pd.read_csv('웹프로그래밍_jsp.csv', encoding='euc-kr',index_col = '제목')\n",
    "book9 = pd.read_csv('웹프로그래밍_php.csv', encoding='euc-kr',index_col = '제목')\n",
    "book10 = pd.read_csv('웹프로그래밍_ajax.csv', encoding='euc-kr',index_col = '제목')\n",
    "book11 = pd.read_csv('웹프로그래밍_flex.csv', encoding='euc-kr',index_col = '제목')"
   ]
  },
  {
   "cell_type": "code",
   "execution_count": 23,
   "id": "53e54f77",
   "metadata": {},
   "outputs": [],
   "source": [
    "result9 = pd.concat([book1,book2,book3,book4,book5,book6,book7,book8,book9,book10,book11])"
   ]
  },
  {
   "cell_type": "code",
   "execution_count": 24,
   "id": "81ed1262",
   "metadata": {},
   "outputs": [],
   "source": [
    "book1 = pd.read_csv('프로그래밍언어.csv', encoding='euc-kr',index_col = '제목')\n",
    "book2 = pd.read_csv('프로그래밍언어_프로그래밍일반.csv', encoding='euc-kr',index_col = '제목')\n",
    "book3 = pd.read_csv('프로그래밍언어_파이썬.csv', encoding='euc-kr',index_col = '제목')\n",
    "book4 = pd.read_csv('프로그래밍언어_c.csv', encoding='euc-kr',index_col = '제목')\n",
    "book5 = pd.read_csv('프로그래밍언어_c플플.csv', encoding='euc-kr',index_col = '제목')\n",
    "book6 = pd.read_csv('프로그래밍언어_c샵.csv', encoding='euc-kr',index_col = '제목')\n",
    "book7 = pd.read_csv('프로그래밍언어_visualbasic.csv', encoding='euc-kr',index_col = '제목')\n",
    "book8 = pd.read_csv('프로그래밍언어_java.csv', encoding='euc-kr',index_col = '제목')\n",
    "book9 = pd.read_csv('프로그래밍언어_net.csv', encoding='euc-kr',index_col = '제목')\n",
    "book10 = pd.read_csv('프로그래밍언어_net_net일반.csv', encoding='euc-kr',index_col = '제목')\n",
    "book11 = pd.read_csv('프로그래밍언어_net_visualc플플_샵_net.csv', encoding='euc-kr',index_col = '제목')\n",
    "book12 = pd.read_csv('프로그래밍언어_net_aspnet.csv', encoding='euc-kr',index_col = '제목')"
   ]
  },
  {
   "cell_type": "code",
   "execution_count": 25,
   "id": "ada3fb5d",
   "metadata": {},
   "outputs": [],
   "source": [
    "result10 = pd.concat([book1,book2,book3,book4,book5,book6,book7,book8,book9,book10,book11,book12])"
   ]
  },
  {
   "cell_type": "code",
   "execution_count": 26,
   "id": "269d7017",
   "metadata": {},
   "outputs": [],
   "source": [
    "book1 = pd.read_csv('모바일프로그래밍.csv', encoding='euc-kr',index_col = '제목')\n",
    "book2 = pd.read_csv('모바일프로그래밍_모바일프로그래임일반.csv', encoding='euc-kr',index_col = '제목')\n",
    "book3 = pd.read_csv('모바일프로그래밍_아이폰_아이패드.csv', encoding='euc-kr',index_col = '제목')\n",
    "book4 = pd.read_csv('모바일프로그래밍_안드로이드.csv', encoding='euc-kr',index_col = '제목')\n",
    "book5 = pd.read_csv('모바일프로그래밍_모바일게임.csv', encoding='euc-kr',index_col = '제목')"
   ]
  },
  {
   "cell_type": "code",
   "execution_count": 27,
   "id": "a266a9bf",
   "metadata": {},
   "outputs": [],
   "source": [
    "result11 = pd.concat([book1,book2,book3,book4,book5])"
   ]
  },
  {
   "cell_type": "code",
   "execution_count": 28,
   "id": "42cff9cd",
   "metadata": {},
   "outputs": [],
   "source": [
    "book1 = pd.read_csv('oa사무자동화.csv', encoding='euc-kr',index_col = '제목')\n",
    "book2 = pd.read_csv('oa사무자동화_엑셀.csv', encoding='euc-kr',index_col = '제목')\n",
    "book3 = pd.read_csv('oa사무자동화_파워포인트.csv', encoding='euc-kr',index_col = '제목')"
   ]
  },
  {
   "cell_type": "code",
   "execution_count": 29,
   "id": "48d87731",
   "metadata": {},
   "outputs": [],
   "source": [
    "result12 = pd.concat([book1,book2,book3])"
   ]
  },
  {
   "cell_type": "code",
   "execution_count": 30,
   "id": "6aa728bc",
   "metadata": {},
   "outputs": [],
   "source": [
    "book1 = pd.read_csv('웹사이트.csv', encoding='euc-kr',index_col = '제목')\n",
    "book2 = pd.read_csv('웹사이트_웹사이트기획.csv', encoding='euc-kr',index_col = '제목')\n",
    "book3 = pd.read_csv('웹사이트_ux_ui.csv', encoding='euc-kr',index_col = '제목')\n",
    "book4 = pd.read_csv('웹사이트_웹디자인.csv', encoding='euc-kr',index_col = '제목')\n",
    "book5 = pd.read_csv('웹사이트_웹서비스.csv', encoding='euc-kr',index_col = '제목')\n",
    "book6 = pd.read_csv('웹사이트_sns_트위터_페이스북.csv', encoding='euc-kr',index_col = '제목')\n",
    "book7 = pd.read_csv('웹사이트_쇼핑몰_전자상거래.csv', encoding='euc-kr',index_col = '제목')\n",
    "book8 = pd.read_csv('웹사이트_블로그_홈페이지.csv', encoding='euc-kr',index_col = '제목')\n",
    "book9 = pd.read_csv('웹사이트_웹제작도구.csv', encoding='euc-kr',index_col = '제목')"
   ]
  },
  {
   "cell_type": "code",
   "execution_count": 31,
   "id": "1e96bc3e",
   "metadata": {},
   "outputs": [],
   "source": [
    "result13 = pd.concat([book1,book2,book3,book4,book5,book6,book7,book8,book9])"
   ]
  },
  {
   "cell_type": "code",
   "execution_count": 32,
   "id": "708bdece",
   "metadata": {},
   "outputs": [],
   "source": [
    "book1 = pd.read_csv('자격증_수험서.csv', encoding='euc-kr',index_col = '제목')\n",
    "book2 = pd.read_csv('자격증_수험서_사무자동화.csv', encoding='euc-kr',index_col = '제목')\n",
    "book3 = pd.read_csv('자격증_수험서_사무자동화_워드프로세서.csv', encoding='euc-kr',index_col = '제목')\n",
    "book4 = pd.read_csv('자격증_수험서_사무자동화_컴퓨터활용능력.csv', encoding='euc-kr',index_col = '제목')\n",
    "book5 = pd.read_csv('자격증_수험서_사무자동화_사무자동화산업기사.csv', encoding='euc-kr',index_col = '제목')\n",
    "book6 = pd.read_csv('자격증_수험서_사무자동화_itq.csv', encoding='euc-kr',index_col = '제목')\n",
    "book7 = pd.read_csv('자격증_수험서_사무자동화_diat.csv', encoding='euc-kr',index_col = '제목')\n",
    "book8 = pd.read_csv('자격증_수험서_사무자동화_mos.csv', encoding='euc-kr',index_col = '제목')\n",
    "book9 = pd.read_csv('자격증_수험서_정보네트워크보안.csv', encoding='euc-kr',index_col = '제목')\n",
    "book10 = pd.read_csv('자격증_수험서_정보네트워크보안_정보처리기사.csv', encoding='euc-kr',index_col = '제목')\n",
    "book11 = pd.read_csv('자격증_수험서_정보네트워크보안_정보보안기사.csv', encoding='euc-kr',index_col = '제목')\n",
    "book12 = pd.read_csv('자격증_수험서_정보네트워크보안_정보기기운용기능사.csv', encoding='euc-kr',index_col = '제목')\n",
    "book13 = pd.read_csv('자격증_수험서_전산회계_세무.csv', encoding='euc-kr',index_col = '제목')\n",
    "book14 = pd.read_csv('자격증_수험서_전산회계_세무_전산회계운용사.csv', encoding='euc-kr',index_col = '제목')\n",
    "book15 = pd.read_csv('자격증_수험서_전산회계_세무_전산세무회계사.csv', encoding='euc-kr',index_col = '제목')\n",
    "book16 = pd.read_csv('자격증_수험서_그래픽_디자인.csv', encoding='euc-kr',index_col = '제목')\n",
    "book17 = pd.read_csv('자격증_수험서_그래픽_디자인_컴퓨터그래픽스운용기능사.csv', encoding='euc-kr',index_col = '제목')\n",
    "book18 = pd.read_csv('자격증_수험서_그래픽_디자인_gto웹디자인기능사.csv', encoding='euc-kr',index_col = '제목')\n",
    "book19 = pd.read_csv('자격증_수험서_기타자격증.csv', encoding='euc-kr',index_col = '제목')\n",
    "book20 = pd.read_csv('자격증_수험서_기타자격증_전자상거래관리사.csv', encoding='euc-kr',index_col = '제목')\n",
    "book21 = pd.read_csv('자격증_수험서_기타자격증_etest.csv', encoding='euc-kr',index_col = '제목')\n",
    "book22 = pd.read_csv('자격증_수험서_기타자격증_코딩.csv', encoding='euc-kr',index_col = '제목')\n",
    "book23 = pd.read_csv('자격증_수험서_기타자격증_컴퓨터자격증일반.csv', encoding='euc-kr',index_col = '제목')"
   ]
  },
  {
   "cell_type": "code",
   "execution_count": 33,
   "id": "ae00b109",
   "metadata": {},
   "outputs": [],
   "source": [
    "result14 = pd.concat([book1,book2,book3,book4,book5,book6,book7,book8,book9,\n",
    "                      book10,book11,book12,book13,book14,book15,book16,book17,book18,\n",
    "                     book19,book20,book21,book22,book23])"
   ]
  },
  {
   "cell_type": "code",
   "execution_count": 34,
   "id": "4c085381",
   "metadata": {},
   "outputs": [],
   "source": [
    "book = pd.concat([result,result1,result2,result3,result4,result5,result6,result7,result8,result9,\n",
    "                      result10,result11,result12,result13,result14])"
   ]
  },
  {
   "cell_type": "code",
   "execution_count": 48,
   "id": "5b99fc19",
   "metadata": {},
   "outputs": [],
   "source": [
    "book2 = book1.drop_duplicates(['책코드'],keep=\"last\")"
   ]
  },
  {
   "cell_type": "code",
   "execution_count": 44,
   "id": "c7e824d8",
   "metadata": {},
   "outputs": [],
   "source": [
    "book1 = pd.read_csv(\"book1.csv\",encoding='euc-kr',index_col = '제목')"
   ]
  },
  {
   "cell_type": "code",
   "execution_count": 51,
   "id": "f7831746",
   "metadata": {},
   "outputs": [],
   "source": [
    "book2.to_csv(\"last_book.csv\",encoding= \"euc-kr\")"
   ]
  },
  {
   "cell_type": "code",
   "execution_count": 8,
   "id": "13df9ae5",
   "metadata": {},
   "outputs": [],
   "source": [
    "book = pd.read_csv(\"lastbook.csv\", encoding=\"utf-8-sig\", index_col =\"book_num\")"
   ]
  },
  {
   "cell_type": "code",
   "execution_count": 10,
   "id": "a876046c",
   "metadata": {},
   "outputs": [],
   "source": [
    "book.to_csv(\"BOOK.csv\",encoding=\"utf-8-sig\")"
   ]
  },
  {
   "cell_type": "code",
   "execution_count": 21,
   "id": "c3ff54b5",
   "metadata": {},
   "outputs": [],
   "source": [
    "book = pd.read_csv(\"book.csv\", encoding=\"utf-8-sig\", index_col =\"book_num\")"
   ]
  },
  {
   "cell_type": "code",
   "execution_count": 22,
   "id": "77ccde0d",
   "metadata": {},
   "outputs": [
    {
     "data": {
      "text/plain": [
       "book_num\n",
       "0      악성 코드 분석가의 리버싱 이야기『리버싱 핵심 원리』. 프로그램의 내부를 깊이 들여...\n",
       "1      이 책은 코드를 작성할 때 언제나 적용할 수 있는 기본적인 원리와 실전적인 기술에 ...\n",
       "2      기본적인 수학 배경지식을 갖춘 독자를 대상으로 양자 컴퓨터의 기본 원리를 설명하는 ...\n",
       "3      ▶ 이 책은 컴퓨터 시스템에 대해 다룬 이론서입니다. 컴퓨터 시스템의 기초적이고 전...\n",
       "4      수학이나 물리학, 프로그래밍에 관한 사전 지식이 없어도 양자 컴퓨터의 원리와 구조를...\n",
       "                             ...                        \n",
       "873    ◎ 빠르고 효율적인 공부를 위한 ADsP 수험서\\n방대한 데이터 분석 콘텐츠를 AD...\n",
       "874    국가 경쟁력을 위하여 심도있는 데이터과학자나 분석가의 양성도 필요하지만 일반인의 데...\n",
       "875    한국데이터베이스진흥원에서 실시하고 있는『데이터 분석 준전문가(ADsP)』자격증을 준...\n",
       "876    2021년 제2회 기출복원문제 수록\\n- 한국데이터산업진흥원 출제기준 반영\\n- 과...\n",
       "877    Win-Q 3D프린터운용기능사는 다음과 같이 구성되었습니다!\\n\\nPART 01은 ...\n",
       "Name: book_description, Length: 878, dtype: object"
      ]
     },
     "execution_count": 22,
     "metadata": {},
     "output_type": "execute_result"
    }
   ],
   "source": [
    "book['book_description']"
   ]
  },
  {
   "cell_type": "code",
   "execution_count": 39,
   "id": "ffcba5d4",
   "metadata": {},
   "outputs": [],
   "source": [
    "book.to_csv(\"BOOK5.csv\",encoding=\"utf-8-sig\")"
   ]
  },
  {
   "cell_type": "code",
   "execution_count": 53,
   "id": "6b9a7d3f",
   "metadata": {},
   "outputs": [],
   "source": [
    "import re"
   ]
  },
  {
   "cell_type": "code",
   "execution_count": 56,
   "id": "ea448363",
   "metadata": {},
   "outputs": [
    {
     "data": {
      "text/plain": [
       "'웹의 기본을 한 권으로 끝낼 수 있는 책이 탄생했다! 8년 연속 웹 분야 도서 1위인 《Do it! HTML5+CSS3 웹 표준의 정석》의 고경희 저자는 ‘HTML, CSS, 자바스크립트를 한 권으로’ 배우고 싶다는 많은 독자의 요구를 모아 최신 경향을 반영한 이 책을 집필했다. 웹 개발을 시작하는 입문자도 쉽게 실습할 수 있고, 중요한 문법만 다시 공부하고 싶은 중ㆍ고급자에게도 도움이 된다.\\n친절한 설명은 기본! 핵심만 쏙쏙 뽑아서 실무에 바로 사용할 수 있는 예제도 풍성하게 담겨 있다. 또한 최신 웹 표준 기술인 HTML5, CSS3, 자바스크립트(ES6)를 기준으로 설명하며 책의 모든 내용을 압축한 최종 프로젝트 〈웹 사이트 만들기〉 PDF 전자책을 무료로 추가 제공한다. 수많은 독자가 입을 모아 ‘웹 분야의 교과서’라고 부르는 이유를 지금 확인해 보자!'"
      ]
     },
     "execution_count": 56,
     "metadata": {},
     "output_type": "execute_result"
    }
   ],
   "source": [
    "book['book_description'][350]"
   ]
  },
  {
   "cell_type": "code",
   "execution_count": 55,
   "id": "c1e53ebe",
   "metadata": {
    "scrolled": true
   },
   "outputs": [
    {
     "data": {
      "text/plain": [
       "'웹의 기본을 한 권으로 끝낼 수 있는 책이 탄생했다! 8년 연속 웹 분야 도서 1위인 《Do it! HTML5+CSS3 웹 표준의 정석》의 고경희 저자는 ‘HTML, CSS, 자바스크립트를 한 권으로’ 배우고 싶다는 많은 독자의 요구를 모아 최신 경향을 반영한 이 책을 집필했다. 웹 개발을 시작하는 입문자도 쉽게 실습할 수 있고, 중요한 문법만 다시 공부하고 싶은 중ㆍ고급자에게도 도움이 된다.\\n친절한 설명은 기본! 핵심만 쏙쏙 뽑아서 실무에 바로 사용할 수 있는 예제도 풍성하게 담겨 있다. 또한 최신 웹 표준 기술인 HTML5, CSS3, 자바스크립트(ES6)를 기준으로 설명하며 책의 모든 내용을 압축한 최종 프로젝트 〈웹 사이트 만들기〉 PDF 전자책을 무료로 추가 제공한다. 수많은 독자가 입을 모아 ‘웹 분야의 교과서’라고 부르는 이유를 지금 확인해 보자!'"
      ]
     },
     "execution_count": 55,
     "metadata": {},
     "output_type": "execute_result"
    }
   ],
   "source": [
    "re.sub(' +',' ',book['book_description'][350])"
   ]
  },
  {
   "cell_type": "code",
   "execution_count": 26,
   "id": "ab57df72",
   "metadata": {},
   "outputs": [
    {
     "data": {
      "text/plain": [
       "878"
      ]
     },
     "execution_count": 26,
     "metadata": {},
     "output_type": "execute_result"
    }
   ],
   "source": [
    "len(book)"
   ]
  },
  {
   "cell_type": "code",
   "execution_count": 50,
   "id": "b2678f66",
   "metadata": {},
   "outputs": [],
   "source": [
    "def clear1(text):\n",
    "    text = re.sub(' +',' ',text)\n",
    "    return text"
   ]
  },
  {
   "cell_type": "code",
   "execution_count": 51,
   "id": "e1433395",
   "metadata": {},
   "outputs": [
    {
     "ename": "TypeError",
     "evalue": "expected string or bytes-like object",
     "output_type": "error",
     "traceback": [
      "\u001b[1;31m---------------------------------------------------------------------------\u001b[0m",
      "\u001b[1;31mTypeError\u001b[0m                                 Traceback (most recent call last)",
      "\u001b[1;32m~\\AppData\\Local\\Temp/ipykernel_7208/992928503.py\u001b[0m in \u001b[0;36m<module>\u001b[1;34m\u001b[0m\n\u001b[1;32m----> 1\u001b[1;33m \u001b[0mbook\u001b[0m\u001b[1;33m[\u001b[0m\u001b[1;34m'book_description'\u001b[0m\u001b[1;33m]\u001b[0m \u001b[1;33m=\u001b[0m \u001b[0mbook\u001b[0m\u001b[1;33m[\u001b[0m\u001b[1;34m'book_description'\u001b[0m\u001b[1;33m]\u001b[0m\u001b[1;33m.\u001b[0m\u001b[0mmap\u001b[0m\u001b[1;33m(\u001b[0m\u001b[1;32mlambda\u001b[0m \u001b[0mx\u001b[0m\u001b[1;33m:\u001b[0m \u001b[0mclear1\u001b[0m\u001b[1;33m(\u001b[0m\u001b[0mx\u001b[0m\u001b[1;33m)\u001b[0m\u001b[1;33m)\u001b[0m\u001b[1;33m\u001b[0m\u001b[1;33m\u001b[0m\u001b[0m\n\u001b[0m",
      "\u001b[1;32m~\\anaconda3\\lib\\site-packages\\pandas\\core\\series.py\u001b[0m in \u001b[0;36mmap\u001b[1;34m(self, arg, na_action)\u001b[0m\n\u001b[0;32m   4159\u001b[0m         \u001b[0mdtype\u001b[0m\u001b[1;33m:\u001b[0m \u001b[0mobject\u001b[0m\u001b[1;33m\u001b[0m\u001b[1;33m\u001b[0m\u001b[0m\n\u001b[0;32m   4160\u001b[0m         \"\"\"\n\u001b[1;32m-> 4161\u001b[1;33m         \u001b[0mnew_values\u001b[0m \u001b[1;33m=\u001b[0m \u001b[0msuper\u001b[0m\u001b[1;33m(\u001b[0m\u001b[1;33m)\u001b[0m\u001b[1;33m.\u001b[0m\u001b[0m_map_values\u001b[0m\u001b[1;33m(\u001b[0m\u001b[0marg\u001b[0m\u001b[1;33m,\u001b[0m \u001b[0mna_action\u001b[0m\u001b[1;33m=\u001b[0m\u001b[0mna_action\u001b[0m\u001b[1;33m)\u001b[0m\u001b[1;33m\u001b[0m\u001b[1;33m\u001b[0m\u001b[0m\n\u001b[0m\u001b[0;32m   4162\u001b[0m         return self._constructor(new_values, index=self.index).__finalize__(\n\u001b[0;32m   4163\u001b[0m             \u001b[0mself\u001b[0m\u001b[1;33m,\u001b[0m \u001b[0mmethod\u001b[0m\u001b[1;33m=\u001b[0m\u001b[1;34m\"map\"\u001b[0m\u001b[1;33m\u001b[0m\u001b[1;33m\u001b[0m\u001b[0m\n",
      "\u001b[1;32m~\\anaconda3\\lib\\site-packages\\pandas\\core\\base.py\u001b[0m in \u001b[0;36m_map_values\u001b[1;34m(self, mapper, na_action)\u001b[0m\n\u001b[0;32m    868\u001b[0m \u001b[1;33m\u001b[0m\u001b[0m\n\u001b[0;32m    869\u001b[0m         \u001b[1;31m# mapper is a function\u001b[0m\u001b[1;33m\u001b[0m\u001b[1;33m\u001b[0m\u001b[0m\n\u001b[1;32m--> 870\u001b[1;33m         \u001b[0mnew_values\u001b[0m \u001b[1;33m=\u001b[0m \u001b[0mmap_f\u001b[0m\u001b[1;33m(\u001b[0m\u001b[0mvalues\u001b[0m\u001b[1;33m,\u001b[0m \u001b[0mmapper\u001b[0m\u001b[1;33m)\u001b[0m\u001b[1;33m\u001b[0m\u001b[1;33m\u001b[0m\u001b[0m\n\u001b[0m\u001b[0;32m    871\u001b[0m \u001b[1;33m\u001b[0m\u001b[0m\n\u001b[0;32m    872\u001b[0m         \u001b[1;32mreturn\u001b[0m \u001b[0mnew_values\u001b[0m\u001b[1;33m\u001b[0m\u001b[1;33m\u001b[0m\u001b[0m\n",
      "\u001b[1;32m~\\anaconda3\\lib\\site-packages\\pandas\\_libs\\lib.pyx\u001b[0m in \u001b[0;36mpandas._libs.lib.map_infer\u001b[1;34m()\u001b[0m\n",
      "\u001b[1;32m~\\AppData\\Local\\Temp/ipykernel_7208/992928503.py\u001b[0m in \u001b[0;36m<lambda>\u001b[1;34m(x)\u001b[0m\n\u001b[1;32m----> 1\u001b[1;33m \u001b[0mbook\u001b[0m\u001b[1;33m[\u001b[0m\u001b[1;34m'book_description'\u001b[0m\u001b[1;33m]\u001b[0m \u001b[1;33m=\u001b[0m \u001b[0mbook\u001b[0m\u001b[1;33m[\u001b[0m\u001b[1;34m'book_description'\u001b[0m\u001b[1;33m]\u001b[0m\u001b[1;33m.\u001b[0m\u001b[0mmap\u001b[0m\u001b[1;33m(\u001b[0m\u001b[1;32mlambda\u001b[0m \u001b[0mx\u001b[0m\u001b[1;33m:\u001b[0m \u001b[0mclear1\u001b[0m\u001b[1;33m(\u001b[0m\u001b[0mx\u001b[0m\u001b[1;33m)\u001b[0m\u001b[1;33m)\u001b[0m\u001b[1;33m\u001b[0m\u001b[1;33m\u001b[0m\u001b[0m\n\u001b[0m",
      "\u001b[1;32m~\\AppData\\Local\\Temp/ipykernel_7208/547986042.py\u001b[0m in \u001b[0;36mclear1\u001b[1;34m(text)\u001b[0m\n\u001b[0;32m      1\u001b[0m \u001b[1;32mdef\u001b[0m \u001b[0mclear1\u001b[0m\u001b[1;33m(\u001b[0m\u001b[0mtext\u001b[0m\u001b[1;33m)\u001b[0m\u001b[1;33m:\u001b[0m\u001b[1;33m\u001b[0m\u001b[1;33m\u001b[0m\u001b[0m\n\u001b[1;32m----> 2\u001b[1;33m     \u001b[0mtext\u001b[0m \u001b[1;33m=\u001b[0m \u001b[0mre\u001b[0m\u001b[1;33m.\u001b[0m\u001b[0msub\u001b[0m\u001b[1;33m(\u001b[0m\u001b[1;34m' +'\u001b[0m\u001b[1;33m,\u001b[0m\u001b[1;34m' '\u001b[0m\u001b[1;33m,\u001b[0m\u001b[0mtext\u001b[0m\u001b[1;33m)\u001b[0m\u001b[1;33m\u001b[0m\u001b[1;33m\u001b[0m\u001b[0m\n\u001b[0m\u001b[0;32m      3\u001b[0m     \u001b[1;32mreturn\u001b[0m \u001b[0mtext\u001b[0m\u001b[1;33m\u001b[0m\u001b[1;33m\u001b[0m\u001b[0m\n",
      "\u001b[1;32m~\\anaconda3\\lib\\re.py\u001b[0m in \u001b[0;36msub\u001b[1;34m(pattern, repl, string, count, flags)\u001b[0m\n\u001b[0;32m    208\u001b[0m     \u001b[0ma\u001b[0m \u001b[0mcallable\u001b[0m\u001b[1;33m,\u001b[0m \u001b[0mit\u001b[0m\u001b[0;31m'\u001b[0m\u001b[0ms\u001b[0m \u001b[0mpassed\u001b[0m \u001b[0mthe\u001b[0m \u001b[0mMatch\u001b[0m \u001b[0mobject\u001b[0m \u001b[1;32mand\u001b[0m \u001b[0mmust\u001b[0m \u001b[1;32mreturn\u001b[0m\u001b[1;33m\u001b[0m\u001b[1;33m\u001b[0m\u001b[0m\n\u001b[0;32m    209\u001b[0m     a replacement string to be used.\"\"\"\n\u001b[1;32m--> 210\u001b[1;33m     \u001b[1;32mreturn\u001b[0m \u001b[0m_compile\u001b[0m\u001b[1;33m(\u001b[0m\u001b[0mpattern\u001b[0m\u001b[1;33m,\u001b[0m \u001b[0mflags\u001b[0m\u001b[1;33m)\u001b[0m\u001b[1;33m.\u001b[0m\u001b[0msub\u001b[0m\u001b[1;33m(\u001b[0m\u001b[0mrepl\u001b[0m\u001b[1;33m,\u001b[0m \u001b[0mstring\u001b[0m\u001b[1;33m,\u001b[0m \u001b[0mcount\u001b[0m\u001b[1;33m)\u001b[0m\u001b[1;33m\u001b[0m\u001b[1;33m\u001b[0m\u001b[0m\n\u001b[0m\u001b[0;32m    211\u001b[0m \u001b[1;33m\u001b[0m\u001b[0m\n\u001b[0;32m    212\u001b[0m \u001b[1;32mdef\u001b[0m \u001b[0msubn\u001b[0m\u001b[1;33m(\u001b[0m\u001b[0mpattern\u001b[0m\u001b[1;33m,\u001b[0m \u001b[0mrepl\u001b[0m\u001b[1;33m,\u001b[0m \u001b[0mstring\u001b[0m\u001b[1;33m,\u001b[0m \u001b[0mcount\u001b[0m\u001b[1;33m=\u001b[0m\u001b[1;36m0\u001b[0m\u001b[1;33m,\u001b[0m \u001b[0mflags\u001b[0m\u001b[1;33m=\u001b[0m\u001b[1;36m0\u001b[0m\u001b[1;33m)\u001b[0m\u001b[1;33m:\u001b[0m\u001b[1;33m\u001b[0m\u001b[1;33m\u001b[0m\u001b[0m\n",
      "\u001b[1;31mTypeError\u001b[0m: expected string or bytes-like object"
     ]
    }
   ],
   "source": [
    "book['book_description'] = book['book_description'].map(lambda x: clear1(x))"
   ]
  },
  {
   "cell_type": "code",
   "execution_count": 52,
   "id": "dcb3ab52",
   "metadata": {},
   "outputs": [
    {
     "name": "stderr",
     "output_type": "stream",
     "text": [
      "C:\\Users\\smhrd\\AppData\\Local\\Temp/ipykernel_7208/142281909.py:2: SettingWithCopyWarning: \n",
      "A value is trying to be set on a copy of a slice from a DataFrame\n",
      "\n",
      "See the caveats in the documentation: https://pandas.pydata.org/pandas-docs/stable/user_guide/indexing.html#returning-a-view-versus-a-copy\n",
      "  book['book_description'][i] = re.sub(' +',' ', book['book_description'][i])\n"
     ]
    },
    {
     "ename": "TypeError",
     "evalue": "expected string or bytes-like object",
     "output_type": "error",
     "traceback": [
      "\u001b[1;31m---------------------------------------------------------------------------\u001b[0m",
      "\u001b[1;31mTypeError\u001b[0m                                 Traceback (most recent call last)",
      "\u001b[1;32m~\\AppData\\Local\\Temp/ipykernel_7208/142281909.py\u001b[0m in \u001b[0;36m<module>\u001b[1;34m\u001b[0m\n\u001b[0;32m      1\u001b[0m \u001b[1;32mfor\u001b[0m \u001b[0mi\u001b[0m \u001b[1;32min\u001b[0m \u001b[0mrange\u001b[0m\u001b[1;33m(\u001b[0m\u001b[0mlen\u001b[0m\u001b[1;33m(\u001b[0m\u001b[0mbook\u001b[0m\u001b[1;33m)\u001b[0m\u001b[1;33m)\u001b[0m\u001b[1;33m:\u001b[0m\u001b[1;33m\u001b[0m\u001b[1;33m\u001b[0m\u001b[0m\n\u001b[1;32m----> 2\u001b[1;33m     \u001b[0mbook\u001b[0m\u001b[1;33m[\u001b[0m\u001b[1;34m'book_description'\u001b[0m\u001b[1;33m]\u001b[0m\u001b[1;33m[\u001b[0m\u001b[0mi\u001b[0m\u001b[1;33m]\u001b[0m \u001b[1;33m=\u001b[0m \u001b[0mre\u001b[0m\u001b[1;33m.\u001b[0m\u001b[0msub\u001b[0m\u001b[1;33m(\u001b[0m\u001b[1;34m' +'\u001b[0m\u001b[1;33m,\u001b[0m\u001b[1;34m' '\u001b[0m\u001b[1;33m,\u001b[0m \u001b[0mbook\u001b[0m\u001b[1;33m[\u001b[0m\u001b[1;34m'book_description'\u001b[0m\u001b[1;33m]\u001b[0m\u001b[1;33m[\u001b[0m\u001b[0mi\u001b[0m\u001b[1;33m]\u001b[0m\u001b[1;33m)\u001b[0m\u001b[1;33m\u001b[0m\u001b[1;33m\u001b[0m\u001b[0m\n\u001b[0m",
      "\u001b[1;32m~\\anaconda3\\lib\\re.py\u001b[0m in \u001b[0;36msub\u001b[1;34m(pattern, repl, string, count, flags)\u001b[0m\n\u001b[0;32m    208\u001b[0m     \u001b[0ma\u001b[0m \u001b[0mcallable\u001b[0m\u001b[1;33m,\u001b[0m \u001b[0mit\u001b[0m\u001b[0;31m'\u001b[0m\u001b[0ms\u001b[0m \u001b[0mpassed\u001b[0m \u001b[0mthe\u001b[0m \u001b[0mMatch\u001b[0m \u001b[0mobject\u001b[0m \u001b[1;32mand\u001b[0m \u001b[0mmust\u001b[0m \u001b[1;32mreturn\u001b[0m\u001b[1;33m\u001b[0m\u001b[1;33m\u001b[0m\u001b[0m\n\u001b[0;32m    209\u001b[0m     a replacement string to be used.\"\"\"\n\u001b[1;32m--> 210\u001b[1;33m     \u001b[1;32mreturn\u001b[0m \u001b[0m_compile\u001b[0m\u001b[1;33m(\u001b[0m\u001b[0mpattern\u001b[0m\u001b[1;33m,\u001b[0m \u001b[0mflags\u001b[0m\u001b[1;33m)\u001b[0m\u001b[1;33m.\u001b[0m\u001b[0msub\u001b[0m\u001b[1;33m(\u001b[0m\u001b[0mrepl\u001b[0m\u001b[1;33m,\u001b[0m \u001b[0mstring\u001b[0m\u001b[1;33m,\u001b[0m \u001b[0mcount\u001b[0m\u001b[1;33m)\u001b[0m\u001b[1;33m\u001b[0m\u001b[1;33m\u001b[0m\u001b[0m\n\u001b[0m\u001b[0;32m    211\u001b[0m \u001b[1;33m\u001b[0m\u001b[0m\n\u001b[0;32m    212\u001b[0m \u001b[1;32mdef\u001b[0m \u001b[0msubn\u001b[0m\u001b[1;33m(\u001b[0m\u001b[0mpattern\u001b[0m\u001b[1;33m,\u001b[0m \u001b[0mrepl\u001b[0m\u001b[1;33m,\u001b[0m \u001b[0mstring\u001b[0m\u001b[1;33m,\u001b[0m \u001b[0mcount\u001b[0m\u001b[1;33m=\u001b[0m\u001b[1;36m0\u001b[0m\u001b[1;33m,\u001b[0m \u001b[0mflags\u001b[0m\u001b[1;33m=\u001b[0m\u001b[1;36m0\u001b[0m\u001b[1;33m)\u001b[0m\u001b[1;33m:\u001b[0m\u001b[1;33m\u001b[0m\u001b[1;33m\u001b[0m\u001b[0m\n",
      "\u001b[1;31mTypeError\u001b[0m: expected string or bytes-like object"
     ]
    }
   ],
   "source": [
    "\n",
    "for i in range(len(book)):\n",
    "    book['book_description'][i] = re.sub(' +',' ', book['book_description'][i])"
   ]
  },
  {
   "cell_type": "code",
   "execution_count": 30,
   "id": "b576ae15",
   "metadata": {},
   "outputs": [
    {
     "data": {
      "text/plain": [
       "'악성 코드 분석가의 리버싱 이야기『리버싱 핵심 원리』. 프로그램의 내부를 깊이 들여다보고 조작할 수 있는 기법인 ‘리버싱’에 필요한 핵심 원리를 50여개 장을 통해 꼼꼼하게 설명한 책이다. 리버싱 기술의 단순한 소개에 그치지 않고, 각 기술의 핵심적인 원리를 깨닫게 하는 데 목표를 두고 있다. 무엇보다 저자 이승원이 안철수 연구소에서의 오랜 경험을 토대로 직접 작성한 다양한 코드는 물론 리버서라면 꼭 알아야 할 다양한 리버싱 기법을 상세하게 소개하여 리버서를 꿈꾸는 개발자는 물론 실무를 경험해본 모두에게 도움을 준다. 이를 통해 기본기를 튼튼하게 다지는 것은 물론, 시간이 흘러도 가치가 변하지 않는 기술의 진수를 얻을 수 있다.'"
      ]
     },
     "execution_count": 30,
     "metadata": {},
     "output_type": "execute_result"
    }
   ],
   "source": [
    "book['book_description'][0]"
   ]
  },
  {
   "cell_type": "code",
   "execution_count": 37,
   "id": "7b6fbc7f",
   "metadata": {},
   "outputs": [],
   "source": [
    "book['book_description'] = book['book_description'].str.strip() "
   ]
  },
  {
   "cell_type": "code",
   "execution_count": 41,
   "id": "202bc061",
   "metadata": {},
   "outputs": [
    {
     "data": {
      "text/plain": [
       "'머신 러닝 또는 기계 학습은 컴퓨터 과학 중 인공지능의 한 분야로 패턴인식과 컴퓨터 학습 이론의 연구로부터 진화한 분야이다 머신 러닝은 경험적 데이터를 기반으로 학습을 하고 예측을 수행하고 스스로의 성능을 향상시키는 시스템과 이를 위한 알고리즘을 연구하고 구축하는 기술이라 할 수 있다 뉴럴 네트워크는 뇌의 신경구조를 논리적으로 모방하여 지적인 처리를 컴퓨터에 시키자는 것이다 그리고 딥 러닝은 이 뉴럴 네트워크 구조의\\n연장선상에서 생각할 수 있다 전형적인 뉴럴 네트워크는 입력 계층과 중간 계층 출력 계층의 3층 구조로 되어 있었다 이 구조로는 복잡한 정보의 처리가 어렵다는 것은 자명한 사실이다 그래서 중간 계층을 복층으로 만드는 안이 나왔으며 이게 바로 딥 러닝이다'"
      ]
     },
     "execution_count": 41,
     "metadata": {},
     "output_type": "execute_result"
    }
   ],
   "source": [
    "book['book_description'][76]"
   ]
  },
  {
   "cell_type": "code",
   "execution_count": null,
   "id": "c8bd0cb9",
   "metadata": {},
   "outputs": [],
   "source": [
    " \" \".join(book['book_description'][i].split())"
   ]
  }
 ],
 "metadata": {
  "kernelspec": {
   "display_name": "Python 3 (ipykernel)",
   "language": "python",
   "name": "python3"
  },
  "language_info": {
   "codemirror_mode": {
    "name": "ipython",
    "version": 3
   },
   "file_extension": ".py",
   "mimetype": "text/x-python",
   "name": "python",
   "nbconvert_exporter": "python",
   "pygments_lexer": "ipython3",
   "version": "3.9.7"
  }
 },
 "nbformat": 4,
 "nbformat_minor": 5
}
