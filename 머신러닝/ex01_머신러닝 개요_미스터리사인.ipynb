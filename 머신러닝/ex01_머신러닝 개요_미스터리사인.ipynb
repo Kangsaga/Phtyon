{
 "cells": [
  {
   "cell_type": "markdown",
   "id": "19d8ac63",
   "metadata": {},
   "source": [
    "## Question 1\n",
    "- 큰수 + 두수의  차\n",
    "- 22 ? 7 = 37"
   ]
  },
  {
   "cell_type": "markdown",
   "id": "51233312",
   "metadata": {},
   "source": [
    "### 데이터 만들기"
   ]
  },
  {
   "cell_type": "code",
   "execution_count": 3,
   "id": "b23f5958",
   "metadata": {},
   "outputs": [],
   "source": [
    "list1 = []\n",
    "for i in range(1,200): # 첫번째 숫자의 범위\n",
    "    for j in range(1,200): # 두번째 숫자의 범위\n",
    "        result = (i + (i - j)) if i > j else (j + (j - i))\n",
    "        list1.append([i, j, result])"
   ]
  },
  {
   "cell_type": "markdown",
   "id": "3c3e8302",
   "metadata": {},
   "source": [
    "### 데이터 전처리"
   ]
  },
  {
   "cell_type": "code",
   "execution_count": 5,
   "id": "bc5cfbc9",
   "metadata": {
    "scrolled": true
   },
   "outputs": [
    {
     "data": {
      "text/html": [
       "<div>\n",
       "<style scoped>\n",
       "    .dataframe tbody tr th:only-of-type {\n",
       "        vertical-align: middle;\n",
       "    }\n",
       "\n",
       "    .dataframe tbody tr th {\n",
       "        vertical-align: top;\n",
       "    }\n",
       "\n",
       "    .dataframe thead th {\n",
       "        text-align: right;\n",
       "    }\n",
       "</style>\n",
       "<table border=\"1\" class=\"dataframe\">\n",
       "  <thead>\n",
       "    <tr style=\"text-align: right;\">\n",
       "      <th></th>\n",
       "      <th>N1</th>\n",
       "      <th>N2</th>\n",
       "      <th>Result</th>\n",
       "    </tr>\n",
       "  </thead>\n",
       "  <tbody>\n",
       "    <tr>\n",
       "      <th>0</th>\n",
       "      <td>1</td>\n",
       "      <td>1</td>\n",
       "      <td>1</td>\n",
       "    </tr>\n",
       "    <tr>\n",
       "      <th>1</th>\n",
       "      <td>1</td>\n",
       "      <td>2</td>\n",
       "      <td>3</td>\n",
       "    </tr>\n",
       "    <tr>\n",
       "      <th>2</th>\n",
       "      <td>1</td>\n",
       "      <td>3</td>\n",
       "      <td>5</td>\n",
       "    </tr>\n",
       "    <tr>\n",
       "      <th>3</th>\n",
       "      <td>1</td>\n",
       "      <td>4</td>\n",
       "      <td>7</td>\n",
       "    </tr>\n",
       "    <tr>\n",
       "      <th>4</th>\n",
       "      <td>1</td>\n",
       "      <td>5</td>\n",
       "      <td>9</td>\n",
       "    </tr>\n",
       "  </tbody>\n",
       "</table>\n",
       "</div>"
      ],
      "text/plain": [
       "   N1  N2  Result\n",
       "0   1   1       1\n",
       "1   1   2       3\n",
       "2   1   3       5\n",
       "3   1   4       7\n",
       "4   1   5       9"
      ]
     },
     "execution_count": 5,
     "metadata": {},
     "output_type": "execute_result"
    }
   ],
   "source": [
    "import pandas as pd\n",
    "data1 = pd.DataFrame(list1, columns = [ 'N1', 'N2', 'Result'])\n",
    "data1.head()"
   ]
  },
  {
   "cell_type": "code",
   "execution_count": 6,
   "id": "2bb1e453",
   "metadata": {},
   "outputs": [],
   "source": [
    "X = data1.loc[ : , ['N1' , 'N2']]\n",
    "y = data1.loc[: , 'Result']"
   ]
  },
  {
   "cell_type": "markdown",
   "id": "c4ce6cd3",
   "metadata": {},
   "source": [
    "### 머신러닝 모델 불러오기"
   ]
  },
  {
   "cell_type": "code",
   "execution_count": 6,
   "id": "1be56368",
   "metadata": {},
   "outputs": [],
   "source": [
    "from sklearn.ensemble import RandomForestRegressor"
   ]
  },
  {
   "cell_type": "code",
   "execution_count": 7,
   "id": "9ee760b3",
   "metadata": {},
   "outputs": [],
   "source": [
    "rf = RandomForestRegressor()"
   ]
  },
  {
   "cell_type": "markdown",
   "id": "1d7c930b",
   "metadata": {},
   "source": [
    "### 모델 사용하기(학습)\n",
    "- 규칙 찾기"
   ]
  },
  {
   "cell_type": "code",
   "execution_count": 13,
   "id": "937e0f92",
   "metadata": {},
   "outputs": [
    {
     "data": {
      "text/plain": [
       "RandomForestRegressor()"
      ]
     },
     "execution_count": 13,
     "metadata": {},
     "output_type": "execute_result"
    }
   ],
   "source": [
    "rf.fit(X, y)"
   ]
  },
  {
   "cell_type": "markdown",
   "id": "a0994ab6",
   "metadata": {},
   "source": [
    "### 모델 사용하기(예측)"
   ]
  },
  {
   "cell_type": "code",
   "execution_count": 17,
   "id": "113ea951",
   "metadata": {},
   "outputs": [
    {
     "data": {
      "text/plain": [
       "array([13.19])"
      ]
     },
     "execution_count": 17,
     "metadata": {},
     "output_type": "execute_result"
    }
   ],
   "source": [
    "rf.predict([[10,7]])"
   ]
  },
  {
   "cell_type": "markdown",
   "id": "bf05b15d",
   "metadata": {},
   "source": [
    "## Question 2\n",
    "- (큰 수 / 작은 수)의 나머지\n",
    "- 4 ? 19 = 3"
   ]
  },
  {
   "cell_type": "markdown",
   "id": "305fc11e",
   "metadata": {},
   "source": [
    "### 데이터 만들기"
   ]
  },
  {
   "cell_type": "code",
   "execution_count": 1,
   "id": "8277e820",
   "metadata": {},
   "outputs": [],
   "source": [
    "list2 = []\n",
    "for i in range(1,2000): # 첫번째 숫자의 범위\n",
    "    for j in range(1,2000): # 두번째 숫자의 범위\n",
    "        result = (i % j) if i > j else (j % i)\n",
    "        list2.append([i, j, result])"
   ]
  },
  {
   "cell_type": "markdown",
   "id": "c3ff0781",
   "metadata": {},
   "source": [
    "### 데이터 전처리"
   ]
  },
  {
   "cell_type": "code",
   "execution_count": 3,
   "id": "2bf9e459",
   "metadata": {},
   "outputs": [
    {
     "data": {
      "text/html": [
       "<div>\n",
       "<style scoped>\n",
       "    .dataframe tbody tr th:only-of-type {\n",
       "        vertical-align: middle;\n",
       "    }\n",
       "\n",
       "    .dataframe tbody tr th {\n",
       "        vertical-align: top;\n",
       "    }\n",
       "\n",
       "    .dataframe thead th {\n",
       "        text-align: right;\n",
       "    }\n",
       "</style>\n",
       "<table border=\"1\" class=\"dataframe\">\n",
       "  <thead>\n",
       "    <tr style=\"text-align: right;\">\n",
       "      <th></th>\n",
       "      <th>N1</th>\n",
       "      <th>N2</th>\n",
       "      <th>Result</th>\n",
       "    </tr>\n",
       "  </thead>\n",
       "  <tbody>\n",
       "    <tr>\n",
       "      <th>0</th>\n",
       "      <td>1</td>\n",
       "      <td>1</td>\n",
       "      <td>0</td>\n",
       "    </tr>\n",
       "    <tr>\n",
       "      <th>1</th>\n",
       "      <td>1</td>\n",
       "      <td>2</td>\n",
       "      <td>0</td>\n",
       "    </tr>\n",
       "    <tr>\n",
       "      <th>2</th>\n",
       "      <td>1</td>\n",
       "      <td>3</td>\n",
       "      <td>0</td>\n",
       "    </tr>\n",
       "    <tr>\n",
       "      <th>3</th>\n",
       "      <td>1</td>\n",
       "      <td>4</td>\n",
       "      <td>0</td>\n",
       "    </tr>\n",
       "    <tr>\n",
       "      <th>4</th>\n",
       "      <td>1</td>\n",
       "      <td>5</td>\n",
       "      <td>0</td>\n",
       "    </tr>\n",
       "  </tbody>\n",
       "</table>\n",
       "</div>"
      ],
      "text/plain": [
       "   N1  N2  Result\n",
       "0   1   1       0\n",
       "1   1   2       0\n",
       "2   1   3       0\n",
       "3   1   4       0\n",
       "4   1   5       0"
      ]
     },
     "execution_count": 3,
     "metadata": {},
     "output_type": "execute_result"
    }
   ],
   "source": [
    "import pandas as pd\n",
    "data2 = pd.DataFrame(list2, columns = [ 'N1', 'N2', 'Result'])\n",
    "data2.head()"
   ]
  },
  {
   "cell_type": "markdown",
   "id": "01312295",
   "metadata": {},
   "source": [
    "### 문제와 정답 분리\n",
    "- X1 : 문제\n",
    "- y1 : 정답"
   ]
  },
  {
   "cell_type": "code",
   "execution_count": 4,
   "id": "c50a8e23",
   "metadata": {},
   "outputs": [],
   "source": [
    "X1 = data2.loc[:,['N1','N2']]\n",
    "y1 = data2.loc[:, 'Result']"
   ]
  },
  {
   "cell_type": "markdown",
   "id": "e56a2337",
   "metadata": {},
   "source": [
    "### 모델 사용하기(학습)"
   ]
  },
  {
   "cell_type": "code",
   "execution_count": 8,
   "id": "21a9e49e",
   "metadata": {},
   "outputs": [
    {
     "data": {
      "text/plain": [
       "RandomForestRegressor()"
      ]
     },
     "execution_count": 8,
     "metadata": {},
     "output_type": "execute_result"
    }
   ],
   "source": [
    "rf.fit(X1,y1)"
   ]
  },
  {
   "cell_type": "markdown",
   "id": "058a2a3e",
   "metadata": {},
   "source": [
    "### 모델 사용하기(예측)"
   ]
  },
  {
   "cell_type": "code",
   "execution_count": 9,
   "id": "052d50b0",
   "metadata": {},
   "outputs": [
    {
     "data": {
      "text/plain": [
       "array([2.93])"
      ]
     },
     "execution_count": 9,
     "metadata": {},
     "output_type": "execute_result"
    }
   ],
   "source": [
    "rf.predict([[10,7]])"
   ]
  },
  {
   "cell_type": "code",
   "execution_count": null,
   "id": "3ffbc0af",
   "metadata": {},
   "outputs": [],
   "source": []
  }
 ],
 "metadata": {
  "kernelspec": {
   "display_name": "Python 3 (ipykernel)",
   "language": "python",
   "name": "python3"
  },
  "language_info": {
   "codemirror_mode": {
    "name": "ipython",
    "version": 3
   },
   "file_extension": ".py",
   "mimetype": "text/x-python",
   "name": "python",
   "nbconvert_exporter": "python",
   "pygments_lexer": "ipython3",
   "version": "3.9.7"
  },
  "toc": {
   "base_numbering": 1,
   "nav_menu": {},
   "number_sections": true,
   "sideBar": true,
   "skip_h1_title": false,
   "title_cell": "Table of Contents",
   "title_sidebar": "Contents",
   "toc_cell": false,
   "toc_position": {
    "height": "calc(100% - 180px)",
    "left": "10px",
    "top": "150px",
    "width": "225.085px"
   },
   "toc_section_display": true,
   "toc_window_display": true
  }
 },
 "nbformat": 4,
 "nbformat_minor": 5
}
