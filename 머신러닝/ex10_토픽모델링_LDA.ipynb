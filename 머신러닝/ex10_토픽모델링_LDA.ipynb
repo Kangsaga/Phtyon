{
 "cells": [
  {
   "cell_type": "markdown",
   "id": "7432d4b4",
   "metadata": {},
   "source": [
    "# 토픽 모델링\n",
    "- 비지도학습\n",
    "- 하나 또는 여러가지 문서를 활당하는 작업\n",
    "- LDA(Latent Dirichlet Allocation, 잠재 디리클레 활당)"
   ]
  },
  {
   "cell_type": "markdown",
   "id": "c55fd592",
   "metadata": {},
   "source": [
    "# LDA\n",
    "- 자주 나타나는 단어의 그룹(토픽)을 찾는 것\n",
    "- 주제와는 거리가 멀 수 도 있음\n",
    "- 의미가 있는 성분을 찾는것이기 때문"
   ]
  },
  {
   "cell_type": "code",
   "execution_count": 1,
   "id": "00dfa00d",
   "metadata": {},
   "outputs": [
    {
     "name": "stdout",
     "output_type": "stream",
     "text": [
      "Requirement already satisfied: pandas in c:\\users\\smhrd\\anaconda3\\lib\\site-packages (1.3.4)\n",
      "Requirement already satisfied: numpy in c:\\users\\smhrd\\anaconda3\\lib\\site-packages (1.20.3)\n",
      "Requirement already satisfied: sklearn in c:\\users\\smhrd\\anaconda3\\lib\\site-packages (0.0)\n",
      "Requirement already satisfied: mglearn in c:\\users\\smhrd\\anaconda3\\lib\\site-packages (0.1.9)\n",
      "Requirement already satisfied: pytz>=2017.3 in c:\\users\\smhrd\\anaconda3\\lib\\site-packages (from pandas) (2021.3)\n",
      "Requirement already satisfied: python-dateutil>=2.7.3 in c:\\users\\smhrd\\anaconda3\\lib\\site-packages (from pandas) (2.8.2)\n",
      "Requirement already satisfied: scikit-learn in c:\\users\\smhrd\\anaconda3\\lib\\site-packages (from sklearn) (0.24.2)\n",
      "Requirement already satisfied: joblib in c:\\users\\smhrd\\anaconda3\\lib\\site-packages (from mglearn) (1.1.0)\n",
      "Requirement already satisfied: imageio in c:\\users\\smhrd\\anaconda3\\lib\\site-packages (from mglearn) (2.9.0)\n",
      "Requirement already satisfied: pillow in c:\\users\\smhrd\\anaconda3\\lib\\site-packages (from mglearn) (8.4.0)\n",
      "Requirement already satisfied: cycler in c:\\users\\smhrd\\anaconda3\\lib\\site-packages (from mglearn) (0.10.0)\n",
      "Requirement already satisfied: matplotlib in c:\\users\\smhrd\\anaconda3\\lib\\site-packages (from mglearn) (3.4.3)\n",
      "Requirement already satisfied: six>=1.5 in c:\\users\\smhrd\\anaconda3\\lib\\site-packages (from python-dateutil>=2.7.3->pandas) (1.16.0)\n",
      "Requirement already satisfied: pyparsing>=2.2.1 in c:\\users\\smhrd\\anaconda3\\lib\\site-packages (from matplotlib->mglearn) (3.0.4)\n",
      "Requirement already satisfied: kiwisolver>=1.0.1 in c:\\users\\smhrd\\anaconda3\\lib\\site-packages (from matplotlib->mglearn) (1.3.1)\n",
      "Requirement already satisfied: scipy>=0.19.1 in c:\\users\\smhrd\\anaconda3\\lib\\site-packages (from scikit-learn->sklearn) (1.7.1)\n",
      "Requirement already satisfied: threadpoolctl>=2.0.0 in c:\\users\\smhrd\\anaconda3\\lib\\site-packages (from scikit-learn->sklearn) (2.2.0)\n"
     ]
    }
   ],
   "source": [
    "!pip install pandas numpy sklearn mglearn"
   ]
  },
  {
   "cell_type": "markdown",
   "id": "2e5b1a17",
   "metadata": {},
   "source": [
    "## 데이터 받아오기"
   ]
  },
  {
   "cell_type": "code",
   "execution_count": 3,
   "id": "997c84a6",
   "metadata": {},
   "outputs": [],
   "source": [
    "import pandas as pd"
   ]
  },
  {
   "cell_type": "code",
   "execution_count": 4,
   "id": "4c0c9a65",
   "metadata": {},
   "outputs": [],
   "source": [
    "df_train = pd.read_csv('data/ratings_train.txt', delimiter='\\t')\n",
    "df_test = pd.read_csv('data/ratings_test.txt', delimiter='\\t')"
   ]
  },
  {
   "cell_type": "markdown",
   "id": "d669f30f",
   "metadata": {},
   "source": [
    "## 결측치 제거"
   ]
  },
  {
   "cell_type": "code",
   "execution_count": 5,
   "id": "fe706bae",
   "metadata": {},
   "outputs": [],
   "source": [
    "df_train.dropna(inplace = True)\n",
    "df_test.dropna(inplace = True)"
   ]
  },
  {
   "cell_type": "code",
   "execution_count": 6,
   "id": "c6ade68c",
   "metadata": {},
   "outputs": [],
   "source": [
    "text_train = df_train['document']"
   ]
  },
  {
   "cell_type": "markdown",
   "id": "bdce5be7",
   "metadata": {},
   "source": [
    "## 토큰화"
   ]
  },
  {
   "cell_type": "code",
   "execution_count": 9,
   "id": "eb4b808d",
   "metadata": {},
   "outputs": [],
   "source": [
    "from sklearn.feature_extraction.text import CountVectorizer"
   ]
  },
  {
   "cell_type": "code",
   "execution_count": 10,
   "id": "307c0e4d",
   "metadata": {},
   "outputs": [],
   "source": [
    "# max_features = 10000 가장 많이 등장하는 단어 10000개만 사용\n",
    "# max_df = .15 15%이상의 문서에서 등장하는 단어 제거\n",
    "cv = CountVectorizer(max_features = 10000, max_df = .15)\n",
    "X = cv.fit_transform(text_train)"
   ]
  },
  {
   "cell_type": "code",
   "execution_count": 11,
   "id": "bc8e89f3",
   "metadata": {},
   "outputs": [
    {
     "data": {
      "text/plain": [
       "<149995x10000 sparse matrix of type '<class 'numpy.int64'>'\n",
       "\twith 636309 stored elements in Compressed Sparse Row format>"
      ]
     },
     "execution_count": 11,
     "metadata": {},
     "output_type": "execute_result"
    }
   ],
   "source": [
    "# 14995문장을 10000개  단어로 표시한 데이터를 백터화\n",
    "X"
   ]
  },
  {
   "cell_type": "markdown",
   "id": "b3240161",
   "metadata": {},
   "source": [
    "## LDA"
   ]
  },
  {
   "cell_type": "code",
   "execution_count": 12,
   "id": "3710d08e",
   "metadata": {},
   "outputs": [],
   "source": [
    "from sklearn.decomposition import LatentDirichletAllocation"
   ]
  },
  {
   "cell_type": "code",
   "execution_count": 13,
   "id": "b70db32f",
   "metadata": {},
   "outputs": [],
   "source": [
    "# n_components = 10 : 10개의 토픽그룹을 만들어 주세요\n",
    "# learning_method = 'batch' : 기본값 online,batch 느리지만 성능이 좋음\n",
    "lda = LatentDirichletAllocation(n_components = 10, learning_method = 'batch',\n",
    "                               max_iter = 25, random_state = 0)"
   ]
  },
  {
   "cell_type": "code",
   "execution_count": 14,
   "id": "9bb5c191",
   "metadata": {},
   "outputs": [],
   "source": [
    "document_topics = lda.fit_transform(X)"
   ]
  },
  {
   "cell_type": "code",
   "execution_count": 16,
   "id": "91a57525",
   "metadata": {},
   "outputs": [
    {
     "data": {
      "text/plain": [
       "array([0.02      , 0.02      , 0.02000005, 0.02      , 0.02      ,\n",
       "       0.02000004, 0.61999977, 0.02      , 0.02000027, 0.21999986])"
      ]
     },
     "execution_count": 16,
     "metadata": {},
     "output_type": "execute_result"
    }
   ],
   "source": [
    "document_topics[0]"
   ]
  },
  {
   "cell_type": "markdown",
   "id": "f12d90af",
   "metadata": {},
   "source": [
    "### 토픽 확인"
   ]
  },
  {
   "cell_type": "code",
   "execution_count": 17,
   "id": "dd215843",
   "metadata": {},
   "outputs": [],
   "source": [
    "import numpy as np"
   ]
  },
  {
   "cell_type": "code",
   "execution_count": 19,
   "id": "eb463f05",
   "metadata": {},
   "outputs": [],
   "source": [
    "import mglearn"
   ]
  },
  {
   "cell_type": "code",
   "execution_count": 20,
   "id": "1d9efa5d",
   "metadata": {},
   "outputs": [
    {
     "name": "stdout",
     "output_type": "stream",
     "text": [
      "topic 0       topic 1       topic 2       topic 3       topic 4       \n",
      "--------      --------      --------      --------      --------      \n",
      "너무            영화            ㅋㅋ            그리고           영화를           \n",
      "없고            정말            봤는데           대한            다시            \n",
      "별로            가장            너무            있는            보고            \n",
      "내용도           평점이           최고            작품            많이            \n",
      "스토리           좋은            정말            이야기           정말            \n",
      "스토리가          만든            ㅋㅋㅋ           아름다운          봐도            \n",
      "스토리도          너무            재밌게           마지막           이런            \n",
      "재미도           여운이           ㅎㅎ            재밌어요          영화가           \n",
      "연기도           보면            그래도           좋았다           지금            \n",
      "않고            남는            재미있게          없는            영화입니다         \n",
      "\n",
      "\n",
      "topic 5       topic 6       topic 7       topic 8       topic 9       \n",
      "--------      --------      --------      --------      --------      \n",
      "정말            진짜            그냥            이게            너무            \n",
      "최고의           보는            영화            좋은            이런            \n",
      "드라마           연기            쓰레기           재밌다           역시            \n",
      "평점            완전            없는            이건            영화는           \n",
      "이렇게           ㅠㅠ            아깝다           영화를           없다            \n",
      "10점           내내            재미            이걸            영화가           \n",
      "내가            좋고            ㅡㅡ            영화라고          이거            \n",
      "끝까지           최고다           아니고           하는            좋다            \n",
      "명작            이제            1점            이런            말이            \n",
      "최악의           계속            아까운           나도            무슨            \n",
      "\n",
      "\n"
     ]
    }
   ],
   "source": [
    "sorting = np.argsort(lda.components_, axis = 1)[:, ::-1]\n",
    "feature_names = np.array(cv.get_feature_names())\n",
    "mglearn.tools.print_topics(topics=range(10), feature_names = feature_names, \n",
    "                           sorting = sorting, topics_per_chunk = 5, n_words = 10)"
   ]
  },
  {
   "cell_type": "code",
   "execution_count": 21,
   "id": "21650192",
   "metadata": {},
   "outputs": [
    {
     "data": {
      "text/plain": [
       "'아 더빙.. 진짜 짜증나네요 목소리'"
      ]
     },
     "execution_count": 21,
     "metadata": {},
     "output_type": "execute_result"
    }
   ],
   "source": [
    "# 문서의 크기가 커진다면 과소적합을 예방할 수 있음\n",
    "text_train[0]"
   ]
  },
  {
   "cell_type": "code",
   "execution_count": null,
   "id": "9790ce53",
   "metadata": {},
   "outputs": [],
   "source": []
  }
 ],
 "metadata": {
  "kernelspec": {
   "display_name": "Python 3 (ipykernel)",
   "language": "python",
   "name": "python3"
  },
  "language_info": {
   "codemirror_mode": {
    "name": "ipython",
    "version": 3
   },
   "file_extension": ".py",
   "mimetype": "text/x-python",
   "name": "python",
   "nbconvert_exporter": "python",
   "pygments_lexer": "ipython3",
   "version": "3.9.7"
  },
  "toc": {
   "base_numbering": 1,
   "nav_menu": {},
   "number_sections": true,
   "sideBar": true,
   "skip_h1_title": false,
   "title_cell": "Table of Contents",
   "title_sidebar": "Contents",
   "toc_cell": false,
   "toc_position": {},
   "toc_section_display": true,
   "toc_window_display": false
  }
 },
 "nbformat": 4,
 "nbformat_minor": 5
}
