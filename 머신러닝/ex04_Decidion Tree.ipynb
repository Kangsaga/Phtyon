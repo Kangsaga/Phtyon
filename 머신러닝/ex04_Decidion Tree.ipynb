{
 "cells": [
  {
   "cell_type": "markdown",
   "id": "0c3af0fa",
   "metadata": {},
   "source": [
    "# 문제정의\n",
    "- 버섯의 특징을 사용해서 독 / 식용 버섯을 분류"
   ]
  },
  {
   "cell_type": "markdown",
   "id": "d30ede03",
   "metadata": {},
   "source": [
    "## 목표\n",
    "= Decision Tree 과대적합 제어/ 시각화/ 특성 선택"
   ]
  },
  {
   "cell_type": "markdown",
   "id": "2ddc83b9",
   "metadata": {},
   "source": [
    "# 데이터 수집"
   ]
  },
  {
   "cell_type": "code",
   "execution_count": 64,
   "id": "ef5f5ca1",
   "metadata": {
    "scrolled": false
   },
   "outputs": [
    {
     "data": {
      "text/html": [
       "<div>\n",
       "<style scoped>\n",
       "    .dataframe tbody tr th:only-of-type {\n",
       "        vertical-align: middle;\n",
       "    }\n",
       "\n",
       "    .dataframe tbody tr th {\n",
       "        vertical-align: top;\n",
       "    }\n",
       "\n",
       "    .dataframe thead th {\n",
       "        text-align: right;\n",
       "    }\n",
       "</style>\n",
       "<table border=\"1\" class=\"dataframe\">\n",
       "  <thead>\n",
       "    <tr style=\"text-align: right;\">\n",
       "      <th></th>\n",
       "      <th>poisonous</th>\n",
       "      <th>cap-shape</th>\n",
       "      <th>cap-surface</th>\n",
       "      <th>cap-color</th>\n",
       "      <th>bruises</th>\n",
       "      <th>odor</th>\n",
       "      <th>gill-attachment</th>\n",
       "      <th>gill-spacing</th>\n",
       "      <th>gill-size</th>\n",
       "      <th>gill-color</th>\n",
       "      <th>...</th>\n",
       "      <th>stalk-surface-below-ring</th>\n",
       "      <th>stalk-color-above-ring</th>\n",
       "      <th>stalk-color-below-ring</th>\n",
       "      <th>veil-type</th>\n",
       "      <th>veil-color</th>\n",
       "      <th>ring-number</th>\n",
       "      <th>ring-type</th>\n",
       "      <th>spore-print-color</th>\n",
       "      <th>population</th>\n",
       "      <th>habitat</th>\n",
       "    </tr>\n",
       "  </thead>\n",
       "  <tbody>\n",
       "    <tr>\n",
       "      <th>0</th>\n",
       "      <td>p</td>\n",
       "      <td>x</td>\n",
       "      <td>s</td>\n",
       "      <td>n</td>\n",
       "      <td>t</td>\n",
       "      <td>p</td>\n",
       "      <td>f</td>\n",
       "      <td>c</td>\n",
       "      <td>n</td>\n",
       "      <td>k</td>\n",
       "      <td>...</td>\n",
       "      <td>s</td>\n",
       "      <td>w</td>\n",
       "      <td>w</td>\n",
       "      <td>p</td>\n",
       "      <td>w</td>\n",
       "      <td>o</td>\n",
       "      <td>p</td>\n",
       "      <td>k</td>\n",
       "      <td>s</td>\n",
       "      <td>u</td>\n",
       "    </tr>\n",
       "    <tr>\n",
       "      <th>1</th>\n",
       "      <td>e</td>\n",
       "      <td>x</td>\n",
       "      <td>s</td>\n",
       "      <td>y</td>\n",
       "      <td>t</td>\n",
       "      <td>a</td>\n",
       "      <td>f</td>\n",
       "      <td>c</td>\n",
       "      <td>b</td>\n",
       "      <td>k</td>\n",
       "      <td>...</td>\n",
       "      <td>s</td>\n",
       "      <td>w</td>\n",
       "      <td>w</td>\n",
       "      <td>p</td>\n",
       "      <td>w</td>\n",
       "      <td>o</td>\n",
       "      <td>p</td>\n",
       "      <td>n</td>\n",
       "      <td>n</td>\n",
       "      <td>g</td>\n",
       "    </tr>\n",
       "    <tr>\n",
       "      <th>2</th>\n",
       "      <td>e</td>\n",
       "      <td>b</td>\n",
       "      <td>s</td>\n",
       "      <td>w</td>\n",
       "      <td>t</td>\n",
       "      <td>l</td>\n",
       "      <td>f</td>\n",
       "      <td>c</td>\n",
       "      <td>b</td>\n",
       "      <td>n</td>\n",
       "      <td>...</td>\n",
       "      <td>s</td>\n",
       "      <td>w</td>\n",
       "      <td>w</td>\n",
       "      <td>p</td>\n",
       "      <td>w</td>\n",
       "      <td>o</td>\n",
       "      <td>p</td>\n",
       "      <td>n</td>\n",
       "      <td>n</td>\n",
       "      <td>m</td>\n",
       "    </tr>\n",
       "    <tr>\n",
       "      <th>3</th>\n",
       "      <td>p</td>\n",
       "      <td>x</td>\n",
       "      <td>y</td>\n",
       "      <td>w</td>\n",
       "      <td>t</td>\n",
       "      <td>p</td>\n",
       "      <td>f</td>\n",
       "      <td>c</td>\n",
       "      <td>n</td>\n",
       "      <td>n</td>\n",
       "      <td>...</td>\n",
       "      <td>s</td>\n",
       "      <td>w</td>\n",
       "      <td>w</td>\n",
       "      <td>p</td>\n",
       "      <td>w</td>\n",
       "      <td>o</td>\n",
       "      <td>p</td>\n",
       "      <td>k</td>\n",
       "      <td>s</td>\n",
       "      <td>u</td>\n",
       "    </tr>\n",
       "    <tr>\n",
       "      <th>4</th>\n",
       "      <td>e</td>\n",
       "      <td>x</td>\n",
       "      <td>s</td>\n",
       "      <td>g</td>\n",
       "      <td>f</td>\n",
       "      <td>n</td>\n",
       "      <td>f</td>\n",
       "      <td>w</td>\n",
       "      <td>b</td>\n",
       "      <td>k</td>\n",
       "      <td>...</td>\n",
       "      <td>s</td>\n",
       "      <td>w</td>\n",
       "      <td>w</td>\n",
       "      <td>p</td>\n",
       "      <td>w</td>\n",
       "      <td>o</td>\n",
       "      <td>e</td>\n",
       "      <td>n</td>\n",
       "      <td>a</td>\n",
       "      <td>g</td>\n",
       "    </tr>\n",
       "  </tbody>\n",
       "</table>\n",
       "<p>5 rows × 23 columns</p>\n",
       "</div>"
      ],
      "text/plain": [
       "  poisonous cap-shape cap-surface cap-color bruises odor gill-attachment  \\\n",
       "0         p         x           s         n       t    p               f   \n",
       "1         e         x           s         y       t    a               f   \n",
       "2         e         b           s         w       t    l               f   \n",
       "3         p         x           y         w       t    p               f   \n",
       "4         e         x           s         g       f    n               f   \n",
       "\n",
       "  gill-spacing gill-size gill-color  ... stalk-surface-below-ring  \\\n",
       "0            c         n          k  ...                        s   \n",
       "1            c         b          k  ...                        s   \n",
       "2            c         b          n  ...                        s   \n",
       "3            c         n          n  ...                        s   \n",
       "4            w         b          k  ...                        s   \n",
       "\n",
       "  stalk-color-above-ring stalk-color-below-ring veil-type veil-color  \\\n",
       "0                      w                      w         p          w   \n",
       "1                      w                      w         p          w   \n",
       "2                      w                      w         p          w   \n",
       "3                      w                      w         p          w   \n",
       "4                      w                      w         p          w   \n",
       "\n",
       "  ring-number ring-type spore-print-color population habitat  \n",
       "0           o         p                 k          s       u  \n",
       "1           o         p                 n          n       g  \n",
       "2           o         p                 n          n       m  \n",
       "3           o         p                 k          s       u  \n",
       "4           o         e                 n          a       g  \n",
       "\n",
       "[5 rows x 23 columns]"
      ]
     },
     "execution_count": 64,
     "metadata": {},
     "output_type": "execute_result"
    }
   ],
   "source": [
    "import pandas as pd\n",
    "data = pd.read_csv('./data/mushroom.csv')\n",
    "data.head()"
   ]
  },
  {
   "cell_type": "code",
   "execution_count": 65,
   "id": "65b8683e",
   "metadata": {},
   "outputs": [
    {
     "data": {
      "text/plain": [
       "(8124, 23)"
      ]
     },
     "execution_count": 65,
     "metadata": {},
     "output_type": "execute_result"
    }
   ],
   "source": [
    "data.shape"
   ]
  },
  {
   "cell_type": "markdown",
   "id": "d5c5d869",
   "metadata": {},
   "source": [
    "# 데이터 전처리"
   ]
  },
  {
   "cell_type": "markdown",
   "id": "f33fe4f7",
   "metadata": {},
   "source": [
    "## 결측치"
   ]
  },
  {
   "cell_type": "code",
   "execution_count": 66,
   "id": "5463d246",
   "metadata": {},
   "outputs": [
    {
     "name": "stdout",
     "output_type": "stream",
     "text": [
      "<class 'pandas.core.frame.DataFrame'>\n",
      "RangeIndex: 8124 entries, 0 to 8123\n",
      "Data columns (total 23 columns):\n",
      " #   Column                    Non-Null Count  Dtype \n",
      "---  ------                    --------------  ----- \n",
      " 0   poisonous                 8124 non-null   object\n",
      " 1   cap-shape                 8124 non-null   object\n",
      " 2   cap-surface               8124 non-null   object\n",
      " 3   cap-color                 8124 non-null   object\n",
      " 4   bruises                   8124 non-null   object\n",
      " 5   odor                      8124 non-null   object\n",
      " 6   gill-attachment           8124 non-null   object\n",
      " 7   gill-spacing              8124 non-null   object\n",
      " 8   gill-size                 8124 non-null   object\n",
      " 9   gill-color                8124 non-null   object\n",
      " 10  stalk-shape               8124 non-null   object\n",
      " 11  stalk-root                8124 non-null   object\n",
      " 12  stalk-surface-above-ring  8124 non-null   object\n",
      " 13  stalk-surface-below-ring  8124 non-null   object\n",
      " 14  stalk-color-above-ring    8124 non-null   object\n",
      " 15  stalk-color-below-ring    8124 non-null   object\n",
      " 16  veil-type                 8124 non-null   object\n",
      " 17  veil-color                8124 non-null   object\n",
      " 18  ring-number               8124 non-null   object\n",
      " 19  ring-type                 8124 non-null   object\n",
      " 20  spore-print-color         8124 non-null   object\n",
      " 21  population                8124 non-null   object\n",
      " 22  habitat                   8124 non-null   object\n",
      "dtypes: object(23)\n",
      "memory usage: 1.4+ MB\n"
     ]
    }
   ],
   "source": [
    "data.info()"
   ]
  },
  {
   "cell_type": "markdown",
   "id": "d328edc2",
   "metadata": {},
   "source": [
    "# 탐색적 데이터 분석"
   ]
  },
  {
   "cell_type": "markdown",
   "id": "9ac3c5f6",
   "metadata": {},
   "source": [
    "# 모델 선택 및 하이퍼 파라미터 튜닝"
   ]
  },
  {
   "cell_type": "code",
   "execution_count": 67,
   "id": "9dc5dc72",
   "metadata": {},
   "outputs": [],
   "source": [
    "X = data.loc[ : , 'cap-shape' : ]\n",
    "y = data.loc[ :, 'poisonous']"
   ]
  },
  {
   "cell_type": "markdown",
   "id": "261de41d",
   "metadata": {},
   "source": [
    "## 인코딩\n",
    "- 글자 데이터를 수치 데이터로 반환하는 작업"
   ]
  },
  {
   "cell_type": "markdown",
   "id": "28034ddc",
   "metadata": {},
   "source": [
    "### Label 인코딩"
   ]
  },
  {
   "cell_type": "code",
   "execution_count": 68,
   "id": "ee35f4f7",
   "metadata": {},
   "outputs": [],
   "source": [
    "X1 = X.copy()"
   ]
  },
  {
   "cell_type": "code",
   "execution_count": 69,
   "id": "c9795b1b",
   "metadata": {},
   "outputs": [
    {
     "data": {
      "text/plain": [
       "array(['x', 'b', 's', 'f', 'k', 'c'], dtype=object)"
      ]
     },
     "execution_count": 69,
     "metadata": {},
     "output_type": "execute_result"
    }
   ],
   "source": [
    "X1['cap-shape'].unique()"
   ]
  },
  {
   "cell_type": "code",
   "execution_count": 70,
   "id": "6b76483f",
   "metadata": {},
   "outputs": [],
   "source": [
    "X1['cap-shape'] = X1['cap-shape'].map({\"x\":0, \"f\":1, \"k\":2, \"b\":3, \"s\":4, \"c\":5})"
   ]
  },
  {
   "cell_type": "markdown",
   "id": "f51be467",
   "metadata": {},
   "source": [
    "### Onehot 인코딩"
   ]
  },
  {
   "cell_type": "code",
   "execution_count": 71,
   "id": "1789fb0d",
   "metadata": {},
   "outputs": [],
   "source": [
    "X2 = X.copy()"
   ]
  },
  {
   "cell_type": "code",
   "execution_count": 72,
   "id": "d97dd960",
   "metadata": {},
   "outputs": [
    {
     "data": {
      "text/html": [
       "<div>\n",
       "<style scoped>\n",
       "    .dataframe tbody tr th:only-of-type {\n",
       "        vertical-align: middle;\n",
       "    }\n",
       "\n",
       "    .dataframe tbody tr th {\n",
       "        vertical-align: top;\n",
       "    }\n",
       "\n",
       "    .dataframe thead th {\n",
       "        text-align: right;\n",
       "    }\n",
       "</style>\n",
       "<table border=\"1\" class=\"dataframe\">\n",
       "  <thead>\n",
       "    <tr style=\"text-align: right;\">\n",
       "      <th></th>\n",
       "      <th>cap-shape_b</th>\n",
       "      <th>cap-shape_c</th>\n",
       "      <th>cap-shape_f</th>\n",
       "      <th>cap-shape_k</th>\n",
       "      <th>cap-shape_s</th>\n",
       "      <th>cap-shape_x</th>\n",
       "      <th>cap-surface_f</th>\n",
       "      <th>cap-surface_g</th>\n",
       "      <th>cap-surface_s</th>\n",
       "      <th>cap-surface_y</th>\n",
       "      <th>...</th>\n",
       "      <th>population_s</th>\n",
       "      <th>population_v</th>\n",
       "      <th>population_y</th>\n",
       "      <th>habitat_d</th>\n",
       "      <th>habitat_g</th>\n",
       "      <th>habitat_l</th>\n",
       "      <th>habitat_m</th>\n",
       "      <th>habitat_p</th>\n",
       "      <th>habitat_u</th>\n",
       "      <th>habitat_w</th>\n",
       "    </tr>\n",
       "  </thead>\n",
       "  <tbody>\n",
       "    <tr>\n",
       "      <th>0</th>\n",
       "      <td>0</td>\n",
       "      <td>0</td>\n",
       "      <td>0</td>\n",
       "      <td>0</td>\n",
       "      <td>0</td>\n",
       "      <td>1</td>\n",
       "      <td>0</td>\n",
       "      <td>0</td>\n",
       "      <td>1</td>\n",
       "      <td>0</td>\n",
       "      <td>...</td>\n",
       "      <td>1</td>\n",
       "      <td>0</td>\n",
       "      <td>0</td>\n",
       "      <td>0</td>\n",
       "      <td>0</td>\n",
       "      <td>0</td>\n",
       "      <td>0</td>\n",
       "      <td>0</td>\n",
       "      <td>1</td>\n",
       "      <td>0</td>\n",
       "    </tr>\n",
       "    <tr>\n",
       "      <th>1</th>\n",
       "      <td>0</td>\n",
       "      <td>0</td>\n",
       "      <td>0</td>\n",
       "      <td>0</td>\n",
       "      <td>0</td>\n",
       "      <td>1</td>\n",
       "      <td>0</td>\n",
       "      <td>0</td>\n",
       "      <td>1</td>\n",
       "      <td>0</td>\n",
       "      <td>...</td>\n",
       "      <td>0</td>\n",
       "      <td>0</td>\n",
       "      <td>0</td>\n",
       "      <td>0</td>\n",
       "      <td>1</td>\n",
       "      <td>0</td>\n",
       "      <td>0</td>\n",
       "      <td>0</td>\n",
       "      <td>0</td>\n",
       "      <td>0</td>\n",
       "    </tr>\n",
       "    <tr>\n",
       "      <th>2</th>\n",
       "      <td>1</td>\n",
       "      <td>0</td>\n",
       "      <td>0</td>\n",
       "      <td>0</td>\n",
       "      <td>0</td>\n",
       "      <td>0</td>\n",
       "      <td>0</td>\n",
       "      <td>0</td>\n",
       "      <td>1</td>\n",
       "      <td>0</td>\n",
       "      <td>...</td>\n",
       "      <td>0</td>\n",
       "      <td>0</td>\n",
       "      <td>0</td>\n",
       "      <td>0</td>\n",
       "      <td>0</td>\n",
       "      <td>0</td>\n",
       "      <td>1</td>\n",
       "      <td>0</td>\n",
       "      <td>0</td>\n",
       "      <td>0</td>\n",
       "    </tr>\n",
       "    <tr>\n",
       "      <th>3</th>\n",
       "      <td>0</td>\n",
       "      <td>0</td>\n",
       "      <td>0</td>\n",
       "      <td>0</td>\n",
       "      <td>0</td>\n",
       "      <td>1</td>\n",
       "      <td>0</td>\n",
       "      <td>0</td>\n",
       "      <td>0</td>\n",
       "      <td>1</td>\n",
       "      <td>...</td>\n",
       "      <td>1</td>\n",
       "      <td>0</td>\n",
       "      <td>0</td>\n",
       "      <td>0</td>\n",
       "      <td>0</td>\n",
       "      <td>0</td>\n",
       "      <td>0</td>\n",
       "      <td>0</td>\n",
       "      <td>1</td>\n",
       "      <td>0</td>\n",
       "    </tr>\n",
       "    <tr>\n",
       "      <th>4</th>\n",
       "      <td>0</td>\n",
       "      <td>0</td>\n",
       "      <td>0</td>\n",
       "      <td>0</td>\n",
       "      <td>0</td>\n",
       "      <td>1</td>\n",
       "      <td>0</td>\n",
       "      <td>0</td>\n",
       "      <td>1</td>\n",
       "      <td>0</td>\n",
       "      <td>...</td>\n",
       "      <td>0</td>\n",
       "      <td>0</td>\n",
       "      <td>0</td>\n",
       "      <td>0</td>\n",
       "      <td>1</td>\n",
       "      <td>0</td>\n",
       "      <td>0</td>\n",
       "      <td>0</td>\n",
       "      <td>0</td>\n",
       "      <td>0</td>\n",
       "    </tr>\n",
       "  </tbody>\n",
       "</table>\n",
       "<p>5 rows × 117 columns</p>\n",
       "</div>"
      ],
      "text/plain": [
       "   cap-shape_b  cap-shape_c  cap-shape_f  cap-shape_k  cap-shape_s  \\\n",
       "0            0            0            0            0            0   \n",
       "1            0            0            0            0            0   \n",
       "2            1            0            0            0            0   \n",
       "3            0            0            0            0            0   \n",
       "4            0            0            0            0            0   \n",
       "\n",
       "   cap-shape_x  cap-surface_f  cap-surface_g  cap-surface_s  cap-surface_y  \\\n",
       "0            1              0              0              1              0   \n",
       "1            1              0              0              1              0   \n",
       "2            0              0              0              1              0   \n",
       "3            1              0              0              0              1   \n",
       "4            1              0              0              1              0   \n",
       "\n",
       "   ...  population_s  population_v  population_y  habitat_d  habitat_g  \\\n",
       "0  ...             1             0             0          0          0   \n",
       "1  ...             0             0             0          0          1   \n",
       "2  ...             0             0             0          0          0   \n",
       "3  ...             1             0             0          0          0   \n",
       "4  ...             0             0             0          0          1   \n",
       "\n",
       "   habitat_l  habitat_m  habitat_p  habitat_u  habitat_w  \n",
       "0          0          0          0          1          0  \n",
       "1          0          0          0          0          0  \n",
       "2          0          1          0          0          0  \n",
       "3          0          0          0          1          0  \n",
       "4          0          0          0          0          0  \n",
       "\n",
       "[5 rows x 117 columns]"
      ]
     },
     "execution_count": 72,
     "metadata": {},
     "output_type": "execute_result"
    }
   ],
   "source": [
    "# 원핫 인코딩할 컬럼 뽑아서 넣어 주어야 함\n",
    "X_one_hot = pd.get_dummies(X2)\n",
    "X_one_hot.head()"
   ]
  },
  {
   "cell_type": "markdown",
   "id": "75c039a7",
   "metadata": {},
   "source": [
    "## 훈련과 평가로 데이터 분리"
   ]
  },
  {
   "cell_type": "code",
   "execution_count": 73,
   "id": "d62b3bec",
   "metadata": {},
   "outputs": [],
   "source": [
    "from sklearn.model_selection import train_test_split\n",
    "X_train , X_test , y_train, y_test = train_test_split(X_one_hot , y,\n",
    "                                                     test_size = 0.3)"
   ]
  },
  {
   "cell_type": "markdown",
   "id": "6446a926",
   "metadata": {},
   "source": [
    "## 모델 불러오기"
   ]
  },
  {
   "cell_type": "code",
   "execution_count": 74,
   "id": "79242229",
   "metadata": {},
   "outputs": [],
   "source": [
    "from sklearn.tree import DecisionTreeClassifier\n",
    "tree_model = DecisionTreeClassifier()"
   ]
  },
  {
   "cell_type": "markdown",
   "id": "b07dae84",
   "metadata": {},
   "source": [
    "# 학습"
   ]
  },
  {
   "cell_type": "code",
   "execution_count": 75,
   "id": "0237dce6",
   "metadata": {},
   "outputs": [
    {
     "data": {
      "text/plain": [
       "DecisionTreeClassifier()"
      ]
     },
     "execution_count": 75,
     "metadata": {},
     "output_type": "execute_result"
    }
   ],
   "source": [
    "tree_model.fit(X_train, y_train)"
   ]
  },
  {
   "cell_type": "markdown",
   "id": "769023b2",
   "metadata": {},
   "source": [
    "# 평가"
   ]
  },
  {
   "cell_type": "code",
   "execution_count": 76,
   "id": "5f52bff3",
   "metadata": {},
   "outputs": [
    {
     "data": {
      "text/plain": [
       "1.0"
      ]
     },
     "execution_count": 76,
     "metadata": {},
     "output_type": "execute_result"
    }
   ],
   "source": [
    "tree_model.score(X_train, y_train)"
   ]
  },
  {
   "cell_type": "code",
   "execution_count": 77,
   "id": "4a9bddaf",
   "metadata": {
    "scrolled": true
   },
   "outputs": [
    {
     "data": {
      "text/plain": [
       "1.0"
      ]
     },
     "execution_count": 77,
     "metadata": {},
     "output_type": "execute_result"
    }
   ],
   "source": [
    "tree_model.score(X_test, y_test)"
   ]
  },
  {
   "cell_type": "markdown",
   "id": "2f1cab39",
   "metadata": {},
   "source": [
    "# 시각화"
   ]
  },
  {
   "cell_type": "code",
   "execution_count": 78,
   "id": "21c243a3",
   "metadata": {},
   "outputs": [
    {
     "name": "stdout",
     "output_type": "stream",
     "text": [
      "Requirement already satisfied: graphviz in c:\\users\\smhrd\\anaconda3\\lib\\site-packages (0.19.1)\n"
     ]
    }
   ],
   "source": [
    "!pip install graphviz"
   ]
  },
  {
   "cell_type": "code",
   "execution_count": 79,
   "id": "adf5f4ec",
   "metadata": {},
   "outputs": [],
   "source": [
    "# 환경 변수\n",
    "import os\n",
    "os.environ[\"PATH\"]+=os.pathsep+'C:/Program Files/Graphviz/bin/'"
   ]
  },
  {
   "cell_type": "code",
   "execution_count": 80,
   "id": "a2c699c1",
   "metadata": {},
   "outputs": [],
   "source": [
    "# impurity가 불순도를 표시해주는거\n",
    "from sklearn.tree import export_graphviz\n",
    "export_graphviz(tree_model, out_file='tree.dot',\n",
    "               class_names=['p','e'],\n",
    "               feature_names=X_one_hot.columns,\n",
    "               impurity=True,\n",
    "               filled=True)"
   ]
  },
  {
   "cell_type": "code",
   "execution_count": 81,
   "id": "3f43c8ac",
   "metadata": {},
   "outputs": [
    {
     "data": {
      "image/svg+xml": [
       "<?xml version=\"1.0\" encoding=\"UTF-8\" standalone=\"no\"?>\n",
       "<!DOCTYPE svg PUBLIC \"-//W3C//DTD SVG 1.1//EN\"\n",
       " \"http://www.w3.org/Graphics/SVG/1.1/DTD/svg11.dtd\">\n",
       "<!-- Generated by graphviz version 2.50.0 (20211204.2007)\n",
       " -->\n",
       "<!-- Title: Tree Pages: 1 -->\n",
       "<svg width=\"1007pt\" height=\"909pt\"\n",
       " viewBox=\"0.00 0.00 1007.00 909.00\" xmlns=\"http://www.w3.org/2000/svg\" xmlns:xlink=\"http://www.w3.org/1999/xlink\">\n",
       "<g id=\"graph0\" class=\"graph\" transform=\"scale(1 1) rotate(0) translate(4 905)\">\n",
       "<title>Tree</title>\n",
       "<polygon fill=\"white\" stroke=\"transparent\" points=\"-4,4 -4,-905 1003,-905 1003,4 -4,4\"/>\n",
       "<!-- 0 -->\n",
       "<g id=\"node1\" class=\"node\">\n",
       "<title>0</title>\n",
       "<polygon fill=\"#fcf2eb\" stroke=\"black\" points=\"664.5,-901 533.5,-901 533.5,-818 664.5,-818 664.5,-901\"/>\n",
       "<text text-anchor=\"middle\" x=\"599\" y=\"-885.8\" font-family=\"Times New Roman,serif\" font-size=\"14.00\">odor_n &lt;= 0.5</text>\n",
       "<text text-anchor=\"middle\" x=\"599\" y=\"-870.8\" font-family=\"Times New Roman,serif\" font-size=\"14.00\">gini = 0.499</text>\n",
       "<text text-anchor=\"middle\" x=\"599\" y=\"-855.8\" font-family=\"Times New Roman,serif\" font-size=\"14.00\">samples = 5686</text>\n",
       "<text text-anchor=\"middle\" x=\"599\" y=\"-840.8\" font-family=\"Times New Roman,serif\" font-size=\"14.00\">value = [2996, 2690]</text>\n",
       "<text text-anchor=\"middle\" x=\"599\" y=\"-825.8\" font-family=\"Times New Roman,serif\" font-size=\"14.00\">class = p</text>\n",
       "</g>\n",
       "<!-- 1 -->\n",
       "<g id=\"node2\" class=\"node\">\n",
       "<title>1</title>\n",
       "<polygon fill=\"#64b2eb\" stroke=\"black\" points=\"566.5,-782 441.5,-782 441.5,-699 566.5,-699 566.5,-782\"/>\n",
       "<text text-anchor=\"middle\" x=\"504\" y=\"-766.8\" font-family=\"Times New Roman,serif\" font-size=\"14.00\">stalk&#45;root_c &lt;= 0.5</text>\n",
       "<text text-anchor=\"middle\" x=\"504\" y=\"-751.8\" font-family=\"Times New Roman,serif\" font-size=\"14.00\">gini = 0.295</text>\n",
       "<text text-anchor=\"middle\" x=\"504\" y=\"-736.8\" font-family=\"Times New Roman,serif\" font-size=\"14.00\">samples = 3179</text>\n",
       "<text text-anchor=\"middle\" x=\"504\" y=\"-721.8\" font-family=\"Times New Roman,serif\" font-size=\"14.00\">value = [571, 2608]</text>\n",
       "<text text-anchor=\"middle\" x=\"504\" y=\"-706.8\" font-family=\"Times New Roman,serif\" font-size=\"14.00\">class = e</text>\n",
       "</g>\n",
       "<!-- 0&#45;&gt;1 -->\n",
       "<g id=\"edge1\" class=\"edge\">\n",
       "<title>0&#45;&gt;1</title>\n",
       "<path fill=\"none\" stroke=\"black\" d=\"M566.04,-817.91C558.75,-808.92 550.94,-799.32 543.42,-790.05\"/>\n",
       "<polygon fill=\"black\" stroke=\"black\" points=\"545.92,-787.58 536.9,-782.02 540.49,-791.99 545.92,-787.58\"/>\n",
       "<text text-anchor=\"middle\" x=\"534.32\" y=\"-803.19\" font-family=\"Times New Roman,serif\" font-size=\"14.00\">True</text>\n",
       "</g>\n",
       "<!-- 12 -->\n",
       "<g id=\"node13\" class=\"node\">\n",
       "<title>12</title>\n",
       "<polygon fill=\"#e68540\" stroke=\"black\" points=\"777.5,-782 612.5,-782 612.5,-699 777.5,-699 777.5,-782\"/>\n",
       "<text text-anchor=\"middle\" x=\"695\" y=\"-766.8\" font-family=\"Times New Roman,serif\" font-size=\"14.00\">spore&#45;print&#45;color_r &lt;= 0.5</text>\n",
       "<text text-anchor=\"middle\" x=\"695\" y=\"-751.8\" font-family=\"Times New Roman,serif\" font-size=\"14.00\">gini = 0.063</text>\n",
       "<text text-anchor=\"middle\" x=\"695\" y=\"-736.8\" font-family=\"Times New Roman,serif\" font-size=\"14.00\">samples = 2507</text>\n",
       "<text text-anchor=\"middle\" x=\"695\" y=\"-721.8\" font-family=\"Times New Roman,serif\" font-size=\"14.00\">value = [2425, 82]</text>\n",
       "<text text-anchor=\"middle\" x=\"695\" y=\"-706.8\" font-family=\"Times New Roman,serif\" font-size=\"14.00\">class = p</text>\n",
       "</g>\n",
       "<!-- 0&#45;&gt;12 -->\n",
       "<g id=\"edge12\" class=\"edge\">\n",
       "<title>0&#45;&gt;12</title>\n",
       "<path fill=\"none\" stroke=\"black\" d=\"M632.31,-817.91C639.75,-808.83 647.72,-799.12 655.39,-789.77\"/>\n",
       "<polygon fill=\"black\" stroke=\"black\" points=\"658.11,-791.97 661.75,-782.02 652.7,-787.53 658.11,-791.97\"/>\n",
       "<text text-anchor=\"middle\" x=\"664.21\" y=\"-803.2\" font-family=\"Times New Roman,serif\" font-size=\"14.00\">False</text>\n",
       "</g>\n",
       "<!-- 2 -->\n",
       "<g id=\"node3\" class=\"node\">\n",
       "<title>2</title>\n",
       "<polygon fill=\"#49a5e7\" stroke=\"black\" points=\"416,-663 210,-663 210,-580 416,-580 416,-663\"/>\n",
       "<text text-anchor=\"middle\" x=\"313\" y=\"-647.8\" font-family=\"Times New Roman,serif\" font-size=\"14.00\">stalk&#45;surface&#45;below&#45;ring_y &lt;= 0.5</text>\n",
       "<text text-anchor=\"middle\" x=\"313\" y=\"-632.8\" font-family=\"Times New Roman,serif\" font-size=\"14.00\">gini = 0.137</text>\n",
       "<text text-anchor=\"middle\" x=\"313\" y=\"-617.8\" font-family=\"Times New Roman,serif\" font-size=\"14.00\">samples = 2788</text>\n",
       "<text text-anchor=\"middle\" x=\"313\" y=\"-602.8\" font-family=\"Times New Roman,serif\" font-size=\"14.00\">value = [206, 2582]</text>\n",
       "<text text-anchor=\"middle\" x=\"313\" y=\"-587.8\" font-family=\"Times New Roman,serif\" font-size=\"14.00\">class = e</text>\n",
       "</g>\n",
       "<!-- 1&#45;&gt;2 -->\n",
       "<g id=\"edge2\" class=\"edge\">\n",
       "<title>1&#45;&gt;2</title>\n",
       "<path fill=\"none\" stroke=\"black\" d=\"M441.46,-701.19C424.35,-690.71 405.63,-679.24 387.91,-668.38\"/>\n",
       "<polygon fill=\"black\" stroke=\"black\" points=\"389.65,-665.35 379.3,-663.11 385.99,-671.32 389.65,-665.35\"/>\n",
       "</g>\n",
       "<!-- 9 -->\n",
       "<g id=\"node10\" class=\"node\">\n",
       "<title>9</title>\n",
       "<polygon fill=\"#e78a47\" stroke=\"black\" points=\"574,-663 434,-663 434,-580 574,-580 574,-663\"/>\n",
       "<text text-anchor=\"middle\" x=\"504\" y=\"-647.8\" font-family=\"Times New Roman,serif\" font-size=\"14.00\">ring&#45;number_n &lt;= 0.5</text>\n",
       "<text text-anchor=\"middle\" x=\"504\" y=\"-632.8\" font-family=\"Times New Roman,serif\" font-size=\"14.00\">gini = 0.124</text>\n",
       "<text text-anchor=\"middle\" x=\"504\" y=\"-617.8\" font-family=\"Times New Roman,serif\" font-size=\"14.00\">samples = 391</text>\n",
       "<text text-anchor=\"middle\" x=\"504\" y=\"-602.8\" font-family=\"Times New Roman,serif\" font-size=\"14.00\">value = [365, 26]</text>\n",
       "<text text-anchor=\"middle\" x=\"504\" y=\"-587.8\" font-family=\"Times New Roman,serif\" font-size=\"14.00\">class = p</text>\n",
       "</g>\n",
       "<!-- 1&#45;&gt;9 -->\n",
       "<g id=\"edge9\" class=\"edge\">\n",
       "<title>1&#45;&gt;9</title>\n",
       "<path fill=\"none\" stroke=\"black\" d=\"M504,-698.91C504,-690.65 504,-681.86 504,-673.3\"/>\n",
       "<polygon fill=\"black\" stroke=\"black\" points=\"507.5,-673.02 504,-663.02 500.5,-673.02 507.5,-673.02\"/>\n",
       "</g>\n",
       "<!-- 3 -->\n",
       "<g id=\"node4\" class=\"node\">\n",
       "<title>3</title>\n",
       "<polygon fill=\"#3fa0e6\" stroke=\"black\" points=\"243.5,-544 108.5,-544 108.5,-461 243.5,-461 243.5,-544\"/>\n",
       "<text text-anchor=\"middle\" x=\"176\" y=\"-528.8\" font-family=\"Times New Roman,serif\" font-size=\"14.00\">gill&#45;spacing_c &lt;= 0.5</text>\n",
       "<text text-anchor=\"middle\" x=\"176\" y=\"-513.8\" font-family=\"Times New Roman,serif\" font-size=\"14.00\">gini = 0.053</text>\n",
       "<text text-anchor=\"middle\" x=\"176\" y=\"-498.8\" font-family=\"Times New Roman,serif\" font-size=\"14.00\">samples = 2654</text>\n",
       "<text text-anchor=\"middle\" x=\"176\" y=\"-483.8\" font-family=\"Times New Roman,serif\" font-size=\"14.00\">value = [72, 2582]</text>\n",
       "<text text-anchor=\"middle\" x=\"176\" y=\"-468.8\" font-family=\"Times New Roman,serif\" font-size=\"14.00\">class = e</text>\n",
       "</g>\n",
       "<!-- 2&#45;&gt;3 -->\n",
       "<g id=\"edge3\" class=\"edge\">\n",
       "<title>2&#45;&gt;3</title>\n",
       "<path fill=\"none\" stroke=\"black\" d=\"M265.47,-579.91C254.42,-570.47 242.56,-560.34 231.21,-550.65\"/>\n",
       "<polygon fill=\"black\" stroke=\"black\" points=\"233.32,-547.85 223.45,-544.02 228.78,-553.18 233.32,-547.85\"/>\n",
       "</g>\n",
       "<!-- 8 -->\n",
       "<g id=\"node9\" class=\"node\">\n",
       "<title>8</title>\n",
       "<polygon fill=\"#e58139\" stroke=\"black\" points=\"366,-536.5 262,-536.5 262,-468.5 366,-468.5 366,-536.5\"/>\n",
       "<text text-anchor=\"middle\" x=\"314\" y=\"-521.3\" font-family=\"Times New Roman,serif\" font-size=\"14.00\">gini = 0.0</text>\n",
       "<text text-anchor=\"middle\" x=\"314\" y=\"-506.3\" font-family=\"Times New Roman,serif\" font-size=\"14.00\">samples = 134</text>\n",
       "<text text-anchor=\"middle\" x=\"314\" y=\"-491.3\" font-family=\"Times New Roman,serif\" font-size=\"14.00\">value = [134, 0]</text>\n",
       "<text text-anchor=\"middle\" x=\"314\" y=\"-476.3\" font-family=\"Times New Roman,serif\" font-size=\"14.00\">class = p</text>\n",
       "</g>\n",
       "<!-- 2&#45;&gt;8 -->\n",
       "<g id=\"edge8\" class=\"edge\">\n",
       "<title>2&#45;&gt;8</title>\n",
       "<path fill=\"none\" stroke=\"black\" d=\"M313.35,-579.91C313.44,-569.2 313.54,-557.62 313.63,-546.78\"/>\n",
       "<polygon fill=\"black\" stroke=\"black\" points=\"317.13,-546.7 313.72,-536.67 310.13,-546.64 317.13,-546.7\"/>\n",
       "</g>\n",
       "<!-- 4 -->\n",
       "<g id=\"node5\" class=\"node\">\n",
       "<title>4</title>\n",
       "<polygon fill=\"#fbece1\" stroke=\"black\" points=\"172.5,-425 41.5,-425 41.5,-342 172.5,-342 172.5,-425\"/>\n",
       "<text text-anchor=\"middle\" x=\"107\" y=\"-409.8\" font-family=\"Times New Roman,serif\" font-size=\"14.00\">stalk&#45;shape_t &lt;= 0.5</text>\n",
       "<text text-anchor=\"middle\" x=\"107\" y=\"-394.8\" font-family=\"Times New Roman,serif\" font-size=\"14.00\">gini = 0.497</text>\n",
       "<text text-anchor=\"middle\" x=\"107\" y=\"-379.8\" font-family=\"Times New Roman,serif\" font-size=\"14.00\">samples = 133</text>\n",
       "<text text-anchor=\"middle\" x=\"107\" y=\"-364.8\" font-family=\"Times New Roman,serif\" font-size=\"14.00\">value = [72, 61]</text>\n",
       "<text text-anchor=\"middle\" x=\"107\" y=\"-349.8\" font-family=\"Times New Roman,serif\" font-size=\"14.00\">class = p</text>\n",
       "</g>\n",
       "<!-- 3&#45;&gt;4 -->\n",
       "<g id=\"edge4\" class=\"edge\">\n",
       "<title>3&#45;&gt;4</title>\n",
       "<path fill=\"none\" stroke=\"black\" d=\"M152.06,-460.91C146.92,-452.2 141.44,-442.9 136.13,-433.89\"/>\n",
       "<polygon fill=\"black\" stroke=\"black\" points=\"138.99,-431.86 130.9,-425.02 132.96,-435.41 138.99,-431.86\"/>\n",
       "</g>\n",
       "<!-- 7 -->\n",
       "<g id=\"node8\" class=\"node\">\n",
       "<title>7</title>\n",
       "<polygon fill=\"#399de5\" stroke=\"black\" points=\"301.5,-417.5 190.5,-417.5 190.5,-349.5 301.5,-349.5 301.5,-417.5\"/>\n",
       "<text text-anchor=\"middle\" x=\"246\" y=\"-402.3\" font-family=\"Times New Roman,serif\" font-size=\"14.00\">gini = 0.0</text>\n",
       "<text text-anchor=\"middle\" x=\"246\" y=\"-387.3\" font-family=\"Times New Roman,serif\" font-size=\"14.00\">samples = 2521</text>\n",
       "<text text-anchor=\"middle\" x=\"246\" y=\"-372.3\" font-family=\"Times New Roman,serif\" font-size=\"14.00\">value = [0, 2521]</text>\n",
       "<text text-anchor=\"middle\" x=\"246\" y=\"-357.3\" font-family=\"Times New Roman,serif\" font-size=\"14.00\">class = e</text>\n",
       "</g>\n",
       "<!-- 3&#45;&gt;7 -->\n",
       "<g id=\"edge7\" class=\"edge\">\n",
       "<title>3&#45;&gt;7</title>\n",
       "<path fill=\"none\" stroke=\"black\" d=\"M200.29,-460.91C206.95,-449.76 214.2,-437.66 220.91,-426.44\"/>\n",
       "<polygon fill=\"black\" stroke=\"black\" points=\"224.03,-428.05 226.16,-417.67 218.02,-424.45 224.03,-428.05\"/>\n",
       "</g>\n",
       "<!-- 5 -->\n",
       "<g id=\"node6\" class=\"node\">\n",
       "<title>5</title>\n",
       "<polygon fill=\"#399de5\" stroke=\"black\" points=\"98,-298.5 0,-298.5 0,-230.5 98,-230.5 98,-298.5\"/>\n",
       "<text text-anchor=\"middle\" x=\"49\" y=\"-283.3\" font-family=\"Times New Roman,serif\" font-size=\"14.00\">gini = 0.0</text>\n",
       "<text text-anchor=\"middle\" x=\"49\" y=\"-268.3\" font-family=\"Times New Roman,serif\" font-size=\"14.00\">samples = 61</text>\n",
       "<text text-anchor=\"middle\" x=\"49\" y=\"-253.3\" font-family=\"Times New Roman,serif\" font-size=\"14.00\">value = [0, 61]</text>\n",
       "<text text-anchor=\"middle\" x=\"49\" y=\"-238.3\" font-family=\"Times New Roman,serif\" font-size=\"14.00\">class = e</text>\n",
       "</g>\n",
       "<!-- 4&#45;&gt;5 -->\n",
       "<g id=\"edge5\" class=\"edge\">\n",
       "<title>4&#45;&gt;5</title>\n",
       "<path fill=\"none\" stroke=\"black\" d=\"M86.88,-341.91C81.41,-330.87 75.47,-318.9 69.96,-307.77\"/>\n",
       "<polygon fill=\"black\" stroke=\"black\" points=\"73.02,-306.07 65.44,-298.67 66.75,-309.18 73.02,-306.07\"/>\n",
       "</g>\n",
       "<!-- 6 -->\n",
       "<g id=\"node7\" class=\"node\">\n",
       "<title>6</title>\n",
       "<polygon fill=\"#e58139\" stroke=\"black\" points=\"214,-298.5 116,-298.5 116,-230.5 214,-230.5 214,-298.5\"/>\n",
       "<text text-anchor=\"middle\" x=\"165\" y=\"-283.3\" font-family=\"Times New Roman,serif\" font-size=\"14.00\">gini = 0.0</text>\n",
       "<text text-anchor=\"middle\" x=\"165\" y=\"-268.3\" font-family=\"Times New Roman,serif\" font-size=\"14.00\">samples = 72</text>\n",
       "<text text-anchor=\"middle\" x=\"165\" y=\"-253.3\" font-family=\"Times New Roman,serif\" font-size=\"14.00\">value = [72, 0]</text>\n",
       "<text text-anchor=\"middle\" x=\"165\" y=\"-238.3\" font-family=\"Times New Roman,serif\" font-size=\"14.00\">class = p</text>\n",
       "</g>\n",
       "<!-- 4&#45;&gt;6 -->\n",
       "<g id=\"edge6\" class=\"edge\">\n",
       "<title>4&#45;&gt;6</title>\n",
       "<path fill=\"none\" stroke=\"black\" d=\"M127.12,-341.91C132.59,-330.87 138.53,-318.9 144.04,-307.77\"/>\n",
       "<polygon fill=\"black\" stroke=\"black\" points=\"147.25,-309.18 148.56,-298.67 140.98,-306.07 147.25,-309.18\"/>\n",
       "</g>\n",
       "<!-- 10 -->\n",
       "<g id=\"node11\" class=\"node\">\n",
       "<title>10</title>\n",
       "<polygon fill=\"#e58139\" stroke=\"black\" points=\"490,-536.5 386,-536.5 386,-468.5 490,-468.5 490,-536.5\"/>\n",
       "<text text-anchor=\"middle\" x=\"438\" y=\"-521.3\" font-family=\"Times New Roman,serif\" font-size=\"14.00\">gini = 0.0</text>\n",
       "<text text-anchor=\"middle\" x=\"438\" y=\"-506.3\" font-family=\"Times New Roman,serif\" font-size=\"14.00\">samples = 365</text>\n",
       "<text text-anchor=\"middle\" x=\"438\" y=\"-491.3\" font-family=\"Times New Roman,serif\" font-size=\"14.00\">value = [365, 0]</text>\n",
       "<text text-anchor=\"middle\" x=\"438\" y=\"-476.3\" font-family=\"Times New Roman,serif\" font-size=\"14.00\">class = p</text>\n",
       "</g>\n",
       "<!-- 9&#45;&gt;10 -->\n",
       "<g id=\"edge10\" class=\"edge\">\n",
       "<title>9&#45;&gt;10</title>\n",
       "<path fill=\"none\" stroke=\"black\" d=\"M481.1,-579.91C474.81,-568.76 467.99,-556.66 461.66,-545.44\"/>\n",
       "<polygon fill=\"black\" stroke=\"black\" points=\"464.67,-543.66 456.71,-536.67 458.57,-547.1 464.67,-543.66\"/>\n",
       "</g>\n",
       "<!-- 11 -->\n",
       "<g id=\"node12\" class=\"node\">\n",
       "<title>11</title>\n",
       "<polygon fill=\"#399de5\" stroke=\"black\" points=\"606,-536.5 508,-536.5 508,-468.5 606,-468.5 606,-536.5\"/>\n",
       "<text text-anchor=\"middle\" x=\"557\" y=\"-521.3\" font-family=\"Times New Roman,serif\" font-size=\"14.00\">gini = 0.0</text>\n",
       "<text text-anchor=\"middle\" x=\"557\" y=\"-506.3\" font-family=\"Times New Roman,serif\" font-size=\"14.00\">samples = 26</text>\n",
       "<text text-anchor=\"middle\" x=\"557\" y=\"-491.3\" font-family=\"Times New Roman,serif\" font-size=\"14.00\">value = [0, 26]</text>\n",
       "<text text-anchor=\"middle\" x=\"557\" y=\"-476.3\" font-family=\"Times New Roman,serif\" font-size=\"14.00\">class = e</text>\n",
       "</g>\n",
       "<!-- 9&#45;&gt;11 -->\n",
       "<g id=\"edge11\" class=\"edge\">\n",
       "<title>9&#45;&gt;11</title>\n",
       "<path fill=\"none\" stroke=\"black\" d=\"M522.39,-579.91C527.34,-568.98 532.7,-557.14 537.7,-546.11\"/>\n",
       "<polygon fill=\"black\" stroke=\"black\" points=\"541.04,-547.22 541.98,-536.67 534.66,-544.33 541.04,-547.22\"/>\n",
       "</g>\n",
       "<!-- 13 -->\n",
       "<g id=\"node14\" class=\"node\">\n",
       "<title>13</title>\n",
       "<polygon fill=\"#e5833c\" stroke=\"black\" points=\"798,-663 592,-663 592,-580 798,-580 798,-663\"/>\n",
       "<text text-anchor=\"middle\" x=\"695\" y=\"-647.8\" font-family=\"Times New Roman,serif\" font-size=\"14.00\">stalk&#45;surface&#45;below&#45;ring_y &lt;= 0.5</text>\n",
       "<text text-anchor=\"middle\" x=\"695\" y=\"-632.8\" font-family=\"Times New Roman,serif\" font-size=\"14.00\">gini = 0.026</text>\n",
       "<text text-anchor=\"middle\" x=\"695\" y=\"-617.8\" font-family=\"Times New Roman,serif\" font-size=\"14.00\">samples = 2457</text>\n",
       "<text text-anchor=\"middle\" x=\"695\" y=\"-602.8\" font-family=\"Times New Roman,serif\" font-size=\"14.00\">value = [2425, 32]</text>\n",
       "<text text-anchor=\"middle\" x=\"695\" y=\"-587.8\" font-family=\"Times New Roman,serif\" font-size=\"14.00\">class = p</text>\n",
       "</g>\n",
       "<!-- 12&#45;&gt;13 -->\n",
       "<g id=\"edge13\" class=\"edge\">\n",
       "<title>12&#45;&gt;13</title>\n",
       "<path fill=\"none\" stroke=\"black\" d=\"M695,-698.91C695,-690.65 695,-681.86 695,-673.3\"/>\n",
       "<polygon fill=\"black\" stroke=\"black\" points=\"698.5,-673.02 695,-663.02 691.5,-673.02 698.5,-673.02\"/>\n",
       "</g>\n",
       "<!-- 26 -->\n",
       "<g id=\"node27\" class=\"node\">\n",
       "<title>26</title>\n",
       "<polygon fill=\"#399de5\" stroke=\"black\" points=\"914,-655.5 816,-655.5 816,-587.5 914,-587.5 914,-655.5\"/>\n",
       "<text text-anchor=\"middle\" x=\"865\" y=\"-640.3\" font-family=\"Times New Roman,serif\" font-size=\"14.00\">gini = 0.0</text>\n",
       "<text text-anchor=\"middle\" x=\"865\" y=\"-625.3\" font-family=\"Times New Roman,serif\" font-size=\"14.00\">samples = 50</text>\n",
       "<text text-anchor=\"middle\" x=\"865\" y=\"-610.3\" font-family=\"Times New Roman,serif\" font-size=\"14.00\">value = [0, 50]</text>\n",
       "<text text-anchor=\"middle\" x=\"865\" y=\"-595.3\" font-family=\"Times New Roman,serif\" font-size=\"14.00\">class = e</text>\n",
       "</g>\n",
       "<!-- 12&#45;&gt;26 -->\n",
       "<g id=\"edge26\" class=\"edge\">\n",
       "<title>12&#45;&gt;26</title>\n",
       "<path fill=\"none\" stroke=\"black\" d=\"M754.66,-698.92C771.6,-687.35 790.05,-674.71 807,-663 807.75,-662.48 808.51,-661.96 809.27,-661.43\"/>\n",
       "<polygon fill=\"black\" stroke=\"black\" points=\"811.32,-664.27 817.55,-655.69 807.34,-658.51 811.32,-664.27\"/>\n",
       "</g>\n",
       "<!-- 14 -->\n",
       "<g id=\"node15\" class=\"node\">\n",
       "<title>14</title>\n",
       "<polygon fill=\"#e5813a\" stroke=\"black\" points=\"762.5,-544 625.5,-544 625.5,-461 762.5,-461 762.5,-544\"/>\n",
       "<text text-anchor=\"middle\" x=\"694\" y=\"-528.8\" font-family=\"Times New Roman,serif\" font-size=\"14.00\">cap&#45;surface_g &lt;= 0.5</text>\n",
       "<text text-anchor=\"middle\" x=\"694\" y=\"-513.8\" font-family=\"Times New Roman,serif\" font-size=\"14.00\">gini = 0.006</text>\n",
       "<text text-anchor=\"middle\" x=\"694\" y=\"-498.8\" font-family=\"Times New Roman,serif\" font-size=\"14.00\">samples = 2421</text>\n",
       "<text text-anchor=\"middle\" x=\"694\" y=\"-483.8\" font-family=\"Times New Roman,serif\" font-size=\"14.00\">value = [2414, 7]</text>\n",
       "<text text-anchor=\"middle\" x=\"694\" y=\"-468.8\" font-family=\"Times New Roman,serif\" font-size=\"14.00\">class = p</text>\n",
       "</g>\n",
       "<!-- 13&#45;&gt;14 -->\n",
       "<g id=\"edge14\" class=\"edge\">\n",
       "<title>13&#45;&gt;14</title>\n",
       "<path fill=\"none\" stroke=\"black\" d=\"M694.65,-579.91C694.58,-571.65 694.51,-562.86 694.43,-554.3\"/>\n",
       "<polygon fill=\"black\" stroke=\"black\" points=\"697.93,-553.99 694.35,-544.02 690.93,-554.05 697.93,-553.99\"/>\n",
       "</g>\n",
       "<!-- 23 -->\n",
       "<g id=\"node24\" class=\"node\">\n",
       "<title>23</title>\n",
       "<polygon fill=\"#90c8f0\" stroke=\"black\" points=\"907,-544 781,-544 781,-461 907,-461 907,-544\"/>\n",
       "<text text-anchor=\"middle\" x=\"844\" y=\"-528.8\" font-family=\"Times New Roman,serif\" font-size=\"14.00\">stalk&#45;root_b &lt;= 0.5</text>\n",
       "<text text-anchor=\"middle\" x=\"844\" y=\"-513.8\" font-family=\"Times New Roman,serif\" font-size=\"14.00\">gini = 0.424</text>\n",
       "<text text-anchor=\"middle\" x=\"844\" y=\"-498.8\" font-family=\"Times New Roman,serif\" font-size=\"14.00\">samples = 36</text>\n",
       "<text text-anchor=\"middle\" x=\"844\" y=\"-483.8\" font-family=\"Times New Roman,serif\" font-size=\"14.00\">value = [11, 25]</text>\n",
       "<text text-anchor=\"middle\" x=\"844\" y=\"-468.8\" font-family=\"Times New Roman,serif\" font-size=\"14.00\">class = e</text>\n",
       "</g>\n",
       "<!-- 13&#45;&gt;23 -->\n",
       "<g id=\"edge23\" class=\"edge\">\n",
       "<title>13&#45;&gt;23</title>\n",
       "<path fill=\"none\" stroke=\"black\" d=\"M746.69,-579.91C758.83,-570.38 771.86,-560.15 784.31,-550.37\"/>\n",
       "<polygon fill=\"black\" stroke=\"black\" points=\"786.69,-552.95 792.4,-544.02 782.37,-547.44 786.69,-552.95\"/>\n",
       "</g>\n",
       "<!-- 15 -->\n",
       "<g id=\"node16\" class=\"node\">\n",
       "<title>15</title>\n",
       "<polygon fill=\"#e58139\" stroke=\"black\" points=\"639.5,-425 510.5,-425 510.5,-342 639.5,-342 639.5,-425\"/>\n",
       "<text text-anchor=\"middle\" x=\"575\" y=\"-409.8\" font-family=\"Times New Roman,serif\" font-size=\"14.00\">cap&#45;shape_c &lt;= 0.5</text>\n",
       "<text text-anchor=\"middle\" x=\"575\" y=\"-394.8\" font-family=\"Times New Roman,serif\" font-size=\"14.00\">gini = 0.002</text>\n",
       "<text text-anchor=\"middle\" x=\"575\" y=\"-379.8\" font-family=\"Times New Roman,serif\" font-size=\"14.00\">samples = 2417</text>\n",
       "<text text-anchor=\"middle\" x=\"575\" y=\"-364.8\" font-family=\"Times New Roman,serif\" font-size=\"14.00\">value = [2414, 3]</text>\n",
       "<text text-anchor=\"middle\" x=\"575\" y=\"-349.8\" font-family=\"Times New Roman,serif\" font-size=\"14.00\">class = p</text>\n",
       "</g>\n",
       "<!-- 14&#45;&gt;15 -->\n",
       "<g id=\"edge15\" class=\"edge\">\n",
       "<title>14&#45;&gt;15</title>\n",
       "<path fill=\"none\" stroke=\"black\" d=\"M652.71,-460.91C643.3,-451.65 633.21,-441.73 623.52,-432.21\"/>\n",
       "<polygon fill=\"black\" stroke=\"black\" points=\"625.8,-429.54 616.21,-425.02 620.89,-434.53 625.8,-429.54\"/>\n",
       "</g>\n",
       "<!-- 22 -->\n",
       "<g id=\"node23\" class=\"node\">\n",
       "<title>22</title>\n",
       "<polygon fill=\"#399de5\" stroke=\"black\" points=\"748.5,-417.5 657.5,-417.5 657.5,-349.5 748.5,-349.5 748.5,-417.5\"/>\n",
       "<text text-anchor=\"middle\" x=\"703\" y=\"-402.3\" font-family=\"Times New Roman,serif\" font-size=\"14.00\">gini = 0.0</text>\n",
       "<text text-anchor=\"middle\" x=\"703\" y=\"-387.3\" font-family=\"Times New Roman,serif\" font-size=\"14.00\">samples = 4</text>\n",
       "<text text-anchor=\"middle\" x=\"703\" y=\"-372.3\" font-family=\"Times New Roman,serif\" font-size=\"14.00\">value = [0, 4]</text>\n",
       "<text text-anchor=\"middle\" x=\"703\" y=\"-357.3\" font-family=\"Times New Roman,serif\" font-size=\"14.00\">class = e</text>\n",
       "</g>\n",
       "<!-- 14&#45;&gt;22 -->\n",
       "<g id=\"edge22\" class=\"edge\">\n",
       "<title>14&#45;&gt;22</title>\n",
       "<path fill=\"none\" stroke=\"black\" d=\"M697.12,-460.91C697.95,-450.2 698.84,-438.62 699.67,-427.78\"/>\n",
       "<polygon fill=\"black\" stroke=\"black\" points=\"703.17,-427.91 700.45,-417.67 696.19,-427.37 703.17,-427.91\"/>\n",
       "</g>\n",
       "<!-- 16 -->\n",
       "<g id=\"node17\" class=\"node\">\n",
       "<title>16</title>\n",
       "<polygon fill=\"#e58139\" stroke=\"black\" points=\"571.5,-306 458.5,-306 458.5,-223 571.5,-223 571.5,-306\"/>\n",
       "<text text-anchor=\"middle\" x=\"515\" y=\"-290.8\" font-family=\"Times New Roman,serif\" font-size=\"14.00\">gill&#45;size_n &lt;= 0.5</text>\n",
       "<text text-anchor=\"middle\" x=\"515\" y=\"-275.8\" font-family=\"Times New Roman,serif\" font-size=\"14.00\">gini = 0.002</text>\n",
       "<text text-anchor=\"middle\" x=\"515\" y=\"-260.8\" font-family=\"Times New Roman,serif\" font-size=\"14.00\">samples = 2416</text>\n",
       "<text text-anchor=\"middle\" x=\"515\" y=\"-245.8\" font-family=\"Times New Roman,serif\" font-size=\"14.00\">value = [2414, 2]</text>\n",
       "<text text-anchor=\"middle\" x=\"515\" y=\"-230.8\" font-family=\"Times New Roman,serif\" font-size=\"14.00\">class = p</text>\n",
       "</g>\n",
       "<!-- 15&#45;&gt;16 -->\n",
       "<g id=\"edge16\" class=\"edge\">\n",
       "<title>15&#45;&gt;16</title>\n",
       "<path fill=\"none\" stroke=\"black\" d=\"M554.18,-341.91C549.76,-333.29 545.05,-324.09 540.47,-315.17\"/>\n",
       "<polygon fill=\"black\" stroke=\"black\" points=\"543.46,-313.32 535.78,-306.02 537.23,-316.52 543.46,-313.32\"/>\n",
       "</g>\n",
       "<!-- 21 -->\n",
       "<g id=\"node22\" class=\"node\">\n",
       "<title>21</title>\n",
       "<polygon fill=\"#399de5\" stroke=\"black\" points=\"680.5,-298.5 589.5,-298.5 589.5,-230.5 680.5,-230.5 680.5,-298.5\"/>\n",
       "<text text-anchor=\"middle\" x=\"635\" y=\"-283.3\" font-family=\"Times New Roman,serif\" font-size=\"14.00\">gini = 0.0</text>\n",
       "<text text-anchor=\"middle\" x=\"635\" y=\"-268.3\" font-family=\"Times New Roman,serif\" font-size=\"14.00\">samples = 1</text>\n",
       "<text text-anchor=\"middle\" x=\"635\" y=\"-253.3\" font-family=\"Times New Roman,serif\" font-size=\"14.00\">value = [0, 1]</text>\n",
       "<text text-anchor=\"middle\" x=\"635\" y=\"-238.3\" font-family=\"Times New Roman,serif\" font-size=\"14.00\">class = e</text>\n",
       "</g>\n",
       "<!-- 15&#45;&gt;21 -->\n",
       "<g id=\"edge21\" class=\"edge\">\n",
       "<title>15&#45;&gt;21</title>\n",
       "<path fill=\"none\" stroke=\"black\" d=\"M595.82,-341.91C601.48,-330.87 607.62,-318.9 613.32,-307.77\"/>\n",
       "<polygon fill=\"black\" stroke=\"black\" points=\"616.54,-309.16 617.99,-298.67 610.31,-305.97 616.54,-309.16\"/>\n",
       "</g>\n",
       "<!-- 17 -->\n",
       "<g id=\"node18\" class=\"node\">\n",
       "<title>17</title>\n",
       "<polygon fill=\"#e58139\" stroke=\"black\" points=\"506.5,-179.5 395.5,-179.5 395.5,-111.5 506.5,-111.5 506.5,-179.5\"/>\n",
       "<text text-anchor=\"middle\" x=\"451\" y=\"-164.3\" font-family=\"Times New Roman,serif\" font-size=\"14.00\">gini = 0.0</text>\n",
       "<text text-anchor=\"middle\" x=\"451\" y=\"-149.3\" font-family=\"Times New Roman,serif\" font-size=\"14.00\">samples = 2268</text>\n",
       "<text text-anchor=\"middle\" x=\"451\" y=\"-134.3\" font-family=\"Times New Roman,serif\" font-size=\"14.00\">value = [2268, 0]</text>\n",
       "<text text-anchor=\"middle\" x=\"451\" y=\"-119.3\" font-family=\"Times New Roman,serif\" font-size=\"14.00\">class = p</text>\n",
       "</g>\n",
       "<!-- 16&#45;&gt;17 -->\n",
       "<g id=\"edge17\" class=\"edge\">\n",
       "<title>16&#45;&gt;17</title>\n",
       "<path fill=\"none\" stroke=\"black\" d=\"M492.8,-222.91C486.76,-211.87 480.21,-199.9 474.12,-188.77\"/>\n",
       "<polygon fill=\"black\" stroke=\"black\" points=\"477.01,-186.76 469.14,-179.67 470.87,-190.12 477.01,-186.76\"/>\n",
       "</g>\n",
       "<!-- 18 -->\n",
       "<g id=\"node19\" class=\"node\">\n",
       "<title>18</title>\n",
       "<polygon fill=\"#e5833c\" stroke=\"black\" points=\"635,-187 525,-187 525,-104 635,-104 635,-187\"/>\n",
       "<text text-anchor=\"middle\" x=\"580\" y=\"-171.8\" font-family=\"Times New Roman,serif\" font-size=\"14.00\">bruises_f &lt;= 0.5</text>\n",
       "<text text-anchor=\"middle\" x=\"580\" y=\"-156.8\" font-family=\"Times New Roman,serif\" font-size=\"14.00\">gini = 0.027</text>\n",
       "<text text-anchor=\"middle\" x=\"580\" y=\"-141.8\" font-family=\"Times New Roman,serif\" font-size=\"14.00\">samples = 148</text>\n",
       "<text text-anchor=\"middle\" x=\"580\" y=\"-126.8\" font-family=\"Times New Roman,serif\" font-size=\"14.00\">value = [146, 2]</text>\n",
       "<text text-anchor=\"middle\" x=\"580\" y=\"-111.8\" font-family=\"Times New Roman,serif\" font-size=\"14.00\">class = p</text>\n",
       "</g>\n",
       "<!-- 16&#45;&gt;18 -->\n",
       "<g id=\"edge18\" class=\"edge\">\n",
       "<title>16&#45;&gt;18</title>\n",
       "<path fill=\"none\" stroke=\"black\" d=\"M537.55,-222.91C542.39,-214.2 547.56,-204.9 552.56,-195.89\"/>\n",
       "<polygon fill=\"black\" stroke=\"black\" points=\"555.69,-197.46 557.49,-187.02 549.57,-194.06 555.69,-197.46\"/>\n",
       "</g>\n",
       "<!-- 19 -->\n",
       "<g id=\"node20\" class=\"node\">\n",
       "<title>19</title>\n",
       "<polygon fill=\"#399de5\" stroke=\"black\" points=\"567.5,-68 476.5,-68 476.5,0 567.5,0 567.5,-68\"/>\n",
       "<text text-anchor=\"middle\" x=\"522\" y=\"-52.8\" font-family=\"Times New Roman,serif\" font-size=\"14.00\">gini = 0.0</text>\n",
       "<text text-anchor=\"middle\" x=\"522\" y=\"-37.8\" font-family=\"Times New Roman,serif\" font-size=\"14.00\">samples = 2</text>\n",
       "<text text-anchor=\"middle\" x=\"522\" y=\"-22.8\" font-family=\"Times New Roman,serif\" font-size=\"14.00\">value = [0, 2]</text>\n",
       "<text text-anchor=\"middle\" x=\"522\" y=\"-7.8\" font-family=\"Times New Roman,serif\" font-size=\"14.00\">class = e</text>\n",
       "</g>\n",
       "<!-- 18&#45;&gt;19 -->\n",
       "<g id=\"edge19\" class=\"edge\">\n",
       "<title>18&#45;&gt;19</title>\n",
       "<path fill=\"none\" stroke=\"black\" d=\"M558.4,-103.73C553.81,-95.06 548.96,-85.9 544.34,-77.18\"/>\n",
       "<polygon fill=\"black\" stroke=\"black\" points=\"547.41,-75.5 539.64,-68.3 541.23,-78.77 547.41,-75.5\"/>\n",
       "</g>\n",
       "<!-- 20 -->\n",
       "<g id=\"node21\" class=\"node\">\n",
       "<title>20</title>\n",
       "<polygon fill=\"#e58139\" stroke=\"black\" points=\"690,-68 586,-68 586,0 690,0 690,-68\"/>\n",
       "<text text-anchor=\"middle\" x=\"638\" y=\"-52.8\" font-family=\"Times New Roman,serif\" font-size=\"14.00\">gini = 0.0</text>\n",
       "<text text-anchor=\"middle\" x=\"638\" y=\"-37.8\" font-family=\"Times New Roman,serif\" font-size=\"14.00\">samples = 146</text>\n",
       "<text text-anchor=\"middle\" x=\"638\" y=\"-22.8\" font-family=\"Times New Roman,serif\" font-size=\"14.00\">value = [146, 0]</text>\n",
       "<text text-anchor=\"middle\" x=\"638\" y=\"-7.8\" font-family=\"Times New Roman,serif\" font-size=\"14.00\">class = p</text>\n",
       "</g>\n",
       "<!-- 18&#45;&gt;20 -->\n",
       "<g id=\"edge20\" class=\"edge\">\n",
       "<title>18&#45;&gt;20</title>\n",
       "<path fill=\"none\" stroke=\"black\" d=\"M601.6,-103.73C606.19,-95.06 611.04,-85.9 615.66,-77.18\"/>\n",
       "<polygon fill=\"black\" stroke=\"black\" points=\"618.77,-78.77 620.36,-68.3 612.59,-75.5 618.77,-78.77\"/>\n",
       "</g>\n",
       "<!-- 24 -->\n",
       "<g id=\"node25\" class=\"node\">\n",
       "<title>24</title>\n",
       "<polygon fill=\"#399de5\" stroke=\"black\" points=\"883,-417.5 785,-417.5 785,-349.5 883,-349.5 883,-417.5\"/>\n",
       "<text text-anchor=\"middle\" x=\"834\" y=\"-402.3\" font-family=\"Times New Roman,serif\" font-size=\"14.00\">gini = 0.0</text>\n",
       "<text text-anchor=\"middle\" x=\"834\" y=\"-387.3\" font-family=\"Times New Roman,serif\" font-size=\"14.00\">samples = 25</text>\n",
       "<text text-anchor=\"middle\" x=\"834\" y=\"-372.3\" font-family=\"Times New Roman,serif\" font-size=\"14.00\">value = [0, 25]</text>\n",
       "<text text-anchor=\"middle\" x=\"834\" y=\"-357.3\" font-family=\"Times New Roman,serif\" font-size=\"14.00\">class = e</text>\n",
       "</g>\n",
       "<!-- 23&#45;&gt;24 -->\n",
       "<g id=\"edge24\" class=\"edge\">\n",
       "<title>23&#45;&gt;24</title>\n",
       "<path fill=\"none\" stroke=\"black\" d=\"M840.53,-460.91C839.62,-450.2 838.63,-438.62 837.7,-427.78\"/>\n",
       "<polygon fill=\"black\" stroke=\"black\" points=\"841.17,-427.33 836.83,-417.67 834.2,-427.93 841.17,-427.33\"/>\n",
       "</g>\n",
       "<!-- 25 -->\n",
       "<g id=\"node26\" class=\"node\">\n",
       "<title>25</title>\n",
       "<polygon fill=\"#e58139\" stroke=\"black\" points=\"999,-417.5 901,-417.5 901,-349.5 999,-349.5 999,-417.5\"/>\n",
       "<text text-anchor=\"middle\" x=\"950\" y=\"-402.3\" font-family=\"Times New Roman,serif\" font-size=\"14.00\">gini = 0.0</text>\n",
       "<text text-anchor=\"middle\" x=\"950\" y=\"-387.3\" font-family=\"Times New Roman,serif\" font-size=\"14.00\">samples = 11</text>\n",
       "<text text-anchor=\"middle\" x=\"950\" y=\"-372.3\" font-family=\"Times New Roman,serif\" font-size=\"14.00\">value = [11, 0]</text>\n",
       "<text text-anchor=\"middle\" x=\"950\" y=\"-357.3\" font-family=\"Times New Roman,serif\" font-size=\"14.00\">class = p</text>\n",
       "</g>\n",
       "<!-- 23&#45;&gt;25 -->\n",
       "<g id=\"edge25\" class=\"edge\">\n",
       "<title>23&#45;&gt;25</title>\n",
       "<path fill=\"none\" stroke=\"black\" d=\"M880.78,-460.91C891.27,-449.32 902.71,-436.7 913.21,-425.11\"/>\n",
       "<polygon fill=\"black\" stroke=\"black\" points=\"915.83,-427.43 919.95,-417.67 910.64,-422.73 915.83,-427.43\"/>\n",
       "</g>\n",
       "</g>\n",
       "</svg>\n"
      ],
      "text/plain": [
       "<graphviz.sources.Source at 0x1894bae5f70>"
      ]
     },
     "metadata": {},
     "output_type": "display_data"
    }
   ],
   "source": [
    "import graphviz\n",
    "\n",
    "with open('tree.dot', encoding='UTF8') as f:\n",
    "    dot_graph = f.read()\n",
    "\n",
    "display(graphviz.Source(dot_graph))"
   ]
  },
  {
   "cell_type": "code",
   "execution_count": 82,
   "id": "7ab3e3ea",
   "metadata": {},
   "outputs": [
    {
     "data": {
      "text/plain": [
       "0"
      ]
     },
     "execution_count": 82,
     "metadata": {},
     "output_type": "execute_result"
    }
   ],
   "source": [
    "from subprocess import check_call\n",
    "check_call(['dot','-Tpng','tree.dot','-o','tree.png'])"
   ]
  },
  {
   "cell_type": "markdown",
   "id": "630e0375",
   "metadata": {},
   "source": [
    "# 과대적합 제어"
   ]
  },
  {
   "cell_type": "markdown",
   "id": "a2bd08a2",
   "metadata": {},
   "source": [
    "## leaf node : 10개로 조정\n",
    "- 1. leaf node의 수를 10개로 조정한 decisiontree모델 생성\n",
    "- 2. decisiontree 모델 학습\n",
    "- 3. decisiontree 모델 평가\n",
    "- 4. 시각화"
   ]
  },
  {
   "cell_type": "code",
   "execution_count": 83,
   "id": "26474919",
   "metadata": {},
   "outputs": [],
   "source": [
    "from sklearn.tree import DecisionTreeClassifier\n",
    "tree_model = DecisionTreeClassifier(max_leaf_nodes = 10)"
   ]
  },
  {
   "cell_type": "code",
   "execution_count": 84,
   "id": "644eded4",
   "metadata": {},
   "outputs": [
    {
     "data": {
      "text/plain": [
       "DecisionTreeClassifier(max_leaf_nodes=10)"
      ]
     },
     "execution_count": 84,
     "metadata": {},
     "output_type": "execute_result"
    }
   ],
   "source": [
    "tree_model.fit(X_train, y_train)"
   ]
  },
  {
   "cell_type": "code",
   "execution_count": 85,
   "id": "2b224872",
   "metadata": {},
   "outputs": [
    {
     "data": {
      "text/plain": [
       "0.9987689060851214"
      ]
     },
     "execution_count": 85,
     "metadata": {},
     "output_type": "execute_result"
    }
   ],
   "source": [
    "tree_model.score(X_train, y_train)"
   ]
  },
  {
   "cell_type": "code",
   "execution_count": 86,
   "id": "770626a2",
   "metadata": {},
   "outputs": [
    {
     "data": {
      "text/plain": [
       "0.9995898277276456"
      ]
     },
     "execution_count": 86,
     "metadata": {},
     "output_type": "execute_result"
    }
   ],
   "source": [
    "tree_model.score(X_test, y_test)"
   ]
  },
  {
   "cell_type": "code",
   "execution_count": 87,
   "id": "ca474e79",
   "metadata": {},
   "outputs": [],
   "source": [
    "from sklearn.tree import export_graphviz\n",
    "export_graphviz(tree_model, out_file='tree2.dot',\n",
    "               class_names=['p','e'],\n",
    "               feature_names=X_one_hot.columns,\n",
    "               impurity=True,\n",
    "               filled=True\n",
    "               )"
   ]
  },
  {
   "cell_type": "code",
   "execution_count": 88,
   "id": "3ba988ee",
   "metadata": {},
   "outputs": [
    {
     "data": {
      "image/svg+xml": [
       "<?xml version=\"1.0\" encoding=\"UTF-8\" standalone=\"no\"?>\n",
       "<!DOCTYPE svg PUBLIC \"-//W3C//DTD SVG 1.1//EN\"\n",
       " \"http://www.w3.org/Graphics/SVG/1.1/DTD/svg11.dtd\">\n",
       "<!-- Generated by graphviz version 2.50.0 (20211204.2007)\n",
       " -->\n",
       "<!-- Title: Tree Pages: 1 -->\n",
       "<svg width=\"928pt\" height=\"671pt\"\n",
       " viewBox=\"0.00 0.00 927.50 671.00\" xmlns=\"http://www.w3.org/2000/svg\" xmlns:xlink=\"http://www.w3.org/1999/xlink\">\n",
       "<g id=\"graph0\" class=\"graph\" transform=\"scale(1 1) rotate(0) translate(4 667)\">\n",
       "<title>Tree</title>\n",
       "<polygon fill=\"white\" stroke=\"transparent\" points=\"-4,4 -4,-667 923.5,-667 923.5,4 -4,4\"/>\n",
       "<!-- 0 -->\n",
       "<g id=\"node1\" class=\"node\">\n",
       "<title>0</title>\n",
       "<polygon fill=\"#fcf2eb\" stroke=\"black\" points=\"643,-663 512,-663 512,-580 643,-580 643,-663\"/>\n",
       "<text text-anchor=\"middle\" x=\"577.5\" y=\"-647.8\" font-family=\"Times New Roman,serif\" font-size=\"14.00\">odor_n &lt;= 0.5</text>\n",
       "<text text-anchor=\"middle\" x=\"577.5\" y=\"-632.8\" font-family=\"Times New Roman,serif\" font-size=\"14.00\">gini = 0.499</text>\n",
       "<text text-anchor=\"middle\" x=\"577.5\" y=\"-617.8\" font-family=\"Times New Roman,serif\" font-size=\"14.00\">samples = 5686</text>\n",
       "<text text-anchor=\"middle\" x=\"577.5\" y=\"-602.8\" font-family=\"Times New Roman,serif\" font-size=\"14.00\">value = [2996, 2690]</text>\n",
       "<text text-anchor=\"middle\" x=\"577.5\" y=\"-587.8\" font-family=\"Times New Roman,serif\" font-size=\"14.00\">class = p</text>\n",
       "</g>\n",
       "<!-- 1 -->\n",
       "<g id=\"node2\" class=\"node\">\n",
       "<title>1</title>\n",
       "<polygon fill=\"#64b2eb\" stroke=\"black\" points=\"530,-544 405,-544 405,-461 530,-461 530,-544\"/>\n",
       "<text text-anchor=\"middle\" x=\"467.5\" y=\"-528.8\" font-family=\"Times New Roman,serif\" font-size=\"14.00\">stalk&#45;root_c &lt;= 0.5</text>\n",
       "<text text-anchor=\"middle\" x=\"467.5\" y=\"-513.8\" font-family=\"Times New Roman,serif\" font-size=\"14.00\">gini = 0.295</text>\n",
       "<text text-anchor=\"middle\" x=\"467.5\" y=\"-498.8\" font-family=\"Times New Roman,serif\" font-size=\"14.00\">samples = 3179</text>\n",
       "<text text-anchor=\"middle\" x=\"467.5\" y=\"-483.8\" font-family=\"Times New Roman,serif\" font-size=\"14.00\">value = [571, 2608]</text>\n",
       "<text text-anchor=\"middle\" x=\"467.5\" y=\"-468.8\" font-family=\"Times New Roman,serif\" font-size=\"14.00\">class = e</text>\n",
       "</g>\n",
       "<!-- 0&#45;&gt;1 -->\n",
       "<g id=\"edge1\" class=\"edge\">\n",
       "<title>0&#45;&gt;1</title>\n",
       "<path fill=\"none\" stroke=\"black\" d=\"M539.34,-579.91C530.72,-570.74 521.49,-560.93 512.62,-551.49\"/>\n",
       "<polygon fill=\"black\" stroke=\"black\" points=\"515,-548.91 505.6,-544.02 509.9,-553.7 515,-548.91\"/>\n",
       "<text text-anchor=\"middle\" x=\"504.83\" y=\"-565.31\" font-family=\"Times New Roman,serif\" font-size=\"14.00\">True</text>\n",
       "</g>\n",
       "<!-- 2 -->\n",
       "<g id=\"node13\" class=\"node\">\n",
       "<title>2</title>\n",
       "<polygon fill=\"#e68540\" stroke=\"black\" points=\"770,-544 605,-544 605,-461 770,-461 770,-544\"/>\n",
       "<text text-anchor=\"middle\" x=\"687.5\" y=\"-528.8\" font-family=\"Times New Roman,serif\" font-size=\"14.00\">spore&#45;print&#45;color_r &lt;= 0.5</text>\n",
       "<text text-anchor=\"middle\" x=\"687.5\" y=\"-513.8\" font-family=\"Times New Roman,serif\" font-size=\"14.00\">gini = 0.063</text>\n",
       "<text text-anchor=\"middle\" x=\"687.5\" y=\"-498.8\" font-family=\"Times New Roman,serif\" font-size=\"14.00\">samples = 2507</text>\n",
       "<text text-anchor=\"middle\" x=\"687.5\" y=\"-483.8\" font-family=\"Times New Roman,serif\" font-size=\"14.00\">value = [2425, 82]</text>\n",
       "<text text-anchor=\"middle\" x=\"687.5\" y=\"-468.8\" font-family=\"Times New Roman,serif\" font-size=\"14.00\">class = p</text>\n",
       "</g>\n",
       "<!-- 0&#45;&gt;2 -->\n",
       "<g id=\"edge12\" class=\"edge\">\n",
       "<title>0&#45;&gt;2</title>\n",
       "<path fill=\"none\" stroke=\"black\" d=\"M615.66,-579.91C624.28,-570.74 633.51,-560.93 642.38,-551.49\"/>\n",
       "<polygon fill=\"black\" stroke=\"black\" points=\"645.1,-553.7 649.4,-544.02 640,-548.91 645.1,-553.7\"/>\n",
       "<text text-anchor=\"middle\" x=\"650.17\" y=\"-565.31\" font-family=\"Times New Roman,serif\" font-size=\"14.00\">False</text>\n",
       "</g>\n",
       "<!-- 3 -->\n",
       "<g id=\"node3\" class=\"node\">\n",
       "<title>3</title>\n",
       "<polygon fill=\"#49a5e7\" stroke=\"black\" points=\"350.5,-425 144.5,-425 144.5,-342 350.5,-342 350.5,-425\"/>\n",
       "<text text-anchor=\"middle\" x=\"247.5\" y=\"-409.8\" font-family=\"Times New Roman,serif\" font-size=\"14.00\">stalk&#45;surface&#45;below&#45;ring_y &lt;= 0.5</text>\n",
       "<text text-anchor=\"middle\" x=\"247.5\" y=\"-394.8\" font-family=\"Times New Roman,serif\" font-size=\"14.00\">gini = 0.137</text>\n",
       "<text text-anchor=\"middle\" x=\"247.5\" y=\"-379.8\" font-family=\"Times New Roman,serif\" font-size=\"14.00\">samples = 2788</text>\n",
       "<text text-anchor=\"middle\" x=\"247.5\" y=\"-364.8\" font-family=\"Times New Roman,serif\" font-size=\"14.00\">value = [206, 2582]</text>\n",
       "<text text-anchor=\"middle\" x=\"247.5\" y=\"-349.8\" font-family=\"Times New Roman,serif\" font-size=\"14.00\">class = e</text>\n",
       "</g>\n",
       "<!-- 1&#45;&gt;3 -->\n",
       "<g id=\"edge2\" class=\"edge\">\n",
       "<title>1&#45;&gt;3</title>\n",
       "<path fill=\"none\" stroke=\"black\" d=\"M404.75,-468.13C382.45,-456.27 356.96,-442.71 333.08,-430.01\"/>\n",
       "<polygon fill=\"black\" stroke=\"black\" points=\"334.49,-426.8 324.01,-425.19 331.2,-432.98 334.49,-426.8\"/>\n",
       "</g>\n",
       "<!-- 4 -->\n",
       "<g id=\"node10\" class=\"node\">\n",
       "<title>4</title>\n",
       "<polygon fill=\"#e78a47\" stroke=\"black\" points=\"566.5,-425 368.5,-425 368.5,-342 566.5,-342 566.5,-425\"/>\n",
       "<text text-anchor=\"middle\" x=\"467.5\" y=\"-409.8\" font-family=\"Times New Roman,serif\" font-size=\"14.00\">stalk&#45;color&#45;below&#45;ring_w &lt;= 0.5</text>\n",
       "<text text-anchor=\"middle\" x=\"467.5\" y=\"-394.8\" font-family=\"Times New Roman,serif\" font-size=\"14.00\">gini = 0.124</text>\n",
       "<text text-anchor=\"middle\" x=\"467.5\" y=\"-379.8\" font-family=\"Times New Roman,serif\" font-size=\"14.00\">samples = 391</text>\n",
       "<text text-anchor=\"middle\" x=\"467.5\" y=\"-364.8\" font-family=\"Times New Roman,serif\" font-size=\"14.00\">value = [365, 26]</text>\n",
       "<text text-anchor=\"middle\" x=\"467.5\" y=\"-349.8\" font-family=\"Times New Roman,serif\" font-size=\"14.00\">class = p</text>\n",
       "</g>\n",
       "<!-- 1&#45;&gt;4 -->\n",
       "<g id=\"edge9\" class=\"edge\">\n",
       "<title>1&#45;&gt;4</title>\n",
       "<path fill=\"none\" stroke=\"black\" d=\"M467.5,-460.91C467.5,-452.65 467.5,-443.86 467.5,-435.3\"/>\n",
       "<polygon fill=\"black\" stroke=\"black\" points=\"471,-435.02 467.5,-425.02 464,-435.02 471,-435.02\"/>\n",
       "</g>\n",
       "<!-- 5 -->\n",
       "<g id=\"node4\" class=\"node\">\n",
       "<title>5</title>\n",
       "<polygon fill=\"#3fa0e6\" stroke=\"black\" points=\"187.5,-306 49.5,-306 49.5,-223 187.5,-223 187.5,-306\"/>\n",
       "<text text-anchor=\"middle\" x=\"118.5\" y=\"-290.8\" font-family=\"Times New Roman,serif\" font-size=\"14.00\">gill&#45;spacing_w &lt;= 0.5</text>\n",
       "<text text-anchor=\"middle\" x=\"118.5\" y=\"-275.8\" font-family=\"Times New Roman,serif\" font-size=\"14.00\">gini = 0.053</text>\n",
       "<text text-anchor=\"middle\" x=\"118.5\" y=\"-260.8\" font-family=\"Times New Roman,serif\" font-size=\"14.00\">samples = 2654</text>\n",
       "<text text-anchor=\"middle\" x=\"118.5\" y=\"-245.8\" font-family=\"Times New Roman,serif\" font-size=\"14.00\">value = [72, 2582]</text>\n",
       "<text text-anchor=\"middle\" x=\"118.5\" y=\"-230.8\" font-family=\"Times New Roman,serif\" font-size=\"14.00\">class = e</text>\n",
       "</g>\n",
       "<!-- 3&#45;&gt;5 -->\n",
       "<g id=\"edge3\" class=\"edge\">\n",
       "<title>3&#45;&gt;5</title>\n",
       "<path fill=\"none\" stroke=\"black\" d=\"M202.74,-341.91C192.44,-332.56 181.39,-322.54 170.79,-312.93\"/>\n",
       "<polygon fill=\"black\" stroke=\"black\" points=\"172.94,-310.15 163.18,-306.02 168.23,-315.33 172.94,-310.15\"/>\n",
       "</g>\n",
       "<!-- 6 -->\n",
       "<g id=\"node9\" class=\"node\">\n",
       "<title>6</title>\n",
       "<polygon fill=\"#e58139\" stroke=\"black\" points=\"309.5,-298.5 205.5,-298.5 205.5,-230.5 309.5,-230.5 309.5,-298.5\"/>\n",
       "<text text-anchor=\"middle\" x=\"257.5\" y=\"-283.3\" font-family=\"Times New Roman,serif\" font-size=\"14.00\">gini = 0.0</text>\n",
       "<text text-anchor=\"middle\" x=\"257.5\" y=\"-268.3\" font-family=\"Times New Roman,serif\" font-size=\"14.00\">samples = 134</text>\n",
       "<text text-anchor=\"middle\" x=\"257.5\" y=\"-253.3\" font-family=\"Times New Roman,serif\" font-size=\"14.00\">value = [134, 0]</text>\n",
       "<text text-anchor=\"middle\" x=\"257.5\" y=\"-238.3\" font-family=\"Times New Roman,serif\" font-size=\"14.00\">class = p</text>\n",
       "</g>\n",
       "<!-- 3&#45;&gt;6 -->\n",
       "<g id=\"edge8\" class=\"edge\">\n",
       "<title>3&#45;&gt;6</title>\n",
       "<path fill=\"none\" stroke=\"black\" d=\"M250.97,-341.91C251.88,-331.2 252.87,-319.62 253.8,-308.78\"/>\n",
       "<polygon fill=\"black\" stroke=\"black\" points=\"257.3,-308.93 254.67,-298.67 250.33,-308.33 257.3,-308.93\"/>\n",
       "</g>\n",
       "<!-- 9 -->\n",
       "<g id=\"node5\" class=\"node\">\n",
       "<title>9</title>\n",
       "<polygon fill=\"#399de5\" stroke=\"black\" points=\"111,-179.5 0,-179.5 0,-111.5 111,-111.5 111,-179.5\"/>\n",
       "<text text-anchor=\"middle\" x=\"55.5\" y=\"-164.3\" font-family=\"Times New Roman,serif\" font-size=\"14.00\">gini = 0.0</text>\n",
       "<text text-anchor=\"middle\" x=\"55.5\" y=\"-149.3\" font-family=\"Times New Roman,serif\" font-size=\"14.00\">samples = 2521</text>\n",
       "<text text-anchor=\"middle\" x=\"55.5\" y=\"-134.3\" font-family=\"Times New Roman,serif\" font-size=\"14.00\">value = [0, 2521]</text>\n",
       "<text text-anchor=\"middle\" x=\"55.5\" y=\"-119.3\" font-family=\"Times New Roman,serif\" font-size=\"14.00\">class = e</text>\n",
       "</g>\n",
       "<!-- 5&#45;&gt;9 -->\n",
       "<g id=\"edge4\" class=\"edge\">\n",
       "<title>5&#45;&gt;9</title>\n",
       "<path fill=\"none\" stroke=\"black\" d=\"M96.64,-222.91C90.7,-211.87 84.25,-199.9 78.26,-188.77\"/>\n",
       "<polygon fill=\"black\" stroke=\"black\" points=\"81.18,-186.81 73.36,-179.67 75.02,-190.13 81.18,-186.81\"/>\n",
       "</g>\n",
       "<!-- 10 -->\n",
       "<g id=\"node6\" class=\"node\">\n",
       "<title>10</title>\n",
       "<polygon fill=\"#fbece1\" stroke=\"black\" points=\"233.5,-187 129.5,-187 129.5,-104 233.5,-104 233.5,-187\"/>\n",
       "<text text-anchor=\"middle\" x=\"181.5\" y=\"-171.8\" font-family=\"Times New Roman,serif\" font-size=\"14.00\">odor_c &lt;= 0.5</text>\n",
       "<text text-anchor=\"middle\" x=\"181.5\" y=\"-156.8\" font-family=\"Times New Roman,serif\" font-size=\"14.00\">gini = 0.497</text>\n",
       "<text text-anchor=\"middle\" x=\"181.5\" y=\"-141.8\" font-family=\"Times New Roman,serif\" font-size=\"14.00\">samples = 133</text>\n",
       "<text text-anchor=\"middle\" x=\"181.5\" y=\"-126.8\" font-family=\"Times New Roman,serif\" font-size=\"14.00\">value = [72, 61]</text>\n",
       "<text text-anchor=\"middle\" x=\"181.5\" y=\"-111.8\" font-family=\"Times New Roman,serif\" font-size=\"14.00\">class = p</text>\n",
       "</g>\n",
       "<!-- 5&#45;&gt;10 -->\n",
       "<g id=\"edge5\" class=\"edge\">\n",
       "<title>5&#45;&gt;10</title>\n",
       "<path fill=\"none\" stroke=\"black\" d=\"M140.36,-222.91C145.05,-214.2 150.06,-204.9 154.9,-195.89\"/>\n",
       "<polygon fill=\"black\" stroke=\"black\" points=\"158.02,-197.48 159.68,-187.02 151.86,-194.17 158.02,-197.48\"/>\n",
       "</g>\n",
       "<!-- 11 -->\n",
       "<g id=\"node7\" class=\"node\">\n",
       "<title>11</title>\n",
       "<polygon fill=\"#e58139\" stroke=\"black\" points=\"172.5,-68 74.5,-68 74.5,0 172.5,0 172.5,-68\"/>\n",
       "<text text-anchor=\"middle\" x=\"123.5\" y=\"-52.8\" font-family=\"Times New Roman,serif\" font-size=\"14.00\">gini = 0.0</text>\n",
       "<text text-anchor=\"middle\" x=\"123.5\" y=\"-37.8\" font-family=\"Times New Roman,serif\" font-size=\"14.00\">samples = 72</text>\n",
       "<text text-anchor=\"middle\" x=\"123.5\" y=\"-22.8\" font-family=\"Times New Roman,serif\" font-size=\"14.00\">value = [72, 0]</text>\n",
       "<text text-anchor=\"middle\" x=\"123.5\" y=\"-7.8\" font-family=\"Times New Roman,serif\" font-size=\"14.00\">class = p</text>\n",
       "</g>\n",
       "<!-- 10&#45;&gt;11 -->\n",
       "<g id=\"edge6\" class=\"edge\">\n",
       "<title>10&#45;&gt;11</title>\n",
       "<path fill=\"none\" stroke=\"black\" d=\"M159.9,-103.73C155.31,-95.06 150.46,-85.9 145.84,-77.18\"/>\n",
       "<polygon fill=\"black\" stroke=\"black\" points=\"148.91,-75.5 141.14,-68.3 142.73,-78.77 148.91,-75.5\"/>\n",
       "</g>\n",
       "<!-- 12 -->\n",
       "<g id=\"node8\" class=\"node\">\n",
       "<title>12</title>\n",
       "<polygon fill=\"#399de5\" stroke=\"black\" points=\"288.5,-68 190.5,-68 190.5,0 288.5,0 288.5,-68\"/>\n",
       "<text text-anchor=\"middle\" x=\"239.5\" y=\"-52.8\" font-family=\"Times New Roman,serif\" font-size=\"14.00\">gini = 0.0</text>\n",
       "<text text-anchor=\"middle\" x=\"239.5\" y=\"-37.8\" font-family=\"Times New Roman,serif\" font-size=\"14.00\">samples = 61</text>\n",
       "<text text-anchor=\"middle\" x=\"239.5\" y=\"-22.8\" font-family=\"Times New Roman,serif\" font-size=\"14.00\">value = [0, 61]</text>\n",
       "<text text-anchor=\"middle\" x=\"239.5\" y=\"-7.8\" font-family=\"Times New Roman,serif\" font-size=\"14.00\">class = e</text>\n",
       "</g>\n",
       "<!-- 10&#45;&gt;12 -->\n",
       "<g id=\"edge7\" class=\"edge\">\n",
       "<title>10&#45;&gt;12</title>\n",
       "<path fill=\"none\" stroke=\"black\" d=\"M203.1,-103.73C207.69,-95.06 212.54,-85.9 217.16,-77.18\"/>\n",
       "<polygon fill=\"black\" stroke=\"black\" points=\"220.27,-78.77 221.86,-68.3 214.09,-75.5 220.27,-78.77\"/>\n",
       "</g>\n",
       "<!-- 13 -->\n",
       "<g id=\"node11\" class=\"node\">\n",
       "<title>13</title>\n",
       "<polygon fill=\"#399de5\" stroke=\"black\" points=\"463.5,-298.5 365.5,-298.5 365.5,-230.5 463.5,-230.5 463.5,-298.5\"/>\n",
       "<text text-anchor=\"middle\" x=\"414.5\" y=\"-283.3\" font-family=\"Times New Roman,serif\" font-size=\"14.00\">gini = 0.0</text>\n",
       "<text text-anchor=\"middle\" x=\"414.5\" y=\"-268.3\" font-family=\"Times New Roman,serif\" font-size=\"14.00\">samples = 26</text>\n",
       "<text text-anchor=\"middle\" x=\"414.5\" y=\"-253.3\" font-family=\"Times New Roman,serif\" font-size=\"14.00\">value = [0, 26]</text>\n",
       "<text text-anchor=\"middle\" x=\"414.5\" y=\"-238.3\" font-family=\"Times New Roman,serif\" font-size=\"14.00\">class = e</text>\n",
       "</g>\n",
       "<!-- 4&#45;&gt;13 -->\n",
       "<g id=\"edge10\" class=\"edge\">\n",
       "<title>4&#45;&gt;13</title>\n",
       "<path fill=\"none\" stroke=\"black\" d=\"M449.11,-341.91C444.16,-330.98 438.8,-319.14 433.8,-308.11\"/>\n",
       "<polygon fill=\"black\" stroke=\"black\" points=\"436.84,-306.33 429.52,-298.67 430.46,-309.22 436.84,-306.33\"/>\n",
       "</g>\n",
       "<!-- 14 -->\n",
       "<g id=\"node12\" class=\"node\">\n",
       "<title>14</title>\n",
       "<polygon fill=\"#e58139\" stroke=\"black\" points=\"585.5,-298.5 481.5,-298.5 481.5,-230.5 585.5,-230.5 585.5,-298.5\"/>\n",
       "<text text-anchor=\"middle\" x=\"533.5\" y=\"-283.3\" font-family=\"Times New Roman,serif\" font-size=\"14.00\">gini = 0.0</text>\n",
       "<text text-anchor=\"middle\" x=\"533.5\" y=\"-268.3\" font-family=\"Times New Roman,serif\" font-size=\"14.00\">samples = 365</text>\n",
       "<text text-anchor=\"middle\" x=\"533.5\" y=\"-253.3\" font-family=\"Times New Roman,serif\" font-size=\"14.00\">value = [365, 0]</text>\n",
       "<text text-anchor=\"middle\" x=\"533.5\" y=\"-238.3\" font-family=\"Times New Roman,serif\" font-size=\"14.00\">class = p</text>\n",
       "</g>\n",
       "<!-- 4&#45;&gt;14 -->\n",
       "<g id=\"edge11\" class=\"edge\">\n",
       "<title>4&#45;&gt;14</title>\n",
       "<path fill=\"none\" stroke=\"black\" d=\"M490.4,-341.91C496.69,-330.76 503.51,-318.66 509.84,-307.44\"/>\n",
       "<polygon fill=\"black\" stroke=\"black\" points=\"512.93,-309.1 514.79,-298.67 506.83,-305.66 512.93,-309.1\"/>\n",
       "</g>\n",
       "<!-- 7 -->\n",
       "<g id=\"node14\" class=\"node\">\n",
       "<title>7</title>\n",
       "<polygon fill=\"#e5833c\" stroke=\"black\" points=\"790.5,-425 584.5,-425 584.5,-342 790.5,-342 790.5,-425\"/>\n",
       "<text text-anchor=\"middle\" x=\"687.5\" y=\"-409.8\" font-family=\"Times New Roman,serif\" font-size=\"14.00\">stalk&#45;surface&#45;below&#45;ring_y &lt;= 0.5</text>\n",
       "<text text-anchor=\"middle\" x=\"687.5\" y=\"-394.8\" font-family=\"Times New Roman,serif\" font-size=\"14.00\">gini = 0.026</text>\n",
       "<text text-anchor=\"middle\" x=\"687.5\" y=\"-379.8\" font-family=\"Times New Roman,serif\" font-size=\"14.00\">samples = 2457</text>\n",
       "<text text-anchor=\"middle\" x=\"687.5\" y=\"-364.8\" font-family=\"Times New Roman,serif\" font-size=\"14.00\">value = [2425, 32]</text>\n",
       "<text text-anchor=\"middle\" x=\"687.5\" y=\"-349.8\" font-family=\"Times New Roman,serif\" font-size=\"14.00\">class = p</text>\n",
       "</g>\n",
       "<!-- 2&#45;&gt;7 -->\n",
       "<g id=\"edge13\" class=\"edge\">\n",
       "<title>2&#45;&gt;7</title>\n",
       "<path fill=\"none\" stroke=\"black\" d=\"M687.5,-460.91C687.5,-452.65 687.5,-443.86 687.5,-435.3\"/>\n",
       "<polygon fill=\"black\" stroke=\"black\" points=\"691,-435.02 687.5,-425.02 684,-435.02 691,-435.02\"/>\n",
       "</g>\n",
       "<!-- 8 -->\n",
       "<g id=\"node19\" class=\"node\">\n",
       "<title>8</title>\n",
       "<polygon fill=\"#399de5\" stroke=\"black\" points=\"906.5,-417.5 808.5,-417.5 808.5,-349.5 906.5,-349.5 906.5,-417.5\"/>\n",
       "<text text-anchor=\"middle\" x=\"857.5\" y=\"-402.3\" font-family=\"Times New Roman,serif\" font-size=\"14.00\">gini = 0.0</text>\n",
       "<text text-anchor=\"middle\" x=\"857.5\" y=\"-387.3\" font-family=\"Times New Roman,serif\" font-size=\"14.00\">samples = 50</text>\n",
       "<text text-anchor=\"middle\" x=\"857.5\" y=\"-372.3\" font-family=\"Times New Roman,serif\" font-size=\"14.00\">value = [0, 50]</text>\n",
       "<text text-anchor=\"middle\" x=\"857.5\" y=\"-357.3\" font-family=\"Times New Roman,serif\" font-size=\"14.00\">class = e</text>\n",
       "</g>\n",
       "<!-- 2&#45;&gt;8 -->\n",
       "<g id=\"edge18\" class=\"edge\">\n",
       "<title>2&#45;&gt;8</title>\n",
       "<path fill=\"none\" stroke=\"black\" d=\"M747.16,-460.92C764.1,-449.35 782.55,-436.71 799.5,-425 800.25,-424.48 801.01,-423.96 801.77,-423.43\"/>\n",
       "<polygon fill=\"black\" stroke=\"black\" points=\"803.82,-426.27 810.05,-417.69 799.84,-420.51 803.82,-426.27\"/>\n",
       "</g>\n",
       "<!-- 15 -->\n",
       "<g id=\"node15\" class=\"node\">\n",
       "<title>15</title>\n",
       "<polygon fill=\"#e5813a\" stroke=\"black\" points=\"734,-298.5 623,-298.5 623,-230.5 734,-230.5 734,-298.5\"/>\n",
       "<text text-anchor=\"middle\" x=\"678.5\" y=\"-283.3\" font-family=\"Times New Roman,serif\" font-size=\"14.00\">gini = 0.006</text>\n",
       "<text text-anchor=\"middle\" x=\"678.5\" y=\"-268.3\" font-family=\"Times New Roman,serif\" font-size=\"14.00\">samples = 2421</text>\n",
       "<text text-anchor=\"middle\" x=\"678.5\" y=\"-253.3\" font-family=\"Times New Roman,serif\" font-size=\"14.00\">value = [2414, 7]</text>\n",
       "<text text-anchor=\"middle\" x=\"678.5\" y=\"-238.3\" font-family=\"Times New Roman,serif\" font-size=\"14.00\">class = p</text>\n",
       "</g>\n",
       "<!-- 7&#45;&gt;15 -->\n",
       "<g id=\"edge14\" class=\"edge\">\n",
       "<title>7&#45;&gt;15</title>\n",
       "<path fill=\"none\" stroke=\"black\" d=\"M684.38,-341.91C683.55,-331.2 682.66,-319.62 681.83,-308.78\"/>\n",
       "<polygon fill=\"black\" stroke=\"black\" points=\"685.31,-308.37 681.05,-298.67 678.33,-308.91 685.31,-308.37\"/>\n",
       "</g>\n",
       "<!-- 16 -->\n",
       "<g id=\"node16\" class=\"node\">\n",
       "<title>16</title>\n",
       "<polygon fill=\"#90c8f0\" stroke=\"black\" points=\"873,-306 752,-306 752,-223 873,-223 873,-306\"/>\n",
       "<text text-anchor=\"middle\" x=\"812.5\" y=\"-290.8\" font-family=\"Times New Roman,serif\" font-size=\"14.00\">ring&#45;type_e &lt;= 0.5</text>\n",
       "<text text-anchor=\"middle\" x=\"812.5\" y=\"-275.8\" font-family=\"Times New Roman,serif\" font-size=\"14.00\">gini = 0.424</text>\n",
       "<text text-anchor=\"middle\" x=\"812.5\" y=\"-260.8\" font-family=\"Times New Roman,serif\" font-size=\"14.00\">samples = 36</text>\n",
       "<text text-anchor=\"middle\" x=\"812.5\" y=\"-245.8\" font-family=\"Times New Roman,serif\" font-size=\"14.00\">value = [11, 25]</text>\n",
       "<text text-anchor=\"middle\" x=\"812.5\" y=\"-230.8\" font-family=\"Times New Roman,serif\" font-size=\"14.00\">class = e</text>\n",
       "</g>\n",
       "<!-- 7&#45;&gt;16 -->\n",
       "<g id=\"edge15\" class=\"edge\">\n",
       "<title>7&#45;&gt;16</title>\n",
       "<path fill=\"none\" stroke=\"black\" d=\"M730.87,-341.91C740.85,-332.56 751.56,-322.54 761.83,-312.93\"/>\n",
       "<polygon fill=\"black\" stroke=\"black\" points=\"764.3,-315.41 769.21,-306.02 759.52,-310.3 764.3,-315.41\"/>\n",
       "</g>\n",
       "<!-- 17 -->\n",
       "<g id=\"node17\" class=\"node\">\n",
       "<title>17</title>\n",
       "<polygon fill=\"#e58139\" stroke=\"black\" points=\"803.5,-179.5 705.5,-179.5 705.5,-111.5 803.5,-111.5 803.5,-179.5\"/>\n",
       "<text text-anchor=\"middle\" x=\"754.5\" y=\"-164.3\" font-family=\"Times New Roman,serif\" font-size=\"14.00\">gini = 0.0</text>\n",
       "<text text-anchor=\"middle\" x=\"754.5\" y=\"-149.3\" font-family=\"Times New Roman,serif\" font-size=\"14.00\">samples = 11</text>\n",
       "<text text-anchor=\"middle\" x=\"754.5\" y=\"-134.3\" font-family=\"Times New Roman,serif\" font-size=\"14.00\">value = [11, 0]</text>\n",
       "<text text-anchor=\"middle\" x=\"754.5\" y=\"-119.3\" font-family=\"Times New Roman,serif\" font-size=\"14.00\">class = p</text>\n",
       "</g>\n",
       "<!-- 16&#45;&gt;17 -->\n",
       "<g id=\"edge16\" class=\"edge\">\n",
       "<title>16&#45;&gt;17</title>\n",
       "<path fill=\"none\" stroke=\"black\" d=\"M792.38,-222.91C786.91,-211.87 780.97,-199.9 775.46,-188.77\"/>\n",
       "<polygon fill=\"black\" stroke=\"black\" points=\"778.52,-187.07 770.94,-179.67 772.25,-190.18 778.52,-187.07\"/>\n",
       "</g>\n",
       "<!-- 18 -->\n",
       "<g id=\"node18\" class=\"node\">\n",
       "<title>18</title>\n",
       "<polygon fill=\"#399de5\" stroke=\"black\" points=\"919.5,-179.5 821.5,-179.5 821.5,-111.5 919.5,-111.5 919.5,-179.5\"/>\n",
       "<text text-anchor=\"middle\" x=\"870.5\" y=\"-164.3\" font-family=\"Times New Roman,serif\" font-size=\"14.00\">gini = 0.0</text>\n",
       "<text text-anchor=\"middle\" x=\"870.5\" y=\"-149.3\" font-family=\"Times New Roman,serif\" font-size=\"14.00\">samples = 25</text>\n",
       "<text text-anchor=\"middle\" x=\"870.5\" y=\"-134.3\" font-family=\"Times New Roman,serif\" font-size=\"14.00\">value = [0, 25]</text>\n",
       "<text text-anchor=\"middle\" x=\"870.5\" y=\"-119.3\" font-family=\"Times New Roman,serif\" font-size=\"14.00\">class = e</text>\n",
       "</g>\n",
       "<!-- 16&#45;&gt;18 -->\n",
       "<g id=\"edge17\" class=\"edge\">\n",
       "<title>16&#45;&gt;18</title>\n",
       "<path fill=\"none\" stroke=\"black\" d=\"M832.62,-222.91C838.09,-211.87 844.03,-199.9 849.54,-188.77\"/>\n",
       "<polygon fill=\"black\" stroke=\"black\" points=\"852.75,-190.18 854.06,-179.67 846.48,-187.07 852.75,-190.18\"/>\n",
       "</g>\n",
       "</g>\n",
       "</svg>\n"
      ],
      "text/plain": [
       "<graphviz.sources.Source at 0x1894bb0b8b0>"
      ]
     },
     "metadata": {},
     "output_type": "display_data"
    }
   ],
   "source": [
    "import graphviz\n",
    "\n",
    "with open('tree2.dot', encoding='UTF8') as f:\n",
    "    dot_graph = f.read()\n",
    "\n",
    "display(graphviz.Source(dot_graph))"
   ]
  },
  {
   "cell_type": "code",
   "execution_count": 89,
   "id": "f40c71fb",
   "metadata": {},
   "outputs": [
    {
     "data": {
      "text/plain": [
       "0"
      ]
     },
     "execution_count": 89,
     "metadata": {},
     "output_type": "execute_result"
    }
   ],
   "source": [
    "from subprocess import check_call\n",
    "check_call(['dot','-Tpng','tree2.dot','-o','tree2.png'])"
   ]
  },
  {
   "cell_type": "markdown",
   "id": "b2f95333",
   "metadata": {},
   "source": [
    "# 교차검증"
   ]
  },
  {
   "cell_type": "markdown",
   "id": "73a91737",
   "metadata": {},
   "source": [
    "## 그리드 서치"
   ]
  },
  {
   "cell_type": "code",
   "execution_count": 106,
   "id": "52c57831",
   "metadata": {},
   "outputs": [],
   "source": [
    "from sklearn.model_selection import GridSearchCV"
   ]
  },
  {
   "cell_type": "code",
   "execution_count": 110,
   "id": "09196d87",
   "metadata": {},
   "outputs": [],
   "source": [
    "param_grid = {\n",
    "    'max_depth' : range(1,10),\n",
    "    'max_leaf_nodes' : range(10,20)\n",
    "}"
   ]
  },
  {
   "cell_type": "code",
   "execution_count": 111,
   "id": "d0701e37",
   "metadata": {},
   "outputs": [],
   "source": [
    "# 그리드 서치를 한다면 cv에 의해서\n",
    "# 교차검증이 되기때문에 교차검증을 할 필요가 없다\n",
    "grid = GridSearchCV(DecisionTreeClassifier(), param_grid, cv = 5)"
   ]
  },
  {
   "cell_type": "code",
   "execution_count": 119,
   "id": "8b8c1d72",
   "metadata": {},
   "outputs": [
    {
     "data": {
      "text/plain": [
       "GridSearchCV(cv=5, estimator=DecisionTreeClassifier(),\n",
       "             param_grid={'max_depth': range(1, 10),\n",
       "                         'max_leaf_nodes': range(10, 20)})"
      ]
     },
     "execution_count": 119,
     "metadata": {},
     "output_type": "execute_result"
    }
   ],
   "source": [
    "grid.fit(X_train, y_train)"
   ]
  },
  {
   "cell_type": "code",
   "execution_count": 120,
   "id": "51308f9b",
   "metadata": {
    "scrolled": true
   },
   "outputs": [
    {
     "data": {
      "text/plain": [
       "0.9998240985048372"
      ]
     },
     "execution_count": 120,
     "metadata": {},
     "output_type": "execute_result"
    }
   ],
   "source": [
    "grid.best_score_"
   ]
  },
  {
   "cell_type": "code",
   "execution_count": 121,
   "id": "ffddf4d0",
   "metadata": {},
   "outputs": [
    {
     "data": {
      "text/plain": [
       "{'max_depth': 7, 'max_leaf_nodes': 14}"
      ]
     },
     "execution_count": 121,
     "metadata": {},
     "output_type": "execute_result"
    }
   ],
   "source": [
    "grid.best_params_"
   ]
  },
  {
   "cell_type": "code",
   "execution_count": 93,
   "id": "e268e909",
   "metadata": {},
   "outputs": [
    {
     "data": {
      "text/plain": [
       "0.9984170411142694"
      ]
     },
     "execution_count": 93,
     "metadata": {},
     "output_type": "execute_result"
    }
   ],
   "source": [
    "from sklearn.model_selection import cross_val_score\n",
    "# 사용할 모델, 문제, 정답, 데이터 분할 수\n",
    "cross_val_score(tree_model, X_train, y_train,cv =  5).mean()"
   ]
  },
  {
   "cell_type": "code",
   "execution_count": 105,
   "id": "cae6235e",
   "metadata": {},
   "outputs": [
    {
     "data": {
      "text/plain": [
       "0.9985927880386983"
      ]
     },
     "execution_count": 105,
     "metadata": {},
     "output_type": "execute_result"
    }
   ],
   "source": [
    "tree = DecisionTreeClassifier(max_depth = 5) # gridsearch 활용\n",
    "tree.fit(X_train, y_train)\n",
    "cross_val_score(tree, X_train, y_train, cv = 5).mean()"
   ]
  },
  {
   "cell_type": "code",
   "execution_count": null,
   "id": "e9df11a0",
   "metadata": {},
   "outputs": [],
   "source": [
    "# 수치가 높다면 그제서야 test값을 쓴다\n",
    "tree.score(X_test, y_test)"
   ]
  },
  {
   "cell_type": "markdown",
   "id": "fbaba1d0",
   "metadata": {},
   "source": [
    "# 특성 선택"
   ]
  },
  {
   "cell_type": "code",
   "execution_count": 95,
   "id": "a9e8653c",
   "metadata": {},
   "outputs": [
    {
     "data": {
      "text/plain": [
       "(5686, 117)"
      ]
     },
     "execution_count": 95,
     "metadata": {},
     "output_type": "execute_result"
    }
   ],
   "source": [
    "X_train.shape"
   ]
  },
  {
   "cell_type": "code",
   "execution_count": 96,
   "id": "739853e2",
   "metadata": {
    "scrolled": true
   },
   "outputs": [],
   "source": [
    "# 특성의 중요도\n",
    "# 117개의 중요도의 총 합은 1이다\n",
    "fi = tree_model.feature_importances_"
   ]
  },
  {
   "cell_type": "code",
   "execution_count": 103,
   "id": "b04cc596",
   "metadata": {},
   "outputs": [
    {
     "data": {
      "text/html": [
       "<div>\n",
       "<style scoped>\n",
       "    .dataframe tbody tr th:only-of-type {\n",
       "        vertical-align: middle;\n",
       "    }\n",
       "\n",
       "    .dataframe tbody tr th {\n",
       "        vertical-align: top;\n",
       "    }\n",
       "\n",
       "    .dataframe thead th {\n",
       "        text-align: right;\n",
       "    }\n",
       "</style>\n",
       "<table border=\"1\" class=\"dataframe\">\n",
       "  <thead>\n",
       "    <tr style=\"text-align: right;\">\n",
       "      <th></th>\n",
       "      <th>0</th>\n",
       "    </tr>\n",
       "  </thead>\n",
       "  <tbody>\n",
       "    <tr>\n",
       "      <th>odor_n</th>\n",
       "      <td>0.616580</td>\n",
       "    </tr>\n",
       "    <tr>\n",
       "      <th>stalk-root_c</th>\n",
       "      <td>0.179657</td>\n",
       "    </tr>\n",
       "    <tr>\n",
       "      <th>stalk-surface-below-ring_y</th>\n",
       "      <td>0.097629</td>\n",
       "    </tr>\n",
       "    <tr>\n",
       "      <th>spore-print-color_r</th>\n",
       "      <td>0.033845</td>\n",
       "    </tr>\n",
       "    <tr>\n",
       "      <th>gill-spacing_w</th>\n",
       "      <td>0.026251</td>\n",
       "    </tr>\n",
       "    <tr>\n",
       "      <th>odor_c</th>\n",
       "      <td>0.023414</td>\n",
       "    </tr>\n",
       "    <tr>\n",
       "      <th>stalk-color-below-ring_w</th>\n",
       "      <td>0.017209</td>\n",
       "    </tr>\n",
       "    <tr>\n",
       "      <th>ring-type_e</th>\n",
       "      <td>0.005416</td>\n",
       "    </tr>\n",
       "    <tr>\n",
       "      <th>cap-shape_b</th>\n",
       "      <td>0.000000</td>\n",
       "    </tr>\n",
       "    <tr>\n",
       "      <th>stalk-color-below-ring_y</th>\n",
       "      <td>0.000000</td>\n",
       "    </tr>\n",
       "  </tbody>\n",
       "</table>\n",
       "</div>"
      ],
      "text/plain": [
       "                                   0\n",
       "odor_n                      0.616580\n",
       "stalk-root_c                0.179657\n",
       "stalk-surface-below-ring_y  0.097629\n",
       "spore-print-color_r         0.033845\n",
       "gill-spacing_w              0.026251\n",
       "odor_c                      0.023414\n",
       "stalk-color-below-ring_w    0.017209\n",
       "ring-type_e                 0.005416\n",
       "cap-shape_b                 0.000000\n",
       "stalk-color-below-ring_y    0.000000"
      ]
     },
     "execution_count": 103,
     "metadata": {},
     "output_type": "execute_result"
    }
   ],
   "source": [
    "fi_df = pd.DataFrame(fi, index = X_train.columns)\n",
    "fi_df.sort_values(by = 0, ascending = False).head(10)"
   ]
  },
  {
   "cell_type": "code",
   "execution_count": null,
   "id": "f931dfc6",
   "metadata": {},
   "outputs": [],
   "source": []
  }
 ],
 "metadata": {
  "kernelspec": {
   "display_name": "Python 3 (ipykernel)",
   "language": "python",
   "name": "python3"
  },
  "language_info": {
   "codemirror_mode": {
    "name": "ipython",
    "version": 3
   },
   "file_extension": ".py",
   "mimetype": "text/x-python",
   "name": "python",
   "nbconvert_exporter": "python",
   "pygments_lexer": "ipython3",
   "version": "3.9.7"
  },
  "toc": {
   "base_numbering": 1,
   "nav_menu": {},
   "number_sections": true,
   "sideBar": true,
   "skip_h1_title": false,
   "title_cell": "Table of Contents",
   "title_sidebar": "Contents",
   "toc_cell": false,
   "toc_position": {
    "height": "calc(100% - 180px)",
    "left": "10px",
    "top": "150px",
    "width": "224px"
   },
   "toc_section_display": true,
   "toc_window_display": true
  }
 },
 "nbformat": 4,
 "nbformat_minor": 5
}
