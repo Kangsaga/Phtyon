{
 "cells": [
  {
   "cell_type": "markdown",
   "id": "53680cb3",
   "metadata": {},
   "source": [
    "# 성적 데이터 생성"
   ]
  },
  {
   "cell_type": "code",
   "execution_count": 1,
   "id": "742643d4",
   "metadata": {},
   "outputs": [],
   "source": [
    "import pandas as pd"
   ]
  },
  {
   "cell_type": "code",
   "execution_count": 2,
   "id": "01d5e9ec",
   "metadata": {},
   "outputs": [],
   "source": [
    "data =  pd.DataFrame([[2,20],[4,40],[8,80],[9,90]],\n",
    "                    index = ['해도','병관','명훈','동원'],\n",
    "                    columns = ['시간','성적'])"
   ]
  },
  {
   "cell_type": "code",
   "execution_count": 3,
   "id": "bc0cfa66",
   "metadata": {},
   "outputs": [
    {
     "data": {
      "text/html": [
       "<div>\n",
       "<style scoped>\n",
       "    .dataframe tbody tr th:only-of-type {\n",
       "        vertical-align: middle;\n",
       "    }\n",
       "\n",
       "    .dataframe tbody tr th {\n",
       "        vertical-align: top;\n",
       "    }\n",
       "\n",
       "    .dataframe thead th {\n",
       "        text-align: right;\n",
       "    }\n",
       "</style>\n",
       "<table border=\"1\" class=\"dataframe\">\n",
       "  <thead>\n",
       "    <tr style=\"text-align: right;\">\n",
       "      <th></th>\n",
       "      <th>시간</th>\n",
       "      <th>성적</th>\n",
       "    </tr>\n",
       "  </thead>\n",
       "  <tbody>\n",
       "    <tr>\n",
       "      <th>해도</th>\n",
       "      <td>2</td>\n",
       "      <td>20</td>\n",
       "    </tr>\n",
       "    <tr>\n",
       "      <th>병관</th>\n",
       "      <td>4</td>\n",
       "      <td>40</td>\n",
       "    </tr>\n",
       "    <tr>\n",
       "      <th>명훈</th>\n",
       "      <td>8</td>\n",
       "      <td>80</td>\n",
       "    </tr>\n",
       "    <tr>\n",
       "      <th>동원</th>\n",
       "      <td>9</td>\n",
       "      <td>90</td>\n",
       "    </tr>\n",
       "  </tbody>\n",
       "</table>\n",
       "</div>"
      ],
      "text/plain": [
       "    시간  성적\n",
       "해도   2  20\n",
       "병관   4  40\n",
       "명훈   8  80\n",
       "동원   9  90"
      ]
     },
     "execution_count": 3,
     "metadata": {},
     "output_type": "execute_result"
    }
   ],
   "source": [
    "data"
   ]
  },
  {
   "cell_type": "markdown",
   "id": "e3a5c275",
   "metadata": {},
   "source": [
    "# 수학 공식을 이용한 해석적 방법\n",
    "- LinearRegression"
   ]
  },
  {
   "cell_type": "code",
   "execution_count": 4,
   "id": "9e17ea76",
   "metadata": {},
   "outputs": [],
   "source": [
    "from sklearn.linear_model import LinearRegression"
   ]
  },
  {
   "cell_type": "code",
   "execution_count": 5,
   "id": "9aa8bf14",
   "metadata": {},
   "outputs": [],
   "source": [
    "linear_model = LinearRegression()"
   ]
  },
  {
   "cell_type": "code",
   "execution_count": 6,
   "id": "5d037195",
   "metadata": {},
   "outputs": [
    {
     "data": {
      "text/plain": [
       "LinearRegression()"
      ]
     },
     "execution_count": 6,
     "metadata": {},
     "output_type": "execute_result"
    }
   ],
   "source": [
    "# 문제는 2차원, 정답은 1차원\n",
    "linear_model.fit(data[['시간']], data['성적'])"
   ]
  },
  {
   "cell_type": "code",
   "execution_count": 7,
   "id": "a8c8cbc4",
   "metadata": {},
   "outputs": [
    {
     "name": "stdout",
     "output_type": "stream",
     "text": [
      "[10.]\n",
      "7.105427357601002e-15\n"
     ]
    }
   ],
   "source": [
    "# y = 10x + 7.10000e-15\n",
    "# y = 성적\n",
    "# x = 시간\n",
    "print(linear_model.coef_) # 가중치\n",
    "print(linear_model.intercept_) # 절편"
   ]
  },
  {
   "cell_type": "code",
   "execution_count": 8,
   "id": "9dfe4688",
   "metadata": {},
   "outputs": [
    {
     "data": {
      "text/plain": [
       "array([70.])"
      ]
     },
     "execution_count": 8,
     "metadata": {},
     "output_type": "execute_result"
    }
   ],
   "source": [
    "linear_model.predict([[7]])"
   ]
  },
  {
   "cell_type": "markdown",
   "id": "b73a0b4b",
   "metadata": {},
   "source": [
    "# 경사하강법\n",
    "- SGDRegressor"
   ]
  },
  {
   "cell_type": "code",
   "execution_count": 9,
   "id": "dd42d2a4",
   "metadata": {},
   "outputs": [],
   "source": [
    "from sklearn.linear_model import SGDRegressor"
   ]
  },
  {
   "cell_type": "code",
   "execution_count": 10,
   "id": "ddbc793e",
   "metadata": {},
   "outputs": [],
   "source": [
    "sgd_model = SGDRegressor(max_iter = 5000, # 가중치 업데이트 반복 횟수\n",
    "                        eta0 = 0.01, # 학습률 (learning rate)\n",
    "                        verbose = 1) # 학습과정 확인"
   ]
  },
  {
   "cell_type": "code",
   "execution_count": 11,
   "id": "b573f5f7",
   "metadata": {},
   "outputs": [
    {
     "name": "stdout",
     "output_type": "stream",
     "text": [
      "-- Epoch 1\n",
      "Norm: 8.57, NNZs: 1, Bias: 1.201328, T: 4, Avg. loss: 960.491259\n",
      "Total training time: 0.00 seconds.\n",
      "-- Epoch 2\n",
      "Norm: 9.51, NNZs: 1, Bias: 1.312477, T: 8, Avg. loss: 19.642379\n",
      "Total training time: 0.00 seconds.\n",
      "-- Epoch 3\n",
      "Norm: 9.73, NNZs: 1, Bias: 1.338419, T: 12, Avg. loss: 1.326610\n",
      "Total training time: 0.00 seconds.\n",
      "-- Epoch 4\n",
      "Norm: 9.79, NNZs: 1, Bias: 1.340586, T: 16, Avg. loss: 0.307068\n",
      "Total training time: 0.00 seconds.\n",
      "-- Epoch 5\n",
      "Norm: 9.80, NNZs: 1, Bias: 1.337179, T: 20, Avg. loss: 0.210517\n",
      "Total training time: 0.00 seconds.\n",
      "-- Epoch 6\n",
      "Norm: 9.82, NNZs: 1, Bias: 1.334573, T: 24, Avg. loss: 0.192271\n",
      "Total training time: 0.00 seconds.\n",
      "-- Epoch 7\n",
      "Norm: 9.82, NNZs: 1, Bias: 1.329761, T: 28, Avg. loss: 0.188824\n",
      "Total training time: 0.00 seconds.\n",
      "-- Epoch 8\n",
      "Norm: 9.81, NNZs: 1, Bias: 1.324706, T: 32, Avg. loss: 0.185229\n",
      "Total training time: 0.00 seconds.\n",
      "-- Epoch 9\n",
      "Norm: 9.82, NNZs: 1, Bias: 1.321429, T: 36, Avg. loss: 0.183939\n",
      "Total training time: 0.00 seconds.\n",
      "-- Epoch 10\n",
      "Norm: 9.82, NNZs: 1, Bias: 1.316845, T: 40, Avg. loss: 0.183657\n",
      "Total training time: 0.00 seconds.\n",
      "-- Epoch 11\n",
      "Norm: 9.82, NNZs: 1, Bias: 1.312158, T: 44, Avg. loss: 0.180626\n",
      "Total training time: 0.00 seconds.\n",
      "-- Epoch 12\n",
      "Norm: 9.82, NNZs: 1, Bias: 1.309032, T: 48, Avg. loss: 0.179716\n",
      "Total training time: 0.00 seconds.\n",
      "-- Epoch 13\n",
      "Norm: 9.82, NNZs: 1, Bias: 1.304807, T: 52, Avg. loss: 0.179526\n",
      "Total training time: 0.00 seconds.\n",
      "-- Epoch 14\n",
      "Norm: 9.82, NNZs: 1, Bias: 1.300463, T: 56, Avg. loss: 0.176879\n",
      "Total training time: 0.00 seconds.\n",
      "-- Epoch 15\n",
      "Norm: 9.82, NNZs: 1, Bias: 1.297493, T: 60, Avg. loss: 0.176071\n",
      "Total training time: 0.00 seconds.\n",
      "-- Epoch 16\n",
      "Norm: 9.82, NNZs: 1, Bias: 1.293549, T: 64, Avg. loss: 0.175878\n",
      "Total training time: 0.00 seconds.\n",
      "-- Epoch 17\n",
      "Norm: 9.82, NNZs: 1, Bias: 1.289472, T: 68, Avg. loss: 0.173511\n",
      "Total training time: 0.00 seconds.\n",
      "-- Epoch 18\n",
      "Norm: 9.83, NNZs: 1, Bias: 1.286631, T: 72, Avg. loss: 0.172766\n",
      "Total training time: 0.00 seconds.\n",
      "-- Epoch 19\n",
      "Norm: 9.82, NNZs: 1, Bias: 1.282908, T: 76, Avg. loss: 0.172565\n",
      "Total training time: 0.00 seconds.\n",
      "-- Epoch 20\n",
      "Norm: 9.82, NNZs: 1, Bias: 1.279046, T: 80, Avg. loss: 0.170409\n",
      "Total training time: 0.00 seconds.\n",
      "-- Epoch 21\n",
      "Norm: 9.83, NNZs: 1, Bias: 1.276313, T: 84, Avg. loss: 0.169712\n",
      "Total training time: 0.00 seconds.\n",
      "-- Epoch 22\n",
      "Norm: 9.83, NNZs: 1, Bias: 1.272771, T: 88, Avg. loss: 0.169505\n",
      "Total training time: 0.00 seconds.\n",
      "-- Epoch 23\n",
      "Norm: 9.82, NNZs: 1, Bias: 1.269087, T: 92, Avg. loss: 0.167515\n",
      "Total training time: 0.00 seconds.\n",
      "-- Epoch 24\n",
      "Norm: 9.83, NNZs: 1, Bias: 1.266447, T: 96, Avg. loss: 0.166855\n",
      "Total training time: 0.00 seconds.\n",
      "-- Epoch 25\n",
      "Norm: 9.83, NNZs: 1, Bias: 1.263057, T: 100, Avg. loss: 0.166644\n",
      "Total training time: 0.00 seconds.\n",
      "-- Epoch 26\n",
      "Norm: 9.82, NNZs: 1, Bias: 1.259525, T: 104, Avg. loss: 0.164790\n",
      "Total training time: 0.00 seconds.\n",
      "-- Epoch 27\n",
      "Norm: 9.83, NNZs: 1, Bias: 1.256966, T: 108, Avg. loss: 0.164161\n",
      "Total training time: 0.00 seconds.\n",
      "-- Epoch 28\n",
      "Norm: 9.83, NNZs: 1, Bias: 1.253707, T: 112, Avg. loss: 0.163946\n",
      "Total training time: 0.00 seconds.\n",
      "-- Epoch 29\n",
      "Norm: 9.83, NNZs: 1, Bias: 1.250306, T: 116, Avg. loss: 0.162206\n",
      "Total training time: 0.00 seconds.\n",
      "-- Epoch 30\n",
      "Norm: 9.83, NNZs: 1, Bias: 1.247820, T: 120, Avg. loss: 0.161605\n",
      "Total training time: 0.00 seconds.\n",
      "-- Epoch 31\n",
      "Norm: 9.83, NNZs: 1, Bias: 1.244676, T: 124, Avg. loss: 0.161388\n",
      "Total training time: 0.00 seconds.\n",
      "-- Epoch 32\n",
      "Norm: 9.83, NNZs: 1, Bias: 1.241391, T: 128, Avg. loss: 0.159745\n",
      "Total training time: 0.00 seconds.\n",
      "-- Epoch 33\n",
      "Norm: 9.83, NNZs: 1, Bias: 1.238970, T: 132, Avg. loss: 0.159167\n",
      "Total training time: 0.00 seconds.\n",
      "-- Epoch 34\n",
      "Norm: 9.83, NNZs: 1, Bias: 1.235927, T: 136, Avg. loss: 0.158948\n",
      "Total training time: 0.00 seconds.\n",
      "-- Epoch 35\n",
      "Norm: 9.83, NNZs: 1, Bias: 1.232745, T: 140, Avg. loss: 0.157390\n",
      "Total training time: 0.00 seconds.\n",
      "-- Epoch 36\n",
      "Norm: 9.83, NNZs: 1, Bias: 1.230383, T: 144, Avg. loss: 0.156833\n",
      "Total training time: 0.00 seconds.\n",
      "-- Epoch 37\n",
      "Norm: 9.83, NNZs: 1, Bias: 1.227431, T: 148, Avg. loss: 0.156614\n",
      "Total training time: 0.00 seconds.\n",
      "-- Epoch 38\n",
      "Norm: 9.83, NNZs: 1, Bias: 1.224343, T: 152, Avg. loss: 0.155130\n",
      "Total training time: 0.00 seconds.\n",
      "-- Epoch 39\n",
      "Norm: 9.83, NNZs: 1, Bias: 1.222036, T: 156, Avg. loss: 0.154592\n",
      "Total training time: 0.00 seconds.\n",
      "-- Epoch 40\n",
      "Norm: 9.83, NNZs: 1, Bias: 1.219166, T: 160, Avg. loss: 0.154372\n",
      "Total training time: 0.00 seconds.\n",
      "-- Epoch 41\n",
      "Norm: 9.83, NNZs: 1, Bias: 1.216163, T: 164, Avg. loss: 0.152954\n",
      "Total training time: 0.00 seconds.\n",
      "-- Epoch 42\n",
      "Norm: 9.83, NNZs: 1, Bias: 1.213906, T: 168, Avg. loss: 0.152433\n",
      "Total training time: 0.00 seconds.\n",
      "-- Epoch 43\n",
      "Norm: 9.83, NNZs: 1, Bias: 1.211112, T: 172, Avg. loss: 0.152214\n",
      "Total training time: 0.00 seconds.\n",
      "-- Epoch 44\n",
      "Norm: 9.83, NNZs: 1, Bias: 1.208186, T: 176, Avg. loss: 0.150856\n",
      "Total training time: 0.00 seconds.\n",
      "-- Epoch 45\n",
      "Norm: 9.84, NNZs: 1, Bias: 1.205976, T: 180, Avg. loss: 0.150350\n",
      "Total training time: 0.00 seconds.\n",
      "-- Epoch 46\n",
      "Norm: 9.83, NNZs: 1, Bias: 1.203250, T: 184, Avg. loss: 0.150132\n",
      "Total training time: 0.00 seconds.\n",
      "-- Epoch 47\n",
      "Norm: 9.83, NNZs: 1, Bias: 1.200396, T: 188, Avg. loss: 0.148827\n",
      "Total training time: 0.00 seconds.\n",
      "-- Epoch 48\n",
      "Norm: 9.84, NNZs: 1, Bias: 1.198230, T: 192, Avg. loss: 0.148336\n",
      "Total training time: 0.00 seconds.\n",
      "-- Epoch 49\n",
      "Norm: 9.84, NNZs: 1, Bias: 1.195568, T: 196, Avg. loss: 0.148118\n",
      "Total training time: 0.00 seconds.\n",
      "-- Epoch 50\n",
      "Norm: 9.83, NNZs: 1, Bias: 1.192780, T: 200, Avg. loss: 0.146863\n",
      "Total training time: 0.00 seconds.\n",
      "-- Epoch 51\n",
      "Norm: 9.84, NNZs: 1, Bias: 1.190655, T: 204, Avg. loss: 0.146385\n",
      "Total training time: 0.00 seconds.\n",
      "-- Epoch 52\n",
      "Norm: 9.84, NNZs: 1, Bias: 1.188053, T: 208, Avg. loss: 0.146168\n",
      "Total training time: 0.00 seconds.\n",
      "-- Epoch 53\n",
      "Norm: 9.84, NNZs: 1, Bias: 1.185327, T: 212, Avg. loss: 0.144958\n",
      "Total training time: 0.00 seconds.\n",
      "-- Epoch 54\n",
      "Norm: 9.84, NNZs: 1, Bias: 1.183239, T: 216, Avg. loss: 0.144492\n",
      "Total training time: 0.00 seconds.\n",
      "-- Epoch 55\n",
      "Norm: 9.84, NNZs: 1, Bias: 1.180693, T: 220, Avg. loss: 0.144277\n",
      "Total training time: 0.00 seconds.\n",
      "-- Epoch 56\n",
      "Norm: 9.84, NNZs: 1, Bias: 1.178024, T: 224, Avg. loss: 0.143108\n",
      "Total training time: 0.00 seconds.\n",
      "-- Epoch 57\n",
      "Norm: 9.84, NNZs: 1, Bias: 1.175973, T: 228, Avg. loss: 0.142654\n",
      "Total training time: 0.00 seconds.\n",
      "-- Epoch 58\n",
      "Norm: 9.84, NNZs: 1, Bias: 1.173479, T: 232, Avg. loss: 0.142440\n",
      "Total training time: 0.00 seconds.\n",
      "-- Epoch 59\n",
      "Norm: 9.84, NNZs: 1, Bias: 1.170864, T: 236, Avg. loss: 0.141310\n",
      "Total training time: 0.00 seconds.\n",
      "-- Epoch 60\n",
      "Norm: 9.84, NNZs: 1, Bias: 1.168848, T: 240, Avg. loss: 0.140867\n",
      "Total training time: 0.00 seconds.\n",
      "-- Epoch 61\n",
      "Norm: 9.84, NNZs: 1, Bias: 1.166402, T: 244, Avg. loss: 0.140654\n",
      "Total training time: 0.00 seconds.\n",
      "-- Epoch 62\n",
      "Norm: 9.84, NNZs: 1, Bias: 1.163839, T: 248, Avg. loss: 0.139559\n",
      "Total training time: 0.00 seconds.\n",
      "-- Epoch 63\n",
      "Norm: 9.84, NNZs: 1, Bias: 1.161854, T: 252, Avg. loss: 0.139127\n",
      "Total training time: 0.00 seconds.\n",
      "-- Epoch 64\n",
      "Norm: 9.84, NNZs: 1, Bias: 1.159455, T: 256, Avg. loss: 0.138915\n",
      "Total training time: 0.00 seconds.\n",
      "-- Epoch 65\n",
      "Norm: 9.84, NNZs: 1, Bias: 1.156940, T: 260, Avg. loss: 0.137854\n",
      "Total training time: 0.00 seconds.\n",
      "-- Epoch 66\n",
      "Norm: 9.84, NNZs: 1, Bias: 1.154987, T: 264, Avg. loss: 0.137431\n",
      "Total training time: 0.00 seconds.\n",
      "-- Epoch 67\n",
      "Norm: 9.84, NNZs: 1, Bias: 1.152631, T: 268, Avg. loss: 0.137222\n",
      "Total training time: 0.00 seconds.\n",
      "-- Epoch 68\n",
      "Norm: 9.84, NNZs: 1, Bias: 1.150161, T: 272, Avg. loss: 0.136192\n",
      "Total training time: 0.00 seconds.\n",
      "-- Epoch 69\n",
      "Norm: 9.84, NNZs: 1, Bias: 1.148238, T: 276, Avg. loss: 0.135778\n",
      "Total training time: 0.00 seconds.\n",
      "-- Epoch 70\n",
      "Norm: 9.84, NNZs: 1, Bias: 1.145923, T: 280, Avg. loss: 0.135570\n",
      "Total training time: 0.00 seconds.\n",
      "-- Epoch 71\n",
      "Norm: 9.84, NNZs: 1, Bias: 1.143497, T: 284, Avg. loss: 0.134570\n",
      "Total training time: 0.00 seconds.\n",
      "-- Epoch 72\n",
      "Norm: 9.84, NNZs: 1, Bias: 1.141602, T: 288, Avg. loss: 0.134165\n",
      "Total training time: 0.00 seconds.\n",
      "-- Epoch 73\n",
      "Norm: 9.84, NNZs: 1, Bias: 1.139327, T: 292, Avg. loss: 0.133958\n",
      "Total training time: 0.00 seconds.\n",
      "-- Epoch 74\n",
      "Norm: 9.84, NNZs: 1, Bias: 1.136942, T: 296, Avg. loss: 0.132985\n",
      "Total training time: 0.00 seconds.\n",
      "-- Epoch 75\n",
      "Norm: 9.84, NNZs: 1, Bias: 1.135074, T: 300, Avg. loss: 0.132589\n",
      "Total training time: 0.00 seconds.\n",
      "-- Epoch 76\n",
      "Norm: 9.84, NNZs: 1, Bias: 1.132836, T: 304, Avg. loss: 0.132384\n",
      "Total training time: 0.00 seconds.\n",
      "Convergence after 76 epochs took 0.00 seconds\n"
     ]
    },
    {
     "data": {
      "text/plain": [
       "SGDRegressor(max_iter=5000, verbose=1)"
      ]
     },
     "execution_count": 11,
     "metadata": {},
     "output_type": "execute_result"
    }
   ],
   "source": [
    "sgd_model.fit(data[['시간']], data['성적'])"
   ]
  },
  {
   "cell_type": "code",
   "execution_count": 12,
   "id": "09c30ae9",
   "metadata": {},
   "outputs": [
    {
     "name": "stdout",
     "output_type": "stream",
     "text": [
      "[9.84394196]\n",
      "[1.13283624]\n"
     ]
    }
   ],
   "source": [
    "# y = 9.84x + 1.1328\n",
    "print(sgd_model.coef_)\n",
    "print(sgd_model.intercept_)"
   ]
  },
  {
   "cell_type": "code",
   "execution_count": 13,
   "id": "4385d42a",
   "metadata": {},
   "outputs": [
    {
     "data": {
      "text/plain": [
       "array([70.04042996])"
      ]
     },
     "execution_count": 13,
     "metadata": {},
     "output_type": "execute_result"
    }
   ],
   "source": [
    "sgd_model.predict([[7]])"
   ]
  },
  {
   "cell_type": "code",
   "execution_count": 15,
   "id": "b381b675",
   "metadata": {},
   "outputs": [
    {
     "data": {
      "text/plain": [
       "0.9996887197249925"
      ]
     },
     "execution_count": 15,
     "metadata": {},
     "output_type": "execute_result"
    }
   ],
   "source": [
    "# 분류 score : 정확도\n",
    "# 회귀 score : r2 score\n",
    "sgd_model.score(data[['시간']], data['성적'])"
   ]
  },
  {
   "cell_type": "code",
   "execution_count": null,
   "id": "25b54d47",
   "metadata": {},
   "outputs": [],
   "source": []
  }
 ],
 "metadata": {
  "kernelspec": {
   "display_name": "Python 3 (ipykernel)",
   "language": "python",
   "name": "python3"
  },
  "language_info": {
   "codemirror_mode": {
    "name": "ipython",
    "version": 3
   },
   "file_extension": ".py",
   "mimetype": "text/x-python",
   "name": "python",
   "nbconvert_exporter": "python",
   "pygments_lexer": "ipython3",
   "version": "3.9.7"
  },
  "toc": {
   "base_numbering": 1,
   "nav_menu": {},
   "number_sections": true,
   "sideBar": true,
   "skip_h1_title": false,
   "title_cell": "Table of Contents",
   "title_sidebar": "Contents",
   "toc_cell": false,
   "toc_position": {
    "height": "calc(100% - 180px)",
    "left": "10px",
    "top": "150px",
    "width": "224px"
   },
   "toc_section_display": true,
   "toc_window_display": true
  }
 },
 "nbformat": 4,
 "nbformat_minor": 5
}
